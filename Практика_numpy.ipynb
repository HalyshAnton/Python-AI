{
  "nbformat": 4,
  "nbformat_minor": 0,
  "metadata": {
    "colab": {
      "provenance": [],
      "toc_visible": true,
      "authorship_tag": "ABX9TyO1YwI2jr54Eqg+7A6K+8kN",
      "include_colab_link": true
    },
    "kernelspec": {
      "name": "python3",
      "display_name": "Python 3"
    },
    "language_info": {
      "name": "python"
    }
  },
  "cells": [
    {
      "cell_type": "markdown",
      "metadata": {
        "id": "view-in-github",
        "colab_type": "text"
      },
      "source": [
        "<a href=\"https://colab.research.google.com/github/HalyshAnton/Python-AI/blob/AI_2_practice/%D0%9F%D1%80%D0%B0%D0%BA%D1%82%D0%B8%D0%BA%D0%B0_numpy.ipynb\" target=\"_parent\"><img src=\"https://colab.research.google.com/assets/colab-badge.svg\" alt=\"Open In Colab\"/></a>"
      ]
    },
    {
      "cell_type": "markdown",
      "source": [
        "Імпортуйте модуль numpy"
      ],
      "metadata": {
        "id": "rIioSM27QJ8x"
      }
    },
    {
      "cell_type": "code",
      "execution_count": 2,
      "metadata": {
        "id": "rDtfBq8ANBhL"
      },
      "outputs": [],
      "source": []
    },
    {
      "cell_type": "markdown",
      "source": [
        "# Завдання 1\n",
        "Створіть масив з елементами від 1 до 12. Виведіть розмір та тип масиву"
      ],
      "metadata": {
        "id": "npT_FnlcNwke"
      }
    },
    {
      "cell_type": "code",
      "source": [],
      "metadata": {
        "id": "02EdQMKlOZHr",
        "colab": {
          "base_uri": "https://localhost:8080/"
        },
        "outputId": "f4b05a9f-e152-4ca6-9926-8737289ce6ca"
      },
      "execution_count": 4,
      "outputs": [
        {
          "output_type": "stream",
          "name": "stdout",
          "text": [
            "[ 1  2  3  4  5  6  7  8  9 10 11 12]\n",
            "(12,)\n",
            "int64\n"
          ]
        }
      ]
    },
    {
      "cell_type": "markdown",
      "source": [
        "# Завдання 2\n",
        "Зробіть на основі попереднього масиву матрицю з 4 стовчиками. Змініть тип даних матриці на float32. Виведіть результат"
      ],
      "metadata": {
        "id": "HH8hOwVhNxWE"
      }
    },
    {
      "cell_type": "code",
      "source": [],
      "metadata": {
        "id": "4jYqwTycOYbN",
        "colab": {
          "base_uri": "https://localhost:8080/"
        },
        "outputId": "8c50b001-2f7b-4c6b-9d91-930746e863ed"
      },
      "execution_count": 5,
      "outputs": [
        {
          "output_type": "execute_result",
          "data": {
            "text/plain": [
              "array([[ 1.,  2.,  3.,  4.],\n",
              "       [ 5.,  6.,  7.,  8.],\n",
              "       [ 9., 10., 11., 12.]], dtype=float32)"
            ]
          },
          "metadata": {},
          "execution_count": 5
        }
      ]
    },
    {
      "cell_type": "markdown",
      "source": [
        "#Завдання 3\n",
        "Створіть наступні матриці 8х8"
      ],
      "metadata": {
        "id": "T35Vjkz1Nxez"
      }
    },
    {
      "cell_type": "code",
      "source": [
        "# за замовчуванням всюди нулі\n"
      ],
      "metadata": {
        "id": "mrbnfiPQPu_n",
        "colab": {
          "base_uri": "https://localhost:8080/"
        },
        "outputId": "d9d3a897-f912-4b7f-8e57-325c389ccd88"
      },
      "execution_count": 12,
      "outputs": [
        {
          "output_type": "execute_result",
          "data": {
            "text/plain": [
              "array([[0, 0, 0, 0, 0, 0, 0, 0],\n",
              "       [0, 0, 0, 0, 0, 0, 0, 0],\n",
              "       [0, 0, 0, 0, 0, 0, 0, 0],\n",
              "       [0, 0, 0, 0, 0, 0, 0, 0],\n",
              "       [0, 0, 0, 0, 0, 0, 0, 0],\n",
              "       [0, 0, 0, 0, 0, 0, 0, 0],\n",
              "       [0, 0, 0, 0, 0, 0, 0, 0],\n",
              "       [0, 0, 0, 0, 0, 0, 0, 0]])"
            ]
          },
          "metadata": {},
          "execution_count": 12
        }
      ]
    },
    {
      "cell_type": "code",
      "source": [
        "# одиниця в рядку 2 стовпчик 3"
      ],
      "metadata": {
        "colab": {
          "base_uri": "https://localhost:8080/"
        },
        "id": "rIPcKv37tINF",
        "outputId": "f19937b5-78f9-48c7-af59-29ab91fff647"
      },
      "execution_count": 13,
      "outputs": [
        {
          "output_type": "execute_result",
          "data": {
            "text/plain": [
              "array([[0, 0, 0, 0, 0, 0, 0, 0],\n",
              "       [0, 0, 1, 0, 0, 0, 0, 0],\n",
              "       [0, 0, 0, 0, 0, 0, 0, 0],\n",
              "       [0, 0, 0, 0, 0, 0, 0, 0],\n",
              "       [0, 0, 0, 0, 0, 0, 0, 0],\n",
              "       [0, 0, 0, 0, 0, 0, 0, 0],\n",
              "       [0, 0, 0, 0, 0, 0, 0, 0],\n",
              "       [0, 0, 0, 0, 0, 0, 0, 0]])"
            ]
          },
          "metadata": {},
          "execution_count": 13
        }
      ]
    },
    {
      "cell_type": "code",
      "source": [
        "# рядок 3 з одиниць"
      ],
      "metadata": {
        "colab": {
          "base_uri": "https://localhost:8080/"
        },
        "id": "kjvI2gRiszFV",
        "outputId": "4cc51923-16da-468b-e632-9db95f679473"
      },
      "execution_count": 14,
      "outputs": [
        {
          "output_type": "execute_result",
          "data": {
            "text/plain": [
              "array([[0, 0, 0, 0, 0, 0, 0, 0],\n",
              "       [0, 0, 0, 0, 0, 0, 0, 0],\n",
              "       [1, 1, 1, 1, 1, 1, 1, 1],\n",
              "       [0, 0, 0, 0, 0, 0, 0, 0],\n",
              "       [0, 0, 0, 0, 0, 0, 0, 0],\n",
              "       [0, 0, 0, 0, 0, 0, 0, 0],\n",
              "       [0, 0, 0, 0, 0, 0, 0, 0],\n",
              "       [0, 0, 0, 0, 0, 0, 0, 0]])"
            ]
          },
          "metadata": {},
          "execution_count": 14
        }
      ]
    },
    {
      "cell_type": "code",
      "source": [
        "# стовпчик 2 з одиниць"
      ],
      "metadata": {
        "colab": {
          "base_uri": "https://localhost:8080/"
        },
        "id": "Lw-3IMuXsy9v",
        "outputId": "8004b43e-88b2-45cd-96c3-3b32d5a2a1fd"
      },
      "execution_count": 16,
      "outputs": [
        {
          "output_type": "execute_result",
          "data": {
            "text/plain": [
              "array([[0, 1, 0, 0, 0, 0, 0, 0],\n",
              "       [0, 1, 0, 0, 0, 0, 0, 0],\n",
              "       [0, 1, 0, 0, 0, 0, 0, 0],\n",
              "       [0, 1, 0, 0, 0, 0, 0, 0],\n",
              "       [0, 1, 0, 0, 0, 0, 0, 0],\n",
              "       [0, 1, 0, 0, 0, 0, 0, 0],\n",
              "       [0, 1, 0, 0, 0, 0, 0, 0],\n",
              "       [0, 1, 0, 0, 0, 0, 0, 0]])"
            ]
          },
          "metadata": {},
          "execution_count": 16
        }
      ]
    },
    {
      "cell_type": "code",
      "source": [
        "# рядки з 2 по 4 з одиниць"
      ],
      "metadata": {
        "colab": {
          "base_uri": "https://localhost:8080/"
        },
        "id": "wEkxof2FtWM3",
        "outputId": "b96f59a6-f3cb-4137-b0a3-49ab66c9af90"
      },
      "execution_count": 17,
      "outputs": [
        {
          "output_type": "execute_result",
          "data": {
            "text/plain": [
              "array([[0, 0, 0, 0, 0, 0, 0, 0],\n",
              "       [1, 1, 1, 1, 1, 1, 1, 1],\n",
              "       [1, 1, 1, 1, 1, 1, 1, 1],\n",
              "       [1, 1, 1, 1, 1, 1, 1, 1],\n",
              "       [0, 0, 0, 0, 0, 0, 0, 0],\n",
              "       [0, 0, 0, 0, 0, 0, 0, 0],\n",
              "       [0, 0, 0, 0, 0, 0, 0, 0],\n",
              "       [0, 0, 0, 0, 0, 0, 0, 0]])"
            ]
          },
          "metadata": {},
          "execution_count": 17
        }
      ]
    },
    {
      "cell_type": "code",
      "source": [
        "# стовпчики 3 і 4 з одиниць"
      ],
      "metadata": {
        "colab": {
          "base_uri": "https://localhost:8080/"
        },
        "id": "c42FonyPtV7l",
        "outputId": "16070f3e-d8fb-4b31-cf0b-ea96c74694d2"
      },
      "execution_count": 19,
      "outputs": [
        {
          "output_type": "execute_result",
          "data": {
            "text/plain": [
              "array([[0, 0, 1, 1, 0, 0, 0, 0],\n",
              "       [0, 0, 1, 1, 0, 0, 0, 0],\n",
              "       [0, 0, 1, 1, 0, 0, 0, 0],\n",
              "       [0, 0, 1, 1, 0, 0, 0, 0],\n",
              "       [0, 0, 1, 1, 0, 0, 0, 0],\n",
              "       [0, 0, 1, 1, 0, 0, 0, 0],\n",
              "       [0, 0, 1, 1, 0, 0, 0, 0],\n",
              "       [0, 0, 1, 1, 0, 0, 0, 0]])"
            ]
          },
          "metadata": {},
          "execution_count": 19
        }
      ]
    },
    {
      "cell_type": "code",
      "source": [
        "# ділянка між рядками 1,4 та стовпчиками 2,4"
      ],
      "metadata": {
        "colab": {
          "base_uri": "https://localhost:8080/"
        },
        "id": "nG6TLsIztiF9",
        "outputId": "dd452710-b053-4a95-c5f3-46a07d4f2483"
      },
      "execution_count": 22,
      "outputs": [
        {
          "output_type": "execute_result",
          "data": {
            "text/plain": [
              "array([[0, 1, 1, 1, 0, 0, 0, 0],\n",
              "       [0, 1, 1, 1, 0, 0, 0, 0],\n",
              "       [0, 1, 1, 1, 0, 0, 0, 0],\n",
              "       [0, 1, 1, 1, 0, 0, 0, 0],\n",
              "       [0, 0, 0, 0, 0, 0, 0, 0],\n",
              "       [0, 0, 0, 0, 0, 0, 0, 0],\n",
              "       [0, 0, 0, 0, 0, 0, 0, 0],\n",
              "       [0, 0, 0, 0, 0, 0, 0, 0]])"
            ]
          },
          "metadata": {},
          "execution_count": 22
        }
      ]
    },
    {
      "cell_type": "code",
      "source": [
        "# кожен непарний рядок"
      ],
      "metadata": {
        "colab": {
          "base_uri": "https://localhost:8080/"
        },
        "id": "d0jVvBtetudX",
        "outputId": "c18fdcd9-8326-408d-e032-5476ea03cea5"
      },
      "execution_count": 23,
      "outputs": [
        {
          "output_type": "execute_result",
          "data": {
            "text/plain": [
              "array([[1, 1, 1, 1, 1, 1, 1, 1],\n",
              "       [0, 0, 0, 0, 0, 0, 0, 0],\n",
              "       [1, 1, 1, 1, 1, 1, 1, 1],\n",
              "       [0, 0, 0, 0, 0, 0, 0, 0],\n",
              "       [1, 1, 1, 1, 1, 1, 1, 1],\n",
              "       [0, 0, 0, 0, 0, 0, 0, 0],\n",
              "       [1, 1, 1, 1, 1, 1, 1, 1],\n",
              "       [0, 0, 0, 0, 0, 0, 0, 0]])"
            ]
          },
          "metadata": {},
          "execution_count": 23
        }
      ]
    },
    {
      "cell_type": "code",
      "source": [
        "# кожен парний стовпчик"
      ],
      "metadata": {
        "colab": {
          "base_uri": "https://localhost:8080/"
        },
        "id": "Lp1tV7yot1k9",
        "outputId": "11279cbc-9617-43b1-f7df-057ad2019c51"
      },
      "execution_count": 24,
      "outputs": [
        {
          "output_type": "execute_result",
          "data": {
            "text/plain": [
              "array([[0, 1, 0, 1, 0, 1, 0, 1],\n",
              "       [0, 1, 0, 1, 0, 1, 0, 1],\n",
              "       [0, 1, 0, 1, 0, 1, 0, 1],\n",
              "       [0, 1, 0, 1, 0, 1, 0, 1],\n",
              "       [0, 1, 0, 1, 0, 1, 0, 1],\n",
              "       [0, 1, 0, 1, 0, 1, 0, 1],\n",
              "       [0, 1, 0, 1, 0, 1, 0, 1],\n",
              "       [0, 1, 0, 1, 0, 1, 0, 1]])"
            ]
          },
          "metadata": {},
          "execution_count": 24
        }
      ]
    },
    {
      "cell_type": "code",
      "source": [
        "# рядки 4,5 та стовпчики 4,5"
      ],
      "metadata": {
        "colab": {
          "base_uri": "https://localhost:8080/"
        },
        "id": "kMXmfaOBuIFf",
        "outputId": "002bfd20-fe0c-44ce-f3b7-ee8f4b99f6f2"
      },
      "execution_count": 27,
      "outputs": [
        {
          "output_type": "execute_result",
          "data": {
            "text/plain": [
              "array([[0, 0, 0, 1, 1, 0, 0, 0],\n",
              "       [0, 0, 0, 1, 1, 0, 0, 0],\n",
              "       [0, 0, 0, 1, 1, 0, 0, 0],\n",
              "       [1, 1, 1, 1, 1, 1, 1, 1],\n",
              "       [1, 1, 1, 1, 1, 1, 1, 1],\n",
              "       [0, 0, 0, 1, 1, 0, 0, 0],\n",
              "       [0, 0, 0, 1, 1, 0, 0, 0],\n",
              "       [0, 0, 0, 1, 1, 0, 0, 0]])"
            ]
          },
          "metadata": {},
          "execution_count": 27
        }
      ]
    },
    {
      "cell_type": "code",
      "source": [
        "# шахматний порядок"
      ],
      "metadata": {
        "colab": {
          "base_uri": "https://localhost:8080/"
        },
        "id": "2cJfcniXt_FY",
        "outputId": "b5d34314-fc31-4bce-e407-4af71a52bc26"
      },
      "execution_count": 26,
      "outputs": [
        {
          "output_type": "execute_result",
          "data": {
            "text/plain": [
              "array([[1, 0, 1, 0, 1, 0, 1, 0],\n",
              "       [0, 1, 0, 1, 0, 1, 0, 1],\n",
              "       [1, 0, 1, 0, 1, 0, 1, 0],\n",
              "       [0, 1, 0, 1, 0, 1, 0, 1],\n",
              "       [1, 0, 1, 0, 1, 0, 1, 0],\n",
              "       [0, 1, 0, 1, 0, 1, 0, 1],\n",
              "       [1, 0, 1, 0, 1, 0, 1, 0],\n",
              "       [0, 1, 0, 1, 0, 1, 0, 1]])"
            ]
          },
          "metadata": {},
          "execution_count": 26
        }
      ]
    },
    {
      "cell_type": "code",
      "source": [
        "# діагональ"
      ],
      "metadata": {
        "colab": {
          "base_uri": "https://localhost:8080/"
        },
        "id": "fQSGMb8ct6EN",
        "outputId": "1155ce32-cbbb-4ba2-e288-5f9b1e92a4e8"
      },
      "execution_count": 25,
      "outputs": [
        {
          "output_type": "execute_result",
          "data": {
            "text/plain": [
              "array([[1, 0, 0, 0, 0, 0, 0, 0],\n",
              "       [0, 1, 0, 0, 0, 0, 0, 0],\n",
              "       [0, 0, 1, 0, 0, 0, 0, 0],\n",
              "       [0, 0, 0, 1, 0, 0, 0, 0],\n",
              "       [0, 0, 0, 0, 1, 0, 0, 0],\n",
              "       [0, 0, 0, 0, 0, 1, 0, 0],\n",
              "       [0, 0, 0, 0, 0, 0, 1, 0],\n",
              "       [0, 0, 0, 0, 0, 0, 0, 1]])"
            ]
          },
          "metadata": {},
          "execution_count": 25
        }
      ]
    },
    {
      "cell_type": "markdown",
      "source": [
        "# Завдання 4\n",
        "\n",
        "Створіть випадкову матрицю 4х3. Замініть усі значення менші за середнє арифметичне на -1"
      ],
      "metadata": {
        "id": "SCU3uu-ZwRou"
      }
    },
    {
      "cell_type": "code",
      "source": [],
      "metadata": {
        "colab": {
          "base_uri": "https://localhost:8080/"
        },
        "id": "MECaxTSXwamG",
        "outputId": "3a82f0d1-37d9-42d6-eccf-f3ba22cf203e"
      },
      "execution_count": 36,
      "outputs": [
        {
          "output_type": "stream",
          "name": "stdout",
          "text": [
            "[[2 1 1]\n",
            " [3 3 4]\n",
            " [4 4 2]\n",
            " [1 2 1]]\n",
            "\n"
          ]
        },
        {
          "output_type": "execute_result",
          "data": {
            "text/plain": [
              "array([[-1, -1, -1],\n",
              "       [ 3,  3,  4],\n",
              "       [ 4,  4, -1],\n",
              "       [-1, -1, -1]])"
            ]
          },
          "metadata": {},
          "execution_count": 36
        }
      ]
    },
    {
      "cell_type": "markdown",
      "source": [
        "# Завдання 5\n",
        "Створіть випадкову матрицю 4х3. Знайдіть суму елементів в стовпчиках\\рядках\\усій матриці"
      ],
      "metadata": {
        "id": "g87KAY1nNxoy"
      }
    },
    {
      "cell_type": "code",
      "source": [],
      "metadata": {
        "id": "RGA3022VQIZV",
        "colab": {
          "base_uri": "https://localhost:8080/"
        },
        "outputId": "58af72bd-6c17-4a86-c7ce-7048fc9e914d"
      },
      "execution_count": 33,
      "outputs": [
        {
          "output_type": "stream",
          "name": "stdout",
          "text": [
            "[[2 2 1]\n",
            " [2 3 2]\n",
            " [2 2 4]\n",
            " [2 1 3]] \n",
            "\n",
            "сума рядків     [5 7 8 6]\n",
            "сума стовпчиків [ 8  8 10]\n",
            "загальна сума   26\n"
          ]
        }
      ]
    },
    {
      "cell_type": "markdown",
      "source": [
        "# Завдання 6\n",
        "У попередній матриці від кожного рядка відніміть максимальний елемент цього рядка"
      ],
      "metadata": {
        "id": "AGH0TVVBNxx9"
      }
    },
    {
      "cell_type": "code",
      "source": [],
      "metadata": {
        "id": "TVYjbsBDQHTU",
        "colab": {
          "base_uri": "https://localhost:8080/"
        },
        "outputId": "3f3446ea-b2d0-4686-fb78-0f1578b2c50f"
      },
      "execution_count": 35,
      "outputs": [
        {
          "output_type": "execute_result",
          "data": {
            "text/plain": [
              "array([[ 0,  0, -1],\n",
              "       [-1,  0, -1],\n",
              "       [-2, -2,  0],\n",
              "       [-1, -2,  0]])"
            ]
          },
          "metadata": {},
          "execution_count": 35
        }
      ]
    },
    {
      "cell_type": "markdown",
      "source": [
        "# Завдання 7\n",
        "Є дані про вагу контейнерів для перевезення на кораблі: дрібний - 5 т,  малий - 10 т, середній - 25 т, великий - 40 т. На кораблі розміщено 20 дрібних, 5 малих, 10 середніх та 4 великих контейнерів. Знайти масу вантажу."
      ],
      "metadata": {
        "id": "cH8WhnsjQsXi"
      }
    },
    {
      "cell_type": "code",
      "source": [],
      "metadata": {
        "id": "BYrqqe9WR6g7"
      },
      "execution_count": null,
      "outputs": []
    },
    {
      "cell_type": "markdown",
      "source": [
        "# Завдання 8\n",
        "Тепер у нас декілька кораблів. Напишіть код для обчислення вантажу на кожному кораблі."
      ],
      "metadata": {
        "id": "IhdiDOh3Qrmb"
      }
    },
    {
      "cell_type": "code",
      "source": [],
      "metadata": {
        "id": "gVUXPdFhSI95"
      },
      "execution_count": null,
      "outputs": []
    }
  ]
}