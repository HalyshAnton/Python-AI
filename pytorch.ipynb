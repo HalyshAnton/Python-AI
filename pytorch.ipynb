{
  "nbformat": 4,
  "nbformat_minor": 0,
  "metadata": {
    "colab": {
      "provenance": [],
      "toc_visible": true,
      "authorship_tag": "ABX9TyO2QHoqyf1Egw81oiF9EIUN",
      "include_colab_link": true
    },
    "kernelspec": {
      "name": "python3",
      "display_name": "Python 3"
    },
    "language_info": {
      "name": "python"
    }
  },
  "cells": [
    {
      "cell_type": "markdown",
      "metadata": {
        "id": "view-in-github",
        "colab_type": "text"
      },
      "source": [
        "<a href=\"https://colab.research.google.com/github/HalyshAnton/Python-AI/blob/AI_4_lesson/pytorch.ipynb\" target=\"_parent\"><img src=\"https://colab.research.google.com/assets/colab-badge.svg\" alt=\"Open In Colab\"/></a>"
      ]
    },
    {
      "cell_type": "markdown",
      "source": [
        "# Тензор\n",
        "\n",
        "Tensor - це багатовимірний масив даних в PyTorch. Він схожий на\n",
        "Numpy array, але має ряд ключових відмінностей:\n",
        "\n",
        "* **Підтримка GPU:** Тензори PyTorch можуть\n",
        "    використовуватися на GPU\n",
        "    для прискорення обчислень,\n",
        "    що недоступно в Numpy.\n",
        "* **Градієнти:** Тензори PyTorch\n",
        "    підтримують градієнти,\n",
        "    що робить їх зручними\n",
        "    для використання в\n",
        "    нейронних мережах."
      ],
      "metadata": {
        "id": "8g8hf7wwWFOc"
      }
    },
    {
      "cell_type": "markdown",
      "source": [
        "# Створення тензорів"
      ],
      "metadata": {
        "id": "KVrvyV2EWS8g"
      }
    },
    {
      "cell_type": "code",
      "source": [
        "import torch\n",
        "import numpy as np"
      ],
      "metadata": {
        "id": "aJuo_ead9b6u"
      },
      "execution_count": 1,
      "outputs": []
    },
    {
      "cell_type": "markdown",
      "source": [
        "**З списків:**"
      ],
      "metadata": {
        "id": "QAIpdDEwWk9P"
      }
    },
    {
      "cell_type": "code",
      "source": [
        "array = np.array([[1, 2, 3],\n",
        "                  [4, 5, 6]])\n",
        "\n",
        "print(array.shape)\n",
        "print(array.dtype)"
      ],
      "metadata": {
        "colab": {
          "base_uri": "https://localhost:8080/"
        },
        "id": "NlbWkTJEWowv",
        "outputId": "a2aafe62-68e7-495f-947d-f405f62a9ce1"
      },
      "execution_count": 12,
      "outputs": [
        {
          "output_type": "stream",
          "name": "stdout",
          "text": [
            "(2, 3)\n",
            "int64\n"
          ]
        }
      ]
    },
    {
      "cell_type": "code",
      "source": [
        "tensor = torch.tensor([[1, 2, 3],\n",
        "                        [4, 5, 6]])\n",
        "\n",
        "print(tensor)\n",
        "print(tensor.shape)\n",
        "print(tensor.dtype)\n",
        "\n",
        "print(tensor.device) # процесор на якому відбуваються обчислення\n",
        "print(tensor.requires_grad)  # чи рахувати градієнти"
      ],
      "metadata": {
        "colab": {
          "base_uri": "https://localhost:8080/"
        },
        "id": "Gruc3khoWYCI",
        "outputId": "1399c109-8b17-4d90-b573-dd4e7dcff1fc"
      },
      "execution_count": 16,
      "outputs": [
        {
          "output_type": "stream",
          "name": "stdout",
          "text": [
            "tensor([[1, 2, 3],\n",
            "        [4, 5, 6]])\n",
            "torch.Size([2, 3])\n",
            "torch.int64\n",
            "cpu\n",
            "False\n"
          ]
        }
      ]
    },
    {
      "cell_type": "markdown",
      "source": [
        "**З функцій:**"
      ],
      "metadata": {
        "id": "C6x-R7zeWw3P"
      }
    },
    {
      "cell_type": "code",
      "source": [
        "tensor_c = torch.randn(5)\n",
        "tensor_d = torch.zeros(2, 2)\n",
        "tensor_e = torch.ones(4)\n",
        "\n",
        "print(f'rand {tensor_c}\\n')\n",
        "print(f'zero {tensor_d}\\n')\n",
        "print(f'one {tensor_e}\\n')"
      ],
      "metadata": {
        "colab": {
          "base_uri": "https://localhost:8080/"
        },
        "id": "uCau57fIW2I6",
        "outputId": "691b7a96-d996-4cdc-c519-596eddc44f1c"
      },
      "execution_count": 17,
      "outputs": [
        {
          "output_type": "stream",
          "name": "stdout",
          "text": [
            "rand tensor([ 0.0533,  0.3954, -2.9500,  2.1675,  1.7751])\n",
            "\n",
            "zero tensor([[0., 0.],\n",
            "        [0., 0.]])\n",
            "\n",
            "one tensor([1., 1., 1., 1.])\n",
            "\n"
          ]
        }
      ]
    },
    {
      "cell_type": "markdown",
      "source": [
        "# Індексування тензорів"
      ],
      "metadata": {
        "id": "l2GC2uEaXb3r"
      }
    },
    {
      "cell_type": "code",
      "source": [
        "tensor = torch.tensor([[1, 2, 3],\n",
        "                        [4, 5, 6]])\n",
        "\n",
        "element = tensor[1, 0]\n",
        "\n",
        "\n",
        "print(tensor[0])  # рядок з індексом 0\n",
        "\n",
        "print(tensor[:, 1]) # стовпчик з індексом 1\n",
        "\n",
        "print(tensor[1, 0])  # елемент 4\n",
        "\n",
        "print(tensor[1, 1:])  # фрагмент [5, 6]"
      ],
      "metadata": {
        "colab": {
          "base_uri": "https://localhost:8080/"
        },
        "id": "BWxuXez5XbEh",
        "outputId": "76312b6c-b118-4412-b852-b48b84f5e344"
      },
      "execution_count": 22,
      "outputs": [
        {
          "output_type": "stream",
          "name": "stdout",
          "text": [
            "tensor([1, 2, 3])\n",
            "tensor([2, 5])\n",
            "tensor(4)\n",
            "tensor([5, 6])\n"
          ]
        }
      ]
    },
    {
      "cell_type": "markdown",
      "source": [
        "**1. `item()`:**\n",
        "\n",
        "* Використовується для **отримання** **значення**\n",
        "    з **скалярного тензора**(тобто просто число).\n",
        "* **Не** використовується для тензорів\n",
        "    з **більшою розмірністю**,\n",
        "    тому що призведе до помилки.\n"
      ],
      "metadata": {
        "id": "1jCSKUNicFNT"
      }
    },
    {
      "cell_type": "code",
      "source": [
        "element.shape"
      ],
      "metadata": {
        "colab": {
          "base_uri": "https://localhost:8080/"
        },
        "id": "neWzhJvGO6Bf",
        "outputId": "2cd4a6e8-aa8f-4e6e-aacc-ec6b7cc9deee"
      },
      "execution_count": 26,
      "outputs": [
        {
          "output_type": "execute_result",
          "data": {
            "text/plain": [
              "torch.Size([])"
            ]
          },
          "metadata": {},
          "execution_count": 26
        }
      ]
    },
    {
      "cell_type": "code",
      "source": [
        "# element[0] # error\n",
        "\n",
        "element.item()"
      ],
      "metadata": {
        "colab": {
          "base_uri": "https://localhost:8080/"
        },
        "id": "DYOZN0jqc8dw",
        "outputId": "2254e393-4a90-4eb5-cc70-a057471af5d1"
      },
      "execution_count": 25,
      "outputs": [
        {
          "output_type": "execute_result",
          "data": {
            "text/plain": [
              "4"
            ]
          },
          "metadata": {},
          "execution_count": 25
        }
      ]
    },
    {
      "cell_type": "code",
      "source": [
        "tensor = torch.tensor([1, 2, 3])\n",
        "tensor.item()"
      ],
      "metadata": {
        "colab": {
          "base_uri": "https://localhost:8080/",
          "height": 159
        },
        "id": "nCISZTU13L78",
        "outputId": "142f7828-b90a-4069-e1a1-6335f95bac65"
      },
      "execution_count": 27,
      "outputs": [
        {
          "output_type": "error",
          "ename": "RuntimeError",
          "evalue": "a Tensor with 3 elements cannot be converted to Scalar",
          "traceback": [
            "\u001b[0;31m---------------------------------------------------------------------------\u001b[0m",
            "\u001b[0;31mRuntimeError\u001b[0m                              Traceback (most recent call last)",
            "\u001b[0;32m<ipython-input-27-82cb33a899e6>\u001b[0m in \u001b[0;36m<cell line: 0>\u001b[0;34m()\u001b[0m\n\u001b[1;32m      1\u001b[0m \u001b[0mtensor\u001b[0m \u001b[0;34m=\u001b[0m \u001b[0mtorch\u001b[0m\u001b[0;34m.\u001b[0m\u001b[0mtensor\u001b[0m\u001b[0;34m(\u001b[0m\u001b[0;34m[\u001b[0m\u001b[0;36m1\u001b[0m\u001b[0;34m,\u001b[0m \u001b[0;36m2\u001b[0m\u001b[0;34m,\u001b[0m \u001b[0;36m3\u001b[0m\u001b[0;34m]\u001b[0m\u001b[0;34m)\u001b[0m\u001b[0;34m\u001b[0m\u001b[0;34m\u001b[0m\u001b[0m\n\u001b[0;32m----> 2\u001b[0;31m \u001b[0mtensor\u001b[0m\u001b[0;34m.\u001b[0m\u001b[0mitem\u001b[0m\u001b[0;34m(\u001b[0m\u001b[0;34m)\u001b[0m\u001b[0;34m\u001b[0m\u001b[0;34m\u001b[0m\u001b[0m\n\u001b[0m",
            "\u001b[0;31mRuntimeError\u001b[0m: a Tensor with 3 elements cannot be converted to Scalar"
          ]
        }
      ]
    },
    {
      "cell_type": "code",
      "source": [
        "tensor = torch.tensor([[1]])\n",
        "tensor.item()"
      ],
      "metadata": {
        "colab": {
          "base_uri": "https://localhost:8080/"
        },
        "id": "N6srcXtqPNnu",
        "outputId": "9beb6363-2065-421c-a387-85435317b770"
      },
      "execution_count": 28,
      "outputs": [
        {
          "output_type": "execute_result",
          "data": {
            "text/plain": [
              "1"
            ]
          },
          "metadata": {},
          "execution_count": 28
        }
      ]
    },
    {
      "cell_type": "markdown",
      "source": [
        "**2. `numpy()`:**\n",
        "\n",
        "* Використовується для **перетворення**\n",
        "    тензора PyTorch в **Numpy array**.\n",
        "* Може використовуватися для тензорів\n",
        "    **з будь-якою розмірністю**."
      ],
      "metadata": {
        "id": "-fPoRCE1cvYH"
      }
    },
    {
      "cell_type": "code",
      "source": [
        "tensor = torch.tensor([1, 2, 3])\n",
        "tensor"
      ],
      "metadata": {
        "colab": {
          "base_uri": "https://localhost:8080/"
        },
        "id": "RiVF8gHJblkB",
        "outputId": "4c061d9d-cf33-4b7e-d96e-00c6fe03ebb5"
      },
      "execution_count": 29,
      "outputs": [
        {
          "output_type": "execute_result",
          "data": {
            "text/plain": [
              "tensor([1, 2, 3])"
            ]
          },
          "metadata": {},
          "execution_count": 29
        }
      ]
    },
    {
      "cell_type": "code",
      "source": [
        "tensor.numpy()"
      ],
      "metadata": {
        "colab": {
          "base_uri": "https://localhost:8080/"
        },
        "id": "y7s7XrqWPctO",
        "outputId": "c7a7dbc9-0955-44d4-ea9e-6417625b1d8e"
      },
      "execution_count": 30,
      "outputs": [
        {
          "output_type": "execute_result",
          "data": {
            "text/plain": [
              "array([1, 2, 3])"
            ]
          },
          "metadata": {},
          "execution_count": 30
        }
      ]
    },
    {
      "cell_type": "markdown",
      "source": [
        "#Арифметичні операції та функції"
      ],
      "metadata": {
        "id": "9J6S9ECeXlyT"
      }
    },
    {
      "cell_type": "code",
      "source": [
        "tensor_a = torch.tensor([1, 2, 3])\n",
        "tensor_b = torch.tensor([4, 5, 6])\n",
        "\n",
        "\n",
        "tensor_a + tensor_b\n"
      ],
      "metadata": {
        "id": "aVpWagPJXq3_",
        "colab": {
          "base_uri": "https://localhost:8080/"
        },
        "outputId": "fa174368-e4dc-4ab0-a3db-042b59c53aaa"
      },
      "execution_count": 35,
      "outputs": [
        {
          "output_type": "execute_result",
          "data": {
            "text/plain": [
              "tensor([5, 7, 9])"
            ]
          },
          "metadata": {},
          "execution_count": 35
        }
      ]
    },
    {
      "cell_type": "markdown",
      "source": [
        "#Зміна розмірів"
      ],
      "metadata": {
        "id": "5HvE25BnXvIy"
      }
    },
    {
      "cell_type": "markdown",
      "source": [
        "**`view`:** Зміна розміру тензора без зміни його даних.\n",
        "\n",
        "Використовувати по можливості, якщо виникатимуть помилки, то використати `reshape`"
      ],
      "metadata": {
        "id": "qhNhFpIeXxmR"
      }
    },
    {
      "cell_type": "code",
      "source": [
        "tensor = torch.tensor([[1, 2, 3], [4, 5, 6]])\n",
        "print(tensor)\n"
      ],
      "metadata": {
        "colab": {
          "base_uri": "https://localhost:8080/"
        },
        "id": "JJzrPagPX0Xg",
        "outputId": "0b356477-df8e-4f4b-bfcf-855d8d03285c"
      },
      "execution_count": 36,
      "outputs": [
        {
          "output_type": "stream",
          "name": "stdout",
          "text": [
            "tensor([[1, 2, 3],\n",
            "        [4, 5, 6]])\n"
          ]
        }
      ]
    },
    {
      "cell_type": "code",
      "source": [
        "tensor.view(3, 2)"
      ],
      "metadata": {
        "colab": {
          "base_uri": "https://localhost:8080/"
        },
        "id": "X0wldrDAQYUI",
        "outputId": "7376fd4c-bc3e-49b7-8d70-35831e9306e4"
      },
      "execution_count": 44,
      "outputs": [
        {
          "output_type": "execute_result",
          "data": {
            "text/plain": [
              "tensor([[1, 2],\n",
              "        [3, 4],\n",
              "        [5, 6]])"
            ]
          },
          "metadata": {},
          "execution_count": 44
        }
      ]
    },
    {
      "cell_type": "markdown",
      "source": [
        "**`reshape`:** Зміна розміру тензора з можливістю зміни його даних.\n",
        "\n",
        "Згідно документації, коли можливо створює `view`"
      ],
      "metadata": {
        "id": "zM_GLlu9X-QY"
      }
    },
    {
      "cell_type": "code",
      "source": [
        "tensor.reshape(3, -1)"
      ],
      "metadata": {
        "id": "DiKeHOuNYA-X",
        "colab": {
          "base_uri": "https://localhost:8080/"
        },
        "outputId": "ff74a9f4-d32d-463b-b7e2-a3818df73d79"
      },
      "execution_count": 45,
      "outputs": [
        {
          "output_type": "execute_result",
          "data": {
            "text/plain": [
              "tensor([[1, 2],\n",
              "        [3, 4],\n",
              "        [5, 6]])"
            ]
          },
          "metadata": {},
          "execution_count": 45
        }
      ]
    },
    {
      "cell_type": "code",
      "source": [
        "tensor"
      ],
      "metadata": {
        "colab": {
          "base_uri": "https://localhost:8080/"
        },
        "id": "YT1Bss7rRL6d",
        "outputId": "04eab0df-8ccf-4299-bce9-2ec97a60d576"
      },
      "execution_count": 46,
      "outputs": [
        {
          "output_type": "execute_result",
          "data": {
            "text/plain": [
              "tensor([[1, 2, 3],\n",
              "        [4, 5, 6]])"
            ]
          },
          "metadata": {},
          "execution_count": 46
        }
      ]
    },
    {
      "cell_type": "code",
      "source": [
        "tensor.sum()"
      ],
      "metadata": {
        "colab": {
          "base_uri": "https://localhost:8080/"
        },
        "id": "BvispyCaRK7J",
        "outputId": "fd44f2be-236e-414e-de70-a5ed31169598"
      },
      "execution_count": 49,
      "outputs": [
        {
          "output_type": "execute_result",
          "data": {
            "text/plain": [
              "tensor(21)"
            ]
          },
          "metadata": {},
          "execution_count": 49
        }
      ]
    },
    {
      "cell_type": "code",
      "source": [
        "# сума кожного рядка\n",
        "# (2, 3) -> (2)\n",
        "\n",
        "tensor.sum(dim=1) # те ж саме що й axis"
      ],
      "metadata": {
        "colab": {
          "base_uri": "https://localhost:8080/"
        },
        "id": "yoyTa9isRW7u",
        "outputId": "64847a40-c80a-4756-c881-bbc37e070ab1"
      },
      "execution_count": 51,
      "outputs": [
        {
          "output_type": "execute_result",
          "data": {
            "text/plain": [
              "tensor([ 6, 15])"
            ]
          },
          "metadata": {},
          "execution_count": 51
        }
      ]
    },
    {
      "cell_type": "code",
      "source": [
        "tensor.max(dim=0)"
      ],
      "metadata": {
        "colab": {
          "base_uri": "https://localhost:8080/"
        },
        "id": "mA0uVUHhRWs4",
        "outputId": "af243ddb-48e2-41ba-d8d3-0a009a54e303"
      },
      "execution_count": 54,
      "outputs": [
        {
          "output_type": "execute_result",
          "data": {
            "text/plain": [
              "torch.return_types.max(\n",
              "values=tensor([4, 5, 6]),\n",
              "indices=tensor([1, 1, 1]))"
            ]
          },
          "metadata": {},
          "execution_count": 54
        }
      ]
    },
    {
      "cell_type": "markdown",
      "source": [
        "# Конкатенація тензорів"
      ],
      "metadata": {
        "id": "stuiLyaBYJsj"
      }
    },
    {
      "cell_type": "markdown",
      "source": [
        "**`torch.cat`:** З'єднує тензори по заданій розмірності\n",
        "\n",
        "роль `axis` з numpy тут виконує параметр `dim`"
      ],
      "metadata": {
        "id": "4OV-f_MSYMGK"
      }
    },
    {
      "cell_type": "code",
      "source": [
        "tensor1 = torch.tensor([[1, 2, 3],\n",
        "                        [4, 5, 6]])\n",
        "\n",
        "tensor2 = torch.tensor([[10, 20, 30],\n",
        "                        [40, 5, 60]])"
      ],
      "metadata": {
        "id": "OZZl-0oQYXTc"
      },
      "execution_count": 55,
      "outputs": []
    },
    {
      "cell_type": "code",
      "source": [
        "tensors = [tensor1, tensor2]  # список тензорів на об'єднання\n",
        "\n",
        "torch.cat(tensors, dim=0)"
      ],
      "metadata": {
        "colab": {
          "base_uri": "https://localhost:8080/"
        },
        "id": "9vZwCUQcScLq",
        "outputId": "384e8d9c-c1a0-44f7-9634-137067783619"
      },
      "execution_count": 56,
      "outputs": [
        {
          "output_type": "execute_result",
          "data": {
            "text/plain": [
              "tensor([[ 1,  2,  3],\n",
              "        [ 4,  5,  6],\n",
              "        [10, 20, 30],\n",
              "        [40, 50, 60]])"
            ]
          },
          "metadata": {},
          "execution_count": 56
        }
      ]
    },
    {
      "cell_type": "code",
      "source": [
        "torch.cat(tensors, dim=1)"
      ],
      "metadata": {
        "colab": {
          "base_uri": "https://localhost:8080/"
        },
        "id": "QA_yWoMTS5vR",
        "outputId": "2f030254-47cc-4d1d-beb3-cf56f64ec47e"
      },
      "execution_count": 57,
      "outputs": [
        {
          "output_type": "execute_result",
          "data": {
            "text/plain": [
              "tensor([[ 1,  2,  3, 10, 20, 30],\n",
              "        [ 4,  5,  6, 40, 50, 60]])"
            ]
          },
          "metadata": {},
          "execution_count": 57
        }
      ]
    },
    {
      "cell_type": "markdown",
      "source": [
        "# Device\n",
        "\n",
        "**Device** в PyTorch - це абстракція,\n",
        "що використовується для опису\n",
        "**місця розташування** даних\n",
        "тензора. Це може бути **CPU**\n",
        "або **GPU**."
      ],
      "metadata": {
        "id": "zS3esjgrfcxP"
      }
    },
    {
      "cell_type": "markdown",
      "source": [
        "## Перегляд інформації про device:\n",
        "\n",
        "* `torch.cuda.is_available()`:\n",
        "    Перевіряє, чи доступний\n",
        "    GPU.\n",
        "* `torch.cuda.device_count()`:\n",
        "    Отримує кількість\n",
        "    доступних GPU.\n",
        "* `torch.cuda.get_device_name(device)`:\n",
        "    Отримує назву\n",
        "    конкретного GPU.\n",
        "* `.device`: Атрибут тензора,\n",
        "    що показує, на\n",
        "    якому device він\n",
        "    розташований."
      ],
      "metadata": {
        "id": "O7sZuf1Ffcf_"
      }
    },
    {
      "cell_type": "code",
      "source": [
        "torch.cuda.is_available()"
      ],
      "metadata": {
        "colab": {
          "base_uri": "https://localhost:8080/"
        },
        "id": "V96ZENUYfiUj",
        "outputId": "80e140bc-b861-4bd3-efb1-93561264cbbc"
      },
      "execution_count": 2,
      "outputs": [
        {
          "output_type": "execute_result",
          "data": {
            "text/plain": [
              "True"
            ]
          },
          "metadata": {},
          "execution_count": 2
        }
      ]
    },
    {
      "cell_type": "code",
      "source": [
        "torch.cuda.device_count()"
      ],
      "metadata": {
        "colab": {
          "base_uri": "https://localhost:8080/"
        },
        "id": "5wGAsmpXTprM",
        "outputId": "9d0ef298-3b4b-4374-e866-48856505d0f5"
      },
      "execution_count": 3,
      "outputs": [
        {
          "output_type": "execute_result",
          "data": {
            "text/plain": [
              "1"
            ]
          },
          "metadata": {},
          "execution_count": 3
        }
      ]
    },
    {
      "cell_type": "code",
      "source": [
        "torch.cuda.get_device_name('cuda')"
      ],
      "metadata": {
        "colab": {
          "base_uri": "https://localhost:8080/",
          "height": 35
        },
        "id": "NnHypYiuTvN_",
        "outputId": "2d6271a5-642c-4c10-de7f-1237482fbceb"
      },
      "execution_count": 4,
      "outputs": [
        {
          "output_type": "execute_result",
          "data": {
            "text/plain": [
              "'Tesla T4'"
            ],
            "application/vnd.google.colaboratory.intrinsic+json": {
              "type": "string"
            }
          },
          "metadata": {},
          "execution_count": 4
        }
      ]
    },
    {
      "cell_type": "code",
      "source": [
        "device_name = 'cuda' if torch.cuda.is_available() else \"cpu\"\n",
        "device = torch.device(device_name)\n",
        "\n",
        "device"
      ],
      "metadata": {
        "colab": {
          "base_uri": "https://localhost:8080/"
        },
        "id": "tZW9PagWUy9-",
        "outputId": "bf484e24-d449-4fdf-c46f-44914fb8228f"
      },
      "execution_count": 5,
      "outputs": [
        {
          "output_type": "execute_result",
          "data": {
            "text/plain": [
              "device(type='cuda')"
            ]
          },
          "metadata": {},
          "execution_count": 5
        }
      ]
    },
    {
      "cell_type": "markdown",
      "source": [
        "## Підключення тензора до device\n",
        "\n",
        "* `.to(device)`: Переміщує\n",
        "    тензор на\n",
        "    заданий device."
      ],
      "metadata": {
        "id": "HKtNgYMufrWn"
      }
    },
    {
      "cell_type": "code",
      "source": [
        "tensor = torch.tensor([1, 2, 3])\n",
        "tensor.device"
      ],
      "metadata": {
        "colab": {
          "base_uri": "https://localhost:8080/"
        },
        "id": "QL7rvfKLfr-h",
        "outputId": "93f06fa9-2b72-4691-8c2d-3cda7a754b6b"
      },
      "execution_count": 6,
      "outputs": [
        {
          "output_type": "execute_result",
          "data": {
            "text/plain": [
              "device(type='cpu')"
            ]
          },
          "metadata": {},
          "execution_count": 6
        }
      ]
    },
    {
      "cell_type": "code",
      "source": [
        "tensor = tensor.to(device)"
      ],
      "metadata": {
        "id": "I4pdcKdIVWg6"
      },
      "execution_count": 9,
      "outputs": []
    },
    {
      "cell_type": "code",
      "source": [
        "tensor"
      ],
      "metadata": {
        "colab": {
          "base_uri": "https://localhost:8080/"
        },
        "id": "ihC1A4aBVeLO",
        "outputId": "e4f23660-a95b-400b-c19c-3a448d4f4f1b"
      },
      "execution_count": 11,
      "outputs": [
        {
          "output_type": "execute_result",
          "data": {
            "text/plain": [
              "tensor([1, 2, 3], device='cuda:0')"
            ]
          },
          "metadata": {},
          "execution_count": 11
        }
      ]
    },
    {
      "cell_type": "code",
      "source": [
        "res = tensor.cpu() # підключити до cpu\n",
        "res.numpy()"
      ],
      "metadata": {
        "colab": {
          "base_uri": "https://localhost:8080/"
        },
        "id": "3hBSDN-4V2jI",
        "outputId": "ca4ab3c6-27be-4fe1-b47b-55e39e50ca46"
      },
      "execution_count": 13,
      "outputs": [
        {
          "output_type": "execute_result",
          "data": {
            "text/plain": [
              "array([1, 2, 3])"
            ]
          },
          "metadata": {},
          "execution_count": 13
        }
      ]
    },
    {
      "cell_type": "markdown",
      "source": [
        "# Градієнтний спуск"
      ],
      "metadata": {
        "id": "bLDmYZVKhHoX"
      }
    },
    {
      "cell_type": "markdown",
      "source": [
        "## Задача мінімізації\n",
        "\n",
        "Градієнтний спуск - це ітераційний алгоритм\n",
        "для **оптимізації** **функції**,\n",
        "що знаходить **мінімальне значення**\n",
        "цієї функції.\n",
        "\n",
        "**Формулювання задачі:**\n",
        "\n",
        "* **Функція:** $f(x)$\n",
        "* **Змінна:** $x$\n",
        "* **Мета:** Знайти $x_{min}$, таке, що $f(x_{min}) \\leq f(x)$ для всіх $x$"
      ],
      "metadata": {
        "id": "seOlCTxZhM_l"
      }
    },
    {
      "cell_type": "markdown",
      "source": [
        "## Градієнт\n",
        "\n",
        "**Градієнт** - це вектор,\n",
        "що показує **напрямок**\n",
        "**найбільшого зростання**\n",
        "**багатовимірної**\n",
        "**функції**.\n",
        "\n",
        "\n",
        "Позначається так: $\\nabla f(x)$"
      ],
      "metadata": {
        "id": "by-v7M3Qh4iP"
      }
    },
    {
      "cell_type": "markdown",
      "source": [
        "Щоб вказати, що для даного тензора потрібно вказати `requires_grad`\n",
        "\n",
        "Примітка: лише для тензорів з даними типу `float`"
      ],
      "metadata": {
        "id": "7TUGLKL2iixM"
      }
    },
    {
      "cell_type": "code",
      "source": [
        "tensor = torch.tensor([1.0, 2.0, 3.0], requires_grad=True)"
      ],
      "metadata": {
        "id": "C0BAl10FibiR"
      },
      "execution_count": 15,
      "outputs": []
    },
    {
      "cell_type": "markdown",
      "source": [
        "Для того, щоб вказати аби тензор не мав градієнта, використовують функцію `detach`"
      ],
      "metadata": {
        "id": "ELiBwBZYoF7S"
      }
    },
    {
      "cell_type": "code",
      "source": [
        "tensor = torch.tensor([1.0, 2.0, 3.0])\n",
        "tensor.requires_grad = True"
      ],
      "metadata": {
        "id": "021JymfFq_yf"
      },
      "execution_count": 16,
      "outputs": []
    },
    {
      "cell_type": "code",
      "source": [
        "tensor.device"
      ],
      "metadata": {
        "colab": {
          "base_uri": "https://localhost:8080/"
        },
        "id": "kQq7wC6EXgb7",
        "outputId": "bf53f66d-ec6e-4039-bc53-ba0d80c45743"
      },
      "execution_count": 20,
      "outputs": [
        {
          "output_type": "execute_result",
          "data": {
            "text/plain": [
              "device(type='cpu')"
            ]
          },
          "metadata": {},
          "execution_count": 20
        }
      ]
    },
    {
      "cell_type": "markdown",
      "source": [
        "## Граф обчислень"
      ],
      "metadata": {
        "id": "UVJBfaSmqCVy"
      }
    },
    {
      "cell_type": "markdown",
      "source": [
        "Граф обчислень в PyTorch - це\n",
        "динамічна структура даних,\n",
        "що використовується\n",
        "для представлення\n",
        "операцій для обчислення градієнтів"
      ],
      "metadata": {
        "id": "08Y0g4Zpr2ht"
      }
    },
    {
      "cell_type": "code",
      "source": [
        "x = torch.tensor(2., requires_grad=True)\n",
        "y = torch.tensor(3., requires_grad=True)\n",
        "z = torch.tensor(4., requires_grad=True)\n",
        "\n",
        "out = z*(x + y)"
      ],
      "metadata": {
        "id": "WLXK7-KSjR7M"
      },
      "execution_count": 21,
      "outputs": []
    },
    {
      "cell_type": "code",
      "source": [
        "out"
      ],
      "metadata": {
        "colab": {
          "base_uri": "https://localhost:8080/"
        },
        "id": "yEX7oKXKqqla",
        "outputId": "bd410b0f-1b05-4092-e257-457c1b583435"
      },
      "execution_count": 22,
      "outputs": [
        {
          "output_type": "execute_result",
          "data": {
            "text/plain": [
              "tensor(20., grad_fn=<MulBackward0>)"
            ]
          },
          "metadata": {},
          "execution_count": 22
        }
      ]
    },
    {
      "cell_type": "code",
      "source": [
        "!pip install -q torchviz"
      ],
      "metadata": {
        "id": "ZhMODqK4ql_4",
        "outputId": "140f9016-5240-4e79-d5fb-51584ad0bada",
        "colab": {
          "base_uri": "https://localhost:8080/"
        }
      },
      "execution_count": 23,
      "outputs": [
        {
          "output_type": "stream",
          "name": "stdout",
          "text": [
            "\u001b[2K   \u001b[90m━━━━━━━━━━━━━━━━━━━━━━━━━━━━━━━━━━━━━━━━\u001b[0m \u001b[32m363.4/363.4 MB\u001b[0m \u001b[31m4.4 MB/s\u001b[0m eta \u001b[36m0:00:00\u001b[0m\n",
            "\u001b[2K   \u001b[90m━━━━━━━━━━━━━━━━━━━━━━━━━━━━━━━━━━━━━━━━\u001b[0m \u001b[32m13.8/13.8 MB\u001b[0m \u001b[31m101.6 MB/s\u001b[0m eta \u001b[36m0:00:00\u001b[0m\n",
            "\u001b[2K   \u001b[90m━━━━━━━━━━━━━━━━━━━━━━━━━━━━━━━━━━━━━━━━\u001b[0m \u001b[32m24.6/24.6 MB\u001b[0m \u001b[31m72.3 MB/s\u001b[0m eta \u001b[36m0:00:00\u001b[0m\n",
            "\u001b[2K   \u001b[90m━━━━━━━━━━━━━━━━━━━━━━━━━━━━━━━━━━━━━━━━\u001b[0m \u001b[32m883.7/883.7 kB\u001b[0m \u001b[31m59.5 MB/s\u001b[0m eta \u001b[36m0:00:00\u001b[0m\n",
            "\u001b[2K   \u001b[90m━━━━━━━━━━━━━━━━━━━━━━━━━━━━━━━━━━━━━━━━\u001b[0m \u001b[32m664.8/664.8 MB\u001b[0m \u001b[31m1.9 MB/s\u001b[0m eta \u001b[36m0:00:00\u001b[0m\n",
            "\u001b[2K   \u001b[90m━━━━━━━━━━━━━━━━━━━━━━━━━━━━━━━━━━━━━━━━\u001b[0m \u001b[32m211.5/211.5 MB\u001b[0m \u001b[31m6.0 MB/s\u001b[0m eta \u001b[36m0:00:00\u001b[0m\n",
            "\u001b[2K   \u001b[90m━━━━━━━━━━━━━━━━━━━━━━━━━━━━━━━━━━━━━━━━\u001b[0m \u001b[32m56.3/56.3 MB\u001b[0m \u001b[31m17.6 MB/s\u001b[0m eta \u001b[36m0:00:00\u001b[0m\n",
            "\u001b[2K   \u001b[90m━━━━━━━━━━━━━━━━━━━━━━━━━━━━━━━━━━━━━━━━\u001b[0m \u001b[32m127.9/127.9 MB\u001b[0m \u001b[31m7.5 MB/s\u001b[0m eta \u001b[36m0:00:00\u001b[0m\n",
            "\u001b[2K   \u001b[90m━━━━━━━━━━━━━━━━━━━━━━━━━━━━━━━━━━━━━━━━\u001b[0m \u001b[32m207.5/207.5 MB\u001b[0m \u001b[31m6.0 MB/s\u001b[0m eta \u001b[36m0:00:00\u001b[0m\n",
            "\u001b[2K   \u001b[90m━━━━━━━━━━━━━━━━━━━━━━━━━━━━━━━━━━━━━━━━\u001b[0m \u001b[32m21.1/21.1 MB\u001b[0m \u001b[31m80.4 MB/s\u001b[0m eta \u001b[36m0:00:00\u001b[0m\n",
            "\u001b[?25h"
          ]
        }
      ]
    },
    {
      "cell_type": "code",
      "source": [
        "from torchviz import make_dot\n",
        "\n",
        "dot = make_dot(out, params={'x': x, 'y':y, 'z':z, 'out':out})\n",
        "dot"
      ],
      "metadata": {
        "id": "i1XX0pL0jRyJ",
        "outputId": "8a710bd7-6412-4726-ec23-17acfc30d07f",
        "colab": {
          "base_uri": "https://localhost:8080/",
          "height": 394
        }
      },
      "execution_count": 24,
      "outputs": [
        {
          "output_type": "execute_result",
          "data": {
            "image/svg+xml": "<?xml version=\"1.0\" encoding=\"UTF-8\" standalone=\"no\"?>\n<!DOCTYPE svg PUBLIC \"-//W3C//DTD SVG 1.1//EN\"\n \"http://www.w3.org/Graphics/SVG/1.1/DTD/svg11.dtd\">\n<!-- Generated by graphviz version 2.43.0 (0)\n -->\n<!-- Title: %3 Pages: 1 -->\n<svg width=\"332pt\" height=\"280pt\"\n viewBox=\"0.00 0.00 332.00 280.00\" xmlns=\"http://www.w3.org/2000/svg\" xmlns:xlink=\"http://www.w3.org/1999/xlink\">\n<g id=\"graph0\" class=\"graph\" transform=\"scale(1 1) rotate(0) translate(4 276)\">\n<title>%3</title>\n<polygon fill=\"white\" stroke=\"transparent\" points=\"-4,4 -4,-276 328,-276 328,4 -4,4\"/>\n<!-- 140610636627024 -->\n<g id=\"node1\" class=\"node\">\n<title>140610636627024</title>\n<polygon fill=\"#caff70\" stroke=\"black\" points=\"133.5,-30 79.5,-30 79.5,0 133.5,0 133.5,-30\"/>\n<text text-anchor=\"middle\" x=\"106.5\" y=\"-18\" font-family=\"monospace\" font-size=\"10.00\">out</text>\n<text text-anchor=\"middle\" x=\"106.5\" y=\"-7\" font-family=\"monospace\" font-size=\"10.00\"> ()</text>\n</g>\n<!-- 140610631745488 -->\n<g id=\"node2\" class=\"node\">\n<title>140610631745488</title>\n<polygon fill=\"lightgrey\" stroke=\"black\" points=\"151,-85 62,-85 62,-66 151,-66 151,-85\"/>\n<text text-anchor=\"middle\" x=\"106.5\" y=\"-73\" font-family=\"monospace\" font-size=\"10.00\">MulBackward0</text>\n</g>\n<!-- 140610631745488&#45;&gt;140610636627024 -->\n<g id=\"edge8\" class=\"edge\">\n<title>140610631745488&#45;&gt;140610636627024</title>\n<path fill=\"none\" stroke=\"black\" d=\"M106.5,-65.87C106.5,-59.11 106.5,-49.35 106.5,-40.26\"/>\n<polygon fill=\"black\" stroke=\"black\" points=\"110,-40.11 106.5,-30.11 103,-40.11 110,-40.11\"/>\n</g>\n<!-- 140610631738192 -->\n<g id=\"node3\" class=\"node\">\n<title>140610631738192</title>\n<polygon fill=\"lightgrey\" stroke=\"black\" points=\"101,-140 0,-140 0,-121 101,-121 101,-140\"/>\n<text text-anchor=\"middle\" x=\"50.5\" y=\"-128\" font-family=\"monospace\" font-size=\"10.00\">AccumulateGrad</text>\n</g>\n<!-- 140610631738192&#45;&gt;140610631745488 -->\n<g id=\"edge1\" class=\"edge\">\n<title>140610631738192&#45;&gt;140610631745488</title>\n<path fill=\"none\" stroke=\"black\" d=\"M59.5,-120.98C67.69,-113.23 80.01,-101.58 89.97,-92.14\"/>\n<polygon fill=\"black\" stroke=\"black\" points=\"92.48,-94.59 97.34,-85.17 87.67,-89.5 92.48,-94.59\"/>\n</g>\n<!-- 140610636625584 -->\n<g id=\"node4\" class=\"node\">\n<title>140610636625584</title>\n<polygon fill=\"lightblue\" stroke=\"black\" points=\"77.5,-206 23.5,-206 23.5,-176 77.5,-176 77.5,-206\"/>\n<text text-anchor=\"middle\" x=\"50.5\" y=\"-194\" font-family=\"monospace\" font-size=\"10.00\">z</text>\n<text text-anchor=\"middle\" x=\"50.5\" y=\"-183\" font-family=\"monospace\" font-size=\"10.00\"> ()</text>\n</g>\n<!-- 140610636625584&#45;&gt;140610631738192 -->\n<g id=\"edge2\" class=\"edge\">\n<title>140610636625584&#45;&gt;140610631738192</title>\n<path fill=\"none\" stroke=\"black\" d=\"M50.5,-175.84C50.5,-168.21 50.5,-158.7 50.5,-150.45\"/>\n<polygon fill=\"black\" stroke=\"black\" points=\"54,-150.27 50.5,-140.27 47,-150.27 54,-150.27\"/>\n</g>\n<!-- 140610631738240 -->\n<g id=\"node5\" class=\"node\">\n<title>140610631738240</title>\n<polygon fill=\"lightgrey\" stroke=\"black\" points=\"208,-140 119,-140 119,-121 208,-121 208,-140\"/>\n<text text-anchor=\"middle\" x=\"163.5\" y=\"-128\" font-family=\"monospace\" font-size=\"10.00\">AddBackward0</text>\n</g>\n<!-- 140610631738240&#45;&gt;140610631745488 -->\n<g id=\"edge3\" class=\"edge\">\n<title>140610631738240&#45;&gt;140610631745488</title>\n<path fill=\"none\" stroke=\"black\" d=\"M154.34,-120.98C146,-113.23 133.47,-101.58 123.32,-92.14\"/>\n<polygon fill=\"black\" stroke=\"black\" points=\"125.53,-89.42 115.82,-85.17 120.76,-94.54 125.53,-89.42\"/>\n</g>\n<!-- 140610631745248 -->\n<g id=\"node6\" class=\"node\">\n<title>140610631745248</title>\n<polygon fill=\"lightgrey\" stroke=\"black\" points=\"205,-200.5 104,-200.5 104,-181.5 205,-181.5 205,-200.5\"/>\n<text text-anchor=\"middle\" x=\"154.5\" y=\"-188.5\" font-family=\"monospace\" font-size=\"10.00\">AccumulateGrad</text>\n</g>\n<!-- 140610631745248&#45;&gt;140610631738240 -->\n<g id=\"edge4\" class=\"edge\">\n<title>140610631745248&#45;&gt;140610631738240</title>\n<path fill=\"none\" stroke=\"black\" d=\"M155.83,-181.37C157.09,-173.16 159.03,-160.54 160.65,-150.05\"/>\n<polygon fill=\"black\" stroke=\"black\" points=\"164.11,-150.58 162.17,-140.17 157.19,-149.52 164.11,-150.58\"/>\n</g>\n<!-- 140610634863472 -->\n<g id=\"node7\" class=\"node\">\n<title>140610634863472</title>\n<polygon fill=\"lightblue\" stroke=\"black\" points=\"181.5,-272 127.5,-272 127.5,-242 181.5,-242 181.5,-272\"/>\n<text text-anchor=\"middle\" x=\"154.5\" y=\"-260\" font-family=\"monospace\" font-size=\"10.00\">x</text>\n<text text-anchor=\"middle\" x=\"154.5\" y=\"-249\" font-family=\"monospace\" font-size=\"10.00\"> ()</text>\n</g>\n<!-- 140610634863472&#45;&gt;140610631745248 -->\n<g id=\"edge5\" class=\"edge\">\n<title>140610634863472&#45;&gt;140610631745248</title>\n<path fill=\"none\" stroke=\"black\" d=\"M154.5,-241.8C154.5,-232.7 154.5,-220.79 154.5,-210.9\"/>\n<polygon fill=\"black\" stroke=\"black\" points=\"158,-210.84 154.5,-200.84 151,-210.84 158,-210.84\"/>\n</g>\n<!-- 140610631738336 -->\n<g id=\"node8\" class=\"node\">\n<title>140610631738336</title>\n<polygon fill=\"lightgrey\" stroke=\"black\" points=\"324,-200.5 223,-200.5 223,-181.5 324,-181.5 324,-200.5\"/>\n<text text-anchor=\"middle\" x=\"273.5\" y=\"-188.5\" font-family=\"monospace\" font-size=\"10.00\">AccumulateGrad</text>\n</g>\n<!-- 140610631738336&#45;&gt;140610631738240 -->\n<g id=\"edge6\" class=\"edge\">\n<title>140610631738336&#45;&gt;140610631738240</title>\n<path fill=\"none\" stroke=\"black\" d=\"M257.27,-181.37C239.23,-171.78 209.88,-156.17 188.82,-144.97\"/>\n<polygon fill=\"black\" stroke=\"black\" points=\"190.27,-141.77 179.8,-140.17 186.98,-147.95 190.27,-141.77\"/>\n</g>\n<!-- 140610636624336 -->\n<g id=\"node9\" class=\"node\">\n<title>140610636624336</title>\n<polygon fill=\"lightblue\" stroke=\"black\" points=\"300.5,-272 246.5,-272 246.5,-242 300.5,-242 300.5,-272\"/>\n<text text-anchor=\"middle\" x=\"273.5\" y=\"-260\" font-family=\"monospace\" font-size=\"10.00\">y</text>\n<text text-anchor=\"middle\" x=\"273.5\" y=\"-249\" font-family=\"monospace\" font-size=\"10.00\"> ()</text>\n</g>\n<!-- 140610636624336&#45;&gt;140610631738336 -->\n<g id=\"edge7\" class=\"edge\">\n<title>140610636624336&#45;&gt;140610631738336</title>\n<path fill=\"none\" stroke=\"black\" d=\"M273.5,-241.8C273.5,-232.7 273.5,-220.79 273.5,-210.9\"/>\n<polygon fill=\"black\" stroke=\"black\" points=\"277,-210.84 273.5,-200.84 270,-210.84 277,-210.84\"/>\n</g>\n</g>\n</svg>\n",
            "text/plain": [
              "<graphviz.graphs.Digraph at 0x7fe276f51890>"
            ]
          },
          "metadata": {},
          "execution_count": 24
        }
      ]
    },
    {
      "cell_type": "markdown",
      "source": [
        "\n",
        "## Алгоритм градієнтного спуску\n",
        "\n",
        "1. **Ініціалізація:**\n",
        "  Виберіть початкове\n",
        "  значення $x^{(0)}$.\n",
        "2. **Ітерація:**\n",
        "    * Розрахуйте градієнт $\\nabla f(x^{(k)})$\n",
        "      в поточній точці $x^{(k)}$.\n",
        "    * Зробіть крок\n",
        "      в **протилежному**\n",
        "      до градієнта\n",
        "      напрямку:\n",
        "      \n",
        "      $x^{(k+1)} = x^{(k)} - \\alpha \\nabla f(x^{(k)})$\n",
        "      \n",
        "      **Де:**\n",
        "      \n",
        "      * $\\alpha$ - **швидкість**\n",
        "        навчання\n",
        "    * Повторіть\n",
        "      кроки 2.1\n",
        "      та 2.2\n",
        "      до\n",
        "      зближення\n",
        "      з\n",
        "      мінімумом.\n",
        "\n",
        "![](https://ml-explained.com/articles/gradient-descent-explained/gradient_descent.gif)\n",
        "\n",
        "![](https://upload.wikimedia.org/wikipedia/commons/a/a3/Gradient_descent.gif)"
      ],
      "metadata": {
        "id": "WeFnPnnUhHbw"
      }
    },
    {
      "cell_type": "code",
      "source": [
        "def f(x):  # функція для мінімізації\n",
        "  return x**2 - 3*x + 4"
      ],
      "metadata": {
        "id": "UlWFr6f-kYRI"
      },
      "execution_count": 25,
      "outputs": []
    },
    {
      "cell_type": "code",
      "source": [
        "from torch.optim import SGD\n",
        "\n",
        "# підкоючаємо процесор\n",
        "device = torch.device('cuda' if torch.cuda.is_available() else 'cpu')\n",
        "\n",
        "# вибираємо початкове значення\n",
        "x = torch.tensor(4.0, requires_grad=True, device=device)\n",
        "# print(x)\n",
        "\n",
        "# швидкість навчання\n",
        "learning_rate = 1e-2\n",
        "\n",
        "# визначення алгоритму\n",
        "optimizer = SGD([x],  # список тензорів з градієнтом\n",
        "                lr=learning_rate)\n",
        "\n",
        "for t in range(200):  # 200 ітерацій\n",
        "    # обчислюємо функцію яку потрібно мінімізувати\n",
        "    loss = f(x)\n",
        "\n",
        "    # обчислюємо всі потрібні градієнти\n",
        "    loss.backward()\n",
        "\n",
        "    # вивід значення функції\n",
        "    if t % 20 == 0:\n",
        "        print(f\"x={x}\\tloss={loss}\")\n",
        "\n",
        "    # градієнтний спуск\n",
        "    optimizer.step()\n",
        "    optimizer.zero_grad()"
      ],
      "metadata": {
        "colab": {
          "base_uri": "https://localhost:8080/"
        },
        "id": "83XZTwtmiT59",
        "outputId": "9424d2ec-f0bf-4b50-e6f2-5a6adf4913fe"
      },
      "execution_count": 49,
      "outputs": [
        {
          "output_type": "stream",
          "name": "stdout",
          "text": [
            "x=4.0\tloss=8.0\n",
            "x=4.0\tloss=8.0\n",
            "x=4.0\tloss=8.0\n",
            "x=4.0\tloss=8.0\n",
            "x=4.0\tloss=8.0\n",
            "x=4.0\tloss=8.0\n",
            "x=4.0\tloss=8.0\n",
            "x=4.0\tloss=8.0\n",
            "x=4.0\tloss=8.0\n",
            "x=4.0\tloss=8.0\n"
          ]
        }
      ]
    },
    {
      "cell_type": "code",
      "source": [
        "x"
      ],
      "metadata": {
        "colab": {
          "base_uri": "https://localhost:8080/"
        },
        "id": "AYyHKFO84TmU",
        "outputId": "1705ef72-03e3-4ee5-fa04-fce20d159715"
      },
      "execution_count": 33,
      "outputs": [
        {
          "output_type": "execute_result",
          "data": {
            "text/plain": [
              "tensor(1.5088, device='cuda:0', requires_grad=True)"
            ]
          },
          "metadata": {},
          "execution_count": 33
        }
      ]
    },
    {
      "cell_type": "code",
      "source": [
        "import matplotlib.pyplot as plt\n",
        "\n",
        "x = x.cpu().detach()\n",
        "\n",
        "xs = torch.linspace(-3, 5, 100)\n",
        "y = f(xs)\n",
        "plt.plot(xs, y, c='b', label='f(x)')\n",
        "plt.scatter(x, f(x), c='r', label='res')\n",
        "plt.legend()"
      ],
      "metadata": {
        "colab": {
          "base_uri": "https://localhost:8080/",
          "height": 447
        },
        "id": "Si7zLPdGlL6y",
        "outputId": "fd79e57f-66c9-4647-d328-c72a04aa7307"
      },
      "execution_count": 44,
      "outputs": [
        {
          "output_type": "execute_result",
          "data": {
            "text/plain": [
              "<matplotlib.legend.Legend at 0x7fe22f7a8550>"
            ]
          },
          "metadata": {},
          "execution_count": 44
        },
        {
          "output_type": "display_data",
          "data": {
            "text/plain": [
              "<Figure size 640x480 with 1 Axes>"
            ],
            "image/png": "[encoded data removed]"
          },
          "metadata": {}
        }
      ]
    },
    {
      "cell_type": "code",
      "source": [
        "loss = f(x)\n",
        "\n",
        "dot = make_dot(loss, params={'x': x, 'f(x)': loss})\n",
        "dot"
      ],
      "metadata": {
        "id": "eWPIQGIXv_II",
        "outputId": "ecb96cc2-c83e-4f45-99e9-5ee7ad40ba9c",
        "colab": {
          "base_uri": "https://localhost:8080/",
          "height": 72
        }
      },
      "execution_count": 45,
      "outputs": [
        {
          "output_type": "execute_result",
          "data": {
            "image/svg+xml": "<?xml version=\"1.0\" encoding=\"UTF-8\" standalone=\"no\"?>\n<!DOCTYPE svg PUBLIC \"-//W3C//DTD SVG 1.1//EN\"\n \"http://www.w3.org/Graphics/SVG/1.1/DTD/svg11.dtd\">\n<!-- Generated by graphviz version 2.43.0 (0)\n -->\n<!-- Title: %3 Pages: 1 -->\n<svg width=\"62pt\" height=\"38pt\"\n viewBox=\"0.00 0.00 62.00 38.00\" xmlns=\"http://www.w3.org/2000/svg\" xmlns:xlink=\"http://www.w3.org/1999/xlink\">\n<g id=\"graph0\" class=\"graph\" transform=\"scale(1 1) rotate(0) translate(4 34)\">\n<title>%3</title>\n<polygon fill=\"white\" stroke=\"transparent\" points=\"-4,4 -4,-34 58,-34 58,4 -4,4\"/>\n<!-- 140609437977872 -->\n<g id=\"node1\" class=\"node\">\n<title>140609437977872</title>\n<polygon fill=\"#caff70\" stroke=\"black\" points=\"54,-30 0,-30 0,0 54,0 54,-30\"/>\n<text text-anchor=\"middle\" x=\"27\" y=\"-18\" font-family=\"monospace\" font-size=\"10.00\">f(x)</text>\n<text text-anchor=\"middle\" x=\"27\" y=\"-7\" font-family=\"monospace\" font-size=\"10.00\"> ()</text>\n</g>\n</g>\n</svg>\n",
            "text/plain": [
              "<graphviz.graphs.Digraph at 0x7fe22f7ede10>"
            ]
          },
          "metadata": {},
          "execution_count": 45
        }
      ]
    },
    {
      "cell_type": "markdown",
      "source": [
        "# Спуск з моментом(додатково)"
      ],
      "metadata": {
        "id": "IcA86cmnCtJO"
      }
    },
    {
      "cell_type": "code",
      "source": [
        "def f(x):\n",
        "  return x**2/3 + torch.sin(torch.pi*x)"
      ],
      "metadata": {
        "id": "CI5N_JENDfsS"
      },
      "execution_count": null,
      "outputs": []
    },
    {
      "cell_type": "code",
      "source": [
        "# підкоючаємо процесор\n",
        "device = \"cuda\" if torch.cuda.is_available() else \"cpu\"\n",
        "torch.set_default_device(device)\n",
        "\n",
        "# вибираємо початкове значення\n",
        "x = torch.tensor(2.0, requires_grad=True)\n",
        "\n",
        "# швидкість навчання\n",
        "learning_rate = 1e-1\n",
        "\n",
        "# ініціалізація моменту\n",
        "moment = torch.tensor(0.0)\n",
        "beta = 0.99\n",
        "\n",
        "for t in range(2000):\n",
        "    # обчислюємо функцію яку потрібно мінімізувати\n",
        "    loss = f(x)\n",
        "\n",
        "    # обчислюємо всі потрібні градієнти\n",
        "    loss.backward()\n",
        "\n",
        "    # вивід значення функції\n",
        "    if t % 100 == 0:\n",
        "      print(f'{loss.item()=}')\n",
        "\n",
        "    # градієнтний спуск\n",
        "    with torch.no_grad():\n",
        "      moment = beta*moment + learning_rate*x.grad\n",
        "      x -= moment\n",
        "\n",
        "      # очищуємо пам'ять для повторного обчислення градієнтів\n",
        "      x.grad = None"
      ],
      "metadata": {
        "id": "lPxkOjQmwG6w"
      },
      "execution_count": null,
      "outputs": []
    },
    {
      "cell_type": "code",
      "source": [
        "import matplotlib.pyplot as plt\n",
        "\n",
        "xs = torch.linspace(-3, 5, 100)\n",
        "plt.plot(xs.cpu(), f(xs).cpu(), label='f(x)')\n",
        "plt.scatter(x.item(), f(x).item(), c='red', label='min')\n",
        "plt.legend()"
      ],
      "metadata": {
        "id": "pzhPD6bFDZSp"
      },
      "execution_count": null,
      "outputs": []
    },
    {
      "cell_type": "code",
      "source": [
        "# linear regression\n",
        "# y_pred = coef*x + intercept"
      ],
      "metadata": {
        "id": "bPHqyfJWD2cb"
      },
      "execution_count": null,
      "outputs": []
    }
  ]
}