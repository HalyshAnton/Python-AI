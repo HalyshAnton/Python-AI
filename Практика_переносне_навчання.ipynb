{
  "nbformat": 4,
  "nbformat_minor": 0,
  "metadata": {
    "colab": {
      "provenance": [],
      "authorship_tag": "ABX9TyPMx5sampMQmMX/QSedtvW9",
      "include_colab_link": true
    },
    "kernelspec": {
      "name": "python3",
      "display_name": "Python 3"
    },
    "language_info": {
      "name": "python"
    }
  },
  "cells": [
    {
      "cell_type": "markdown",
      "metadata": {
        "id": "view-in-github",
        "colab_type": "text"
      },
      "source": [
        "<a href=\"https://colab.research.google.com/github/HalyshAnton/Python-AI/blob/AI_5_practice/%D0%9F%D1%80%D0%B0%D0%BA%D1%82%D0%B8%D0%BA%D0%B0_%D0%BF%D0%B5%D1%80%D0%B5%D0%BD%D0%BE%D1%81%D0%BD%D0%B5_%D0%BD%D0%B0%D0%B2%D1%87%D0%B0%D0%BD%D0%BD%D1%8F.ipynb\" target=\"_parent\"><img src=\"https://colab.research.google.com/assets/colab-badge.svg\" alt=\"Open In Colab\"/></a>"
      ]
    },
    {
      "cell_type": "markdown",
      "source": [
        "[Посилання на датасет](https://www.kaggle.com/datasets/andrewmvd/leukemia-classification)\n",
        "\n",
        "[Опис даних]( https://wiki.cancerimagingarchive.net/download/attachments/52758223/CNMC_readme.pdf?api=v2)"
      ],
      "metadata": {
        "id": "tcngeTvWJXo9"
      }
    },
    {
      "cell_type": "markdown",
      "source": [
        "# Завдання:\n",
        "\n",
        "* Покращіть результат за допомогою `transfer learning`. Використайте модель `resnet`\n",
        "  * змініть трансофрмери для роботи з даною моделлю\n",
        "  * завантажте модель та подивіться на її шари\n",
        "  * у самому класі вашої моделі в `__init__`:\n",
        "    * завантажте натреновану модель\n",
        "    * від'єднайте градієнти\n",
        "    * отримайте кількість нейронів на виході\n",
        "    * деактивуйте останній шар\n",
        "    * створіть власні шари\n",
        "    * напишіть функцію `forward`\n",
        "* натренуйте модель та виведіть результат на тестовуих даних"
      ],
      "metadata": {
        "id": "_XM4E8vNJidY"
      }
    },
    {
      "cell_type": "code",
      "source": [],
      "metadata": {
        "id": "0suvfNr6I3oL"
      },
      "execution_count": null,
      "outputs": []
    }
  ]
}