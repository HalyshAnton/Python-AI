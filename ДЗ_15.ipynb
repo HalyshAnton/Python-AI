{
  "nbformat": 4,
  "nbformat_minor": 0,
  "metadata": {
    "colab": {
      "provenance": [],
      "authorship_tag": "ABX9TyN52rEO1hlfN28YfYaSnABa",
      "include_colab_link": true
    },
    "kernelspec": {
      "name": "python3",
      "display_name": "Python 3"
    },
    "language_info": {
      "name": "python"
    }
  },
  "cells": [
    {
      "cell_type": "markdown",
      "metadata": {
        "id": "view-in-github",
        "colab_type": "text"
      },
      "source": [
        "<a href=\"https://colab.research.google.com/github/HalyshAnton/Python-AI/blob/AI_5_dz/%D0%94%D0%97_15.ipynb\" target=\"_parent\"><img src=\"https://colab.research.google.com/assets/colab-badge.svg\" alt=\"Open In Colab\"/></a>"
      ]
    },
    {
      "cell_type": "markdown",
      "source": [
        "[Посилання на датасет](https://www.kaggle.com/datasets/sshikamaru/fruit-recognition)"
      ],
      "metadata": {
        "id": "tcngeTvWJXo9"
      }
    },
    {
      "cell_type": "markdown",
      "source": [
        "# Завдання:\n",
        "\n",
        "* Ознайомитись з даними та структурою даних\n",
        "* Створіть доповнення(`transform`) для тренувальних та тестових даних. [посилання](https://pytorch.org/vision/0.9/transforms.html)\n",
        "* Створіть `train_dataset` та `test_dataset` за допомогою `ImageFolder`(папка train)\n",
        "* Візуалізуйте дані\n",
        "* Збережіть `kaggle notebook` для подальшої роботи"
      ],
      "metadata": {
        "id": "_XM4E8vNJidY"
      }
    },
    {
      "cell_type": "code",
      "source": [],
      "metadata": {
        "id": "t2NIN2HaLcpE"
      },
      "execution_count": null,
      "outputs": []
    }
  ]
}