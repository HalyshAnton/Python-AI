{
  "nbformat": 4,
  "nbformat_minor": 0,
  "metadata": {
    "colab": {
      "provenance": [],
      "authorship_tag": "ABX9TyOqPxg10mQXRA2eXGHLu5ic",
      "include_colab_link": true
    },
    "kernelspec": {
      "name": "python3",
      "display_name": "Python 3"
    },
    "language_info": {
      "name": "python"
    }
  },
  "cells": [
    {
      "cell_type": "markdown",
      "metadata": {
        "id": "view-in-github",
        "colab_type": "text"
      },
      "source": [
        "<a href=\"https://colab.research.google.com/github/HalyshAnton/Python-AI/blob/AI_3_dz/%D0%94%D0%97_10.ipynb\" target=\"_parent\"><img src=\"https://colab.research.google.com/assets/colab-badge.svg\" alt=\"Open In Colab\"/></a>"
      ]
    },
    {
      "cell_type": "markdown",
      "source": [
        "Ваша задача спрогнозувати твердість мінералу в межах змагання на kaggle\n",
        "\n",
        "[посилання](https://www.kaggle.com/competitions/playground-series-s3e25/data)\n",
        "\n",
        "Перейшовши за посиланням, натисність кнопку `Late Submission`"
      ],
      "metadata": {
        "id": "PyPWP69bSWRG"
      }
    },
    {
      "cell_type": "markdown",
      "source": [
        "Для завантаження даних використайте наступний код, ваша цільова ознака це стовпчик `Hardness`"
      ],
      "metadata": {
        "id": "5qTJ_saKStOa"
      }
    },
    {
      "cell_type": "code",
      "execution_count": null,
      "metadata": {
        "id": "aJMGZTJAKJXt"
      },
      "outputs": [],
      "source": [
        "train_data=pd.read_csv('/kaggle/input/playground-series-s3e25/train.csv')\n",
        "test_data=pd.read_csv('/kaggle/input/playground-series-s3e25/test.csv')\n"
      ]
    },
    {
      "cell_type": "markdown",
      "source": [
        "Для виконання дз достатньо використовувати датасет `train_data`. Потрібно реалізувати наступні кроки:\n",
        "\n",
        "* бажано видалити стовпчик `id`\n",
        "* розділити дані на тренувальні, валідаційні та тестові\n",
        "* обробити дані за допомогою препроцесора\n",
        "* створити функцію `objective` та підібрати гіперпараметри\n",
        "* остаточно натренувати модель\n",
        "\n",
        "Додатково, якщо хочете перевірити модель через `kaggle`:\n",
        "* об'єднайте натреновані препроцесор та модель в одну\n",
        "* запустіть наступний код\n",
        "* натисніть `Submit to competition/Submit`, див справа\n",
        "* переглянути результат можна перейшовши знову за посиланням та на тиснувши `Leaderboard`\n",
        "\n",
        "Примітка: `kaggle` сортує учасників за медіанною абсолютною похибкою(`sklearn.metrics.median_absolute_error`)"
      ],
      "metadata": {
        "id": "rCiy9v8p_wIZ"
      }
    },
    {
      "cell_type": "code",
      "source": [
        "id_data = test_data['id']\n",
        "test_df = test_data.drop(columns=['id'])\n",
        "\n",
        "y_pred = model.predict(test_df)"
      ],
      "metadata": {
        "id": "hi6GFrlTACB5"
      },
      "execution_count": null,
      "outputs": []
    },
    {
      "cell_type": "code",
      "source": [
        "submission_df = pd.DataFrame({\n",
        "    'id': id_data,\n",
        "    'Hardness': y_pred\n",
        "})\n",
        "\n",
        "submission_file_path = '/kaggle/working/submission.csv'\n",
        "submission_df.to_csv(submission_file_path, index=False)"
      ],
      "metadata": {
        "id": "uORnA2f7Bo1e"
      },
      "execution_count": null,
      "outputs": []
    }
  ]
}