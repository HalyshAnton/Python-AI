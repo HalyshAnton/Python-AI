{
  "nbformat": 4,
  "nbformat_minor": 0,
  "metadata": {
    "colab": {
      "provenance": [],
      "authorship_tag": "ABX9TyNBebCVWVzoVLk7CDrvAkMK",
      "include_colab_link": true
    },
    "kernelspec": {
      "name": "python3",
      "display_name": "Python 3"
    },
    "language_info": {
      "name": "python"
    }
  },
  "cells": [
    {
      "cell_type": "markdown",
      "metadata": {
        "id": "view-in-github",
        "colab_type": "text"
      },
      "source": [
        "<a href=\"https://colab.research.google.com/github/HalyshAnton/Python-AI/blob/AI_3_practice/%D0%9F%D1%80%D0%B0%D0%BA%D1%82%D0%B8%D0%BA%D0%B0_optuna.ipynb\" target=\"_parent\"><img src=\"https://colab.research.google.com/assets/colab-badge.svg\" alt=\"Open In Colab\"/></a>"
      ]
    },
    {
      "cell_type": "markdown",
      "source": [
        "Ваша задача спрогнозувати ціну будівель окрузі Кінг в межах змагання на kaggle\n",
        "\n",
        "[посилання](https://www.kaggle.com/datasets/harlfoxem/housesalesprediction/data)\n",
        "\n",
        "Перейшовши за посиланням, натисність кнопку `Late Submission`"
      ],
      "metadata": {
        "id": "PyPWP69bSWRG"
      }
    },
    {
      "cell_type": "markdown",
      "source": [
        "Для завантаження даних використайте наступний код, ваша цільова ознака це стовпчик `price`"
      ],
      "metadata": {
        "id": "5qTJ_saKStOa"
      }
    },
    {
      "cell_type": "code",
      "execution_count": null,
      "metadata": {
        "id": "aJMGZTJAKJXt"
      },
      "outputs": [],
      "source": [
        "df =  pd.read_csv('/kaggle/input/housesalesprediction/kc_house_data.csv')\n"
      ]
    }
  ]
}