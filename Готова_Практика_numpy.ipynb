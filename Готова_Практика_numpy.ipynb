{
  "nbformat": 4,
  "nbformat_minor": 0,
  "metadata": {
    "colab": {
      "provenance": [],
      "toc_visible": true,
      "authorship_tag": "ABX9TyN9YD39OOtYYif8FsYTxM3i",
      "include_colab_link": true
    },
    "kernelspec": {
      "name": "python3",
      "display_name": "Python 3"
    },
    "language_info": {
      "name": "python"
    }
  },
  "cells": [
    {
      "cell_type": "markdown",
      "metadata": {
        "id": "view-in-github",
        "colab_type": "text"
      },
      "source": [
        "<a href=\"https://colab.research.google.com/github/HalyshAnton/Python-AI/blob/AI_2_practice/%D0%93%D0%BE%D1%82%D0%BE%D0%B2%D0%B0_%D0%9F%D1%80%D0%B0%D0%BA%D1%82%D0%B8%D0%BA%D0%B0_numpy.ipynb\" target=\"_parent\"><img src=\"https://colab.research.google.com/assets/colab-badge.svg\" alt=\"Open In Colab\"/></a>"
      ]
    },
    {
      "cell_type": "markdown",
      "source": [
        "Імпортуйте модуль numpy"
      ],
      "metadata": {
        "id": "rIioSM27QJ8x"
      }
    },
    {
      "cell_type": "code",
      "execution_count": 2,
      "metadata": {
        "id": "rDtfBq8ANBhL"
      },
      "outputs": [],
      "source": [
        "import numpy as np"
      ]
    },
    {
      "cell_type": "markdown",
      "source": [
        "# Завдання 1\n",
        "Створіть масив з елементами від 1 до 12. Виведіть розмір та тип масиву"
      ],
      "metadata": {
        "id": "npT_FnlcNwke"
      }
    },
    {
      "cell_type": "code",
      "source": [],
      "metadata": {
        "id": "02EdQMKlOZHr",
        "colab": {
          "base_uri": "https://localhost:8080/"
        },
        "outputId": "f4b05a9f-e152-4ca6-9926-8737289ce6ca"
      },
      "execution_count": null,
      "outputs": [
        {
          "output_type": "stream",
          "name": "stdout",
          "text": [
            "[ 1  2  3  4  5  6  7  8  9 10 11 12]\n",
            "(12,)\n",
            "int64\n"
          ]
        }
      ]
    },
    {
      "cell_type": "code",
      "source": [
        "x = np.array(range(1, 12+1))\n",
        "x = np.arange(1, 12+1)  # теж саме\n",
        "\n",
        "x"
      ],
      "metadata": {
        "id": "sMgSmXu0DWyt",
        "outputId": "d7959724-13ab-4484-9f67-4e93c0f1c16f",
        "colab": {
          "base_uri": "https://localhost:8080/"
        }
      },
      "execution_count": 11,
      "outputs": [
        {
          "output_type": "execute_result",
          "data": {
            "text/plain": [
              "array([ 1,  2,  3,  4,  5,  6,  7,  8,  9, 10, 11, 12])"
            ]
          },
          "metadata": {},
          "execution_count": 11
        }
      ]
    },
    {
      "cell_type": "code",
      "source": [
        "x.shape"
      ],
      "metadata": {
        "id": "6O89HqstDxzP",
        "outputId": "581d9cfa-6ad8-42e9-f7c7-7abd154adc73",
        "colab": {
          "base_uri": "https://localhost:8080/"
        }
      },
      "execution_count": 9,
      "outputs": [
        {
          "output_type": "execute_result",
          "data": {
            "text/plain": [
              "(12,)"
            ]
          },
          "metadata": {},
          "execution_count": 9
        }
      ]
    },
    {
      "cell_type": "code",
      "source": [
        "x.dtype"
      ],
      "metadata": {
        "id": "MmcDRCtVEDxb",
        "outputId": "f72167ce-44a7-4fb2-b228-911f7de1ef74",
        "colab": {
          "base_uri": "https://localhost:8080/"
        }
      },
      "execution_count": 10,
      "outputs": [
        {
          "output_type": "execute_result",
          "data": {
            "text/plain": [
              "dtype('int64')"
            ]
          },
          "metadata": {},
          "execution_count": 10
        }
      ]
    },
    {
      "cell_type": "markdown",
      "source": [
        "# Завдання 2\n",
        "Зробіть на основі попереднього масиву матрицю з 4 стовчиками. Змініть тип даних матриці на float32. Виведіть результат"
      ],
      "metadata": {
        "id": "HH8hOwVhNxWE"
      }
    },
    {
      "cell_type": "code",
      "source": [],
      "metadata": {
        "id": "4jYqwTycOYbN",
        "colab": {
          "base_uri": "https://localhost:8080/"
        },
        "outputId": "8c50b001-2f7b-4c6b-9d91-930746e863ed"
      },
      "execution_count": null,
      "outputs": [
        {
          "output_type": "execute_result",
          "data": {
            "text/plain": [
              "array([[ 1.,  2.,  3.,  4.],\n",
              "       [ 5.,  6.,  7.,  8.],\n",
              "       [ 9., 10., 11., 12.]], dtype=float32)"
            ]
          },
          "metadata": {},
          "execution_count": 5
        }
      ]
    },
    {
      "cell_type": "code",
      "source": [
        "new_x = x.reshape((3, 4))\n",
        "new_x = x.reshape((-1, 4))  # сам порахує кількість рядків\n",
        "\n",
        "float_x = new_x.astype(np.float32)\n",
        "\n",
        "print(new_x.dtype)\n",
        "print(float_x.dtype)"
      ],
      "metadata": {
        "id": "HpNRtEqLEYqc",
        "outputId": "0fd5d744-3298-4e7b-d556-66bc41b24213",
        "colab": {
          "base_uri": "https://localhost:8080/"
        }
      },
      "execution_count": 18,
      "outputs": [
        {
          "output_type": "stream",
          "name": "stdout",
          "text": [
            "int64\n",
            "float32\n"
          ]
        }
      ]
    },
    {
      "cell_type": "markdown",
      "source": [
        "#Завдання 3\n",
        "Створіть наступні матриці 8х8"
      ],
      "metadata": {
        "id": "T35Vjkz1Nxez"
      }
    },
    {
      "cell_type": "code",
      "source": [
        "# за замовчуванням всюди нулі\n"
      ],
      "metadata": {
        "id": "mrbnfiPQPu_n",
        "colab": {
          "base_uri": "https://localhost:8080/"
        },
        "outputId": "d9d3a897-f912-4b7f-8e57-325c389ccd88"
      },
      "execution_count": null,
      "outputs": [
        {
          "output_type": "execute_result",
          "data": {
            "text/plain": [
              "array([[0, 0, 0, 0, 0, 0, 0, 0],\n",
              "       [0, 0, 0, 0, 0, 0, 0, 0],\n",
              "       [0, 0, 0, 0, 0, 0, 0, 0],\n",
              "       [0, 0, 0, 0, 0, 0, 0, 0],\n",
              "       [0, 0, 0, 0, 0, 0, 0, 0],\n",
              "       [0, 0, 0, 0, 0, 0, 0, 0],\n",
              "       [0, 0, 0, 0, 0, 0, 0, 0],\n",
              "       [0, 0, 0, 0, 0, 0, 0, 0]])"
            ]
          },
          "metadata": {},
          "execution_count": 12
        }
      ]
    },
    {
      "cell_type": "code",
      "source": [
        "x = np.zeros((8, 8), dtype=np.int8)\n",
        "x"
      ],
      "metadata": {
        "id": "iv-pMfL1FiDt",
        "outputId": "103e0de4-8346-4289-b328-21533192791f",
        "colab": {
          "base_uri": "https://localhost:8080/"
        }
      },
      "execution_count": 23,
      "outputs": [
        {
          "output_type": "execute_result",
          "data": {
            "text/plain": [
              "array([[0, 0, 0, 0, 0, 0, 0, 0],\n",
              "       [0, 0, 0, 0, 0, 0, 0, 0],\n",
              "       [0, 0, 0, 0, 0, 0, 0, 0],\n",
              "       [0, 0, 0, 0, 0, 0, 0, 0],\n",
              "       [0, 0, 0, 0, 0, 0, 0, 0],\n",
              "       [0, 0, 0, 0, 0, 0, 0, 0],\n",
              "       [0, 0, 0, 0, 0, 0, 0, 0],\n",
              "       [0, 0, 0, 0, 0, 0, 0, 0]], dtype=int8)"
            ]
          },
          "metadata": {},
          "execution_count": 23
        }
      ]
    },
    {
      "cell_type": "code",
      "source": [
        "# одиниця в рядку 2 стовпчик 3"
      ],
      "metadata": {
        "colab": {
          "base_uri": "https://localhost:8080/"
        },
        "id": "rIPcKv37tINF",
        "outputId": "f19937b5-78f9-48c7-af59-29ab91fff647"
      },
      "execution_count": null,
      "outputs": [
        {
          "output_type": "execute_result",
          "data": {
            "text/plain": [
              "array([[0, 0, 0, 0, 0, 0, 0, 0],\n",
              "       [0, 0, 1, 0, 0, 0, 0, 0],\n",
              "       [0, 0, 0, 0, 0, 0, 0, 0],\n",
              "       [0, 0, 0, 0, 0, 0, 0, 0],\n",
              "       [0, 0, 0, 0, 0, 0, 0, 0],\n",
              "       [0, 0, 0, 0, 0, 0, 0, 0],\n",
              "       [0, 0, 0, 0, 0, 0, 0, 0],\n",
              "       [0, 0, 0, 0, 0, 0, 0, 0]])"
            ]
          },
          "metadata": {},
          "execution_count": 13
        }
      ]
    },
    {
      "cell_type": "code",
      "source": [
        "x = np.zeros((8, 8), dtype=np.int8)\n",
        "\n",
        "x[1, 2] = 1\n",
        "x"
      ],
      "metadata": {
        "id": "hXhooBmTF7cF",
        "outputId": "697bbdfb-d4be-4f96-e387-c3c2e897b6d8",
        "colab": {
          "base_uri": "https://localhost:8080/"
        }
      },
      "execution_count": 24,
      "outputs": [
        {
          "output_type": "execute_result",
          "data": {
            "text/plain": [
              "array([[0, 0, 0, 0, 0, 0, 0, 0],\n",
              "       [0, 0, 1, 0, 0, 0, 0, 0],\n",
              "       [0, 0, 0, 0, 0, 0, 0, 0],\n",
              "       [0, 0, 0, 0, 0, 0, 0, 0],\n",
              "       [0, 0, 0, 0, 0, 0, 0, 0],\n",
              "       [0, 0, 0, 0, 0, 0, 0, 0],\n",
              "       [0, 0, 0, 0, 0, 0, 0, 0],\n",
              "       [0, 0, 0, 0, 0, 0, 0, 0]], dtype=int8)"
            ]
          },
          "metadata": {},
          "execution_count": 24
        }
      ]
    },
    {
      "cell_type": "code",
      "source": [
        "# рядок 3 з одиниць"
      ],
      "metadata": {
        "colab": {
          "base_uri": "https://localhost:8080/"
        },
        "id": "kjvI2gRiszFV",
        "outputId": "4cc51923-16da-468b-e632-9db95f679473"
      },
      "execution_count": null,
      "outputs": [
        {
          "output_type": "execute_result",
          "data": {
            "text/plain": [
              "array([[0, 0, 0, 0, 0, 0, 0, 0],\n",
              "       [0, 0, 0, 0, 0, 0, 0, 0],\n",
              "       [1, 1, 1, 1, 1, 1, 1, 1],\n",
              "       [0, 0, 0, 0, 0, 0, 0, 0],\n",
              "       [0, 0, 0, 0, 0, 0, 0, 0],\n",
              "       [0, 0, 0, 0, 0, 0, 0, 0],\n",
              "       [0, 0, 0, 0, 0, 0, 0, 0],\n",
              "       [0, 0, 0, 0, 0, 0, 0, 0]])"
            ]
          },
          "metadata": {},
          "execution_count": 14
        }
      ]
    },
    {
      "cell_type": "code",
      "source": [
        "x = np.zeros((8, 8), dtype=np.int8)\n",
        "\n",
        "x[2] = 1\n",
        "\n",
        "x"
      ],
      "metadata": {
        "id": "btE4ECByGISc",
        "outputId": "001e913b-8933-4853-d3fc-c195a577fdaa",
        "colab": {
          "base_uri": "https://localhost:8080/"
        }
      },
      "execution_count": 25,
      "outputs": [
        {
          "output_type": "execute_result",
          "data": {
            "text/plain": [
              "array([[0, 0, 0, 0, 0, 0, 0, 0],\n",
              "       [0, 0, 0, 0, 0, 0, 0, 0],\n",
              "       [1, 1, 1, 1, 1, 1, 1, 1],\n",
              "       [0, 0, 0, 0, 0, 0, 0, 0],\n",
              "       [0, 0, 0, 0, 0, 0, 0, 0],\n",
              "       [0, 0, 0, 0, 0, 0, 0, 0],\n",
              "       [0, 0, 0, 0, 0, 0, 0, 0],\n",
              "       [0, 0, 0, 0, 0, 0, 0, 0]], dtype=int8)"
            ]
          },
          "metadata": {},
          "execution_count": 25
        }
      ]
    },
    {
      "cell_type": "code",
      "source": [
        "# стовпчик 2 з одиниць"
      ],
      "metadata": {
        "colab": {
          "base_uri": "https://localhost:8080/"
        },
        "id": "Lw-3IMuXsy9v",
        "outputId": "8004b43e-88b2-45cd-96c3-3b32d5a2a1fd"
      },
      "execution_count": null,
      "outputs": [
        {
          "output_type": "execute_result",
          "data": {
            "text/plain": [
              "array([[0, 1, 0, 0, 0, 0, 0, 0],\n",
              "       [0, 1, 0, 0, 0, 0, 0, 0],\n",
              "       [0, 1, 0, 0, 0, 0, 0, 0],\n",
              "       [0, 1, 0, 0, 0, 0, 0, 0],\n",
              "       [0, 1, 0, 0, 0, 0, 0, 0],\n",
              "       [0, 1, 0, 0, 0, 0, 0, 0],\n",
              "       [0, 1, 0, 0, 0, 0, 0, 0],\n",
              "       [0, 1, 0, 0, 0, 0, 0, 0]])"
            ]
          },
          "metadata": {},
          "execution_count": 16
        }
      ]
    },
    {
      "cell_type": "code",
      "source": [
        "# рядки з 2 по 4 з одиниць"
      ],
      "metadata": {
        "colab": {
          "base_uri": "https://localhost:8080/"
        },
        "id": "wEkxof2FtWM3",
        "outputId": "b96f59a6-f3cb-4137-b0a3-49ab66c9af90"
      },
      "execution_count": null,
      "outputs": [
        {
          "output_type": "execute_result",
          "data": {
            "text/plain": [
              "array([[0, 0, 0, 0, 0, 0, 0, 0],\n",
              "       [1, 1, 1, 1, 1, 1, 1, 1],\n",
              "       [1, 1, 1, 1, 1, 1, 1, 1],\n",
              "       [1, 1, 1, 1, 1, 1, 1, 1],\n",
              "       [0, 0, 0, 0, 0, 0, 0, 0],\n",
              "       [0, 0, 0, 0, 0, 0, 0, 0],\n",
              "       [0, 0, 0, 0, 0, 0, 0, 0],\n",
              "       [0, 0, 0, 0, 0, 0, 0, 0]])"
            ]
          },
          "metadata": {},
          "execution_count": 17
        }
      ]
    },
    {
      "cell_type": "code",
      "source": [
        "# стовпчики 3 і 4 з одиниць"
      ],
      "metadata": {
        "colab": {
          "base_uri": "https://localhost:8080/"
        },
        "id": "c42FonyPtV7l",
        "outputId": "16070f3e-d8fb-4b31-cf0b-ea96c74694d2"
      },
      "execution_count": null,
      "outputs": [
        {
          "output_type": "execute_result",
          "data": {
            "text/plain": [
              "array([[0, 0, 1, 1, 0, 0, 0, 0],\n",
              "       [0, 0, 1, 1, 0, 0, 0, 0],\n",
              "       [0, 0, 1, 1, 0, 0, 0, 0],\n",
              "       [0, 0, 1, 1, 0, 0, 0, 0],\n",
              "       [0, 0, 1, 1, 0, 0, 0, 0],\n",
              "       [0, 0, 1, 1, 0, 0, 0, 0],\n",
              "       [0, 0, 1, 1, 0, 0, 0, 0],\n",
              "       [0, 0, 1, 1, 0, 0, 0, 0]])"
            ]
          },
          "metadata": {},
          "execution_count": 19
        }
      ]
    },
    {
      "cell_type": "code",
      "source": [
        "# ділянка між рядками 1,4 та стовпчиками 2,4"
      ],
      "metadata": {
        "colab": {
          "base_uri": "https://localhost:8080/"
        },
        "id": "nG6TLsIztiF9",
        "outputId": "dd452710-b053-4a95-c5f3-46a07d4f2483"
      },
      "execution_count": null,
      "outputs": [
        {
          "output_type": "execute_result",
          "data": {
            "text/plain": [
              "array([[0, 1, 1, 1, 0, 0, 0, 0],\n",
              "       [0, 1, 1, 1, 0, 0, 0, 0],\n",
              "       [0, 1, 1, 1, 0, 0, 0, 0],\n",
              "       [0, 1, 1, 1, 0, 0, 0, 0],\n",
              "       [0, 0, 0, 0, 0, 0, 0, 0],\n",
              "       [0, 0, 0, 0, 0, 0, 0, 0],\n",
              "       [0, 0, 0, 0, 0, 0, 0, 0],\n",
              "       [0, 0, 0, 0, 0, 0, 0, 0]])"
            ]
          },
          "metadata": {},
          "execution_count": 22
        }
      ]
    },
    {
      "cell_type": "code",
      "source": [
        "# кожен непарний рядок"
      ],
      "metadata": {
        "colab": {
          "base_uri": "https://localhost:8080/"
        },
        "id": "d0jVvBtetudX",
        "outputId": "c18fdcd9-8326-408d-e032-5476ea03cea5"
      },
      "execution_count": null,
      "outputs": [
        {
          "output_type": "execute_result",
          "data": {
            "text/plain": [
              "array([[1, 1, 1, 1, 1, 1, 1, 1],\n",
              "       [0, 0, 0, 0, 0, 0, 0, 0],\n",
              "       [1, 1, 1, 1, 1, 1, 1, 1],\n",
              "       [0, 0, 0, 0, 0, 0, 0, 0],\n",
              "       [1, 1, 1, 1, 1, 1, 1, 1],\n",
              "       [0, 0, 0, 0, 0, 0, 0, 0],\n",
              "       [1, 1, 1, 1, 1, 1, 1, 1],\n",
              "       [0, 0, 0, 0, 0, 0, 0, 0]])"
            ]
          },
          "metadata": {},
          "execution_count": 23
        }
      ]
    },
    {
      "cell_type": "code",
      "source": [
        "# кожен парний стовпчик"
      ],
      "metadata": {
        "colab": {
          "base_uri": "https://localhost:8080/"
        },
        "id": "Lp1tV7yot1k9",
        "outputId": "11279cbc-9617-43b1-f7df-057ad2019c51"
      },
      "execution_count": null,
      "outputs": [
        {
          "output_type": "execute_result",
          "data": {
            "text/plain": [
              "array([[0, 1, 0, 1, 0, 1, 0, 1],\n",
              "       [0, 1, 0, 1, 0, 1, 0, 1],\n",
              "       [0, 1, 0, 1, 0, 1, 0, 1],\n",
              "       [0, 1, 0, 1, 0, 1, 0, 1],\n",
              "       [0, 1, 0, 1, 0, 1, 0, 1],\n",
              "       [0, 1, 0, 1, 0, 1, 0, 1],\n",
              "       [0, 1, 0, 1, 0, 1, 0, 1],\n",
              "       [0, 1, 0, 1, 0, 1, 0, 1]])"
            ]
          },
          "metadata": {},
          "execution_count": 24
        }
      ]
    },
    {
      "cell_type": "code",
      "source": [
        "# рядки 4,5 та стовпчики 4,5"
      ],
      "metadata": {
        "colab": {
          "base_uri": "https://localhost:8080/"
        },
        "id": "kMXmfaOBuIFf",
        "outputId": "002bfd20-fe0c-44ce-f3b7-ee8f4b99f6f2"
      },
      "execution_count": null,
      "outputs": [
        {
          "output_type": "execute_result",
          "data": {
            "text/plain": [
              "array([[0, 0, 0, 1, 1, 0, 0, 0],\n",
              "       [0, 0, 0, 1, 1, 0, 0, 0],\n",
              "       [0, 0, 0, 1, 1, 0, 0, 0],\n",
              "       [1, 1, 1, 1, 1, 1, 1, 1],\n",
              "       [1, 1, 1, 1, 1, 1, 1, 1],\n",
              "       [0, 0, 0, 1, 1, 0, 0, 0],\n",
              "       [0, 0, 0, 1, 1, 0, 0, 0],\n",
              "       [0, 0, 0, 1, 1, 0, 0, 0]])"
            ]
          },
          "metadata": {},
          "execution_count": 27
        }
      ]
    },
    {
      "cell_type": "code",
      "source": [
        "# шахматний порядок"
      ],
      "metadata": {
        "colab": {
          "base_uri": "https://localhost:8080/"
        },
        "id": "2cJfcniXt_FY",
        "outputId": "b5d34314-fc31-4bce-e407-4af71a52bc26"
      },
      "execution_count": null,
      "outputs": [
        {
          "output_type": "execute_result",
          "data": {
            "text/plain": [
              "array([[1, 0, 1, 0, 1, 0, 1, 0],\n",
              "       [0, 1, 0, 1, 0, 1, 0, 1],\n",
              "       [1, 0, 1, 0, 1, 0, 1, 0],\n",
              "       [0, 1, 0, 1, 0, 1, 0, 1],\n",
              "       [1, 0, 1, 0, 1, 0, 1, 0],\n",
              "       [0, 1, 0, 1, 0, 1, 0, 1],\n",
              "       [1, 0, 1, 0, 1, 0, 1, 0],\n",
              "       [0, 1, 0, 1, 0, 1, 0, 1]])"
            ]
          },
          "metadata": {},
          "execution_count": 26
        }
      ]
    },
    {
      "cell_type": "code",
      "source": [
        "# діагональ"
      ],
      "metadata": {
        "colab": {
          "base_uri": "https://localhost:8080/"
        },
        "id": "fQSGMb8ct6EN",
        "outputId": "1155ce32-cbbb-4ba2-e288-5f9b1e92a4e8"
      },
      "execution_count": null,
      "outputs": [
        {
          "output_type": "execute_result",
          "data": {
            "text/plain": [
              "array([[1, 0, 0, 0, 0, 0, 0, 0],\n",
              "       [0, 1, 0, 0, 0, 0, 0, 0],\n",
              "       [0, 0, 1, 0, 0, 0, 0, 0],\n",
              "       [0, 0, 0, 1, 0, 0, 0, 0],\n",
              "       [0, 0, 0, 0, 1, 0, 0, 0],\n",
              "       [0, 0, 0, 0, 0, 1, 0, 0],\n",
              "       [0, 0, 0, 0, 0, 0, 1, 0],\n",
              "       [0, 0, 0, 0, 0, 0, 0, 1]])"
            ]
          },
          "metadata": {},
          "execution_count": 25
        }
      ]
    },
    {
      "cell_type": "markdown",
      "source": [
        "# Завдання 4\n",
        "\n",
        "Створіть випадкову матрицю 4х3. Замініть усі значення менші за середнє арифметичне на -1"
      ],
      "metadata": {
        "id": "SCU3uu-ZwRou"
      }
    },
    {
      "cell_type": "code",
      "source": [
        "x = np.random.randint(0, 10, size=(4, 3))\n",
        "\n",
        "x"
      ],
      "metadata": {
        "colab": {
          "base_uri": "https://localhost:8080/"
        },
        "id": "MECaxTSXwamG",
        "outputId": "c643d7d5-3a97-49cb-bed8-0debbe3fb3f9"
      },
      "execution_count": 26,
      "outputs": [
        {
          "output_type": "execute_result",
          "data": {
            "text/plain": [
              "array([[1, 9, 7],\n",
              "       [2, 8, 8],\n",
              "       [2, 3, 0],\n",
              "       [2, 8, 5]])"
            ]
          },
          "metadata": {},
          "execution_count": 26
        }
      ]
    },
    {
      "cell_type": "code",
      "source": [
        "mean = np.mean(x)\n",
        "mean = x.mean()\n",
        "\n",
        "mean"
      ],
      "metadata": {
        "id": "OG8r--ZLKuXq",
        "outputId": "d1499452-fe93-4a7f-e2f2-4e6a0e5f52bf",
        "colab": {
          "base_uri": "https://localhost:8080/"
        }
      },
      "execution_count": 27,
      "outputs": [
        {
          "output_type": "execute_result",
          "data": {
            "text/plain": [
              "4.583333333333333"
            ]
          },
          "metadata": {},
          "execution_count": 27
        }
      ]
    },
    {
      "cell_type": "code",
      "source": [
        "x < mean"
      ],
      "metadata": {
        "id": "LQBmD8XzK5qw",
        "outputId": "96f2aaca-9903-4ef7-b29d-cf9e38cbc4ad",
        "colab": {
          "base_uri": "https://localhost:8080/"
        }
      },
      "execution_count": 28,
      "outputs": [
        {
          "output_type": "execute_result",
          "data": {
            "text/plain": [
              "array([[ True, False, False],\n",
              "       [ True, False, False],\n",
              "       [ True,  True,  True],\n",
              "       [ True, False, False]])"
            ]
          },
          "metadata": {},
          "execution_count": 28
        }
      ]
    },
    {
      "cell_type": "code",
      "source": [
        "x[x < mean] = -1\n",
        "\n",
        "x"
      ],
      "metadata": {
        "id": "-85gq9I7LH6t",
        "outputId": "9c2fbdc8-1b5e-428c-e96b-86117956dea1",
        "colab": {
          "base_uri": "https://localhost:8080/"
        }
      },
      "execution_count": 30,
      "outputs": [
        {
          "output_type": "execute_result",
          "data": {
            "text/plain": [
              "array([[-1,  9,  7],\n",
              "       [-1,  8,  8],\n",
              "       [-1, -1, -1],\n",
              "       [-1,  8,  5]])"
            ]
          },
          "metadata": {},
          "execution_count": 30
        }
      ]
    },
    {
      "cell_type": "markdown",
      "source": [
        "# Завдання 5\n",
        "Створіть випадкову матрицю 4х3. Знайдіть суму елементів в стовпчиках\\рядках\\усій матриці"
      ],
      "metadata": {
        "id": "g87KAY1nNxoy"
      }
    },
    {
      "cell_type": "code",
      "source": [
        "x = np.random.randint(0, 10, size=(4, 3))\n",
        "\n",
        "x"
      ],
      "metadata": {
        "id": "RGA3022VQIZV",
        "colab": {
          "base_uri": "https://localhost:8080/"
        },
        "outputId": "27aa18f4-a09e-459d-e542-b4a8d4ab8971"
      },
      "execution_count": 31,
      "outputs": [
        {
          "output_type": "execute_result",
          "data": {
            "text/plain": [
              "array([[0, 9, 1],\n",
              "       [4, 8, 4],\n",
              "       [8, 9, 2],\n",
              "       [5, 9, 1]])"
            ]
          },
          "metadata": {},
          "execution_count": 31
        }
      ]
    },
    {
      "cell_type": "code",
      "source": [
        "x.sum()\n",
        "np.sum(x)"
      ],
      "metadata": {
        "id": "_Vb8wXpfLo1Z",
        "outputId": "ac7fd492-c5e6-44c6-f3b3-0a082e01ffb0",
        "colab": {
          "base_uri": "https://localhost:8080/"
        }
      },
      "execution_count": 33,
      "outputs": [
        {
          "output_type": "execute_result",
          "data": {
            "text/plain": [
              "60"
            ]
          },
          "metadata": {},
          "execution_count": 33
        }
      ]
    },
    {
      "cell_type": "code",
      "source": [
        "# сума кожного рядка\n",
        "# (4, 3) -> (4)\n",
        "# axis = 1\n",
        "\n",
        "x.sum(axis=1)"
      ],
      "metadata": {
        "id": "0WRpm9hdLuk0",
        "outputId": "ad4598d1-c08b-48e6-9e3e-29cc7df2ef9b",
        "colab": {
          "base_uri": "https://localhost:8080/"
        }
      },
      "execution_count": 34,
      "outputs": [
        {
          "output_type": "execute_result",
          "data": {
            "text/plain": [
              "array([10, 16, 19, 15])"
            ]
          },
          "metadata": {},
          "execution_count": 34
        }
      ]
    },
    {
      "cell_type": "code",
      "source": [
        "# сума кожного стовпчика\n",
        "# (4, 3) -> (3)\n",
        "# axis = 0\n",
        "\n",
        "x.sum(axis=0)"
      ],
      "metadata": {
        "id": "rO9fHq0OMRlo",
        "outputId": "a155bab0-20a1-4513-c939-ea291155b3c2",
        "colab": {
          "base_uri": "https://localhost:8080/"
        }
      },
      "execution_count": 35,
      "outputs": [
        {
          "output_type": "execute_result",
          "data": {
            "text/plain": [
              "array([17, 35,  8])"
            ]
          },
          "metadata": {},
          "execution_count": 35
        }
      ]
    },
    {
      "cell_type": "markdown",
      "source": [
        "# Завдання 6\n",
        "У попередній матриці від кожного рядка відніміть максимальний елемент цього рядка"
      ],
      "metadata": {
        "id": "AGH0TVVBNxx9"
      }
    },
    {
      "cell_type": "code",
      "source": [
        "x"
      ],
      "metadata": {
        "id": "BFqLwO2MNFTJ",
        "outputId": "78abb39a-a758-4a10-dd30-37f5e5eb7014",
        "colab": {
          "base_uri": "https://localhost:8080/"
        }
      },
      "execution_count": 37,
      "outputs": [
        {
          "output_type": "execute_result",
          "data": {
            "text/plain": [
              "array([[0, 9, 1],\n",
              "       [4, 8, 4],\n",
              "       [8, 9, 2],\n",
              "       [5, 9, 1]])"
            ]
          },
          "metadata": {},
          "execution_count": 37
        }
      ]
    },
    {
      "cell_type": "code",
      "source": [
        "# (4, 3) -> (4)\n",
        "# axis = 1\n",
        "\n",
        "max_row = x.max(axis=1, keepdims=True)\n",
        "\n",
        "x - max_row"
      ],
      "metadata": {
        "id": "TVYjbsBDQHTU",
        "colab": {
          "base_uri": "https://localhost:8080/"
        },
        "outputId": "39361d06-696a-4f01-9155-183c182d8279"
      },
      "execution_count": 39,
      "outputs": [
        {
          "output_type": "execute_result",
          "data": {
            "text/plain": [
              "array([[-9,  0, -8],\n",
              "       [-4,  0, -4],\n",
              "       [-1,  0, -7],\n",
              "       [-4,  0, -8]])"
            ]
          },
          "metadata": {},
          "execution_count": 39
        }
      ]
    },
    {
      "cell_type": "code",
      "source": [
        "max_row - x"
      ],
      "metadata": {
        "id": "HjSSCc4JNUOX",
        "outputId": "f9411dec-a29b-4153-aa5b-b97c65b2143e",
        "colab": {
          "base_uri": "https://localhost:8080/"
        }
      },
      "execution_count": 40,
      "outputs": [
        {
          "output_type": "execute_result",
          "data": {
            "text/plain": [
              "array([[9, 0, 8],\n",
              "       [4, 0, 4],\n",
              "       [1, 0, 7],\n",
              "       [4, 0, 8]])"
            ]
          },
          "metadata": {},
          "execution_count": 40
        }
      ]
    },
    {
      "cell_type": "markdown",
      "source": [
        "# Завдання 7\n",
        "\n",
        "Створіть випадкову матрицю 4х3. В кожному стовпчику знайдіть мінімальний елемент.\n",
        "Також знайдіть індекс мінімального елемента в кожному стовпчику"
      ],
      "metadata": {
        "id": "Je919-433d4x"
      }
    },
    {
      "cell_type": "code",
      "source": [],
      "metadata": {
        "id": "yPWx7ezo4C3Y",
        "outputId": "1b41167e-66be-4880-efb1-15c1086506d9",
        "colab": {
          "base_uri": "https://localhost:8080/"
        }
      },
      "execution_count": null,
      "outputs": [
        {
          "output_type": "stream",
          "name": "stdout",
          "text": [
            "[[5 7 9]\n",
            " [8 2 0]\n",
            " [6 8 1]\n",
            " [8 0 9]]\n",
            "\n",
            "мінімуми [5 0 0]\n",
            "індекси [0 3 1]\n"
          ]
        }
      ]
    },
    {
      "cell_type": "code",
      "source": [
        "x = np.random.randint(0, 10, size=(4, 3))\n",
        "\n",
        "x"
      ],
      "metadata": {
        "id": "ge2mzhS8NghP",
        "outputId": "5805af89-15be-4c2f-ef34-b19fd2f33c30",
        "colab": {
          "base_uri": "https://localhost:8080/"
        }
      },
      "execution_count": 41,
      "outputs": [
        {
          "output_type": "execute_result",
          "data": {
            "text/plain": [
              "array([[1, 3, 2],\n",
              "       [7, 2, 2],\n",
              "       [7, 8, 6],\n",
              "       [1, 6, 2]])"
            ]
          },
          "metadata": {},
          "execution_count": 41
        }
      ]
    },
    {
      "cell_type": "code",
      "source": [
        "# (4, 3) -> (3)\n",
        "# axis = 0\n",
        "\n",
        "x.min(axis=0)"
      ],
      "metadata": {
        "id": "3cQ1K-OQNlhO",
        "outputId": "9be3fc32-b470-40df-ca84-1e26758d8726",
        "colab": {
          "base_uri": "https://localhost:8080/"
        }
      },
      "execution_count": 42,
      "outputs": [
        {
          "output_type": "execute_result",
          "data": {
            "text/plain": [
              "array([1, 2, 2])"
            ]
          },
          "metadata": {},
          "execution_count": 42
        }
      ]
    },
    {
      "cell_type": "code",
      "source": [
        "x.argmin(axis=0)"
      ],
      "metadata": {
        "id": "-RyHUsd1NzDo",
        "outputId": "b1b33969-a838-44a3-a6ba-ad60c39aaf49",
        "colab": {
          "base_uri": "https://localhost:8080/"
        }
      },
      "execution_count": 43,
      "outputs": [
        {
          "output_type": "execute_result",
          "data": {
            "text/plain": [
              "array([0, 1, 0])"
            ]
          },
          "metadata": {},
          "execution_count": 43
        }
      ]
    },
    {
      "cell_type": "markdown",
      "source": [
        "# Завдання 8\n",
        "Є дані про вагу контейнерів для перевезення на кораблі: дрібний - 5 т,  малий - 10 т, середній - 25 т, великий - 40 т. На кораблі розміщено 20 дрібних, 5 малих, 10 середніх та 4 великих контейнерів. Знайти масу вантажу."
      ],
      "metadata": {
        "id": "cH8WhnsjQsXi"
      }
    },
    {
      "cell_type": "code",
      "source": [],
      "metadata": {
        "id": "BYrqqe9WR6g7"
      },
      "execution_count": null,
      "outputs": []
    },
    {
      "cell_type": "markdown",
      "source": [
        "# Завдання 9\n",
        "Тепер у нас декілька кораблів. Напишіть код для обчислення вантажу на кожному кораблі."
      ],
      "metadata": {
        "id": "IhdiDOh3Qrmb"
      }
    },
    {
      "cell_type": "code",
      "source": [],
      "metadata": {
        "id": "gVUXPdFhSI95"
      },
      "execution_count": null,
      "outputs": []
    }
  ]
}