{
  "nbformat": 4,
  "nbformat_minor": 0,
  "metadata": {
    "colab": {
      "provenance": [],
      "authorship_tag": "ABX9TyN6UMHJFUb1l58FNaVXnoQU",
      "include_colab_link": true
    },
    "kernelspec": {
      "name": "python3",
      "display_name": "Python 3"
    },
    "language_info": {
      "name": "python"
    }
  },
  "cells": [
    {
      "cell_type": "markdown",
      "metadata": {
        "id": "view-in-github",
        "colab_type": "text"
      },
      "source": [
        "<a href=\"https://colab.research.google.com/github/HalyshAnton/Python-AI/blob/AI_3_lesson/optuna.ipynb\" target=\"_parent\"><img src=\"https://colab.research.google.com/assets/colab-badge.svg\" alt=\"Open In Colab\"/></a>"
      ]
    },
    {
      "cell_type": "markdown",
      "source": [
        "# Підбір гіперпараметрів\n",
        "\n",
        "Підбір гіперпараметрів - це **необхідний крок** в машинному навчанні, який може **істотно вплинути** на продуктивність вашої моделі. Цей гайд допоможе вам\n",
        "зрозуміти основи підбору гіперпараметрів, а також дасть **більш детальну інформацію**\n",
        "про ключові аспекти цього процесу:\n",
        "\n"
      ],
      "metadata": {
        "id": "GJTjqp-sV0VM"
      }
    },
    {
      "cell_type": "markdown",
      "source": [
        "# Недонавчання та перенавчання"
      ],
      "metadata": {
        "id": "wpEjSoMab2-G"
      }
    },
    {
      "cell_type": "markdown",
      "source": [
        "## Недонавчання\n",
        "\n",
        "* Виникає, коли модель **не може вивчити базові закономірності** в даних.\n",
        "* В результаті модель **погано генерує прогнози** на нових даних.\n",
        "* **Ознаки недонавчання:**\n",
        "    * Низька точність на тренувальному та тестовому наборах даних\n",
        "    * Велика різниця в продуктивності на тренувальному та тестовому наборах\n",
        "* **Як виправити недонавчання:**\n",
        "    * Збільшити складність моделі (наприклад, збільшити глибину дерева)\n",
        "    * Збільшити обсяг даних для навчання\n",
        "    * Зменшити регуляризацію\n",
        "\n"
      ],
      "metadata": {
        "id": "qCt7ya9kbxHt"
      }
    },
    {
      "cell_type": "markdown",
      "source": [
        "## Перенавчання\n",
        "\n",
        "* Виникає, коли модель **занадто добре запам'ятовує тренувальні дані**,\n",
        "    включаючи шум, і **не може добре працювати** з новими даними.\n",
        "* **Ознаки перенавчання:**\n",
        "    * Висока точність на тренувальному наборі даних, але низька на тестовому\n",
        "    * Збільшення продуктивності при зменшенні складності моделі\n",
        "* **Як виправити перенавчання:**\n",
        "    * Зменшити складність моделі (наприклад, зменшити глибину дерева)\n",
        "    * Збільшити регуляризацію\n",
        "    * Використовувати dropout\n",
        "    * Застосувати ранню зупинку\n",
        "\n",
        "![](https://www.googleapis.com/download/storage/v1/b/kaggle-user-content/o/inbox%2F4533747%2F61b58caa4e9b00ead191242796e86e27%2Ffitting.JPG?generation=1594728310000042&alt=media)"
      ],
      "metadata": {
        "id": "Mkix1yCycBrW"
      }
    },
    {
      "cell_type": "markdown",
      "source": [
        "# Гіперпараметри vs параметри"
      ],
      "metadata": {
        "id": "o4l5gY-Ic25m"
      }
    },
    {
      "cell_type": "markdown",
      "source": [
        "## Гіперпараметри\n",
        "\n",
        "* **Конфігурують модель навчання**,\n",
        "    наприклад, швидкість навчання, кількість дерев, розмір пакету.\n",
        "* **Їх не навчають з даних.**\n",
        "* **Впливають на процес навчання та загальну продуктивність моделі.**\n",
        "* **Приклад:** глибина дерева, Кількість листків, тощо\n",
        "\n"
      ],
      "metadata": {
        "id": "6WTTp1YZc1Hu"
      }
    },
    {
      "cell_type": "markdown",
      "source": [
        "## Параметри\n",
        "\n",
        "* **Навчаються з даних**,\n",
        "    наприклад, вузли дерева\n",
        "* **Оновлюються під час тренування моделі.**\n",
        "* **Впливають на прогнози, які робить модель.**\n",
        "\n",
        "![](https://miro.medium.com/v2/resize:fit:3076/1*FIIGhzbuTo2vI62mFcbMTg.png)"
      ],
      "metadata": {
        "id": "CzQ5Lgg3c75d"
      }
    },
    {
      "cell_type": "markdown",
      "source": [
        "# Як обрати найкращі гіперпараметри?"
      ],
      "metadata": {
        "id": "wwoCT-wMdAO9"
      }
    },
    {
      "cell_type": "markdown",
      "source": [
        "## Ручний підбір\n",
        "\n",
        "* **Виберіть набір гіперпараметрів**,\n",
        "    навчіть модель і оцініть її продуктивність.\n",
        "* **Повторіть процес** з іншими наборами гіперпараметрів,\n",
        "    поки не знайдете найкращий.\n",
        "* **Переваги:**\n",
        "    * Не потребує додаткових інструментів\n",
        "    * Дає розуміння впливу кожного гіперпараметра\n",
        "* **Недоліки:**\n",
        "    * Може бути трудомістким\n",
        "    * Не гарантує знаходження оптимальних значень\n",
        "\n"
      ],
      "metadata": {
        "id": "Om45ZFLdc-re"
      }
    },
    {
      "cell_type": "markdown",
      "source": [
        "## Пошук сітки\n",
        "\n",
        "* **Систематично перевірте всі можливі комбінації значень гіперпараметрів.**\n",
        "* **Переваги:**\n",
        "    * Гарантує знаходження кращих гіперпараметрів\n",
        "* **Недоліки:**\n",
        "    * Може бути дуже обчислювально витратним\n",
        "    * Не гнучкий\n",
        "\n",
        "![](https://miro.medium.com/v2/resize:fit:612/0*QKZG5I3autl1HvlY.png)"
      ],
      "metadata": {
        "id": "xDGLCbCtdEq-"
      }
    },
    {
      "cell_type": "markdown",
      "source": [
        "## Методи байєсійської оптимізації\n",
        "\n",
        "* **Використовуйте метод, такий як Optuna,\n",
        "    для ефективного пошуку оптимальних значень гіперпараметрів.**\n",
        "* **Переваги:**\n",
        "    * Ефективно шукає оптимальні гіперпараметри\n",
        "    * Автоматично зупиняє пошук, коли знаходить хороші результати\n",
        "    * Може використовуватися з різними моделями машинного навчання\n",
        "* **Недоліки:**\n",
        "    * Може бути складним для початківців\n",
        "    * Потребує базових знань статистики"
      ],
      "metadata": {
        "id": "vtNA12sRdGzt"
      }
    },
    {
      "cell_type": "markdown",
      "source": [
        "# Інсталяція модуля"
      ],
      "metadata": {
        "id": "Nq4P6gPqqdZS"
      }
    },
    {
      "cell_type": "code",
      "source": [
        "!pip install -q optuna"
      ],
      "metadata": {
        "id": "BEhkD2Poqhik"
      },
      "execution_count": 37,
      "outputs": []
    },
    {
      "cell_type": "markdown",
      "source": [
        "# Дані\n",
        "Ціни на діаманти"
      ],
      "metadata": {
        "id": "NX5GNF2KxmeE"
      }
    },
    {
      "cell_type": "code",
      "source": [
        "import pandas as pd\n",
        "import numpy as np\n",
        "import matplotlib.pyplot as plt\n",
        "from sklearn import model_selection, metrics\n",
        "import lightgbm as lgb\n",
        "import optuna"
      ],
      "metadata": {
        "id": "hwyrjhdgSNDC"
      },
      "execution_count": 38,
      "outputs": []
    },
    {
      "cell_type": "code",
      "source": [
        "df = pd.read_csv(\"https://raw.githubusercontent.com/HalyshAnton/IT-Step-Pyton-AI/main/module3/data/diamonds2.csv\",\n",
        "                 index_col=0\n",
        "                 )"
      ],
      "metadata": {
        "id": "yn8ospWKFKeD"
      },
      "execution_count": 39,
      "outputs": []
    },
    {
      "cell_type": "code",
      "source": [
        "df.head()"
      ],
      "metadata": {
        "colab": {
          "base_uri": "https://localhost:8080/",
          "height": 206
        },
        "id": "dNitdALNFONK",
        "outputId": "1d71c902-0eed-4919-ca11-2a0098cf91cb"
      },
      "execution_count": 40,
      "outputs": [
        {
          "output_type": "execute_result",
          "data": {
            "text/plain": [
              "   carat      cut color clarity  depth  table  price     x     y     z\n",
              "1   0.23    Ideal     E     SI2   61.5   55.0    326  3.95  3.98  2.43\n",
              "2   0.21  Premium     E     SI1   59.8   61.0    326  3.89  3.84  2.31\n",
              "3   0.23     Good     E     VS1   56.9   65.0    327  4.05  4.07  2.31\n",
              "4   0.29  Premium     I     VS2   62.4   58.0    334  4.20  4.23  2.63\n",
              "5   0.31     Good     J     SI2   63.3   58.0    335  4.34  4.35  2.75"
            ],
            "text/html": [
              "\n",
              "  <div id=\"df-b0bb9e45-24b4-45f7-8e83-00018a97c436\" class=\"colab-df-container\">\n",
              "    <div>\n",
              "<style scoped>\n",
              "    .dataframe tbody tr th:only-of-type {\n",
              "        vertical-align: middle;\n",
              "    }\n",
              "\n",
              "    .dataframe tbody tr th {\n",
              "        vertical-align: top;\n",
              "    }\n",
              "\n",
              "    .dataframe thead th {\n",
              "        text-align: right;\n",
              "    }\n",
              "</style>\n",
              "<table border=\"1\" class=\"dataframe\">\n",
              "  <thead>\n",
              "    <tr style=\"text-align: right;\">\n",
              "      <th></th>\n",
              "      <th>carat</th>\n",
              "      <th>cut</th>\n",
              "      <th>color</th>\n",
              "      <th>clarity</th>\n",
              "      <th>depth</th>\n",
              "      <th>table</th>\n",
              "      <th>price</th>\n",
              "      <th>x</th>\n",
              "      <th>y</th>\n",
              "      <th>z</th>\n",
              "    </tr>\n",
              "  </thead>\n",
              "  <tbody>\n",
              "    <tr>\n",
              "      <th>1</th>\n",
              "      <td>0.23</td>\n",
              "      <td>Ideal</td>\n",
              "      <td>E</td>\n",
              "      <td>SI2</td>\n",
              "      <td>61.5</td>\n",
              "      <td>55.0</td>\n",
              "      <td>326</td>\n",
              "      <td>3.95</td>\n",
              "      <td>3.98</td>\n",
              "      <td>2.43</td>\n",
              "    </tr>\n",
              "    <tr>\n",
              "      <th>2</th>\n",
              "      <td>0.21</td>\n",
              "      <td>Premium</td>\n",
              "      <td>E</td>\n",
              "      <td>SI1</td>\n",
              "      <td>59.8</td>\n",
              "      <td>61.0</td>\n",
              "      <td>326</td>\n",
              "      <td>3.89</td>\n",
              "      <td>3.84</td>\n",
              "      <td>2.31</td>\n",
              "    </tr>\n",
              "    <tr>\n",
              "      <th>3</th>\n",
              "      <td>0.23</td>\n",
              "      <td>Good</td>\n",
              "      <td>E</td>\n",
              "      <td>VS1</td>\n",
              "      <td>56.9</td>\n",
              "      <td>65.0</td>\n",
              "      <td>327</td>\n",
              "      <td>4.05</td>\n",
              "      <td>4.07</td>\n",
              "      <td>2.31</td>\n",
              "    </tr>\n",
              "    <tr>\n",
              "      <th>4</th>\n",
              "      <td>0.29</td>\n",
              "      <td>Premium</td>\n",
              "      <td>I</td>\n",
              "      <td>VS2</td>\n",
              "      <td>62.4</td>\n",
              "      <td>58.0</td>\n",
              "      <td>334</td>\n",
              "      <td>4.20</td>\n",
              "      <td>4.23</td>\n",
              "      <td>2.63</td>\n",
              "    </tr>\n",
              "    <tr>\n",
              "      <th>5</th>\n",
              "      <td>0.31</td>\n",
              "      <td>Good</td>\n",
              "      <td>J</td>\n",
              "      <td>SI2</td>\n",
              "      <td>63.3</td>\n",
              "      <td>58.0</td>\n",
              "      <td>335</td>\n",
              "      <td>4.34</td>\n",
              "      <td>4.35</td>\n",
              "      <td>2.75</td>\n",
              "    </tr>\n",
              "  </tbody>\n",
              "</table>\n",
              "</div>\n",
              "    <div class=\"colab-df-buttons\">\n",
              "\n",
              "  <div class=\"colab-df-container\">\n",
              "    <button class=\"colab-df-convert\" onclick=\"convertToInteractive('df-b0bb9e45-24b4-45f7-8e83-00018a97c436')\"\n",
              "            title=\"Convert this dataframe to an interactive table.\"\n",
              "            style=\"display:none;\">\n",
              "\n",
              "  <svg xmlns=\"http://www.w3.org/2000/svg\" height=\"24px\" viewBox=\"0 -960 960 960\">\n",
              "    <path d=\"M120-120v-720h720v720H120Zm60-500h600v-160H180v160Zm220 220h160v-160H400v160Zm0 220h160v-160H400v160ZM180-400h160v-160H180v160Zm440 0h160v-160H620v160ZM180-180h160v-160H180v160Zm440 0h160v-160H620v160Z\"/>\n",
              "  </svg>\n",
              "    </button>\n",
              "\n",
              "  <style>\n",
              "    .colab-df-container {\n",
              "      display:flex;\n",
              "      gap: 12px;\n",
              "    }\n",
              "\n",
              "    .colab-df-convert {\n",
              "      background-color: #E8F0FE;\n",
              "      border: none;\n",
              "      border-radius: 50%;\n",
              "      cursor: pointer;\n",
              "      display: none;\n",
              "      fill: #1967D2;\n",
              "      height: 32px;\n",
              "      padding: 0 0 0 0;\n",
              "      width: 32px;\n",
              "    }\n",
              "\n",
              "    .colab-df-convert:hover {\n",
              "      background-color: #E2EBFA;\n",
              "      box-shadow: 0px 1px 2px rgba(60, 64, 67, 0.3), 0px 1px 3px 1px rgba(60, 64, 67, 0.15);\n",
              "      fill: #174EA6;\n",
              "    }\n",
              "\n",
              "    .colab-df-buttons div {\n",
              "      margin-bottom: 4px;\n",
              "    }\n",
              "\n",
              "    [theme=dark] .colab-df-convert {\n",
              "      background-color: #3B4455;\n",
              "      fill: #D2E3FC;\n",
              "    }\n",
              "\n",
              "    [theme=dark] .colab-df-convert:hover {\n",
              "      background-color: #434B5C;\n",
              "      box-shadow: 0px 1px 3px 1px rgba(0, 0, 0, 0.15);\n",
              "      filter: drop-shadow(0px 1px 2px rgba(0, 0, 0, 0.3));\n",
              "      fill: #FFFFFF;\n",
              "    }\n",
              "  </style>\n",
              "\n",
              "    <script>\n",
              "      const buttonEl =\n",
              "        document.querySelector('#df-b0bb9e45-24b4-45f7-8e83-00018a97c436 button.colab-df-convert');\n",
              "      buttonEl.style.display =\n",
              "        google.colab.kernel.accessAllowed ? 'block' : 'none';\n",
              "\n",
              "      async function convertToInteractive(key) {\n",
              "        const element = document.querySelector('#df-b0bb9e45-24b4-45f7-8e83-00018a97c436');\n",
              "        const dataTable =\n",
              "          await google.colab.kernel.invokeFunction('convertToInteractive',\n",
              "                                                    [key], {});\n",
              "        if (!dataTable) return;\n",
              "\n",
              "        const docLinkHtml = 'Like what you see? Visit the ' +\n",
              "          '<a target=\"_blank\" href=https://colab.research.google.com/notebooks/data_table.ipynb>data table notebook</a>'\n",
              "          + ' to learn more about interactive tables.';\n",
              "        element.innerHTML = '';\n",
              "        dataTable['output_type'] = 'display_data';\n",
              "        await google.colab.output.renderOutput(dataTable, element);\n",
              "        const docLink = document.createElement('div');\n",
              "        docLink.innerHTML = docLinkHtml;\n",
              "        element.appendChild(docLink);\n",
              "      }\n",
              "    </script>\n",
              "  </div>\n",
              "\n",
              "\n",
              "<div id=\"df-853f5351-beee-417f-a1ac-3df5aad1b528\">\n",
              "  <button class=\"colab-df-quickchart\" onclick=\"quickchart('df-853f5351-beee-417f-a1ac-3df5aad1b528')\"\n",
              "            title=\"Suggest charts\"\n",
              "            style=\"display:none;\">\n",
              "\n",
              "<svg xmlns=\"http://www.w3.org/2000/svg\" height=\"24px\"viewBox=\"0 0 24 24\"\n",
              "     width=\"24px\">\n",
              "    <g>\n",
              "        <path d=\"M19 3H5c-1.1 0-2 .9-2 2v14c0 1.1.9 2 2 2h14c1.1 0 2-.9 2-2V5c0-1.1-.9-2-2-2zM9 17H7v-7h2v7zm4 0h-2V7h2v10zm4 0h-2v-4h2v4z\"/>\n",
              "    </g>\n",
              "</svg>\n",
              "  </button>\n",
              "\n",
              "<style>\n",
              "  .colab-df-quickchart {\n",
              "      --bg-color: #E8F0FE;\n",
              "      --fill-color: #1967D2;\n",
              "      --hover-bg-color: #E2EBFA;\n",
              "      --hover-fill-color: #174EA6;\n",
              "      --disabled-fill-color: #AAA;\n",
              "      --disabled-bg-color: #DDD;\n",
              "  }\n",
              "\n",
              "  [theme=dark] .colab-df-quickchart {\n",
              "      --bg-color: #3B4455;\n",
              "      --fill-color: #D2E3FC;\n",
              "      --hover-bg-color: #434B5C;\n",
              "      --hover-fill-color: #FFFFFF;\n",
              "      --disabled-bg-color: #3B4455;\n",
              "      --disabled-fill-color: #666;\n",
              "  }\n",
              "\n",
              "  .colab-df-quickchart {\n",
              "    background-color: var(--bg-color);\n",
              "    border: none;\n",
              "    border-radius: 50%;\n",
              "    cursor: pointer;\n",
              "    display: none;\n",
              "    fill: var(--fill-color);\n",
              "    height: 32px;\n",
              "    padding: 0;\n",
              "    width: 32px;\n",
              "  }\n",
              "\n",
              "  .colab-df-quickchart:hover {\n",
              "    background-color: var(--hover-bg-color);\n",
              "    box-shadow: 0 1px 2px rgba(60, 64, 67, 0.3), 0 1px 3px 1px rgba(60, 64, 67, 0.15);\n",
              "    fill: var(--button-hover-fill-color);\n",
              "  }\n",
              "\n",
              "  .colab-df-quickchart-complete:disabled,\n",
              "  .colab-df-quickchart-complete:disabled:hover {\n",
              "    background-color: var(--disabled-bg-color);\n",
              "    fill: var(--disabled-fill-color);\n",
              "    box-shadow: none;\n",
              "  }\n",
              "\n",
              "  .colab-df-spinner {\n",
              "    border: 2px solid var(--fill-color);\n",
              "    border-color: transparent;\n",
              "    border-bottom-color: var(--fill-color);\n",
              "    animation:\n",
              "      spin 1s steps(1) infinite;\n",
              "  }\n",
              "\n",
              "  @keyframes spin {\n",
              "    0% {\n",
              "      border-color: transparent;\n",
              "      border-bottom-color: var(--fill-color);\n",
              "      border-left-color: var(--fill-color);\n",
              "    }\n",
              "    20% {\n",
              "      border-color: transparent;\n",
              "      border-left-color: var(--fill-color);\n",
              "      border-top-color: var(--fill-color);\n",
              "    }\n",
              "    30% {\n",
              "      border-color: transparent;\n",
              "      border-left-color: var(--fill-color);\n",
              "      border-top-color: var(--fill-color);\n",
              "      border-right-color: var(--fill-color);\n",
              "    }\n",
              "    40% {\n",
              "      border-color: transparent;\n",
              "      border-right-color: var(--fill-color);\n",
              "      border-top-color: var(--fill-color);\n",
              "    }\n",
              "    60% {\n",
              "      border-color: transparent;\n",
              "      border-right-color: var(--fill-color);\n",
              "    }\n",
              "    80% {\n",
              "      border-color: transparent;\n",
              "      border-right-color: var(--fill-color);\n",
              "      border-bottom-color: var(--fill-color);\n",
              "    }\n",
              "    90% {\n",
              "      border-color: transparent;\n",
              "      border-bottom-color: var(--fill-color);\n",
              "    }\n",
              "  }\n",
              "</style>\n",
              "\n",
              "  <script>\n",
              "    async function quickchart(key) {\n",
              "      const quickchartButtonEl =\n",
              "        document.querySelector('#' + key + ' button');\n",
              "      quickchartButtonEl.disabled = true;  // To prevent multiple clicks.\n",
              "      quickchartButtonEl.classList.add('colab-df-spinner');\n",
              "      try {\n",
              "        const charts = await google.colab.kernel.invokeFunction(\n",
              "            'suggestCharts', [key], {});\n",
              "      } catch (error) {\n",
              "        console.error('Error during call to suggestCharts:', error);\n",
              "      }\n",
              "      quickchartButtonEl.classList.remove('colab-df-spinner');\n",
              "      quickchartButtonEl.classList.add('colab-df-quickchart-complete');\n",
              "    }\n",
              "    (() => {\n",
              "      let quickchartButtonEl =\n",
              "        document.querySelector('#df-853f5351-beee-417f-a1ac-3df5aad1b528 button');\n",
              "      quickchartButtonEl.style.display =\n",
              "        google.colab.kernel.accessAllowed ? 'block' : 'none';\n",
              "    })();\n",
              "  </script>\n",
              "</div>\n",
              "    </div>\n",
              "  </div>\n"
            ],
            "application/vnd.google.colaboratory.intrinsic+json": {
              "type": "dataframe",
              "variable_name": "df",
              "summary": "{\n  \"name\": \"df\",\n  \"rows\": 53943,\n  \"fields\": [\n    {\n      \"column\": \"carat\",\n      \"properties\": {\n        \"dtype\": \"number\",\n        \"std\": 0.4739985530964582,\n        \"min\": 0.2,\n        \"max\": 5.01,\n        \"num_unique_values\": 273,\n        \"samples\": [\n          0.77,\n          1.58,\n          0.65\n        ],\n        \"semantic_type\": \"\",\n        \"description\": \"\"\n      }\n    },\n    {\n      \"column\": \"cut\",\n      \"properties\": {\n        \"dtype\": \"category\",\n        \"num_unique_values\": 5,\n        \"samples\": [\n          \"Premium\",\n          \"Fair\",\n          \"Good\"\n        ],\n        \"semantic_type\": \"\",\n        \"description\": \"\"\n      }\n    },\n    {\n      \"column\": \"color\",\n      \"properties\": {\n        \"dtype\": \"category\",\n        \"num_unique_values\": 7,\n        \"samples\": [\n          \"E\",\n          \"I\",\n          \"G\"\n        ],\n        \"semantic_type\": \"\",\n        \"description\": \"\"\n      }\n    },\n    {\n      \"column\": \"clarity\",\n      \"properties\": {\n        \"dtype\": \"category\",\n        \"num_unique_values\": 8,\n        \"samples\": [\n          \"SI1\",\n          \"VVS1\",\n          \"SI2\"\n        ],\n        \"semantic_type\": \"\",\n        \"description\": \"\"\n      }\n    },\n    {\n      \"column\": \"depth\",\n      \"properties\": {\n        \"dtype\": \"number\",\n        \"std\": 1.4326262660399998,\n        \"min\": 43.0,\n        \"max\": 79.0,\n        \"num_unique_values\": 184,\n        \"samples\": [\n          61.0,\n          62.9,\n          70.2\n        ],\n        \"semantic_type\": \"\",\n        \"description\": \"\"\n      }\n    },\n    {\n      \"column\": \"table\",\n      \"properties\": {\n        \"dtype\": \"number\",\n        \"std\": 2.234548953274335,\n        \"min\": 43.0,\n        \"max\": 95.0,\n        \"num_unique_values\": 127,\n        \"samples\": [\n          54.8,\n          61.5,\n          57.6\n        ],\n        \"semantic_type\": \"\",\n        \"description\": \"\"\n      }\n    },\n    {\n      \"column\": \"price\",\n      \"properties\": {\n        \"dtype\": \"number\",\n        \"std\": 3989,\n        \"min\": 326,\n        \"max\": 18823,\n        \"num_unique_values\": 11602,\n        \"samples\": [\n          16368,\n          895,\n          748\n        ],\n        \"semantic_type\": \"\",\n        \"description\": \"\"\n      }\n    },\n    {\n      \"column\": \"x\",\n      \"properties\": {\n        \"dtype\": \"number\",\n        \"std\": 1.1217295857901242,\n        \"min\": 0.0,\n        \"max\": 10.74,\n        \"num_unique_values\": 554,\n        \"samples\": [\n          5.88,\n          5.69,\n          4.61\n        ],\n        \"semantic_type\": \"\",\n        \"description\": \"\"\n      }\n    },\n    {\n      \"column\": \"y\",\n      \"properties\": {\n        \"dtype\": \"number\",\n        \"std\": 1.14210291928209,\n        \"min\": 0.0,\n        \"max\": 58.9,\n        \"num_unique_values\": 552,\n        \"samples\": [\n          5.33,\n          5.61,\n          5.25\n        ],\n        \"semantic_type\": \"\",\n        \"description\": \"\"\n      }\n    },\n    {\n      \"column\": \"z\",\n      \"properties\": {\n        \"dtype\": \"number\",\n        \"std\": 0.7056794713896667,\n        \"min\": 0.0,\n        \"max\": 31.8,\n        \"num_unique_values\": 375,\n        \"samples\": [\n          3.36,\n          2.45,\n          2.7\n        ],\n        \"semantic_type\": \"\",\n        \"description\": \"\"\n      }\n    }\n  ]\n}"
            }
          },
          "metadata": {},
          "execution_count": 40
        }
      ]
    },
    {
      "cell_type": "code",
      "source": [
        "df['price'].describe()"
      ],
      "metadata": {
        "colab": {
          "base_uri": "https://localhost:8080/"
        },
        "id": "yURhgHo0dbS0",
        "outputId": "ded94aec-54c9-4451-ae17-882e2931b787"
      },
      "execution_count": 41,
      "outputs": [
        {
          "output_type": "execute_result",
          "data": {
            "text/plain": [
              "count    53943.000000\n",
              "mean      3932.734294\n",
              "std       3989.338447\n",
              "min        326.000000\n",
              "25%        950.000000\n",
              "50%       2401.000000\n",
              "75%       5324.000000\n",
              "max      18823.000000\n",
              "Name: price, dtype: float64"
            ]
          },
          "metadata": {},
          "execution_count": 41
        }
      ]
    },
    {
      "cell_type": "markdown",
      "source": [
        "# Побудова моделі"
      ],
      "metadata": {
        "id": "NB6BuXSexmeI"
      }
    },
    {
      "cell_type": "markdown",
      "source": [
        "## Поділ даних"
      ],
      "metadata": {
        "id": "e01-farcJt8H"
      }
    },
    {
      "cell_type": "code",
      "source": [
        "y = df['price']\n",
        "X = df.drop(columns='price')"
      ],
      "metadata": {
        "id": "wvxyXPkQFdKy"
      },
      "execution_count": 42,
      "outputs": []
    },
    {
      "cell_type": "markdown",
      "source": [
        "## train, val та test data\n",
        "\n",
        "Під час пошуку гіперпараметрів за допомогою Optuna використання трьох наборів даних - train, val та test -\n",
        "є **необхідною умовою** для отримання **точних та надійних результатів**. Ось чому:\n",
        "\n",
        "**1. Train data:**\n",
        "\n",
        "* Використовується для **навчання моделі**.\n",
        "* Містить дані, на яких модель буде **вивчати закономірності**.\n",
        "* **Не повинне використовуватися** для оцінки продуктивності моделі\n",
        "    під час пошуку гіперпараметрів, адже модель\n",
        "    може просто запам'ятати\n",
        "    ці дані,\n",
        "    що призведе до перенавчання.\n",
        "\n",
        "**2. Val data:**\n",
        "\n",
        "* Використовується для **оцінки продуктивності моделі**\n",
        "    під час пошуку гіперпараметрів.\n",
        "* **Не повинне використовуватися** для\n",
        "    навчання моделі.\n",
        "* Дозволяє **моделювати процес**\n",
        "    узагальнення на нові дані.\n",
        "* Забезпечує **більш об'єктивну оцінку**\n",
        "    продуктивності моделі,\n",
        "    ніж оцінка на тренувальному наборі.\n",
        "\n",
        "**3. Test data:**\n",
        "\n",
        "* Використовується для **оцінки остаточної продуктивності моделі**\n",
        "    після вибору найкращих гіперпараметрів.\n",
        "* **Не використовується** ні для навчання, ні\n",
        "    для налаштування гіперпараметрів.\n",
        "* Забезпечує **найточнішу оцінку**\n",
        "    продуктивності моделі\n",
        "    на **незалежних** даних.\n",
        "\n",
        "**Важливо:**\n",
        "\n",
        "* Розмір та розподіл даних\n",
        "    в **train, val та test**\n",
        "    наборах\n",
        "    **повинні бути подібними**.\n",
        "* **Val data**\n",
        "    **не повинне**\n",
        "    **перетинатися**\n",
        "    з **test data**.\n",
        "\n",
        "**Використання трьох наборів даних**\n",
        "дозволяє Optuna:\n",
        "\n",
        "* **Уникнути перенавчання**\n",
        "    та отримати\n",
        "    **точні оцінки**\n",
        "    продуктивності моделі.\n",
        "* **Об'єктивно порівняти**\n",
        "    різні набори гіперпараметрів.\n",
        "* **Вибрати найкращі гіперпараметри**,\n",
        "    які\n",
        "    **узагальнюються**\n",
        "    на нові дані.\n",
        "\n",
        "\n",
        "\n"
      ],
      "metadata": {
        "id": "z-YAdiz0nUvv"
      }
    },
    {
      "cell_type": "code",
      "source": [
        "from sklearn.model_selection import train_test_split\n",
        "\n",
        "X_train, X_test, y_train, y_test = train_test_split(X, y,\n",
        "                                                    train_size=0.8,\n",
        "                                                    random_state=42)\n",
        "\n",
        "X_train, X_val, y_train, y_val = train_test_split(X_train, y_train,\n",
        "                                                  train_size=0.6/0.8,\n",
        "                                                  random_state=42)\n",
        "\n",
        "print(f'Train: {X_train.shape[0]} samples \\t {round(X_train.shape[0] / X.shape[0] * 100)}%')\n",
        "print(f'Test:  {X_test.shape[0]} samples \\t {round(X_test.shape[0] / X.shape[0] * 100)}%')\n",
        "print(f'Val:   {X_val.shape[0]} samples \\t {round(X_val.shape[0] / X.shape[0] * 100)}%')"
      ],
      "metadata": {
        "id": "f9-U-77kFlcE",
        "colab": {
          "base_uri": "https://localhost:8080/"
        },
        "outputId": "0f0eb780-9e3c-46af-db0f-f70c762235cd"
      },
      "execution_count": 43,
      "outputs": [
        {
          "output_type": "stream",
          "name": "stdout",
          "text": [
            "Train: 32365 samples \t 60%\n",
            "Test:  10789 samples \t 20%\n",
            "Val:   10789 samples \t 20%\n"
          ]
        }
      ]
    },
    {
      "cell_type": "markdown",
      "source": [
        "## Створення Pipeline"
      ],
      "metadata": {
        "id": "ZJJNqVJNJwcr"
      }
    },
    {
      "cell_type": "code",
      "source": [
        "from sklearn.compose import ColumnTransformer\n",
        "from sklearn.pipeline import Pipeline\n",
        "from sklearn.impute import SimpleImputer\n",
        "from sklearn.preprocessing import OneHotEncoder"
      ],
      "metadata": {
        "id": "rRVms94DF8rK"
      },
      "execution_count": 44,
      "outputs": []
    },
    {
      "cell_type": "code",
      "source": [
        "num_columns = X.select_dtypes(include=\"number\").columns\n",
        "cat_columns = X.select_dtypes(include=\"object\").columns\n",
        "\n",
        "# числові ознаки\n",
        "num_transformer = Pipeline(\n",
        "    steps=[(\"imputer\", SimpleImputer(strategy=\"median\"))]\n",
        "    )\n",
        "\n",
        "# категоріальні ознаки\n",
        "cat_transformer = Pipeline(\n",
        "    steps=[(\"imputer\", SimpleImputer(strategy=\"most_frequent\")),\n",
        "           (\"encoder\", OneHotEncoder(sparse_output=False))])\n",
        "\n",
        "# об'єднання двох pipeline\n",
        "preprocessor = ColumnTransformer(\n",
        "    transformers=[\n",
        "        (\"num\", num_transformer, num_columns),\n",
        "        (\"cat\", cat_transformer, cat_columns),\n",
        "    ]\n",
        ")\n",
        "\n",
        "preprocessor.set_output(transform='pandas')\n",
        "preprocessor"
      ],
      "metadata": {
        "colab": {
          "base_uri": "https://localhost:8080/",
          "height": 151
        },
        "id": "b7evHR4DFoTb",
        "outputId": "2003c731-d9b1-48d3-e282-3d1b16f2a7ab"
      },
      "execution_count": 45,
      "outputs": [
        {
          "output_type": "execute_result",
          "data": {
            "text/plain": [
              "ColumnTransformer(transformers=[('num',\n",
              "                                 Pipeline(steps=[('imputer',\n",
              "                                                  SimpleImputer(strategy='median'))]),\n",
              "                                 Index(['carat', 'depth', 'table', 'x', 'y', 'z'], dtype='object')),\n",
              "                                ('cat',\n",
              "                                 Pipeline(steps=[('imputer',\n",
              "                                                  SimpleImputer(strategy='most_frequent')),\n",
              "                                                 ('encoder',\n",
              "                                                  OneHotEncoder(sparse_output=False))]),\n",
              "                                 Index(['cut', 'color', 'clarity'], dtype='object'))])"
            ],
            "text/html": [
              "<style>#sk-container-id-3 {color: black;background-color: white;}#sk-container-id-3 pre{padding: 0;}#sk-container-id-3 div.sk-toggleable {background-color: white;}#sk-container-id-3 label.sk-toggleable__label {cursor: pointer;display: block;width: 100%;margin-bottom: 0;padding: 0.3em;box-sizing: border-box;text-align: center;}#sk-container-id-3 label.sk-toggleable__label-arrow:before {content: \"▸\";float: left;margin-right: 0.25em;color: #696969;}#sk-container-id-3 label.sk-toggleable__label-arrow:hover:before {color: black;}#sk-container-id-3 div.sk-estimator:hover label.sk-toggleable__label-arrow:before {color: black;}#sk-container-id-3 div.sk-toggleable__content {max-height: 0;max-width: 0;overflow: hidden;text-align: left;background-color: #f0f8ff;}#sk-container-id-3 div.sk-toggleable__content pre {margin: 0.2em;color: black;border-radius: 0.25em;background-color: #f0f8ff;}#sk-container-id-3 input.sk-toggleable__control:checked~div.sk-toggleable__content {max-height: 200px;max-width: 100%;overflow: auto;}#sk-container-id-3 input.sk-toggleable__control:checked~label.sk-toggleable__label-arrow:before {content: \"▾\";}#sk-container-id-3 div.sk-estimator input.sk-toggleable__control:checked~label.sk-toggleable__label {background-color: #d4ebff;}#sk-container-id-3 div.sk-label input.sk-toggleable__control:checked~label.sk-toggleable__label {background-color: #d4ebff;}#sk-container-id-3 input.sk-hidden--visually {border: 0;clip: rect(1px 1px 1px 1px);clip: rect(1px, 1px, 1px, 1px);height: 1px;margin: -1px;overflow: hidden;padding: 0;position: absolute;width: 1px;}#sk-container-id-3 div.sk-estimator {font-family: monospace;background-color: #f0f8ff;border: 1px dotted black;border-radius: 0.25em;box-sizing: border-box;margin-bottom: 0.5em;}#sk-container-id-3 div.sk-estimator:hover {background-color: #d4ebff;}#sk-container-id-3 div.sk-parallel-item::after {content: \"\";width: 100%;border-bottom: 1px solid gray;flex-grow: 1;}#sk-container-id-3 div.sk-label:hover label.sk-toggleable__label {background-color: #d4ebff;}#sk-container-id-3 div.sk-serial::before {content: \"\";position: absolute;border-left: 1px solid gray;box-sizing: border-box;top: 0;bottom: 0;left: 50%;z-index: 0;}#sk-container-id-3 div.sk-serial {display: flex;flex-direction: column;align-items: center;background-color: white;padding-right: 0.2em;padding-left: 0.2em;position: relative;}#sk-container-id-3 div.sk-item {position: relative;z-index: 1;}#sk-container-id-3 div.sk-parallel {display: flex;align-items: stretch;justify-content: center;background-color: white;position: relative;}#sk-container-id-3 div.sk-item::before, #sk-container-id-3 div.sk-parallel-item::before {content: \"\";position: absolute;border-left: 1px solid gray;box-sizing: border-box;top: 0;bottom: 0;left: 50%;z-index: -1;}#sk-container-id-3 div.sk-parallel-item {display: flex;flex-direction: column;z-index: 1;position: relative;background-color: white;}#sk-container-id-3 div.sk-parallel-item:first-child::after {align-self: flex-end;width: 50%;}#sk-container-id-3 div.sk-parallel-item:last-child::after {align-self: flex-start;width: 50%;}#sk-container-id-3 div.sk-parallel-item:only-child::after {width: 0;}#sk-container-id-3 div.sk-dashed-wrapped {border: 1px dashed gray;margin: 0 0.4em 0.5em 0.4em;box-sizing: border-box;padding-bottom: 0.4em;background-color: white;}#sk-container-id-3 div.sk-label label {font-family: monospace;font-weight: bold;display: inline-block;line-height: 1.2em;}#sk-container-id-3 div.sk-label-container {text-align: center;}#sk-container-id-3 div.sk-container {/* jupyter's `normalize.less` sets `[hidden] { display: none; }` but bootstrap.min.css set `[hidden] { display: none !important; }` so we also need the `!important` here to be able to override the default hidden behavior on the sphinx rendered scikit-learn.org. See: https://github.com/scikit-learn/scikit-learn/issues/21755 */display: inline-block !important;position: relative;}#sk-container-id-3 div.sk-text-repr-fallback {display: none;}</style><div id=\"sk-container-id-3\" class=\"sk-top-container\"><div class=\"sk-text-repr-fallback\"><pre>ColumnTransformer(transformers=[(&#x27;num&#x27;,\n",
              "                                 Pipeline(steps=[(&#x27;imputer&#x27;,\n",
              "                                                  SimpleImputer(strategy=&#x27;median&#x27;))]),\n",
              "                                 Index([&#x27;carat&#x27;, &#x27;depth&#x27;, &#x27;table&#x27;, &#x27;x&#x27;, &#x27;y&#x27;, &#x27;z&#x27;], dtype=&#x27;object&#x27;)),\n",
              "                                (&#x27;cat&#x27;,\n",
              "                                 Pipeline(steps=[(&#x27;imputer&#x27;,\n",
              "                                                  SimpleImputer(strategy=&#x27;most_frequent&#x27;)),\n",
              "                                                 (&#x27;encoder&#x27;,\n",
              "                                                  OneHotEncoder(sparse_output=False))]),\n",
              "                                 Index([&#x27;cut&#x27;, &#x27;color&#x27;, &#x27;clarity&#x27;], dtype=&#x27;object&#x27;))])</pre><b>In a Jupyter environment, please rerun this cell to show the HTML representation or trust the notebook. <br />On GitHub, the HTML representation is unable to render, please try loading this page with nbviewer.org.</b></div><div class=\"sk-container\" hidden><div class=\"sk-item sk-dashed-wrapped\"><div class=\"sk-label-container\"><div class=\"sk-label sk-toggleable\"><input class=\"sk-toggleable__control sk-hidden--visually\" id=\"sk-estimator-id-8\" type=\"checkbox\" ><label for=\"sk-estimator-id-8\" class=\"sk-toggleable__label sk-toggleable__label-arrow\">ColumnTransformer</label><div class=\"sk-toggleable__content\"><pre>ColumnTransformer(transformers=[(&#x27;num&#x27;,\n",
              "                                 Pipeline(steps=[(&#x27;imputer&#x27;,\n",
              "                                                  SimpleImputer(strategy=&#x27;median&#x27;))]),\n",
              "                                 Index([&#x27;carat&#x27;, &#x27;depth&#x27;, &#x27;table&#x27;, &#x27;x&#x27;, &#x27;y&#x27;, &#x27;z&#x27;], dtype=&#x27;object&#x27;)),\n",
              "                                (&#x27;cat&#x27;,\n",
              "                                 Pipeline(steps=[(&#x27;imputer&#x27;,\n",
              "                                                  SimpleImputer(strategy=&#x27;most_frequent&#x27;)),\n",
              "                                                 (&#x27;encoder&#x27;,\n",
              "                                                  OneHotEncoder(sparse_output=False))]),\n",
              "                                 Index([&#x27;cut&#x27;, &#x27;color&#x27;, &#x27;clarity&#x27;], dtype=&#x27;object&#x27;))])</pre></div></div></div><div class=\"sk-parallel\"><div class=\"sk-parallel-item\"><div class=\"sk-item\"><div class=\"sk-label-container\"><div class=\"sk-label sk-toggleable\"><input class=\"sk-toggleable__control sk-hidden--visually\" id=\"sk-estimator-id-9\" type=\"checkbox\" ><label for=\"sk-estimator-id-9\" class=\"sk-toggleable__label sk-toggleable__label-arrow\">num</label><div class=\"sk-toggleable__content\"><pre>Index([&#x27;carat&#x27;, &#x27;depth&#x27;, &#x27;table&#x27;, &#x27;x&#x27;, &#x27;y&#x27;, &#x27;z&#x27;], dtype=&#x27;object&#x27;)</pre></div></div></div><div class=\"sk-serial\"><div class=\"sk-item\"><div class=\"sk-serial\"><div class=\"sk-item\"><div class=\"sk-estimator sk-toggleable\"><input class=\"sk-toggleable__control sk-hidden--visually\" id=\"sk-estimator-id-10\" type=\"checkbox\" ><label for=\"sk-estimator-id-10\" class=\"sk-toggleable__label sk-toggleable__label-arrow\">SimpleImputer</label><div class=\"sk-toggleable__content\"><pre>SimpleImputer(strategy=&#x27;median&#x27;)</pre></div></div></div></div></div></div></div></div><div class=\"sk-parallel-item\"><div class=\"sk-item\"><div class=\"sk-label-container\"><div class=\"sk-label sk-toggleable\"><input class=\"sk-toggleable__control sk-hidden--visually\" id=\"sk-estimator-id-11\" type=\"checkbox\" ><label for=\"sk-estimator-id-11\" class=\"sk-toggleable__label sk-toggleable__label-arrow\">cat</label><div class=\"sk-toggleable__content\"><pre>Index([&#x27;cut&#x27;, &#x27;color&#x27;, &#x27;clarity&#x27;], dtype=&#x27;object&#x27;)</pre></div></div></div><div class=\"sk-serial\"><div class=\"sk-item\"><div class=\"sk-serial\"><div class=\"sk-item\"><div class=\"sk-estimator sk-toggleable\"><input class=\"sk-toggleable__control sk-hidden--visually\" id=\"sk-estimator-id-12\" type=\"checkbox\" ><label for=\"sk-estimator-id-12\" class=\"sk-toggleable__label sk-toggleable__label-arrow\">SimpleImputer</label><div class=\"sk-toggleable__content\"><pre>SimpleImputer(strategy=&#x27;most_frequent&#x27;)</pre></div></div></div><div class=\"sk-item\"><div class=\"sk-estimator sk-toggleable\"><input class=\"sk-toggleable__control sk-hidden--visually\" id=\"sk-estimator-id-13\" type=\"checkbox\" ><label for=\"sk-estimator-id-13\" class=\"sk-toggleable__label sk-toggleable__label-arrow\">OneHotEncoder</label><div class=\"sk-toggleable__content\"><pre>OneHotEncoder(sparse_output=False)</pre></div></div></div></div></div></div></div></div></div></div></div></div>"
            ]
          },
          "metadata": {},
          "execution_count": 45
        }
      ]
    },
    {
      "cell_type": "markdown",
      "source": [
        "# Попередня обробка даних"
      ],
      "metadata": {
        "id": "9xbH4kIHA-WF"
      }
    },
    {
      "cell_type": "markdown",
      "source": [
        "Оскільки ми користуємось новою бібліотекою, то нам потрібно поередньо натренувати `preprocessor` та обробити дані"
      ],
      "metadata": {
        "id": "wiG5K20dNNnz"
      }
    },
    {
      "cell_type": "code",
      "source": [
        "# навчання препроцесора\n",
        "X_train = preprocessor.fit_transform(X_train)\n",
        "\n",
        "# обробка даних\n",
        "X_val = preprocessor.transform(X_val)\n",
        "X_test = preprocessor.transform(X_test)"
      ],
      "metadata": {
        "id": "vjESfdDEBC4t"
      },
      "execution_count": 46,
      "outputs": []
    },
    {
      "cell_type": "markdown",
      "source": [
        "# Optuna"
      ],
      "metadata": {
        "id": "SKWYeerpkRke"
      }
    },
    {
      "cell_type": "markdown",
      "source": [
        "## Функція objective\n",
        "\n",
        "Функція `objective` - це ключовий компонент вашого коду, де ви:\n",
        "\n",
        "1. **Визначаєте модель LightGBMRegressor:**\n",
        "    - Створюєте екземпляр `LightGBMRegressor` з бажаними параметрами.\n",
        "2. **Навчаєте модель на тренувальному наборі даних:**\n",
        "    - Використовуєте метод `fit` для навчання моделі на ваших тренувальних даних.\n",
        "3. **Оцінюєте модель на тестовому наборі даних:**\n",
        "    - Використовуєте метод `predict` для отримання прогнозів на тестовому наборі.\n",
        "    - Рахуєте метрику оцінки,\n",
        "        наприклад, RMSE (Root Mean Squared Error) або MAE (Mean Absolute Error),\n",
        "        щоб оцінити точність моделі.\n",
        "4. **Повертаєте значення метрики:**\n",
        "    - Функція `objective` повинна повернути значення метрики\n",
        "        (чим менше, тим краще).\n",
        "\n",
        "\n"
      ],
      "metadata": {
        "id": "m7N5u-unjwvo"
      }
    },
    {
      "cell_type": "code",
      "source": [
        "from sklearn import metrics\n",
        "\n",
        "\n",
        "def objective(trial):\n",
        "  \"\"\"\n",
        "  Функція objective для Optuna, яка навчає модель LightGBMRegressor\n",
        "  на тренувальному наборі даних та оцінює її на тестовому наборі.\n",
        "\n",
        "  Args:\n",
        "      trial (optuna.Trial): Об'єкт Optuna, що представляє один набір гіперпараметрів.\n",
        "\n",
        "  Returns:\n",
        "      float: Значення метрики оцінки (R2).\n",
        "  \"\"\"\n",
        "\n",
        "  # 1. Визначення гіперпараметрів:\n",
        "\n",
        "  params = {\n",
        "        'objective': 'mse',\n",
        "        'n_estimators': 30,\n",
        "        'verbose': -1,\n",
        "        'boosting_type': trial.suggest_categorical('boosting_type', ['gbdt', 'dart']),\n",
        "        'lambda_l1': trial.suggest_float('lambda_l1', 1e-8, 10.0, log=True),\n",
        "        'lambda_l2': trial.suggest_float('lambda_l2', 1e-8, 10.0, log=True),\n",
        "        'num_leaves': trial.suggest_int('num_leaves', 2, 256),\n",
        "        'feature_fraction': trial.suggest_float('feature_fraction', 0.4, 1.0),\n",
        "        'bagging_fraction': trial.suggest_float('bagging_fraction', 0.4, 1.0),\n",
        "        'bagging_freq': trial.suggest_int('bagging_freq', 1, 7),\n",
        "        'min_child_samples': trial.suggest_int('min_child_samples', 5, 100),\n",
        "    }\n",
        "\n",
        "  # 2. Створення моделі LightGBMRegressor:\n",
        "\n",
        "  model = lgb.LGBMRegressor(**params)\n",
        "\n",
        "  # 3. Навчання моделі на тренувальному наборі даних:\n",
        "\n",
        "  model.fit(X_train, y_train)\n",
        "\n",
        "  # 4. Оцінка моделі на тестовому наборі даних:\n",
        "\n",
        "  y_pred = model.predict(X_val)\n",
        "  r2 = metrics.r2_score(y_val, y_pred)\n",
        "\n",
        "  # 5. Повернення значення метрики:\n",
        "  return r2"
      ],
      "metadata": {
        "id": "W5DFw1l0kh8T"
      },
      "execution_count": 133,
      "outputs": []
    },
    {
      "cell_type": "markdown",
      "source": [
        "## Об'єкт trial\n",
        "\n",
        "**Trial** - це об'єкт, що використовується Optuna для представлення\n",
        "одного набору гіперпараметрів. Він надає доступ до методів для\n",
        "пропозиції значень гіперпараметрів:\n",
        "\n",
        "* **suggest_float(name, low, high):**\n",
        "    Випадково генерує значення float в діапазоні `[low, high]` для гіперпараметра `name`.\n",
        "* **suggest_int(name, low, high):**\n",
        "    Випадково генерує значення integer в діапазоні `[low, high]` для гіперпараметра `name`.\n",
        "* **suggest_categorical(name, categories):**\n",
        "    Випадково вибирає категорію з списку `categories` для гіперпараметра `name`.\n",
        "\n",
        "\n",
        "\n"
      ],
      "metadata": {
        "id": "I7CPKMCVkaQf"
      }
    },
    {
      "cell_type": "markdown",
      "source": [
        "### Параметр log:\n",
        "\n",
        "* `log` - це параметр, який використовується\n",
        "    з `suggest_float` для\n",
        "    визначення того, чи використовувати логарифмічну шкалу\n",
        "    при генеруванні значень.\n",
        "* **True:**\n",
        "    * Значення генеруються в логарифмічній шкалі\n",
        "      в діапазоні `[math.exp(low), math.exp(high)]`.\n",
        "    * Це може бути корисно для\n",
        "      гіперпараметрів, які мають\n",
        "      великий діапазон значень\n",
        "      або експоненційну залежність.\n",
        "* **False:**\n",
        "    * Значення генеруються\n",
        "      рівномірно в діапазоні `[low, high]`."
      ],
      "metadata": {
        "id": "3_WKhIefm4Jm"
      }
    },
    {
      "cell_type": "markdown",
      "source": [
        "## Запуск оптимізації\n",
        "\n",
        "Після визначення функції `objective` ви можете запустити оптимізацію\n",
        "за допомогою `study`:\n",
        "\n",
        "\n",
        "* `study` - це об'єкт, який зберігає інформацію про\n",
        "    проведені випробування та знайдені гіперпараметри.\n",
        "* `create_study(direction)` створює нове дослідження\n",
        "    з заданим напрямком оптимізації (`minimize` або `maximize`).\n",
        "* `optimize(objective, n_trials)` запускає оптимізацію\n",
        "    за допомогою функції `objective` протягом `n_trials`\n",
        "    випробувань."
      ],
      "metadata": {
        "id": "CUmNhi8YkcP-"
      }
    },
    {
      "cell_type": "code",
      "source": [
        "#optuna.logging.set_verbosity(optuna.logging.WARNING) # щоб не виводило інформацію про trial\n",
        "\n",
        "study = optuna.create_study(direction='maximize')\n",
        "study.optimize(objective, n_trials=10)"
      ],
      "metadata": {
        "id": "cLN92HKVkQjc",
        "outputId": "77a64b97-98db-45bc-9590-94952ef8b9b3",
        "colab": {
          "base_uri": "https://localhost:8080/"
        }
      },
      "execution_count": 134,
      "outputs": [
        {
          "output_type": "stream",
          "name": "stderr",
          "text": [
            "[I 2024-07-11 18:50:30,043] A new study created in memory with name: no-name-964f58bc-7507-4daa-b34e-63e829bda353\n",
            "[I 2024-07-11 18:50:30,652] Trial 0 finished with value: 0.9748693697799978 and parameters: {'boosting_type': 'dart', 'lambda_l1': 1.4825925493046013, 'lambda_l2': 0.03695281237683543, 'num_leaves': 184, 'feature_fraction': 0.8773195836660315, 'bagging_fraction': 0.8719648173105772, 'bagging_freq': 3, 'min_child_samples': 31}. Best is trial 0 with value: 0.9748693697799978.\n",
            "[I 2024-07-11 18:50:30,941] Trial 1 finished with value: 0.9617457821206415 and parameters: {'boosting_type': 'gbdt', 'lambda_l1': 0.41011983486847514, 'lambda_l2': 1.1663478749172203e-08, 'num_leaves': 30, 'feature_fraction': 0.4658753131524789, 'bagging_fraction': 0.7623993071322792, 'bagging_freq': 7, 'min_child_samples': 95}. Best is trial 0 with value: 0.9748693697799978.\n",
            "[I 2024-07-11 18:50:31,244] Trial 2 finished with value: 0.9739832918578013 and parameters: {'boosting_type': 'gbdt', 'lambda_l1': 0.12127799498996306, 'lambda_l2': 0.22205048461281932, 'num_leaves': 37, 'feature_fraction': 0.9480684826660385, 'bagging_fraction': 0.8421542450550005, 'bagging_freq': 6, 'min_child_samples': 40}. Best is trial 0 with value: 0.9748693697799978.\n",
            "[I 2024-07-11 18:50:31,411] Trial 3 finished with value: 0.8855539424332709 and parameters: {'boosting_type': 'gbdt', 'lambda_l1': 1.879340723339084, 'lambda_l2': 0.10429890918478556, 'num_leaves': 3, 'feature_fraction': 0.9576037779109703, 'bagging_fraction': 0.4359563035807459, 'bagging_freq': 2, 'min_child_samples': 12}. Best is trial 0 with value: 0.9748693697799978.\n",
            "[I 2024-07-11 18:50:31,660] Trial 4 finished with value: 0.9525363952924577 and parameters: {'boosting_type': 'dart', 'lambda_l1': 0.027082810884359886, 'lambda_l2': 1.5549818392554915e-07, 'num_leaves': 16, 'feature_fraction': 0.9837191331669384, 'bagging_fraction': 0.9991401482737509, 'bagging_freq': 1, 'min_child_samples': 90}. Best is trial 0 with value: 0.9748693697799978.\n",
            "[I 2024-07-11 18:50:32,324] Trial 5 finished with value: 0.9662124585391342 and parameters: {'boosting_type': 'dart', 'lambda_l1': 0.00013549753288171856, 'lambda_l2': 0.007076565074314121, 'num_leaves': 220, 'feature_fraction': 0.797704697692701, 'bagging_fraction': 0.6108877078454831, 'bagging_freq': 6, 'min_child_samples': 88}. Best is trial 0 with value: 0.9748693697799978.\n",
            "[I 2024-07-11 18:50:32,863] Trial 6 finished with value: 0.9716463671268839 and parameters: {'boosting_type': 'gbdt', 'lambda_l1': 5.6543162603482935e-05, 'lambda_l2': 0.0014624147627012457, 'num_leaves': 243, 'feature_fraction': 0.606204936302895, 'bagging_fraction': 0.4496373387084672, 'bagging_freq': 1, 'min_child_samples': 61}. Best is trial 0 with value: 0.9748693697799978.\n",
            "[I 2024-07-11 18:50:33,068] Trial 7 finished with value: 0.949303380426472 and parameters: {'boosting_type': 'gbdt', 'lambda_l1': 0.9522818746302589, 'lambda_l2': 3.581624238133987, 'num_leaves': 9, 'feature_fraction': 0.7541589744387867, 'bagging_fraction': 0.7875479838156448, 'bagging_freq': 5, 'min_child_samples': 94}. Best is trial 0 with value: 0.9748693697799978.\n",
            "[I 2024-07-11 18:50:33,560] Trial 8 finished with value: 0.972136428711341 and parameters: {'boosting_type': 'dart', 'lambda_l1': 1.272980186925393, 'lambda_l2': 2.0219560771852148e-07, 'num_leaves': 100, 'feature_fraction': 0.8496567646354538, 'bagging_fraction': 0.894776961642487, 'bagging_freq': 3, 'min_child_samples': 30}. Best is trial 0 with value: 0.9748693697799978.\n",
            "[I 2024-07-11 18:50:34,110] Trial 9 finished with value: 0.9801568963547465 and parameters: {'boosting_type': 'gbdt', 'lambda_l1': 6.077544605357751e-08, 'lambda_l2': 3.231993581819831e-08, 'num_leaves': 182, 'feature_fraction': 0.980947700651865, 'bagging_fraction': 0.7693151189411407, 'bagging_freq': 7, 'min_child_samples': 50}. Best is trial 9 with value: 0.9801568963547465.\n"
          ]
        }
      ]
    },
    {
      "cell_type": "markdown",
      "source": [
        "## Результат"
      ],
      "metadata": {
        "id": "Y1Z45bpKr-HL"
      }
    },
    {
      "cell_type": "code",
      "source": [
        "print(f\"найкраща метрика: {study.best_value}\")"
      ],
      "metadata": {
        "colab": {
          "base_uri": "https://localhost:8080/"
        },
        "id": "XvW7R-fUsB4T",
        "outputId": "1597e995-91c2-4dbc-bb71-b71abdf94263"
      },
      "execution_count": 135,
      "outputs": [
        {
          "output_type": "stream",
          "name": "stdout",
          "text": [
            "найкраща метрика: 0.9801568963547465\n"
          ]
        }
      ]
    },
    {
      "cell_type": "code",
      "source": [
        "best_params = study.best_params\n",
        "\n",
        "model = lgb.LGBMRegressor(**best_params,\n",
        "                          objective = 'mse',\n",
        "                          n_estimators = 100,\n",
        "                          verbose=-1)\n",
        "\n",
        "model.fit(X_train, y_train,\n",
        "          eval_set=[(X_test, y_test), (X_train, y_train)],\n",
        "          eval_metric='mae')"
      ],
      "metadata": {
        "colab": {
          "base_uri": "https://localhost:8080/",
          "height": 144
        },
        "id": "tuVAraI_sgxT",
        "outputId": "3e048e86-c0ee-44a3-c676-cc5f86450ef5"
      },
      "execution_count": 140,
      "outputs": [
        {
          "output_type": "execute_result",
          "data": {
            "text/plain": [
              "LGBMRegressor(bagging_fraction=0.7693151189411407, bagging_freq=7,\n",
              "              feature_fraction=0.980947700651865,\n",
              "              lambda_l1=6.077544605357751e-08, lambda_l2=3.231993581819831e-08,\n",
              "              min_child_samples=50, num_leaves=182, objective='mse',\n",
              "              verbose=-1)"
            ],
            "text/html": [
              "<style>#sk-container-id-17 {color: black;background-color: white;}#sk-container-id-17 pre{padding: 0;}#sk-container-id-17 div.sk-toggleable {background-color: white;}#sk-container-id-17 label.sk-toggleable__label {cursor: pointer;display: block;width: 100%;margin-bottom: 0;padding: 0.3em;box-sizing: border-box;text-align: center;}#sk-container-id-17 label.sk-toggleable__label-arrow:before {content: \"▸\";float: left;margin-right: 0.25em;color: #696969;}#sk-container-id-17 label.sk-toggleable__label-arrow:hover:before {color: black;}#sk-container-id-17 div.sk-estimator:hover label.sk-toggleable__label-arrow:before {color: black;}#sk-container-id-17 div.sk-toggleable__content {max-height: 0;max-width: 0;overflow: hidden;text-align: left;background-color: #f0f8ff;}#sk-container-id-17 div.sk-toggleable__content pre {margin: 0.2em;color: black;border-radius: 0.25em;background-color: #f0f8ff;}#sk-container-id-17 input.sk-toggleable__control:checked~div.sk-toggleable__content {max-height: 200px;max-width: 100%;overflow: auto;}#sk-container-id-17 input.sk-toggleable__control:checked~label.sk-toggleable__label-arrow:before {content: \"▾\";}#sk-container-id-17 div.sk-estimator input.sk-toggleable__control:checked~label.sk-toggleable__label {background-color: #d4ebff;}#sk-container-id-17 div.sk-label input.sk-toggleable__control:checked~label.sk-toggleable__label {background-color: #d4ebff;}#sk-container-id-17 input.sk-hidden--visually {border: 0;clip: rect(1px 1px 1px 1px);clip: rect(1px, 1px, 1px, 1px);height: 1px;margin: -1px;overflow: hidden;padding: 0;position: absolute;width: 1px;}#sk-container-id-17 div.sk-estimator {font-family: monospace;background-color: #f0f8ff;border: 1px dotted black;border-radius: 0.25em;box-sizing: border-box;margin-bottom: 0.5em;}#sk-container-id-17 div.sk-estimator:hover {background-color: #d4ebff;}#sk-container-id-17 div.sk-parallel-item::after {content: \"\";width: 100%;border-bottom: 1px solid gray;flex-grow: 1;}#sk-container-id-17 div.sk-label:hover label.sk-toggleable__label {background-color: #d4ebff;}#sk-container-id-17 div.sk-serial::before {content: \"\";position: absolute;border-left: 1px solid gray;box-sizing: border-box;top: 0;bottom: 0;left: 50%;z-index: 0;}#sk-container-id-17 div.sk-serial {display: flex;flex-direction: column;align-items: center;background-color: white;padding-right: 0.2em;padding-left: 0.2em;position: relative;}#sk-container-id-17 div.sk-item {position: relative;z-index: 1;}#sk-container-id-17 div.sk-parallel {display: flex;align-items: stretch;justify-content: center;background-color: white;position: relative;}#sk-container-id-17 div.sk-item::before, #sk-container-id-17 div.sk-parallel-item::before {content: \"\";position: absolute;border-left: 1px solid gray;box-sizing: border-box;top: 0;bottom: 0;left: 50%;z-index: -1;}#sk-container-id-17 div.sk-parallel-item {display: flex;flex-direction: column;z-index: 1;position: relative;background-color: white;}#sk-container-id-17 div.sk-parallel-item:first-child::after {align-self: flex-end;width: 50%;}#sk-container-id-17 div.sk-parallel-item:last-child::after {align-self: flex-start;width: 50%;}#sk-container-id-17 div.sk-parallel-item:only-child::after {width: 0;}#sk-container-id-17 div.sk-dashed-wrapped {border: 1px dashed gray;margin: 0 0.4em 0.5em 0.4em;box-sizing: border-box;padding-bottom: 0.4em;background-color: white;}#sk-container-id-17 div.sk-label label {font-family: monospace;font-weight: bold;display: inline-block;line-height: 1.2em;}#sk-container-id-17 div.sk-label-container {text-align: center;}#sk-container-id-17 div.sk-container {/* jupyter's `normalize.less` sets `[hidden] { display: none; }` but bootstrap.min.css set `[hidden] { display: none !important; }` so we also need the `!important` here to be able to override the default hidden behavior on the sphinx rendered scikit-learn.org. See: https://github.com/scikit-learn/scikit-learn/issues/21755 */display: inline-block !important;position: relative;}#sk-container-id-17 div.sk-text-repr-fallback {display: none;}</style><div id=\"sk-container-id-17\" class=\"sk-top-container\"><div class=\"sk-text-repr-fallback\"><pre>LGBMRegressor(bagging_fraction=0.7693151189411407, bagging_freq=7,\n",
              "              feature_fraction=0.980947700651865,\n",
              "              lambda_l1=6.077544605357751e-08, lambda_l2=3.231993581819831e-08,\n",
              "              min_child_samples=50, num_leaves=182, objective=&#x27;mse&#x27;,\n",
              "              verbose=-1)</pre><b>In a Jupyter environment, please rerun this cell to show the HTML representation or trust the notebook. <br />On GitHub, the HTML representation is unable to render, please try loading this page with nbviewer.org.</b></div><div class=\"sk-container\" hidden><div class=\"sk-item\"><div class=\"sk-estimator sk-toggleable\"><input class=\"sk-toggleable__control sk-hidden--visually\" id=\"sk-estimator-id-41\" type=\"checkbox\" checked><label for=\"sk-estimator-id-41\" class=\"sk-toggleable__label sk-toggleable__label-arrow\">LGBMRegressor</label><div class=\"sk-toggleable__content\"><pre>LGBMRegressor(bagging_fraction=0.7693151189411407, bagging_freq=7,\n",
              "              feature_fraction=0.980947700651865,\n",
              "              lambda_l1=6.077544605357751e-08, lambda_l2=3.231993581819831e-08,\n",
              "              min_child_samples=50, num_leaves=182, objective=&#x27;mse&#x27;,\n",
              "              verbose=-1)</pre></div></div></div></div></div>"
            ]
          },
          "metadata": {},
          "execution_count": 140
        }
      ]
    },
    {
      "cell_type": "markdown",
      "source": [
        "# Метрики"
      ],
      "metadata": {
        "id": "Ff-K9rMdM1bv"
      }
    },
    {
      "cell_type": "code",
      "source": [
        "def get_metrics(y_true, y_pred, name=\"model\"):\n",
        "  df = pd.DataFrame()\n",
        "\n",
        "  df.loc[\"MAE\", name] = metrics.mean_absolute_error(y_true, y_pred)\n",
        "  df.loc[\"RMSE\", name] = metrics.mean_squared_error(y_true, y_pred) ** 0.5\n",
        "  df.loc[\"R2\", name] = metrics.r2_score(y_true, y_pred)\n",
        "\n",
        "  return df.round(2)"
      ],
      "metadata": {
        "id": "lm4F2Sl2M4rD"
      },
      "execution_count": 141,
      "outputs": []
    },
    {
      "cell_type": "code",
      "source": [
        "all_metrics = pd.DataFrame()\n",
        "\n",
        "all_metrics[\"train\"] = get_metrics(y_train, model.predict(X_train))\n",
        "all_metrics[\"test\"] = get_metrics(y_test, model.predict(X_test))\n",
        "\n",
        "all_metrics"
      ],
      "metadata": {
        "colab": {
          "base_uri": "https://localhost:8080/",
          "height": 143
        },
        "id": "c_GHL5dZM-Gs",
        "outputId": "ce3215f0-6c49-445f-d301-65fba6bec35c"
      },
      "execution_count": 142,
      "outputs": [
        {
          "output_type": "execute_result",
          "data": {
            "text/plain": [
              "       train    test\n",
              "MAE   229.03  270.67\n",
              "RMSE  439.86  540.19\n",
              "R2      0.99    0.98"
            ],
            "text/html": [
              "\n",
              "  <div id=\"df-e0edd21f-1a05-446b-9960-16cd9910447f\" class=\"colab-df-container\">\n",
              "    <div>\n",
              "<style scoped>\n",
              "    .dataframe tbody tr th:only-of-type {\n",
              "        vertical-align: middle;\n",
              "    }\n",
              "\n",
              "    .dataframe tbody tr th {\n",
              "        vertical-align: top;\n",
              "    }\n",
              "\n",
              "    .dataframe thead th {\n",
              "        text-align: right;\n",
              "    }\n",
              "</style>\n",
              "<table border=\"1\" class=\"dataframe\">\n",
              "  <thead>\n",
              "    <tr style=\"text-align: right;\">\n",
              "      <th></th>\n",
              "      <th>train</th>\n",
              "      <th>test</th>\n",
              "    </tr>\n",
              "  </thead>\n",
              "  <tbody>\n",
              "    <tr>\n",
              "      <th>MAE</th>\n",
              "      <td>229.03</td>\n",
              "      <td>270.67</td>\n",
              "    </tr>\n",
              "    <tr>\n",
              "      <th>RMSE</th>\n",
              "      <td>439.86</td>\n",
              "      <td>540.19</td>\n",
              "    </tr>\n",
              "    <tr>\n",
              "      <th>R2</th>\n",
              "      <td>0.99</td>\n",
              "      <td>0.98</td>\n",
              "    </tr>\n",
              "  </tbody>\n",
              "</table>\n",
              "</div>\n",
              "    <div class=\"colab-df-buttons\">\n",
              "\n",
              "  <div class=\"colab-df-container\">\n",
              "    <button class=\"colab-df-convert\" onclick=\"convertToInteractive('df-e0edd21f-1a05-446b-9960-16cd9910447f')\"\n",
              "            title=\"Convert this dataframe to an interactive table.\"\n",
              "            style=\"display:none;\">\n",
              "\n",
              "  <svg xmlns=\"http://www.w3.org/2000/svg\" height=\"24px\" viewBox=\"0 -960 960 960\">\n",
              "    <path d=\"M120-120v-720h720v720H120Zm60-500h600v-160H180v160Zm220 220h160v-160H400v160Zm0 220h160v-160H400v160ZM180-400h160v-160H180v160Zm440 0h160v-160H620v160ZM180-180h160v-160H180v160Zm440 0h160v-160H620v160Z\"/>\n",
              "  </svg>\n",
              "    </button>\n",
              "\n",
              "  <style>\n",
              "    .colab-df-container {\n",
              "      display:flex;\n",
              "      gap: 12px;\n",
              "    }\n",
              "\n",
              "    .colab-df-convert {\n",
              "      background-color: #E8F0FE;\n",
              "      border: none;\n",
              "      border-radius: 50%;\n",
              "      cursor: pointer;\n",
              "      display: none;\n",
              "      fill: #1967D2;\n",
              "      height: 32px;\n",
              "      padding: 0 0 0 0;\n",
              "      width: 32px;\n",
              "    }\n",
              "\n",
              "    .colab-df-convert:hover {\n",
              "      background-color: #E2EBFA;\n",
              "      box-shadow: 0px 1px 2px rgba(60, 64, 67, 0.3), 0px 1px 3px 1px rgba(60, 64, 67, 0.15);\n",
              "      fill: #174EA6;\n",
              "    }\n",
              "\n",
              "    .colab-df-buttons div {\n",
              "      margin-bottom: 4px;\n",
              "    }\n",
              "\n",
              "    [theme=dark] .colab-df-convert {\n",
              "      background-color: #3B4455;\n",
              "      fill: #D2E3FC;\n",
              "    }\n",
              "\n",
              "    [theme=dark] .colab-df-convert:hover {\n",
              "      background-color: #434B5C;\n",
              "      box-shadow: 0px 1px 3px 1px rgba(0, 0, 0, 0.15);\n",
              "      filter: drop-shadow(0px 1px 2px rgba(0, 0, 0, 0.3));\n",
              "      fill: #FFFFFF;\n",
              "    }\n",
              "  </style>\n",
              "\n",
              "    <script>\n",
              "      const buttonEl =\n",
              "        document.querySelector('#df-e0edd21f-1a05-446b-9960-16cd9910447f button.colab-df-convert');\n",
              "      buttonEl.style.display =\n",
              "        google.colab.kernel.accessAllowed ? 'block' : 'none';\n",
              "\n",
              "      async function convertToInteractive(key) {\n",
              "        const element = document.querySelector('#df-e0edd21f-1a05-446b-9960-16cd9910447f');\n",
              "        const dataTable =\n",
              "          await google.colab.kernel.invokeFunction('convertToInteractive',\n",
              "                                                    [key], {});\n",
              "        if (!dataTable) return;\n",
              "\n",
              "        const docLinkHtml = 'Like what you see? Visit the ' +\n",
              "          '<a target=\"_blank\" href=https://colab.research.google.com/notebooks/data_table.ipynb>data table notebook</a>'\n",
              "          + ' to learn more about interactive tables.';\n",
              "        element.innerHTML = '';\n",
              "        dataTable['output_type'] = 'display_data';\n",
              "        await google.colab.output.renderOutput(dataTable, element);\n",
              "        const docLink = document.createElement('div');\n",
              "        docLink.innerHTML = docLinkHtml;\n",
              "        element.appendChild(docLink);\n",
              "      }\n",
              "    </script>\n",
              "  </div>\n",
              "\n",
              "\n",
              "<div id=\"df-84bb639a-460b-4b22-a138-94283fc67343\">\n",
              "  <button class=\"colab-df-quickchart\" onclick=\"quickchart('df-84bb639a-460b-4b22-a138-94283fc67343')\"\n",
              "            title=\"Suggest charts\"\n",
              "            style=\"display:none;\">\n",
              "\n",
              "<svg xmlns=\"http://www.w3.org/2000/svg\" height=\"24px\"viewBox=\"0 0 24 24\"\n",
              "     width=\"24px\">\n",
              "    <g>\n",
              "        <path d=\"M19 3H5c-1.1 0-2 .9-2 2v14c0 1.1.9 2 2 2h14c1.1 0 2-.9 2-2V5c0-1.1-.9-2-2-2zM9 17H7v-7h2v7zm4 0h-2V7h2v10zm4 0h-2v-4h2v4z\"/>\n",
              "    </g>\n",
              "</svg>\n",
              "  </button>\n",
              "\n",
              "<style>\n",
              "  .colab-df-quickchart {\n",
              "      --bg-color: #E8F0FE;\n",
              "      --fill-color: #1967D2;\n",
              "      --hover-bg-color: #E2EBFA;\n",
              "      --hover-fill-color: #174EA6;\n",
              "      --disabled-fill-color: #AAA;\n",
              "      --disabled-bg-color: #DDD;\n",
              "  }\n",
              "\n",
              "  [theme=dark] .colab-df-quickchart {\n",
              "      --bg-color: #3B4455;\n",
              "      --fill-color: #D2E3FC;\n",
              "      --hover-bg-color: #434B5C;\n",
              "      --hover-fill-color: #FFFFFF;\n",
              "      --disabled-bg-color: #3B4455;\n",
              "      --disabled-fill-color: #666;\n",
              "  }\n",
              "\n",
              "  .colab-df-quickchart {\n",
              "    background-color: var(--bg-color);\n",
              "    border: none;\n",
              "    border-radius: 50%;\n",
              "    cursor: pointer;\n",
              "    display: none;\n",
              "    fill: var(--fill-color);\n",
              "    height: 32px;\n",
              "    padding: 0;\n",
              "    width: 32px;\n",
              "  }\n",
              "\n",
              "  .colab-df-quickchart:hover {\n",
              "    background-color: var(--hover-bg-color);\n",
              "    box-shadow: 0 1px 2px rgba(60, 64, 67, 0.3), 0 1px 3px 1px rgba(60, 64, 67, 0.15);\n",
              "    fill: var(--button-hover-fill-color);\n",
              "  }\n",
              "\n",
              "  .colab-df-quickchart-complete:disabled,\n",
              "  .colab-df-quickchart-complete:disabled:hover {\n",
              "    background-color: var(--disabled-bg-color);\n",
              "    fill: var(--disabled-fill-color);\n",
              "    box-shadow: none;\n",
              "  }\n",
              "\n",
              "  .colab-df-spinner {\n",
              "    border: 2px solid var(--fill-color);\n",
              "    border-color: transparent;\n",
              "    border-bottom-color: var(--fill-color);\n",
              "    animation:\n",
              "      spin 1s steps(1) infinite;\n",
              "  }\n",
              "\n",
              "  @keyframes spin {\n",
              "    0% {\n",
              "      border-color: transparent;\n",
              "      border-bottom-color: var(--fill-color);\n",
              "      border-left-color: var(--fill-color);\n",
              "    }\n",
              "    20% {\n",
              "      border-color: transparent;\n",
              "      border-left-color: var(--fill-color);\n",
              "      border-top-color: var(--fill-color);\n",
              "    }\n",
              "    30% {\n",
              "      border-color: transparent;\n",
              "      border-left-color: var(--fill-color);\n",
              "      border-top-color: var(--fill-color);\n",
              "      border-right-color: var(--fill-color);\n",
              "    }\n",
              "    40% {\n",
              "      border-color: transparent;\n",
              "      border-right-color: var(--fill-color);\n",
              "      border-top-color: var(--fill-color);\n",
              "    }\n",
              "    60% {\n",
              "      border-color: transparent;\n",
              "      border-right-color: var(--fill-color);\n",
              "    }\n",
              "    80% {\n",
              "      border-color: transparent;\n",
              "      border-right-color: var(--fill-color);\n",
              "      border-bottom-color: var(--fill-color);\n",
              "    }\n",
              "    90% {\n",
              "      border-color: transparent;\n",
              "      border-bottom-color: var(--fill-color);\n",
              "    }\n",
              "  }\n",
              "</style>\n",
              "\n",
              "  <script>\n",
              "    async function quickchart(key) {\n",
              "      const quickchartButtonEl =\n",
              "        document.querySelector('#' + key + ' button');\n",
              "      quickchartButtonEl.disabled = true;  // To prevent multiple clicks.\n",
              "      quickchartButtonEl.classList.add('colab-df-spinner');\n",
              "      try {\n",
              "        const charts = await google.colab.kernel.invokeFunction(\n",
              "            'suggestCharts', [key], {});\n",
              "      } catch (error) {\n",
              "        console.error('Error during call to suggestCharts:', error);\n",
              "      }\n",
              "      quickchartButtonEl.classList.remove('colab-df-spinner');\n",
              "      quickchartButtonEl.classList.add('colab-df-quickchart-complete');\n",
              "    }\n",
              "    (() => {\n",
              "      let quickchartButtonEl =\n",
              "        document.querySelector('#df-84bb639a-460b-4b22-a138-94283fc67343 button');\n",
              "      quickchartButtonEl.style.display =\n",
              "        google.colab.kernel.accessAllowed ? 'block' : 'none';\n",
              "    })();\n",
              "  </script>\n",
              "</div>\n",
              "    </div>\n",
              "  </div>\n"
            ],
            "application/vnd.google.colaboratory.intrinsic+json": {
              "type": "dataframe",
              "variable_name": "all_metrics",
              "summary": "{\n  \"name\": \"all_metrics\",\n  \"rows\": 3,\n  \"fields\": [\n    {\n      \"column\": \"train\",\n      \"properties\": {\n        \"dtype\": \"number\",\n        \"std\": 219.49123270266023,\n        \"min\": 0.99,\n        \"max\": 439.86,\n        \"num_unique_values\": 3,\n        \"samples\": [\n          229.03,\n          439.86,\n          0.99\n        ],\n        \"semantic_type\": \"\",\n        \"description\": \"\"\n      }\n    },\n    {\n      \"column\": \"test\",\n      \"properties\": {\n        \"dtype\": \"number\",\n        \"std\": 269.6050044664107,\n        \"min\": 0.98,\n        \"max\": 540.19,\n        \"num_unique_values\": 3,\n        \"samples\": [\n          270.67,\n          540.19,\n          0.98\n        ],\n        \"semantic_type\": \"\",\n        \"description\": \"\"\n      }\n    }\n  ]\n}"
            }
          },
          "metadata": {},
          "execution_count": 142
        }
      ]
    },
    {
      "cell_type": "markdown",
      "source": [
        "## Важливість гіперпараметрів"
      ],
      "metadata": {
        "id": "_91nGDuHt06-"
      }
    },
    {
      "cell_type": "code",
      "source": [
        "optuna.visualization.plot_param_importances(study)"
      ],
      "metadata": {
        "colab": {
          "base_uri": "https://localhost:8080/",
          "height": 542
        },
        "id": "tMACQMUFt5ML",
        "outputId": "848854de-347b-4bcd-8966-bab37fa79585"
      },
      "execution_count": 143,
      "outputs": [
        {
          "output_type": "display_data",
          "data": {
            "text/html": [
              "<html>\n",
              "<head><meta charset=\"utf-8\" /></head>\n",
              "<body>\n",
              "    <div>            <script src=\"https://cdnjs.cloudflare.com/ajax/libs/mathjax/2.7.5/MathJax.js?config=TeX-AMS-MML_SVG\"></script><script type=\"text/javascript\">if (window.MathJax && window.MathJax.Hub && window.MathJax.Hub.Config) {window.MathJax.Hub.Config({SVG: {font: \"STIX-Web\"}});}</script>                <script type=\"text/javascript\">window.PlotlyConfig = {MathJaxConfig: 'local'};</script>\n",
              "        <script charset=\"utf-8\" src=\"https://cdn.plot.ly/plotly-2.24.1.min.js\"></script>                <div id=\"1283f0c3-4b15-41d3-a088-413dcd6be3c4\" class=\"plotly-graph-div\" style=\"height:525px; width:100%;\"></div>            <script type=\"text/javascript\">                                    window.PLOTLYENV=window.PLOTLYENV || {};                                    if (document.getElementById(\"1283f0c3-4b15-41d3-a088-413dcd6be3c4\")) {                    Plotly.newPlot(                        \"1283f0c3-4b15-41d3-a088-413dcd6be3c4\",                        [{\"cliponaxis\":false,\"hovertemplate\":[\"boosting_type (CategoricalDistribution): 0.000755808341663801\\u003cextra\\u003e\\u003c\\u002fextra\\u003e\",\"feature_fraction (FloatDistribution): 0.049734033396146286\\u003cextra\\u003e\\u003c\\u002fextra\\u003e\",\"lambda_l2 (FloatDistribution): 0.050868579875967705\\u003cextra\\u003e\\u003c\\u002fextra\\u003e\",\"bagging_freq (IntDistribution): 0.05216666381207963\\u003cextra\\u003e\\u003c\\u002fextra\\u003e\",\"lambda_l1 (FloatDistribution): 0.12762013723133503\\u003cextra\\u003e\\u003c\\u002fextra\\u003e\",\"bagging_fraction (FloatDistribution): 0.19170640378277842\\u003cextra\\u003e\\u003c\\u002fextra\\u003e\",\"num_leaves (IntDistribution): 0.25643073569136504\\u003cextra\\u003e\\u003c\\u002fextra\\u003e\",\"min_child_samples (IntDistribution): 0.27071763786866415\\u003cextra\\u003e\\u003c\\u002fextra\\u003e\"],\"name\":\"Objective Value\",\"orientation\":\"h\",\"text\":[\"\\u003c0.01\",\"0.05\",\"0.05\",\"0.05\",\"0.13\",\"0.19\",\"0.26\",\"0.27\"],\"textposition\":\"outside\",\"x\":[0.000755808341663801,0.049734033396146286,0.050868579875967705,0.05216666381207963,0.12762013723133503,0.19170640378277842,0.25643073569136504,0.27071763786866415],\"y\":[\"boosting_type\",\"feature_fraction\",\"lambda_l2\",\"bagging_freq\",\"lambda_l1\",\"bagging_fraction\",\"num_leaves\",\"min_child_samples\"],\"type\":\"bar\"}],                        {\"title\":{\"text\":\"Hyperparameter Importances\"},\"xaxis\":{\"title\":{\"text\":\"Hyperparameter Importance\"}},\"yaxis\":{\"title\":{\"text\":\"Hyperparameter\"}},\"template\":{\"data\":{\"histogram2dcontour\":[{\"type\":\"histogram2dcontour\",\"colorbar\":{\"outlinewidth\":0,\"ticks\":\"\"},\"colorscale\":[[0.0,\"#0d0887\"],[0.1111111111111111,\"#46039f\"],[0.2222222222222222,\"#7201a8\"],[0.3333333333333333,\"#9c179e\"],[0.4444444444444444,\"#bd3786\"],[0.5555555555555556,\"#d8576b\"],[0.6666666666666666,\"#ed7953\"],[0.7777777777777778,\"#fb9f3a\"],[0.8888888888888888,\"#fdca26\"],[1.0,\"#f0f921\"]]}],\"choropleth\":[{\"type\":\"choropleth\",\"colorbar\":{\"outlinewidth\":0,\"ticks\":\"\"}}],\"histogram2d\":[{\"type\":\"histogram2d\",\"colorbar\":{\"outlinewidth\":0,\"ticks\":\"\"},\"colorscale\":[[0.0,\"#0d0887\"],[0.1111111111111111,\"#46039f\"],[0.2222222222222222,\"#7201a8\"],[0.3333333333333333,\"#9c179e\"],[0.4444444444444444,\"#bd3786\"],[0.5555555555555556,\"#d8576b\"],[0.6666666666666666,\"#ed7953\"],[0.7777777777777778,\"#fb9f3a\"],[0.8888888888888888,\"#fdca26\"],[1.0,\"#f0f921\"]]}],\"heatmap\":[{\"type\":\"heatmap\",\"colorbar\":{\"outlinewidth\":0,\"ticks\":\"\"},\"colorscale\":[[0.0,\"#0d0887\"],[0.1111111111111111,\"#46039f\"],[0.2222222222222222,\"#7201a8\"],[0.3333333333333333,\"#9c179e\"],[0.4444444444444444,\"#bd3786\"],[0.5555555555555556,\"#d8576b\"],[0.6666666666666666,\"#ed7953\"],[0.7777777777777778,\"#fb9f3a\"],[0.8888888888888888,\"#fdca26\"],[1.0,\"#f0f921\"]]}],\"heatmapgl\":[{\"type\":\"heatmapgl\",\"colorbar\":{\"outlinewidth\":0,\"ticks\":\"\"},\"colorscale\":[[0.0,\"#0d0887\"],[0.1111111111111111,\"#46039f\"],[0.2222222222222222,\"#7201a8\"],[0.3333333333333333,\"#9c179e\"],[0.4444444444444444,\"#bd3786\"],[0.5555555555555556,\"#d8576b\"],[0.6666666666666666,\"#ed7953\"],[0.7777777777777778,\"#fb9f3a\"],[0.8888888888888888,\"#fdca26\"],[1.0,\"#f0f921\"]]}],\"contourcarpet\":[{\"type\":\"contourcarpet\",\"colorbar\":{\"outlinewidth\":0,\"ticks\":\"\"}}],\"contour\":[{\"type\":\"contour\",\"colorbar\":{\"outlinewidth\":0,\"ticks\":\"\"},\"colorscale\":[[0.0,\"#0d0887\"],[0.1111111111111111,\"#46039f\"],[0.2222222222222222,\"#7201a8\"],[0.3333333333333333,\"#9c179e\"],[0.4444444444444444,\"#bd3786\"],[0.5555555555555556,\"#d8576b\"],[0.6666666666666666,\"#ed7953\"],[0.7777777777777778,\"#fb9f3a\"],[0.8888888888888888,\"#fdca26\"],[1.0,\"#f0f921\"]]}],\"surface\":[{\"type\":\"surface\",\"colorbar\":{\"outlinewidth\":0,\"ticks\":\"\"},\"colorscale\":[[0.0,\"#0d0887\"],[0.1111111111111111,\"#46039f\"],[0.2222222222222222,\"#7201a8\"],[0.3333333333333333,\"#9c179e\"],[0.4444444444444444,\"#bd3786\"],[0.5555555555555556,\"#d8576b\"],[0.6666666666666666,\"#ed7953\"],[0.7777777777777778,\"#fb9f3a\"],[0.8888888888888888,\"#fdca26\"],[1.0,\"#f0f921\"]]}],\"mesh3d\":[{\"type\":\"mesh3d\",\"colorbar\":{\"outlinewidth\":0,\"ticks\":\"\"}}],\"scatter\":[{\"fillpattern\":{\"fillmode\":\"overlay\",\"size\":10,\"solidity\":0.2},\"type\":\"scatter\"}],\"parcoords\":[{\"type\":\"parcoords\",\"line\":{\"colorbar\":{\"outlinewidth\":0,\"ticks\":\"\"}}}],\"scatterpolargl\":[{\"type\":\"scatterpolargl\",\"marker\":{\"colorbar\":{\"outlinewidth\":0,\"ticks\":\"\"}}}],\"bar\":[{\"error_x\":{\"color\":\"#2a3f5f\"},\"error_y\":{\"color\":\"#2a3f5f\"},\"marker\":{\"line\":{\"color\":\"#E5ECF6\",\"width\":0.5},\"pattern\":{\"fillmode\":\"overlay\",\"size\":10,\"solidity\":0.2}},\"type\":\"bar\"}],\"scattergeo\":[{\"type\":\"scattergeo\",\"marker\":{\"colorbar\":{\"outlinewidth\":0,\"ticks\":\"\"}}}],\"scatterpolar\":[{\"type\":\"scatterpolar\",\"marker\":{\"colorbar\":{\"outlinewidth\":0,\"ticks\":\"\"}}}],\"histogram\":[{\"marker\":{\"pattern\":{\"fillmode\":\"overlay\",\"size\":10,\"solidity\":0.2}},\"type\":\"histogram\"}],\"scattergl\":[{\"type\":\"scattergl\",\"marker\":{\"colorbar\":{\"outlinewidth\":0,\"ticks\":\"\"}}}],\"scatter3d\":[{\"type\":\"scatter3d\",\"line\":{\"colorbar\":{\"outlinewidth\":0,\"ticks\":\"\"}},\"marker\":{\"colorbar\":{\"outlinewidth\":0,\"ticks\":\"\"}}}],\"scattermapbox\":[{\"type\":\"scattermapbox\",\"marker\":{\"colorbar\":{\"outlinewidth\":0,\"ticks\":\"\"}}}],\"scatterternary\":[{\"type\":\"scatterternary\",\"marker\":{\"colorbar\":{\"outlinewidth\":0,\"ticks\":\"\"}}}],\"scattercarpet\":[{\"type\":\"scattercarpet\",\"marker\":{\"colorbar\":{\"outlinewidth\":0,\"ticks\":\"\"}}}],\"carpet\":[{\"aaxis\":{\"endlinecolor\":\"#2a3f5f\",\"gridcolor\":\"white\",\"linecolor\":\"white\",\"minorgridcolor\":\"white\",\"startlinecolor\":\"#2a3f5f\"},\"baxis\":{\"endlinecolor\":\"#2a3f5f\",\"gridcolor\":\"white\",\"linecolor\":\"white\",\"minorgridcolor\":\"white\",\"startlinecolor\":\"#2a3f5f\"},\"type\":\"carpet\"}],\"table\":[{\"cells\":{\"fill\":{\"color\":\"#EBF0F8\"},\"line\":{\"color\":\"white\"}},\"header\":{\"fill\":{\"color\":\"#C8D4E3\"},\"line\":{\"color\":\"white\"}},\"type\":\"table\"}],\"barpolar\":[{\"marker\":{\"line\":{\"color\":\"#E5ECF6\",\"width\":0.5},\"pattern\":{\"fillmode\":\"overlay\",\"size\":10,\"solidity\":0.2}},\"type\":\"barpolar\"}],\"pie\":[{\"automargin\":true,\"type\":\"pie\"}]},\"layout\":{\"autotypenumbers\":\"strict\",\"colorway\":[\"#636efa\",\"#EF553B\",\"#00cc96\",\"#ab63fa\",\"#FFA15A\",\"#19d3f3\",\"#FF6692\",\"#B6E880\",\"#FF97FF\",\"#FECB52\"],\"font\":{\"color\":\"#2a3f5f\"},\"hovermode\":\"closest\",\"hoverlabel\":{\"align\":\"left\"},\"paper_bgcolor\":\"white\",\"plot_bgcolor\":\"#E5ECF6\",\"polar\":{\"bgcolor\":\"#E5ECF6\",\"angularaxis\":{\"gridcolor\":\"white\",\"linecolor\":\"white\",\"ticks\":\"\"},\"radialaxis\":{\"gridcolor\":\"white\",\"linecolor\":\"white\",\"ticks\":\"\"}},\"ternary\":{\"bgcolor\":\"#E5ECF6\",\"aaxis\":{\"gridcolor\":\"white\",\"linecolor\":\"white\",\"ticks\":\"\"},\"baxis\":{\"gridcolor\":\"white\",\"linecolor\":\"white\",\"ticks\":\"\"},\"caxis\":{\"gridcolor\":\"white\",\"linecolor\":\"white\",\"ticks\":\"\"}},\"coloraxis\":{\"colorbar\":{\"outlinewidth\":0,\"ticks\":\"\"}},\"colorscale\":{\"sequential\":[[0.0,\"#0d0887\"],[0.1111111111111111,\"#46039f\"],[0.2222222222222222,\"#7201a8\"],[0.3333333333333333,\"#9c179e\"],[0.4444444444444444,\"#bd3786\"],[0.5555555555555556,\"#d8576b\"],[0.6666666666666666,\"#ed7953\"],[0.7777777777777778,\"#fb9f3a\"],[0.8888888888888888,\"#fdca26\"],[1.0,\"#f0f921\"]],\"sequentialminus\":[[0.0,\"#0d0887\"],[0.1111111111111111,\"#46039f\"],[0.2222222222222222,\"#7201a8\"],[0.3333333333333333,\"#9c179e\"],[0.4444444444444444,\"#bd3786\"],[0.5555555555555556,\"#d8576b\"],[0.6666666666666666,\"#ed7953\"],[0.7777777777777778,\"#fb9f3a\"],[0.8888888888888888,\"#fdca26\"],[1.0,\"#f0f921\"]],\"diverging\":[[0,\"#8e0152\"],[0.1,\"#c51b7d\"],[0.2,\"#de77ae\"],[0.3,\"#f1b6da\"],[0.4,\"#fde0ef\"],[0.5,\"#f7f7f7\"],[0.6,\"#e6f5d0\"],[0.7,\"#b8e186\"],[0.8,\"#7fbc41\"],[0.9,\"#4d9221\"],[1,\"#276419\"]]},\"xaxis\":{\"gridcolor\":\"white\",\"linecolor\":\"white\",\"ticks\":\"\",\"title\":{\"standoff\":15},\"zerolinecolor\":\"white\",\"automargin\":true,\"zerolinewidth\":2},\"yaxis\":{\"gridcolor\":\"white\",\"linecolor\":\"white\",\"ticks\":\"\",\"title\":{\"standoff\":15},\"zerolinecolor\":\"white\",\"automargin\":true,\"zerolinewidth\":2},\"scene\":{\"xaxis\":{\"backgroundcolor\":\"#E5ECF6\",\"gridcolor\":\"white\",\"linecolor\":\"white\",\"showbackground\":true,\"ticks\":\"\",\"zerolinecolor\":\"white\",\"gridwidth\":2},\"yaxis\":{\"backgroundcolor\":\"#E5ECF6\",\"gridcolor\":\"white\",\"linecolor\":\"white\",\"showbackground\":true,\"ticks\":\"\",\"zerolinecolor\":\"white\",\"gridwidth\":2},\"zaxis\":{\"backgroundcolor\":\"#E5ECF6\",\"gridcolor\":\"white\",\"linecolor\":\"white\",\"showbackground\":true,\"ticks\":\"\",\"zerolinecolor\":\"white\",\"gridwidth\":2}},\"shapedefaults\":{\"line\":{\"color\":\"#2a3f5f\"}},\"annotationdefaults\":{\"arrowcolor\":\"#2a3f5f\",\"arrowhead\":0,\"arrowwidth\":1},\"geo\":{\"bgcolor\":\"white\",\"landcolor\":\"#E5ECF6\",\"subunitcolor\":\"white\",\"showland\":true,\"showlakes\":true,\"lakecolor\":\"white\"},\"title\":{\"x\":0.05},\"mapbox\":{\"style\":\"light\"}}}},                        {\"responsive\": true}                    ).then(function(){\n",
              "                            \n",
              "var gd = document.getElementById('1283f0c3-4b15-41d3-a088-413dcd6be3c4');\n",
              "var x = new MutationObserver(function (mutations, observer) {{\n",
              "        var display = window.getComputedStyle(gd).display;\n",
              "        if (!display || display === 'none') {{\n",
              "            console.log([gd, 'removed!']);\n",
              "            Plotly.purge(gd);\n",
              "            observer.disconnect();\n",
              "        }}\n",
              "}});\n",
              "\n",
              "// Listen for the removal of the full notebook cells\n",
              "var notebookContainer = gd.closest('#notebook-container');\n",
              "if (notebookContainer) {{\n",
              "    x.observe(notebookContainer, {childList: true});\n",
              "}}\n",
              "\n",
              "// Listen for the clearing of the current output cell\n",
              "var outputEl = gd.closest('.output');\n",
              "if (outputEl) {{\n",
              "    x.observe(outputEl, {childList: true});\n",
              "}}\n",
              "\n",
              "                        })                };                            </script>        </div>\n",
              "</body>\n",
              "</html>"
            ]
          },
          "metadata": {}
        }
      ]
    },
    {
      "cell_type": "markdown",
      "source": [
        "## Важливість ознак"
      ],
      "metadata": {
        "id": "NE3vAqMKEF11"
      }
    },
    {
      "cell_type": "code",
      "source": [
        "lgb.plot_importance(model)"
      ],
      "metadata": {
        "colab": {
          "base_uri": "https://localhost:8080/",
          "height": 489
        },
        "id": "ewf1-p_mQ_vq",
        "outputId": "fff5ba7e-4b4c-4359-8dea-27a55b9887a9"
      },
      "execution_count": 144,
      "outputs": [
        {
          "output_type": "execute_result",
          "data": {
            "text/plain": [
              "<Axes: title={'center': 'Feature importance'}, xlabel='Feature importance', ylabel='Features'>"
            ]
          },
          "metadata": {},
          "execution_count": 144
        },
        {
          "output_type": "display_data",
          "data": {
            "text/plain": [
              "<Figure size 640x480 with 1 Axes>"
            ],
            "image/png": "[encoded data removed]"
          },
          "metadata": {}
        }
      ]
    },
    {
      "cell_type": "markdown",
      "source": [
        "## Train vs Тест"
      ],
      "metadata": {
        "id": "xh7JFCpPEKKk"
      }
    },
    {
      "cell_type": "code",
      "source": [
        "len(model.evals_result_['training']['l1'])"
      ],
      "metadata": {
        "id": "PY7DiB_CF0nd",
        "outputId": "0af6c261-adba-4b30-fa5f-10b131174ca0",
        "colab": {
          "base_uri": "https://localhost:8080/"
        }
      },
      "execution_count": 145,
      "outputs": [
        {
          "output_type": "execute_result",
          "data": {
            "text/plain": [
              "100"
            ]
          },
          "metadata": {},
          "execution_count": 145
        }
      ]
    },
    {
      "cell_type": "code",
      "source": [
        "lgb.plot_metric(model,\n",
        "                metric='l1')"
      ],
      "metadata": {
        "colab": {
          "base_uri": "https://localhost:8080/",
          "height": 489
        },
        "id": "m52CBRiLQnzT",
        "outputId": "a321edbc-ac3c-42d2-8cc9-9524433410e1"
      },
      "execution_count": 146,
      "outputs": [
        {
          "output_type": "execute_result",
          "data": {
            "text/plain": [
              "<Axes: title={'center': 'Metric during training'}, xlabel='Iterations', ylabel='l1'>"
            ]
          },
          "metadata": {},
          "execution_count": 146
        },
        {
          "output_type": "display_data",
          "data": {
            "text/plain": [
              "<Figure size 640x480 with 1 Axes>"
            ],
            "image/png": "[encoded data removed]"
          },
          "metadata": {}
        }
      ]
    },
    {
      "cell_type": "markdown",
      "source": [
        "# Збереження моделі"
      ],
      "metadata": {
        "id": "-edJSbMzDcee"
      }
    },
    {
      "cell_type": "code",
      "source": [
        "model = Pipeline(\n",
        "    [(\"prep\", preprocessor),\n",
        "     (\"model\", model)\n",
        "     ]\n",
        ")\n",
        "\n",
        "model"
      ],
      "metadata": {
        "colab": {
          "base_uri": "https://localhost:8080/",
          "height": 224
        },
        "id": "RNijPkEqF-iU",
        "outputId": "3b7d2c36-63ea-4b04-afc7-aa73b260e39a"
      },
      "execution_count": 147,
      "outputs": [
        {
          "output_type": "execute_result",
          "data": {
            "text/plain": [
              "Pipeline(steps=[('prep',\n",
              "                 ColumnTransformer(transformers=[('num',\n",
              "                                                  Pipeline(steps=[('imputer',\n",
              "                                                                   SimpleImputer(strategy='median'))]),\n",
              "                                                  Index(['carat', 'depth', 'table', 'x', 'y', 'z'], dtype='object')),\n",
              "                                                 ('cat',\n",
              "                                                  Pipeline(steps=[('imputer',\n",
              "                                                                   SimpleImputer(strategy='most_frequent')),\n",
              "                                                                  ('encoder',\n",
              "                                                                   OneHotEncoder(sparse_output=False))]),\n",
              "                                                  Index(['cut', 'color', 'clarity'], dtype='object'))])),\n",
              "                ('model',\n",
              "                 LGBMRegressor(bagging_fraction=0.7693151189411407,\n",
              "                               bagging_freq=7,\n",
              "                               feature_fraction=0.980947700651865,\n",
              "                               lambda_l1=6.077544605357751e-08,\n",
              "                               lambda_l2=3.231993581819831e-08,\n",
              "                               min_child_samples=50, num_leaves=182,\n",
              "                               objective='mse', verbose=-1))])"
            ],
            "text/html": [
              "<style>#sk-container-id-18 {color: black;background-color: white;}#sk-container-id-18 pre{padding: 0;}#sk-container-id-18 div.sk-toggleable {background-color: white;}#sk-container-id-18 label.sk-toggleable__label {cursor: pointer;display: block;width: 100%;margin-bottom: 0;padding: 0.3em;box-sizing: border-box;text-align: center;}#sk-container-id-18 label.sk-toggleable__label-arrow:before {content: \"▸\";float: left;margin-right: 0.25em;color: #696969;}#sk-container-id-18 label.sk-toggleable__label-arrow:hover:before {color: black;}#sk-container-id-18 div.sk-estimator:hover label.sk-toggleable__label-arrow:before {color: black;}#sk-container-id-18 div.sk-toggleable__content {max-height: 0;max-width: 0;overflow: hidden;text-align: left;background-color: #f0f8ff;}#sk-container-id-18 div.sk-toggleable__content pre {margin: 0.2em;color: black;border-radius: 0.25em;background-color: #f0f8ff;}#sk-container-id-18 input.sk-toggleable__control:checked~div.sk-toggleable__content {max-height: 200px;max-width: 100%;overflow: auto;}#sk-container-id-18 input.sk-toggleable__control:checked~label.sk-toggleable__label-arrow:before {content: \"▾\";}#sk-container-id-18 div.sk-estimator input.sk-toggleable__control:checked~label.sk-toggleable__label {background-color: #d4ebff;}#sk-container-id-18 div.sk-label input.sk-toggleable__control:checked~label.sk-toggleable__label {background-color: #d4ebff;}#sk-container-id-18 input.sk-hidden--visually {border: 0;clip: rect(1px 1px 1px 1px);clip: rect(1px, 1px, 1px, 1px);height: 1px;margin: -1px;overflow: hidden;padding: 0;position: absolute;width: 1px;}#sk-container-id-18 div.sk-estimator {font-family: monospace;background-color: #f0f8ff;border: 1px dotted black;border-radius: 0.25em;box-sizing: border-box;margin-bottom: 0.5em;}#sk-container-id-18 div.sk-estimator:hover {background-color: #d4ebff;}#sk-container-id-18 div.sk-parallel-item::after {content: \"\";width: 100%;border-bottom: 1px solid gray;flex-grow: 1;}#sk-container-id-18 div.sk-label:hover label.sk-toggleable__label {background-color: #d4ebff;}#sk-container-id-18 div.sk-serial::before {content: \"\";position: absolute;border-left: 1px solid gray;box-sizing: border-box;top: 0;bottom: 0;left: 50%;z-index: 0;}#sk-container-id-18 div.sk-serial {display: flex;flex-direction: column;align-items: center;background-color: white;padding-right: 0.2em;padding-left: 0.2em;position: relative;}#sk-container-id-18 div.sk-item {position: relative;z-index: 1;}#sk-container-id-18 div.sk-parallel {display: flex;align-items: stretch;justify-content: center;background-color: white;position: relative;}#sk-container-id-18 div.sk-item::before, #sk-container-id-18 div.sk-parallel-item::before {content: \"\";position: absolute;border-left: 1px solid gray;box-sizing: border-box;top: 0;bottom: 0;left: 50%;z-index: -1;}#sk-container-id-18 div.sk-parallel-item {display: flex;flex-direction: column;z-index: 1;position: relative;background-color: white;}#sk-container-id-18 div.sk-parallel-item:first-child::after {align-self: flex-end;width: 50%;}#sk-container-id-18 div.sk-parallel-item:last-child::after {align-self: flex-start;width: 50%;}#sk-container-id-18 div.sk-parallel-item:only-child::after {width: 0;}#sk-container-id-18 div.sk-dashed-wrapped {border: 1px dashed gray;margin: 0 0.4em 0.5em 0.4em;box-sizing: border-box;padding-bottom: 0.4em;background-color: white;}#sk-container-id-18 div.sk-label label {font-family: monospace;font-weight: bold;display: inline-block;line-height: 1.2em;}#sk-container-id-18 div.sk-label-container {text-align: center;}#sk-container-id-18 div.sk-container {/* jupyter's `normalize.less` sets `[hidden] { display: none; }` but bootstrap.min.css set `[hidden] { display: none !important; }` so we also need the `!important` here to be able to override the default hidden behavior on the sphinx rendered scikit-learn.org. See: https://github.com/scikit-learn/scikit-learn/issues/21755 */display: inline-block !important;position: relative;}#sk-container-id-18 div.sk-text-repr-fallback {display: none;}</style><div id=\"sk-container-id-18\" class=\"sk-top-container\"><div class=\"sk-text-repr-fallback\"><pre>Pipeline(steps=[(&#x27;prep&#x27;,\n",
              "                 ColumnTransformer(transformers=[(&#x27;num&#x27;,\n",
              "                                                  Pipeline(steps=[(&#x27;imputer&#x27;,\n",
              "                                                                   SimpleImputer(strategy=&#x27;median&#x27;))]),\n",
              "                                                  Index([&#x27;carat&#x27;, &#x27;depth&#x27;, &#x27;table&#x27;, &#x27;x&#x27;, &#x27;y&#x27;, &#x27;z&#x27;], dtype=&#x27;object&#x27;)),\n",
              "                                                 (&#x27;cat&#x27;,\n",
              "                                                  Pipeline(steps=[(&#x27;imputer&#x27;,\n",
              "                                                                   SimpleImputer(strategy=&#x27;most_frequent&#x27;)),\n",
              "                                                                  (&#x27;encoder&#x27;,\n",
              "                                                                   OneHotEncoder(sparse_output=False))]),\n",
              "                                                  Index([&#x27;cut&#x27;, &#x27;color&#x27;, &#x27;clarity&#x27;], dtype=&#x27;object&#x27;))])),\n",
              "                (&#x27;model&#x27;,\n",
              "                 LGBMRegressor(bagging_fraction=0.7693151189411407,\n",
              "                               bagging_freq=7,\n",
              "                               feature_fraction=0.980947700651865,\n",
              "                               lambda_l1=6.077544605357751e-08,\n",
              "                               lambda_l2=3.231993581819831e-08,\n",
              "                               min_child_samples=50, num_leaves=182,\n",
              "                               objective=&#x27;mse&#x27;, verbose=-1))])</pre><b>In a Jupyter environment, please rerun this cell to show the HTML representation or trust the notebook. <br />On GitHub, the HTML representation is unable to render, please try loading this page with nbviewer.org.</b></div><div class=\"sk-container\" hidden><div class=\"sk-item sk-dashed-wrapped\"><div class=\"sk-label-container\"><div class=\"sk-label sk-toggleable\"><input class=\"sk-toggleable__control sk-hidden--visually\" id=\"sk-estimator-id-42\" type=\"checkbox\" ><label for=\"sk-estimator-id-42\" class=\"sk-toggleable__label sk-toggleable__label-arrow\">Pipeline</label><div class=\"sk-toggleable__content\"><pre>Pipeline(steps=[(&#x27;prep&#x27;,\n",
              "                 ColumnTransformer(transformers=[(&#x27;num&#x27;,\n",
              "                                                  Pipeline(steps=[(&#x27;imputer&#x27;,\n",
              "                                                                   SimpleImputer(strategy=&#x27;median&#x27;))]),\n",
              "                                                  Index([&#x27;carat&#x27;, &#x27;depth&#x27;, &#x27;table&#x27;, &#x27;x&#x27;, &#x27;y&#x27;, &#x27;z&#x27;], dtype=&#x27;object&#x27;)),\n",
              "                                                 (&#x27;cat&#x27;,\n",
              "                                                  Pipeline(steps=[(&#x27;imputer&#x27;,\n",
              "                                                                   SimpleImputer(strategy=&#x27;most_frequent&#x27;)),\n",
              "                                                                  (&#x27;encoder&#x27;,\n",
              "                                                                   OneHotEncoder(sparse_output=False))]),\n",
              "                                                  Index([&#x27;cut&#x27;, &#x27;color&#x27;, &#x27;clarity&#x27;], dtype=&#x27;object&#x27;))])),\n",
              "                (&#x27;model&#x27;,\n",
              "                 LGBMRegressor(bagging_fraction=0.7693151189411407,\n",
              "                               bagging_freq=7,\n",
              "                               feature_fraction=0.980947700651865,\n",
              "                               lambda_l1=6.077544605357751e-08,\n",
              "                               lambda_l2=3.231993581819831e-08,\n",
              "                               min_child_samples=50, num_leaves=182,\n",
              "                               objective=&#x27;mse&#x27;, verbose=-1))])</pre></div></div></div><div class=\"sk-serial\"><div class=\"sk-item sk-dashed-wrapped\"><div class=\"sk-label-container\"><div class=\"sk-label sk-toggleable\"><input class=\"sk-toggleable__control sk-hidden--visually\" id=\"sk-estimator-id-43\" type=\"checkbox\" ><label for=\"sk-estimator-id-43\" class=\"sk-toggleable__label sk-toggleable__label-arrow\">prep: ColumnTransformer</label><div class=\"sk-toggleable__content\"><pre>ColumnTransformer(transformers=[(&#x27;num&#x27;,\n",
              "                                 Pipeline(steps=[(&#x27;imputer&#x27;,\n",
              "                                                  SimpleImputer(strategy=&#x27;median&#x27;))]),\n",
              "                                 Index([&#x27;carat&#x27;, &#x27;depth&#x27;, &#x27;table&#x27;, &#x27;x&#x27;, &#x27;y&#x27;, &#x27;z&#x27;], dtype=&#x27;object&#x27;)),\n",
              "                                (&#x27;cat&#x27;,\n",
              "                                 Pipeline(steps=[(&#x27;imputer&#x27;,\n",
              "                                                  SimpleImputer(strategy=&#x27;most_frequent&#x27;)),\n",
              "                                                 (&#x27;encoder&#x27;,\n",
              "                                                  OneHotEncoder(sparse_output=False))]),\n",
              "                                 Index([&#x27;cut&#x27;, &#x27;color&#x27;, &#x27;clarity&#x27;], dtype=&#x27;object&#x27;))])</pre></div></div></div><div class=\"sk-parallel\"><div class=\"sk-parallel-item\"><div class=\"sk-item\"><div class=\"sk-label-container\"><div class=\"sk-label sk-toggleable\"><input class=\"sk-toggleable__control sk-hidden--visually\" id=\"sk-estimator-id-44\" type=\"checkbox\" ><label for=\"sk-estimator-id-44\" class=\"sk-toggleable__label sk-toggleable__label-arrow\">num</label><div class=\"sk-toggleable__content\"><pre>Index([&#x27;carat&#x27;, &#x27;depth&#x27;, &#x27;table&#x27;, &#x27;x&#x27;, &#x27;y&#x27;, &#x27;z&#x27;], dtype=&#x27;object&#x27;)</pre></div></div></div><div class=\"sk-serial\"><div class=\"sk-item\"><div class=\"sk-serial\"><div class=\"sk-item\"><div class=\"sk-estimator sk-toggleable\"><input class=\"sk-toggleable__control sk-hidden--visually\" id=\"sk-estimator-id-45\" type=\"checkbox\" ><label for=\"sk-estimator-id-45\" class=\"sk-toggleable__label sk-toggleable__label-arrow\">SimpleImputer</label><div class=\"sk-toggleable__content\"><pre>SimpleImputer(strategy=&#x27;median&#x27;)</pre></div></div></div></div></div></div></div></div><div class=\"sk-parallel-item\"><div class=\"sk-item\"><div class=\"sk-label-container\"><div class=\"sk-label sk-toggleable\"><input class=\"sk-toggleable__control sk-hidden--visually\" id=\"sk-estimator-id-46\" type=\"checkbox\" ><label for=\"sk-estimator-id-46\" class=\"sk-toggleable__label sk-toggleable__label-arrow\">cat</label><div class=\"sk-toggleable__content\"><pre>Index([&#x27;cut&#x27;, &#x27;color&#x27;, &#x27;clarity&#x27;], dtype=&#x27;object&#x27;)</pre></div></div></div><div class=\"sk-serial\"><div class=\"sk-item\"><div class=\"sk-serial\"><div class=\"sk-item\"><div class=\"sk-estimator sk-toggleable\"><input class=\"sk-toggleable__control sk-hidden--visually\" id=\"sk-estimator-id-47\" type=\"checkbox\" ><label for=\"sk-estimator-id-47\" class=\"sk-toggleable__label sk-toggleable__label-arrow\">SimpleImputer</label><div class=\"sk-toggleable__content\"><pre>SimpleImputer(strategy=&#x27;most_frequent&#x27;)</pre></div></div></div><div class=\"sk-item\"><div class=\"sk-estimator sk-toggleable\"><input class=\"sk-toggleable__control sk-hidden--visually\" id=\"sk-estimator-id-48\" type=\"checkbox\" ><label for=\"sk-estimator-id-48\" class=\"sk-toggleable__label sk-toggleable__label-arrow\">OneHotEncoder</label><div class=\"sk-toggleable__content\"><pre>OneHotEncoder(sparse_output=False)</pre></div></div></div></div></div></div></div></div></div></div><div class=\"sk-item\"><div class=\"sk-estimator sk-toggleable\"><input class=\"sk-toggleable__control sk-hidden--visually\" id=\"sk-estimator-id-49\" type=\"checkbox\" ><label for=\"sk-estimator-id-49\" class=\"sk-toggleable__label sk-toggleable__label-arrow\">LGBMRegressor</label><div class=\"sk-toggleable__content\"><pre>LGBMRegressor(bagging_fraction=0.7693151189411407, bagging_freq=7,\n",
              "              feature_fraction=0.980947700651865,\n",
              "              lambda_l1=6.077544605357751e-08, lambda_l2=3.231993581819831e-08,\n",
              "              min_child_samples=50, num_leaves=182, objective=&#x27;mse&#x27;,\n",
              "              verbose=-1)</pre></div></div></div></div></div></div></div>"
            ]
          },
          "metadata": {},
          "execution_count": 147
        }
      ]
    },
    {
      "cell_type": "markdown",
      "source": [
        "# Декілька моделей"
      ],
      "metadata": {
        "id": "PGCwWZ0cZqGQ"
      }
    },
    {
      "cell_type": "code",
      "source": [
        "from sklearn.linear_model import LinearRegression\n",
        "from sklearn.tree import DecisionTreeRegressor\n",
        "\n",
        "\n",
        "def objective(trial):\n",
        "  \"\"\"\n",
        "  Функція objective для Optuna, яка навчає модель LightGBMRegressor\n",
        "  на тренувальному наборі даних та оцінює її на тестовому наборі.\n",
        "\n",
        "  Args:\n",
        "      trial (optuna.Trial): Об'єкт Optuna, що представляє один набір гіперпараметрів.\n",
        "\n",
        "  Returns:\n",
        "      float: Значення метрики оцінки (R2).\n",
        "  \"\"\"\n",
        "\n",
        "  model_type = trial.suggest_categorical(\"model_type\", ['LinReg', 'DT', 'LGBM'])\n",
        "\n",
        "  if model_type == 'LinReg':\n",
        "    model = LinearRegression()\n",
        "\n",
        "  elif model_type == 'DT':\n",
        "    model = DecisionTreeRegressor(\n",
        "        max_depth = trial.suggest_int('max_depth', 2, 12),\n",
        "        min_samples_leaf = trial.suggest_int('min_samples_leaf', 5, 100)\n",
        "    )\n",
        "\n",
        "  elif model_type == 'LGBM':\n",
        "    model = lgb.LGBMRegressor(\n",
        "        objective = 'mse',\n",
        "        verbose=-1,\n",
        "        n_estimators=20,\n",
        "        boosting_type=trial.suggest_categorical('boosting_type', ['gbdt', 'dart']),\n",
        "        lambda_l1 = trial.suggest_float('lambda_l1', 1e-8, 10.0, log=True),\n",
        "        lambda_l2 = trial.suggest_float('lambda_l2', 1e-8, 10.0, log=True),\n",
        "        num_leaves = trial.suggest_int('num_leaves', 2, 256),\n",
        "        feature_fraction = trial.suggest_float('feature_fraction', 0.4, 1.0),\n",
        "        bagging_fraction = trial.suggest_float('bagging_fraction', 0.4, 1.0),\n",
        "        bagging_freq = trial.suggest_int('bagging_freq', 1, 7),\n",
        "        min_child_samples = trial.suggest_int('min_child_samples', 5, 100),\n",
        "\n",
        "\n",
        "    )\n",
        "\n",
        "  # Навчання моделі на тренувальному наборі даних:\n",
        "\n",
        "  model.fit(X_train, y_train)\n",
        "\n",
        "  # Оцінка моделі на тестовому наборі даних:\n",
        "\n",
        "  y_pred = model.predict(X_val)\n",
        "  r2 = metrics.r2_score(y_val, y_pred)\n",
        "\n",
        "  # Повернення значення метрики:\n",
        "  return r2"
      ],
      "metadata": {
        "id": "AamlugkNKMzl"
      },
      "execution_count": 149,
      "outputs": []
    },
    {
      "cell_type": "code",
      "source": [
        "study = optuna.create_study(direction='maximize')\n",
        "study.optimize(objective, n_trials=10)"
      ],
      "metadata": {
        "id": "1FTVz6w0RlYW",
        "outputId": "5728d264-d769-401e-ef01-18175ade56e5",
        "colab": {
          "base_uri": "https://localhost:8080/"
        }
      },
      "execution_count": 150,
      "outputs": [
        {
          "output_type": "stream",
          "name": "stderr",
          "text": [
            "[I 2024-07-11 18:51:32,540] A new study created in memory with name: no-name-c959e0b6-504b-43fa-9257-5aeadda7063f\n",
            "[I 2024-07-11 18:51:32,676] Trial 0 finished with value: 0.9300809644023181 and parameters: {'model_type': 'DT', 'max_depth': 6, 'min_samples_leaf': 7}. Best is trial 0 with value: 0.9300809644023181.\n",
            "[I 2024-07-11 18:51:32,786] Trial 1 finished with value: 0.916173263803184 and parameters: {'model_type': 'DT', 'max_depth': 5, 'min_samples_leaf': 90}. Best is trial 0 with value: 0.9300809644023181.\n",
            "[I 2024-07-11 18:51:32,846] Trial 2 finished with value: 0.8334953858598501 and parameters: {'model_type': 'DT', 'max_depth': 2, 'min_samples_leaf': 37}. Best is trial 0 with value: 0.9300809644023181.\n",
            "[I 2024-07-11 18:51:32,952] Trial 3 finished with value: 0.9173599381529961 and parameters: {'model_type': 'DT', 'max_depth': 5, 'min_samples_leaf': 17}. Best is trial 0 with value: 0.9300809644023181.\n",
            "[I 2024-07-11 18:51:33,300] Trial 4 finished with value: 0.9604470757681713 and parameters: {'model_type': 'LGBM', 'boosting_type': 'gbdt', 'lambda_l1': 6.483653894547036e-07, 'lambda_l2': 1.928149766528227e-08, 'num_leaves': 137, 'feature_fraction': 0.7895473365089889, 'bagging_fraction': 0.9519035163847861, 'bagging_freq': 7, 'min_child_samples': 72}. Best is trial 4 with value: 0.9604470757681713.\n",
            "[I 2024-07-11 18:51:33,359] Trial 5 finished with value: 0.8334953858598501 and parameters: {'model_type': 'DT', 'max_depth': 2, 'min_samples_leaf': 71}. Best is trial 4 with value: 0.9604470757681713.\n",
            "[I 2024-07-11 18:51:33,433] Trial 6 finished with value: 0.9253075242347323 and parameters: {'model_type': 'LinReg'}. Best is trial 4 with value: 0.9604470757681713.\n",
            "[I 2024-07-11 18:51:33,567] Trial 7 finished with value: 0.9253075242347323 and parameters: {'model_type': 'LinReg'}. Best is trial 4 with value: 0.9604470757681713.\n",
            "[I 2024-07-11 18:51:33,706] Trial 8 finished with value: 0.9253075242347323 and parameters: {'model_type': 'LinReg'}. Best is trial 4 with value: 0.9604470757681713.\n",
            "[I 2024-07-11 18:51:33,855] Trial 9 finished with value: 0.9253075242347323 and parameters: {'model_type': 'LinReg'}. Best is trial 4 with value: 0.9604470757681713.\n"
          ]
        }
      ]
    },
    {
      "cell_type": "code",
      "source": [
        "study.best_value"
      ],
      "metadata": {
        "id": "PxeLyZhZUz9e",
        "outputId": "97913349-c1ea-409d-9f4f-7ab159239052",
        "colab": {
          "base_uri": "https://localhost:8080/"
        }
      },
      "execution_count": 151,
      "outputs": [
        {
          "output_type": "execute_result",
          "data": {
            "text/plain": [
              "0.9604470757681713"
            ]
          },
          "metadata": {},
          "execution_count": 151
        }
      ]
    },
    {
      "cell_type": "code",
      "source": [
        "study.best_params"
      ],
      "metadata": {
        "id": "UssPVBQ_R9Jf",
        "outputId": "7cd11383-abcc-48ff-8d7b-887bb2b904a0",
        "colab": {
          "base_uri": "https://localhost:8080/"
        }
      },
      "execution_count": 152,
      "outputs": [
        {
          "output_type": "execute_result",
          "data": {
            "text/plain": [
              "{'model_type': 'LGBM',\n",
              " 'boosting_type': 'gbdt',\n",
              " 'lambda_l1': 6.483653894547036e-07,\n",
              " 'lambda_l2': 1.928149766528227e-08,\n",
              " 'num_leaves': 137,\n",
              " 'feature_fraction': 0.7895473365089889,\n",
              " 'bagging_fraction': 0.9519035163847861,\n",
              " 'bagging_freq': 7,\n",
              " 'min_child_samples': 72}"
            ]
          },
          "metadata": {},
          "execution_count": 152
        }
      ]
    },
    {
      "cell_type": "markdown",
      "source": [
        "# Додатково(оптимізація по декільком метрикам)\n",
        "\n",
        "Optuna дозволяє шукати гіперпараметри, які оптимізують не одну, а одразу декілька метрик.\n",
        "\n",
        "Для цього потрібно внести дві зміни:\n",
        "* objective повинна повертати список значень\n",
        "* optuna.create_study потрібно вказати параметр directions зі списком напрямків для кожної метрики"
      ],
      "metadata": {
        "id": "z5k5GjR6wei9"
      }
    },
    {
      "cell_type": "code",
      "source": [
        "def objective(trial):\n",
        "  \"\"\"\n",
        "  Функція objective для Optuna, яка навчає модель LightGBMRegressor\n",
        "  на тренувальному наборі даних та оцінює її на тестовому наборі.\n",
        "\n",
        "  Args:\n",
        "      trial (optuna.Trial): Об'єкт Optuna, що представляє один набір гіперпараметрів.\n",
        "\n",
        "  Returns:\n",
        "      float: Значення метрики оцінки (R2).\n",
        "  \"\"\"\n",
        "\n",
        "  # 1. Визначення гіперпараметрів:\n",
        "\n",
        "  params = {\n",
        "        \"objective\": \"mse\",\n",
        "        \"verbosity\": -1,\n",
        "        \"n_estimators\": 10,\n",
        "        \"boosting_type\": trial.suggest_categorical(\"boosting_type\", [\"gbdt\", \"dart\"]),\n",
        "        'learning_rate': trial.suggest_float('learning_rate', 1e-8, 1.0, log=True),\n",
        "        \"lambda_l1\": trial.suggest_float(\"lambda_l1\", 1e-8, 10.0, log=True),\n",
        "        \"lambda_l2\": trial.suggest_float(\"lambda_l2\", 1e-8, 10.0, log=True),\n",
        "        \"num_leaves\": trial.suggest_int(\"num_leaves\", 2, 256),\n",
        "        \"feature_fraction\": trial.suggest_float(\"feature_fraction\", 0.4, 1.0),\n",
        "        \"bagging_fraction\": trial.suggest_float(\"bagging_fraction\", 0.4, 1.0),\n",
        "        \"bagging_freq\": trial.suggest_int(\"bagging_freq\", 1, 7),\n",
        "        \"min_child_samples\": trial.suggest_int(\"min_child_samples\", 5, 100),\n",
        "  }\n",
        "\n",
        "  # 2. Створення моделі LightGBMRegressor:\n",
        "\n",
        "  model = lgb.LGBMRegressor(**params)\n",
        "\n",
        "  # 3. Навчання моделі на тренувальному наборі даних:\n",
        "\n",
        "  model.fit(X_train, y_train)\n",
        "\n",
        "  # 4. Оцінка моделі на тестовому наборі даних:\n",
        "\n",
        "  y_pred = model.predict(X_val)\n",
        "\n",
        "  r2 = metrics.r2_score(y_val, y_pred)\n",
        "  mae = metrics.mean_absolute_error(y_val, y_pred)\n",
        "  rmse = metrics.mean_squared_error(y_val, y_pred) ** 0.5\n",
        "\n",
        "\n",
        "  # 5. Повернення значення метрики:\n",
        "  return r2, mae, rmse"
      ],
      "metadata": {
        "id": "j4vZncPMwyf-"
      },
      "execution_count": 153,
      "outputs": []
    },
    {
      "cell_type": "code",
      "source": [
        "study = optuna.create_study(directions=['maximize', 'minimize', 'minimize'])\n",
        "study.optimize(objective, n_trials=100)"
      ],
      "metadata": {
        "id": "FDEWsYA7y07u",
        "colab": {
          "base_uri": "https://localhost:8080/"
        },
        "outputId": "427d60d6-cd22-4324-ac71-22fe5e8a7048"
      },
      "execution_count": 154,
      "outputs": [
        {
          "output_type": "stream",
          "name": "stderr",
          "text": [
            "[I 2024-07-11 18:51:53,265] A new study created in memory with name: no-name-6c8ab63d-1baf-4238-8fd9-d8f144483c87\n",
            "[I 2024-07-11 18:51:53,518] Trial 0 finished with values: [0.020516818446748353, 3040.3037581364197, 4004.4157655169183] and parameters: {'boosting_type': 'dart', 'learning_rate': 0.001299915377739411, 'lambda_l1': 4.950611652476449e-07, 'lambda_l2': 2.058220793012835, 'num_leaves': 91, 'feature_fraction': 0.7536386243545998, 'bagging_fraction': 0.569456506348915, 'bagging_freq': 3, 'min_child_samples': 21}. \n",
            "[I 2024-07-11 18:51:53,700] Trial 1 finished with values: [0.525168497301555, 2042.5406568161989, 2788.11339661762] and parameters: {'boosting_type': 'dart', 'learning_rate': 0.04980612765624969, 'lambda_l1': 0.23329811331057312, 'lambda_l2': 7.472868982923927, 'num_leaves': 199, 'feature_fraction': 0.6399223387069294, 'bagging_fraction': 0.45659839946371195, 'bagging_freq': 6, 'min_child_samples': 89}. \n",
            "[I 2024-07-11 18:51:53,961] Trial 2 finished with values: [7.682145994936107e-05, 3073.412991614001, 4045.982394863807] and parameters: {'boosting_type': 'gbdt', 'learning_rate': 1.2666195454084367e-05, 'lambda_l1': 8.931187589418437, 'lambda_l2': 0.020985184070609474, 'num_leaves': 217, 'feature_fraction': 0.4118238164725108, 'bagging_fraction': 0.845627141963486, 'bagging_freq': 4, 'min_child_samples': 94}. \n",
            "[I 2024-07-11 18:51:54,117] Trial 3 finished with values: [0.7827043050029817, 1328.9681922701545, 1886.1065881523202] and parameters: {'boosting_type': 'gbdt', 'learning_rate': 0.09057521591679125, 'lambda_l1': 0.045518501825076337, 'lambda_l2': 3.154644057111851e-07, 'num_leaves': 33, 'feature_fraction': 0.4434553543590689, 'bagging_fraction': 0.40266982082080705, 'bagging_freq': 5, 'min_child_samples': 77}. \n",
            "[I 2024-07-11 18:51:54,352] Trial 4 finished with values: [0.9563526922695514, 517.7684906241149, 845.3166070621902] and parameters: {'boosting_type': 'gbdt', 'learning_rate': 0.20119521123627399, 'lambda_l1': 1.0102503506330849e-07, 'lambda_l2': 0.00044789018969565404, 'num_leaves': 151, 'feature_fraction': 0.6899146538295143, 'bagging_fraction': 0.7614193831404767, 'bagging_freq': 7, 'min_child_samples': 93}. \n",
            "[I 2024-07-11 18:51:54,603] Trial 5 finished with values: [-0.00015263533780562888, 3073.7878373236013, 4046.446592979407] and parameters: {'boosting_type': 'gbdt', 'learning_rate': 1.4106110671881957e-08, 'lambda_l1': 0.565559280407076, 'lambda_l2': 3.080598777732825e-05, 'num_leaves': 241, 'feature_fraction': 0.40260474171991434, 'bagging_fraction': 0.684750004678631, 'bagging_freq': 5, 'min_child_samples': 76}. \n",
            "[I 2024-07-11 18:51:54,808] Trial 6 finished with values: [0.7594827491130576, 1427.605912018861, 1984.329489324407] and parameters: {'boosting_type': 'gbdt', 'learning_rate': 0.07988564653619137, 'lambda_l1': 0.003587996816062893, 'lambda_l2': 0.011822870636915972, 'num_leaves': 96, 'feature_fraction': 0.4393307570993044, 'bagging_fraction': 0.973192027764224, 'bagging_freq': 5, 'min_child_samples': 35}. \n",
            "[I 2024-07-11 18:51:55,020] Trial 7 finished with values: [0.9709220764684166, 393.27399418459885, 689.9575414422636] and parameters: {'boosting_type': 'dart', 'learning_rate': 0.34322284781478785, 'lambda_l1': 3.525548231761343e-05, 'lambda_l2': 0.00011720435974882998, 'num_leaves': 67, 'feature_fraction': 0.676007593992231, 'bagging_fraction': 0.45032426351702626, 'bagging_freq': 6, 'min_child_samples': 58}. \n",
            "[I 2024-07-11 18:51:55,220] Trial 8 finished with values: [0.0036806224475036675, 3067.6445389635896, 4038.6847958681637] and parameters: {'boosting_type': 'dart', 'learning_rate': 0.00023769224399599494, 'lambda_l1': 3.0707394405983024, 'lambda_l2': 1.1030181364580141e-07, 'num_leaves': 72, 'feature_fraction': 0.7393420776914881, 'bagging_fraction': 0.5482225890491401, 'bagging_freq': 2, 'min_child_samples': 66}. \n",
            "[I 2024-07-11 18:51:55,456] Trial 9 finished with values: [-0.00015228462123273445, 3073.78726800826, 4046.4458835096943] and parameters: {'boosting_type': 'gbdt', 'learning_rate': 3.327996479968417e-08, 'lambda_l1': 5.33669675065121e-06, 'lambda_l2': 0.03381484453455108, 'num_leaves': 181, 'feature_fraction': 0.4814194318239939, 'bagging_fraction': 0.6274715609654988, 'bagging_freq': 7, 'min_child_samples': 86}. \n",
            "[I 2024-07-11 18:51:55,724] Trial 10 finished with values: [0.002973875767458334, 3068.6906538762623, 4040.1169777218747] and parameters: {'boosting_type': 'dart', 'learning_rate': 0.00019816261729330422, 'lambda_l1': 0.0011688588985184992, 'lambda_l2': 0.00026917283119425376, 'num_leaves': 184, 'feature_fraction': 0.4522418879644244, 'bagging_fraction': 0.8328597095741403, 'bagging_freq': 7, 'min_child_samples': 91}. \n",
            "[I 2024-07-11 18:51:56,012] Trial 11 finished with values: [0.00025721793437982754, 3073.1479996948274, 4045.617409884064] and parameters: {'boosting_type': 'gbdt', 'learning_rate': 2.1122924749978858e-05, 'lambda_l1': 0.0004095489609984179, 'lambda_l2': 0.07257340316584406, 'num_leaves': 246, 'feature_fraction': 0.9995961390554257, 'bagging_fraction': 0.6523774304670538, 'bagging_freq': 3, 'min_child_samples': 13}. \n",
            "[I 2024-07-11 18:51:56,194] Trial 12 finished with values: [0.011332643663373165, 3055.1873891690384, 4023.145768163692] and parameters: {'boosting_type': 'dart', 'learning_rate': 0.0007285444012491568, 'lambda_l1': 2.245366957882974e-06, 'lambda_l2': 0.00033197997865122954, 'num_leaves': 44, 'feature_fraction': 0.5926706326499243, 'bagging_fraction': 0.5808640204477555, 'bagging_freq': 7, 'min_child_samples': 90}. \n",
            "[I 2024-07-11 18:51:56,445] Trial 13 finished with values: [0.8917099233297379, 906.6233314392341, 1331.481085854934] and parameters: {'boosting_type': 'gbdt', 'learning_rate': 0.13100599463900542, 'lambda_l1': 0.0026554098890424183, 'lambda_l2': 5.775511916886958e-05, 'num_leaves': 244, 'feature_fraction': 0.4580328020591157, 'bagging_fraction': 0.7136227923502911, 'bagging_freq': 5, 'min_child_samples': 59}. \n",
            "[I 2024-07-11 18:51:56,674] Trial 14 finished with values: [-0.00015168912511942523, 3073.786364654769, 4046.4446788715645] and parameters: {'boosting_type': 'gbdt', 'learning_rate': 6.281096524228762e-08, 'lambda_l1': 9.037882698476263e-08, 'lambda_l2': 0.0009018812314941742, 'num_leaves': 170, 'feature_fraction': 0.7903408175412844, 'bagging_fraction': 0.6195135756310566, 'bagging_freq': 3, 'min_child_samples': 27}. \n",
            "[I 2024-07-11 18:51:56,900] Trial 15 finished with values: [0.008644511853016956, 3059.8253519470677, 4028.6114108040606] and parameters: {'boosting_type': 'gbdt', 'learning_rate': 0.0004646255913350271, 'lambda_l1': 0.00020058288052223063, 'lambda_l2': 8.141427060942078e-08, 'num_leaves': 216, 'feature_fraction': 0.7291809192231056, 'bagging_fraction': 0.7430765677330429, 'bagging_freq': 1, 'min_child_samples': 42}. \n",
            "[I 2024-07-11 18:51:57,081] Trial 16 finished with values: [0.0008523282232069107, 3072.1759235587756, 4044.4131266511713] and parameters: {'boosting_type': 'gbdt', 'learning_rate': 5.4224493548702193e-05, 'lambda_l1': 0.007802078720803305, 'lambda_l2': 0.012439457773292669, 'num_leaves': 60, 'feature_fraction': 0.9242636197586298, 'bagging_fraction': 0.41532916630872174, 'bagging_freq': 4, 'min_child_samples': 76}. \n",
            "[I 2024-07-11 18:51:57,284] Trial 17 finished with values: [0.002176606267045522, 3070.09304625611, 4041.7319897536063] and parameters: {'boosting_type': 'gbdt', 'learning_rate': 0.00012370886520042028, 'lambda_l1': 0.007707795385949045, 'lambda_l2': 1.2963427680948363e-05, 'num_leaves': 85, 'feature_fraction': 0.8901834291842816, 'bagging_fraction': 0.8382261390763914, 'bagging_freq': 3, 'min_child_samples': 77}. \n",
            "[I 2024-07-11 18:51:57,491] Trial 18 finished with values: [3.471063852733547e-05, 3073.4884660437233, 4046.067590332797] and parameters: {'boosting_type': 'gbdt', 'learning_rate': 1.0021412019607056e-05, 'lambda_l1': 3.789466004728387e-06, 'lambda_l2': 0.002764027831592798, 'num_leaves': 117, 'feature_fraction': 0.6478043356651026, 'bagging_fraction': 0.4711869351302769, 'bagging_freq': 1, 'min_child_samples': 34}. \n",
            "[I 2024-07-11 18:51:57,648] Trial 19 finished with values: [0.9749327340588029, 363.4655370259051, 640.6106511064802] and parameters: {'boosting_type': 'gbdt', 'learning_rate': 0.5232782247892038, 'lambda_l1': 0.00017915006028571903, 'lambda_l2': 5.217013463077178e-05, 'num_leaves': 29, 'feature_fraction': 0.5712627448669172, 'bagging_fraction': 0.49477059336357604, 'bagging_freq': 5, 'min_child_samples': 21}. \n",
            "[I 2024-07-11 18:51:57,803] Trial 20 finished with values: [-0.00012443471522938232, 3073.742671930979, 4046.389545128154] and parameters: {'boosting_type': 'gbdt', 'learning_rate': 1.5429580245237074e-06, 'lambda_l1': 1.781671261415265, 'lambda_l2': 6.623436938552964e-08, 'num_leaves': 24, 'feature_fraction': 0.6856291242232151, 'bagging_fraction': 0.636376676943371, 'bagging_freq': 6, 'min_child_samples': 20}. \n",
            "[I 2024-07-11 18:51:57,989] Trial 21 finished with values: [0.004040636602212766, 3066.9594467292786, 4037.9550524261836] and parameters: {'boosting_type': 'gbdt', 'learning_rate': 0.00023205730968854448, 'lambda_l1': 0.5824647198944773, 'lambda_l2': 0.1874044406333062, 'num_leaves': 29, 'feature_fraction': 0.4201011150886442, 'bagging_fraction': 0.855787164725309, 'bagging_freq': 2, 'min_child_samples': 49}. \n",
            "[I 2024-07-11 18:51:58,180] Trial 22 finished with values: [-0.0001525314881285489, 3073.787679044613, 4046.446382900381] and parameters: {'boosting_type': 'gbdt', 'learning_rate': 1.926481088367269e-08, 'lambda_l1': 0.0015930591975747788, 'lambda_l2': 0.11761214275664691, 'num_leaves': 93, 'feature_fraction': 0.6387077762279056, 'bagging_fraction': 0.5370706523775102, 'bagging_freq': 3, 'min_child_samples': 44}. \n",
            "[I 2024-07-11 18:51:58,393] Trial 23 finished with values: [-0.0001055493138031327, 3073.7112368805974, 4046.351340856272] and parameters: {'boosting_type': 'dart', 'learning_rate': 2.9911097560900433e-06, 'lambda_l1': 1.4678010051556972e-05, 'lambda_l2': 4.177974032274393e-07, 'num_leaves': 142, 'feature_fraction': 0.5054948276917737, 'bagging_fraction': 0.64567783035257, 'bagging_freq': 1, 'min_child_samples': 84}. \n",
            "[I 2024-07-11 18:51:58,629] Trial 24 finished with values: [3.172781494353849e-05, 3073.491888859695, 4046.073624890675] and parameters: {'boosting_type': 'gbdt', 'learning_rate': 9.869085284071399e-06, 'lambda_l1': 6.318168928401697, 'lambda_l2': 2.943811861625984, 'num_leaves': 254, 'feature_fraction': 0.9411527365762653, 'bagging_fraction': 0.9423406717116743, 'bagging_freq': 5, 'min_child_samples': 37}. \n",
            "[I 2024-07-11 18:51:58,786] Trial 25 finished with values: [0.00379362934450711, 3067.537648490631, 4038.4557467351888] and parameters: {'boosting_type': 'gbdt', 'learning_rate': 0.00021030876140112732, 'lambda_l1': 0.09295653043786847, 'lambda_l2': 0.23368726497350148, 'num_leaves': 39, 'feature_fraction': 0.8067184522459785, 'bagging_fraction': 0.9186958677376139, 'bagging_freq': 1, 'min_child_samples': 12}. \n",
            "[I 2024-07-11 18:51:59,044] Trial 26 finished with values: [0.25044944022518845, 2639.730009735003, 3503.0080661104193] and parameters: {'boosting_type': 'dart', 'learning_rate': 0.018011391793318652, 'lambda_l1': 0.24057948573347068, 'lambda_l2': 2.6416618423527503, 'num_leaves': 204, 'feature_fraction': 0.6848940199070328, 'bagging_fraction': 0.7805066506467289, 'bagging_freq': 3, 'min_child_samples': 14}. \n",
            "[I 2024-07-11 18:51:59,293] Trial 27 finished with values: [0.0008328638202809158, 3072.2091499200837, 4044.452521079806] and parameters: {'boosting_type': 'gbdt', 'learning_rate': 5.312505834598387e-05, 'lambda_l1': 0.15190575066572326, 'lambda_l2': 0.1549024475512669, 'num_leaves': 55, 'feature_fraction': 0.6003405526341952, 'bagging_fraction': 0.8041408146940341, 'bagging_freq': 6, 'min_child_samples': 50}. \n",
            "[I 2024-07-11 18:51:59,598] Trial 28 finished with values: [0.08144009373161365, 2943.3949918577428, 3877.88042593935] and parameters: {'boosting_type': 'gbdt', 'learning_rate': 0.004427200132274885, 'lambda_l1': 7.112809247225089e-06, 'lambda_l2': 4.493108790464095e-08, 'num_leaves': 139, 'feature_fraction': 0.8122120343512258, 'bagging_fraction': 0.6719284398677983, 'bagging_freq': 5, 'min_child_samples': 5}. \n",
            "[I 2024-07-11 18:51:59,983] Trial 29 finished with values: [0.9767507757731422, 328.55042618398863, 616.9428053489032] and parameters: {'boosting_type': 'dart', 'learning_rate': 0.7306703981149135, 'lambda_l1': 6.445185030936905e-06, 'lambda_l2': 6.22088549729951, 'num_leaves': 238, 'feature_fraction': 0.5184318362320128, 'bagging_fraction': 0.6094729272130379, 'bagging_freq': 7, 'min_child_samples': 26}. \n",
            "[I 2024-07-11 18:52:00,341] Trial 30 finished with values: [-0.0001523672950876076, 3073.787428754023, 4046.4460507518625] and parameters: {'boosting_type': 'dart', 'learning_rate': 3.167804700981808e-08, 'lambda_l1': 0.007115196464623372, 'lambda_l2': 0.03863284281840003, 'num_leaves': 148, 'feature_fraction': 0.9446971004849701, 'bagging_fraction': 0.744547458583378, 'bagging_freq': 4, 'min_child_samples': 62}. \n",
            "[I 2024-07-11 18:52:00,662] Trial 31 finished with values: [0.9780610664250042, 310.847352909312, 599.3057265445311] and parameters: {'boosting_type': 'gbdt', 'learning_rate': 0.4567506008800951, 'lambda_l1': 2.84326187519228e-08, 'lambda_l2': 2.0780303677889028e-06, 'num_leaves': 144, 'feature_fraction': 0.7721275233597114, 'bagging_fraction': 0.42981960870730795, 'bagging_freq': 7, 'min_child_samples': 55}. \n",
            "[I 2024-07-11 18:52:00,872] Trial 32 finished with values: [0.9451158629275737, 579.6555967749614, 947.903421928449] and parameters: {'boosting_type': 'gbdt', 'learning_rate': 0.24122511411453812, 'lambda_l1': 0.0017847439641512444, 'lambda_l2': 0.0002722401938699933, 'num_leaves': 12, 'feature_fraction': 0.7236559880972648, 'bagging_fraction': 0.8302976666773918, 'bagging_freq': 1, 'min_child_samples': 90}. \n",
            "[I 2024-07-11 18:52:01,674] Trial 33 finished with values: [0.013172377899268284, 3051.7012387906766, 4019.4008455699463] and parameters: {'boosting_type': 'dart', 'learning_rate': 0.0008710845200694826, 'lambda_l1': 0.046748662913736354, 'lambda_l2': 5.885065525591714, 'num_leaves': 37, 'feature_fraction': 0.45156782497695247, 'bagging_fraction': 0.5118743769770084, 'bagging_freq': 4, 'min_child_samples': 38}. \n",
            "[I 2024-07-11 18:52:02,021] Trial 34 finished with values: [0.00020200493427668942, 3073.221972591283, 4045.72912241379] and parameters: {'boosting_type': 'gbdt', 'learning_rate': 1.8895677911014235e-05, 'lambda_l1': 0.00012658489937800881, 'lambda_l2': 1.007112494892167e-05, 'num_leaves': 189, 'feature_fraction': 0.7781823775530523, 'bagging_fraction': 0.4175667487030653, 'bagging_freq': 1, 'min_child_samples': 48}. \n",
            "[I 2024-07-11 18:52:02,284] Trial 35 finished with values: [-0.00015268216626695974, 3073.7879213097867, 4046.4466877093805] and parameters: {'boosting_type': 'dart', 'learning_rate': 1.2995779676615498e-08, 'lambda_l1': 0.08204496741909041, 'lambda_l2': 6.379279146616129e-05, 'num_leaves': 24, 'feature_fraction': 0.6980497544731461, 'bagging_fraction': 0.826324332722616, 'bagging_freq': 3, 'min_child_samples': 19}. \n",
            "[I 2024-07-11 18:52:02,583] Trial 36 finished with values: [-0.00014744384156251122, 3073.7795063054964, 4046.4360910126056] and parameters: {'boosting_type': 'gbdt', 'learning_rate': 2.930120952282277e-07, 'lambda_l1': 0.00014532958671170976, 'lambda_l2': 7.01613269495324e-05, 'num_leaves': 158, 'feature_fraction': 0.6837211768318239, 'bagging_fraction': 0.5984118492892605, 'bagging_freq': 1, 'min_child_samples': 80}. \n",
            "[I 2024-07-11 18:52:02,839] Trial 37 finished with values: [-0.00015264581203666694, 3073.787858915305, 4046.446614167881] and parameters: {'boosting_type': 'gbdt', 'learning_rate': 1.3266070107711765e-08, 'lambda_l1': 0.2961394714539541, 'lambda_l2': 4.196455247402509, 'num_leaves': 166, 'feature_fraction': 0.6968197003398335, 'bagging_fraction': 0.9645674507584541, 'bagging_freq': 1, 'min_child_samples': 50}. \n",
            "[I 2024-07-11 18:52:03,115] Trial 38 finished with values: [0.9726232262909239, 355.73740595621393, 669.4710538481199] and parameters: {'boosting_type': 'dart', 'learning_rate': 0.7894664989610014, 'lambda_l1': 3.687364505992294e-05, 'lambda_l2': 0.6712638839220185, 'num_leaves': 254, 'feature_fraction': 0.41740004161689637, 'bagging_fraction': 0.800957320914967, 'bagging_freq': 6, 'min_child_samples': 94}. \n",
            "[I 2024-07-11 18:52:03,403] Trial 39 finished with values: [0.003963992205404221, 3067.224816753596, 4038.1104205500114] and parameters: {'boosting_type': 'dart', 'learning_rate': 0.0002527700886166844, 'lambda_l1': 0.0007193268323808589, 'lambda_l2': 1.5840019870369024e-08, 'num_leaves': 203, 'feature_fraction': 0.876027268539982, 'bagging_fraction': 0.762818484854545, 'bagging_freq': 2, 'min_child_samples': 93}. \n",
            "[I 2024-07-11 18:52:03,604] Trial 40 finished with values: [0.24450543768820565, 2648.7271181426595, 3516.8702209534963] and parameters: {'boosting_type': 'gbdt', 'learning_rate': 0.015373780732900157, 'lambda_l1': 6.517726189785428e-05, 'lambda_l2': 0.08816536895509287, 'num_leaves': 116, 'feature_fraction': 0.4279871669702217, 'bagging_fraction': 0.6947012993453754, 'bagging_freq': 5, 'min_child_samples': 29}. \n",
            "[I 2024-07-11 18:52:03,812] Trial 41 finished with values: [0.001188416417577054, 3071.6311381153646, 4043.7328499165465] and parameters: {'boosting_type': 'gbdt', 'learning_rate': 7.239138940551112e-05, 'lambda_l1': 0.0009879373722881679, 'lambda_l2': 0.08615103091758967, 'num_leaves': 118, 'feature_fraction': 0.5210217732579729, 'bagging_fraction': 0.9301589183691495, 'bagging_freq': 3, 'min_child_samples': 64}. \n",
            "[I 2024-07-11 18:52:04,030] Trial 42 finished with values: [0.01017340522167165, 3057.57428047501, 4025.50369922077] and parameters: {'boosting_type': 'dart', 'learning_rate': 0.0006275770321641044, 'lambda_l1': 2.3965042626971876e-06, 'lambda_l2': 9.154427680560976e-07, 'num_leaves': 77, 'feature_fraction': 0.8772202333515038, 'bagging_fraction': 0.9915219637609655, 'bagging_freq': 5, 'min_child_samples': 46}. \n",
            "[I 2024-07-11 18:52:04,229] Trial 43 finished with values: [0.9848906302901934, 281.05208766038197, 497.351972778963] and parameters: {'boosting_type': 'gbdt', 'learning_rate': 0.5366665725720335, 'lambda_l1': 0.308952621244322, 'lambda_l2': 0.039189743204846035, 'num_leaves': 153, 'feature_fraction': 0.6191992228733021, 'bagging_fraction': 0.9297473501267735, 'bagging_freq': 1, 'min_child_samples': 29}. \n",
            "[I 2024-07-11 18:52:04,416] Trial 44 finished with values: [-9.643676743564811e-05, 3073.6959857755223, 4046.3329064779055] and parameters: {'boosting_type': 'gbdt', 'learning_rate': 3.112144641355497e-06, 'lambda_l1': 3.277886096538315e-08, 'lambda_l2': 2.522592950879867, 'num_leaves': 98, 'feature_fraction': 0.6916705631139688, 'bagging_fraction': 0.41996415752098637, 'bagging_freq': 6, 'min_child_samples': 20}. \n",
            "[I 2024-07-11 18:52:04,643] Trial 45 finished with values: [2.7498451826368786e-05, 3073.499079346569, 4046.0821813103844] and parameters: {'boosting_type': 'dart', 'learning_rate': 1.1167402805825846e-05, 'lambda_l1': 7.355190049889447e-05, 'lambda_l2': 1.423828952268008, 'num_leaves': 185, 'feature_fraction': 0.7514207583331989, 'bagging_fraction': 0.5588361654992587, 'bagging_freq': 7, 'min_child_samples': 38}. \n",
            "[I 2024-07-11 18:52:04,868] Trial 46 finished with values: [0.0025472416228654593, 3069.4352370338393, 4040.9812818047167] and parameters: {'boosting_type': 'dart', 'learning_rate': 0.0001689528931170494, 'lambda_l1': 6.223097252420985e-05, 'lambda_l2': 2.0973620171257336e-05, 'num_leaves': 139, 'feature_fraction': 0.46076773602781945, 'bagging_fraction': 0.5710329545964852, 'bagging_freq': 7, 'min_child_samples': 14}. \n",
            "[I 2024-07-11 18:52:05,100] Trial 47 finished with values: [0.9814274601873415, 298.52800757965133, 551.4121355853482] and parameters: {'boosting_type': 'gbdt', 'learning_rate': 0.5449292045900219, 'lambda_l1': 3.423993778108669e-07, 'lambda_l2': 0.7131409828968006, 'num_leaves': 243, 'feature_fraction': 0.5942218196926203, 'bagging_fraction': 0.4221698069853304, 'bagging_freq': 7, 'min_child_samples': 11}. \n",
            "[I 2024-07-11 18:52:05,334] Trial 48 finished with values: [0.002573819334522942, 3069.511761275224, 4040.927444292181] and parameters: {'boosting_type': 'dart', 'learning_rate': 0.0001643249732961803, 'lambda_l1': 1.792582520030182e-08, 'lambda_l2': 4.357573417104434e-07, 'num_leaves': 105, 'feature_fraction': 0.9414358093558097, 'bagging_fraction': 0.8618806117889284, 'bagging_freq': 7, 'min_child_samples': 42}. \n",
            "[I 2024-07-11 18:52:05,537] Trial 49 finished with values: [0.9424690253812346, 622.3123333243965, 970.491054429357] and parameters: {'boosting_type': 'dart', 'learning_rate': 0.21877125274726844, 'lambda_l1': 3.2640623692816948e-06, 'lambda_l2': 5.166723133095792e-05, 'num_leaves': 57, 'feature_fraction': 0.5527282555754156, 'bagging_fraction': 0.8564994825064121, 'bagging_freq': 4, 'min_child_samples': 93}. \n",
            "[I 2024-07-11 18:52:05,720] Trial 50 finished with values: [0.525577655298076, 2044.0147205710364, 2786.9118917252626] and parameters: {'boosting_type': 'dart', 'learning_rate': 0.04980612765624969, 'lambda_l1': 7.355190049889447e-05, 'lambda_l2': 7.472868982923927, 'num_leaves': 199, 'feature_fraction': 0.6399223387069294, 'bagging_fraction': 0.45659839946371195, 'bagging_freq': 2, 'min_child_samples': 89}. \n",
            "[I 2024-07-11 18:52:05,963] Trial 51 finished with values: [0.9818435472403051, 310.3764995405838, 545.2004089569324] and parameters: {'boosting_type': 'gbdt', 'learning_rate': 0.7306703981149135, 'lambda_l1': 3.423993778108669e-07, 'lambda_l2': 0.7131409828968006, 'num_leaves': 243, 'feature_fraction': 0.5184318362320128, 'bagging_fraction': 0.6094729272130379, 'bagging_freq': 7, 'min_child_samples': 11}. \n",
            "[I 2024-07-11 18:52:06,216] Trial 52 finished with values: [0.925443812861263, 690.7791715628746, 1104.7970750981106] and parameters: {'boosting_type': 'dart', 'learning_rate': 0.20119521123627399, 'lambda_l1': 1.0102503506330849e-07, 'lambda_l2': 0.00011720435974882998, 'num_leaves': 151, 'feature_fraction': 0.676007593992231, 'bagging_fraction': 0.45032426351702626, 'bagging_freq': 6, 'min_child_samples': 96}. \n",
            "[I 2024-07-11 18:52:06,415] Trial 53 finished with values: [0.22009745450005236, 2701.064888865838, 3573.228916115418] and parameters: {'boosting_type': 'dart', 'learning_rate': 0.015373780732900157, 'lambda_l1': 1.4678010051556972e-05, 'lambda_l2': 0.08887758767980129, 'num_leaves': 60, 'feature_fraction': 0.6852444653230895, 'bagging_fraction': 0.6947012993453754, 'bagging_freq': 5, 'min_child_samples': 29}. \n",
            "[I 2024-07-11 18:52:06,643] Trial 54 finished with values: [0.001939483150682042, 3070.5092406879717, 4042.212200560336] and parameters: {'boosting_type': 'dart', 'learning_rate': 0.0001259389706389794, 'lambda_l1': 7.112809247225089e-06, 'lambda_l2': 1.5840019870369024e-08, 'num_leaves': 139, 'feature_fraction': 0.8122120343512258, 'bagging_fraction': 0.6719284398677983, 'bagging_freq': 5, 'min_child_samples': 13}. \n",
            "[I 2024-07-11 18:52:06,891] Trial 55 finished with values: [0.9744230105746721, 341.3962142609669, 647.0910348000288] and parameters: {'boosting_type': 'dart', 'learning_rate': 0.4567506008800951, 'lambda_l1': 0.005084136249325221, 'lambda_l2': 4.177974032274393e-07, 'num_leaves': 144, 'feature_fraction': 0.7721275233597114, 'bagging_fraction': 0.42981960870730795, 'bagging_freq': 7, 'min_child_samples': 84}. \n",
            "[I 2024-07-11 18:52:07,088] Trial 56 finished with values: [9.834150470178216e-06, 3073.5331342063564, 4046.1179177427475] and parameters: {'boosting_type': 'dart', 'learning_rate': 9.869085284071399e-06, 'lambda_l1': 6.318168928401697, 'lambda_l2': 5.166723133095792e-05, 'num_leaves': 57, 'feature_fraction': 0.9411527365762653, 'bagging_fraction': 0.8564994825064121, 'bagging_freq': 4, 'min_child_samples': 37}. \n",
            "[I 2024-07-11 18:52:07,289] Trial 57 finished with values: [-0.00015231016224381833, 3073.787314478502, 4046.4459351769856] and parameters: {'boosting_type': 'gbdt', 'learning_rate': 3.167804700981808e-08, 'lambda_l1': 0.010164734534704555, 'lambda_l2': 0.08816536895509287, 'num_leaves': 116, 'feature_fraction': 0.4279871669702217, 'bagging_fraction': 0.744547458583378, 'bagging_freq': 5, 'min_child_samples': 29}. \n",
            "[I 2024-07-11 18:52:07,479] Trial 58 finished with values: [0.975936323031714, 353.65763341528816, 627.6559720135981] and parameters: {'boosting_type': 'gbdt', 'learning_rate': 0.34322284781478785, 'lambda_l1': 0.09295653043786847, 'lambda_l2': 0.00011720435974882998, 'num_leaves': 39, 'feature_fraction': 0.676007593992231, 'bagging_fraction': 0.9186958677376139, 'bagging_freq': 6, 'min_child_samples': 58}. \n",
            "[I 2024-07-11 18:52:07,680] Trial 59 finished with values: [0.7003507130318718, 1601.8939897768964, 2214.86517790561] and parameters: {'boosting_type': 'dart', 'learning_rate': 0.07988564653619137, 'lambda_l1': 9.401600300786153e-07, 'lambda_l2': 0.011822870636915972, 'num_leaves': 57, 'feature_fraction': 0.4393307570993044, 'bagging_fraction': 0.973192027764224, 'bagging_freq': 5, 'min_child_samples': 93}. \n",
            "[I 2024-07-11 18:52:07,915] Trial 60 finished with values: [0.9780610664250042, 310.847352909312, 599.3057265445311] and parameters: {'boosting_type': 'gbdt', 'learning_rate': 0.4567506008800951, 'lambda_l1': 2.84326187519228e-08, 'lambda_l2': 2.0780303677889028e-06, 'num_leaves': 144, 'feature_fraction': 0.7721275233597114, 'bagging_fraction': 0.42981960870730795, 'bagging_freq': 7, 'min_child_samples': 55}. \n",
            "[I 2024-07-11 18:52:08,140] Trial 61 finished with values: [-0.0001055493138031327, 3073.7112368805974, 4046.351340856272] and parameters: {'boosting_type': 'dart', 'learning_rate': 2.9911097560900433e-06, 'lambda_l1': 1.4678010051556972e-05, 'lambda_l2': 4.177974032274393e-07, 'num_leaves': 142, 'feature_fraction': 0.5054948276917737, 'bagging_fraction': 0.64567783035257, 'bagging_freq': 1, 'min_child_samples': 84}. \n",
            "[I 2024-07-11 18:52:08,361] Trial 62 finished with values: [-0.00014744354651674563, 3073.779506114381, 4046.4360904157516] and parameters: {'boosting_type': 'gbdt', 'learning_rate': 2.930120952282277e-07, 'lambda_l1': 0.00014532958671170976, 'lambda_l2': 7.01613269495324e-05, 'num_leaves': 179, 'feature_fraction': 0.6837211768318239, 'bagging_fraction': 0.5984118492892605, 'bagging_freq': 1, 'min_child_samples': 80}. \n",
            "[I 2024-07-11 18:52:08,582] Trial 63 finished with values: [0.00019474315893108773, 3073.2272113789863, 4045.7438149430777] and parameters: {'boosting_type': 'gbdt', 'learning_rate': 1.8895677911014235e-05, 'lambda_l1': 0.00012658489937800881, 'lambda_l2': 0.00044789018969565404, 'num_leaves': 151, 'feature_fraction': 0.7781823775530523, 'bagging_fraction': 0.4266463472889814, 'bagging_freq': 7, 'min_child_samples': 93}. \n",
            "[I 2024-07-11 18:52:08,859] Trial 64 finished with values: [0.9177149979087937, 830.6264018811557, 1160.649298300431] and parameters: {'boosting_type': 'gbdt', 'learning_rate': 0.13100599463900542, 'lambda_l1': 5.12294724223626e-08, 'lambda_l2': 0.011822870636915972, 'num_leaves': 244, 'feature_fraction': 0.9027912519649631, 'bagging_fraction': 0.973192027764224, 'bagging_freq': 5, 'min_child_samples': 35}. \n",
            "[I 2024-07-11 18:52:09,008] Trial 65 finished with values: [0.9470822106550187, 561.3084512569544, 930.7681580475632] and parameters: {'boosting_type': 'gbdt', 'learning_rate': 0.24122511411453812, 'lambda_l1': 0.0017847439641512444, 'lambda_l2': 0.0002722401938699933, 'num_leaves': 12, 'feature_fraction': 0.7236559880972648, 'bagging_fraction': 0.8302976666773918, 'bagging_freq': 5, 'min_child_samples': 90}. \n",
            "[I 2024-07-11 18:52:09,205] Trial 66 finished with values: [0.9747352093227003, 348.7160269937459, 643.1296365693353] and parameters: {'boosting_type': 'dart', 'learning_rate': 0.5232782247892038, 'lambda_l1': 0.00017915006028571903, 'lambda_l2': 0.0013234645355306351, 'num_leaves': 67, 'feature_fraction': 0.5712627448669172, 'bagging_fraction': 0.49477059336357604, 'bagging_freq': 5, 'min_child_samples': 58}. \n",
            "[I 2024-07-11 18:52:09,391] Trial 67 finished with values: [-0.00015264581203666694, 3073.787858915305, 4046.446614167881] and parameters: {'boosting_type': 'gbdt', 'learning_rate': 1.3266070107711765e-08, 'lambda_l1': 0.2961394714539541, 'lambda_l2': 4.196455247402509, 'num_leaves': 166, 'feature_fraction': 0.6968197003398335, 'bagging_fraction': 0.9645674507584541, 'bagging_freq': 1, 'min_child_samples': 50}. \n",
            "[I 2024-07-11 18:52:09,607] Trial 68 finished with values: [0.9841930356125759, 299.24333183104795, 508.70371394288964] and parameters: {'boosting_type': 'gbdt', 'learning_rate': 0.9127965801554532, 'lambda_l1': 0.003587996816062893, 'lambda_l2': 0.1549024475512669, 'num_leaves': 86, 'feature_fraction': 0.8154598951824813, 'bagging_fraction': 0.973192027764224, 'bagging_freq': 5, 'min_child_samples': 35}. \n",
            "[I 2024-07-11 18:52:09,850] Trial 69 finished with values: [7.653927496176216e-05, 3073.41335220772, 4045.98296576537] and parameters: {'boosting_type': 'gbdt', 'learning_rate': 1.2666195454084367e-05, 'lambda_l1': 0.308952621244322, 'lambda_l2': 0.039189743204846035, 'num_leaves': 217, 'feature_fraction': 0.4118238164725108, 'bagging_fraction': 0.845627141963486, 'bagging_freq': 6, 'min_child_samples': 94}. \n",
            "[I 2024-07-11 18:52:10,053] Trial 70 finished with values: [0.02531957388214301, 3032.256021257745, 3994.586161729858] and parameters: {'boosting_type': 'gbdt', 'learning_rate': 0.0014024416624608864, 'lambda_l1': 0.007707795385949045, 'lambda_l2': 3.5521117283238417, 'num_leaves': 85, 'feature_fraction': 0.8901834291842816, 'bagging_fraction': 0.8382261390763914, 'bagging_freq': 3, 'min_child_samples': 77}. \n",
            "[I 2024-07-11 18:52:10,296] Trial 71 finished with values: [-0.00015263533780562888, 3073.7878373236013, 4046.446592979407] and parameters: {'boosting_type': 'gbdt', 'learning_rate': 1.4106110671881957e-08, 'lambda_l1': 0.565559280407076, 'lambda_l2': 3.080598777732825e-05, 'num_leaves': 241, 'feature_fraction': 0.40260474171991434, 'bagging_fraction': 0.684750004678631, 'bagging_freq': 5, 'min_child_samples': 76}. \n",
            "[I 2024-07-11 18:52:10,478] Trial 72 finished with values: [0.003792940701166647, 3067.5359585491, 4038.4571425580107] and parameters: {'boosting_type': 'gbdt', 'learning_rate': 0.00021030876140112732, 'lambda_l1': 0.09295653043786847, 'lambda_l2': 0.23368726497350148, 'num_leaves': 39, 'feature_fraction': 0.8067184522459785, 'bagging_fraction': 0.9186958677376139, 'bagging_freq': 5, 'min_child_samples': 29}. \n",
            "[I 2024-07-11 18:52:10,735] Trial 73 finished with values: [0.0029611744555794184, 3068.699856937916, 4040.142711562287] and parameters: {'boosting_type': 'dart', 'learning_rate': 0.00019816261729330422, 'lambda_l1': 0.0011688588985184992, 'lambda_l2': 0.23368726497350148, 'num_leaves': 184, 'feature_fraction': 0.4522418879644244, 'bagging_fraction': 0.8328597095741403, 'bagging_freq': 7, 'min_child_samples': 91}. \n",
            "[I 2024-07-11 18:52:10,982] Trial 74 finished with values: [0.0025451283296258342, 3069.431012559508, 4040.9855625958767] and parameters: {'boosting_type': 'dart', 'learning_rate': 0.0001689528931170494, 'lambda_l1': 6.223097252420985e-05, 'lambda_l2': 2.0973620171257336e-05, 'num_leaves': 139, 'feature_fraction': 0.46076773602781945, 'bagging_fraction': 0.569456506348915, 'bagging_freq': 3, 'min_child_samples': 21}. \n",
            "[I 2024-07-11 18:52:11,207] Trial 75 finished with values: [0.7558832527865107, 1427.3115997735142, 1999.1227347947045] and parameters: {'boosting_type': 'gbdt', 'learning_rate': 0.07988564653619137, 'lambda_l1': 3.423993778108669e-07, 'lambda_l2': 0.7131409828968006, 'num_leaves': 243, 'feature_fraction': 0.4393307570993044, 'bagging_fraction': 0.4221698069853304, 'bagging_freq': 5, 'min_child_samples': 11}. \n",
            "[I 2024-07-11 18:52:11,401] Trial 76 finished with values: [0.2493688452565641, 2642.2144021407194, 3505.5322251123457] and parameters: {'boosting_type': 'dart', 'learning_rate': 0.018011391793318652, 'lambda_l1': 4.950611652476449e-07, 'lambda_l2': 2.058220793012835, 'num_leaves': 58, 'feature_fraction': 0.6848940199070328, 'bagging_fraction': 0.569456506348915, 'bagging_freq': 3, 'min_child_samples': 21}. \n",
            "[I 2024-07-11 18:52:11,654] Trial 77 finished with values: [0.9832846805447543, 293.86712426453084, 523.1160095118357] and parameters: {'boosting_type': 'gbdt', 'learning_rate': 0.7306703981149135, 'lambda_l1': 6.445185030936905e-06, 'lambda_l2': 1.2963427680948363e-05, 'num_leaves': 238, 'feature_fraction': 0.5184318362320128, 'bagging_fraction': 0.8382261390763914, 'bagging_freq': 3, 'min_child_samples': 26}. \n",
            "[I 2024-07-11 18:52:11,894] Trial 78 finished with values: [0.959656331315583, 467.4851103214379, 812.696454739701] and parameters: {'boosting_type': 'gbdt', 'learning_rate': 0.24122511411453812, 'lambda_l1': 6.445185030936905e-06, 'lambda_l2': 6.22088549729951, 'num_leaves': 238, 'feature_fraction': 0.5184318362320128, 'bagging_fraction': 0.8302976666773918, 'bagging_freq': 7, 'min_child_samples': 26}. \n",
            "[I 2024-07-11 18:52:12,154] Trial 79 finished with values: [0.9727868346486639, 354.88448985567544, 667.4676184576041] and parameters: {'boosting_type': 'dart', 'learning_rate': 0.7894664989610014, 'lambda_l1': 3.687364505992294e-05, 'lambda_l2': 0.00026917283119425376, 'num_leaves': 184, 'feature_fraction': 0.41740004161689637, 'bagging_fraction': 0.8328597095741403, 'bagging_freq': 6, 'min_child_samples': 91}. \n",
            "[I 2024-07-11 18:52:12,335] Trial 80 finished with values: [0.9560352855121547, 535.776859578867, 848.3846448312066] and parameters: {'boosting_type': 'gbdt', 'learning_rate': 0.20119521123627399, 'lambda_l1': 1.7921959080760892e-08, 'lambda_l2': 0.1549024475512669, 'num_leaves': 55, 'feature_fraction': 0.6003405526341952, 'bagging_fraction': 0.8041408146940341, 'bagging_freq': 6, 'min_child_samples': 50}. \n",
            "[I 2024-07-11 18:52:12,564] Trial 81 finished with values: [0.0030042855066910734, 3068.688682793586, 4040.055364571726] and parameters: {'boosting_type': 'dart', 'learning_rate': 0.00019816261729330422, 'lambda_l1': 0.0011688588985184992, 'lambda_l2': 3.896791380560798e-08, 'num_leaves': 103, 'feature_fraction': 0.4522418879644244, 'bagging_fraction': 0.7490523333584145, 'bagging_freq': 7, 'min_child_samples': 26}. \n",
            "[I 2024-07-11 18:52:12,752] Trial 82 finished with values: [0.9762793552977952, 354.63785106974757, 623.1662367833876] and parameters: {'boosting_type': 'dart', 'learning_rate': 0.7894664989610014, 'lambda_l1': 3.687364505992294e-05, 'lambda_l2': 0.23368726497350148, 'num_leaves': 39, 'feature_fraction': 0.41740004161689637, 'bagging_fraction': 0.9186958677376139, 'bagging_freq': 4, 'min_child_samples': 12}. \n",
            "[I 2024-07-11 18:52:13,074] Trial 83 finished with values: [0.00015004274865471068, 3073.2999680057574, 4045.834254749149] and parameters: {'boosting_type': 'dart', 'learning_rate': 1.8895677911014235e-05, 'lambda_l1': 6.445185030936905e-06, 'lambda_l2': 1.007112494892167e-05, 'num_leaves': 189, 'feature_fraction': 0.5184318362320128, 'bagging_fraction': 0.6094729272130379, 'bagging_freq': 5, 'min_child_samples': 26}. \n",
            "[I 2024-07-11 18:52:13,400] Trial 84 finished with values: [0.9838257459767273, 287.6908947073908, 514.579879246803] and parameters: {'boosting_type': 'gbdt', 'learning_rate': 0.5449292045900219, 'lambda_l1': 3.423993778108669e-07, 'lambda_l2': 0.7131409828968006, 'num_leaves': 153, 'feature_fraction': 0.5942218196926203, 'bagging_fraction': 0.9297473501267735, 'bagging_freq': 7, 'min_child_samples': 29}. \n",
            "[I 2024-07-11 18:52:13,786] Trial 85 finished with values: [0.014009248522113715, 3051.1829490959444, 4017.6961750381415] and parameters: {'boosting_type': 'dart', 'learning_rate': 0.0008710845200694826, 'lambda_l1': 7.355190049889447e-05, 'lambda_l2': 0.09811288049996122, 'num_leaves': 185, 'feature_fraction': 0.7514207583331989, 'bagging_fraction': 0.5118743769770084, 'bagging_freq': 4, 'min_child_samples': 38}. \n",
            "[I 2024-07-11 18:52:14,150] Trial 86 finished with values: [0.9832511881818183, 292.80925886869625, 523.6398291046] and parameters: {'boosting_type': 'dart', 'learning_rate': 0.5366665725720335, 'lambda_l1': 0.308952621244322, 'lambda_l2': 0.009375385207921595, 'num_leaves': 153, 'feature_fraction': 0.6399223387069294, 'bagging_fraction': 0.9297473501267735, 'bagging_freq': 2, 'min_child_samples': 29}. \n",
            "[I 2024-07-11 18:52:14,461] Trial 87 finished with values: [0.0035267222965044143, 3067.871721890173, 4038.996709002202] and parameters: {'boosting_type': 'gbdt', 'learning_rate': 0.00019816261729330422, 'lambda_l1': 0.0011688588985184992, 'lambda_l2': 1.4944827495956705e-06, 'num_leaves': 184, 'feature_fraction': 0.6899146538295143, 'bagging_fraction': 0.7015363498544811, 'bagging_freq': 1, 'min_child_samples': 91}. \n",
            "[I 2024-07-11 18:52:14,817] Trial 88 finished with values: [7.954874901006104e-05, 3073.4112322699166, 4045.9768771544036] and parameters: {'boosting_type': 'gbdt', 'learning_rate': 1.2666195454084367e-05, 'lambda_l1': 8.931187589418437, 'lambda_l2': 2.0780303677889028e-06, 'num_leaves': 217, 'feature_fraction': 0.4118238164725108, 'bagging_fraction': 0.845627141963486, 'bagging_freq': 4, 'min_child_samples': 55}. \n",
            "[I 2024-07-11 18:52:15,078] Trial 89 finished with values: [0.525168497301555, 2042.5406568161989, 2788.11339661762] and parameters: {'boosting_type': 'dart', 'learning_rate': 0.04980612765624969, 'lambda_l1': 0.23329811331057312, 'lambda_l2': 7.472868982923927, 'num_leaves': 199, 'feature_fraction': 0.6399223387069294, 'bagging_fraction': 0.45659839946371195, 'bagging_freq': 6, 'min_child_samples': 89}. \n",
            "[I 2024-07-11 18:52:15,343] Trial 90 finished with values: [0.9527111174858243, 534.3808526732271, 879.8734164053526] and parameters: {'boosting_type': 'gbdt', 'learning_rate': 0.21877125274726844, 'lambda_l1': 6.517726189785428e-05, 'lambda_l2': 0.08816536895509287, 'num_leaves': 57, 'feature_fraction': 0.4279871669702217, 'bagging_fraction': 0.8459935153214971, 'bagging_freq': 4, 'min_child_samples': 29}. \n",
            "[I 2024-07-11 18:52:15,674] Trial 91 finished with values: [0.9332084474825016, 629.2696445945564, 1045.6863528641918] and parameters: {'boosting_type': 'dart', 'learning_rate': 0.21877125274726844, 'lambda_l1': 2.84326187519228e-08, 'lambda_l2': 1.9272928460103325, 'num_leaves': 144, 'feature_fraction': 0.7721275233597114, 'bagging_fraction': 0.42981960870730795, 'bagging_freq': 4, 'min_child_samples': 93}. \n",
            "[I 2024-07-11 18:52:15,970] Trial 92 finished with values: [0.0029622580230872497, 3068.7655815325334, 4040.140516177089] and parameters: {'boosting_type': 'gbdt', 'learning_rate': 0.0001689528931170494, 'lambda_l1': 0.0023895429978462333, 'lambda_l2': 0.011125790619269937, 'num_leaves': 139, 'feature_fraction': 0.46076773602781945, 'bagging_fraction': 0.6719284398677983, 'bagging_freq': 7, 'min_child_samples': 14}. \n",
            "[I 2024-07-11 18:52:16,234] Trial 93 finished with values: [0.7547631352082123, 1432.5312383770124, 2003.703923392917] and parameters: {'boosting_type': 'gbdt', 'learning_rate': 0.07988564653619137, 'lambda_l1': 3.423993778108669e-07, 'lambda_l2': 0.7131409828968006, 'num_leaves': 96, 'feature_fraction': 0.4393307570993044, 'bagging_fraction': 0.4221698069853304, 'bagging_freq': 5, 'min_child_samples': 11}. \n",
            "[I 2024-07-11 18:52:16,552] Trial 94 finished with values: [0.9794929455734335, 300.17210881635145, 579.4184405743633] and parameters: {'boosting_type': 'gbdt', 'learning_rate': 0.5449292045900219, 'lambda_l1': 0.0026554098890424183, 'lambda_l2': 0.7131409828968006, 'num_leaves': 244, 'feature_fraction': 0.5942218196926203, 'bagging_fraction': 0.7136227923502911, 'bagging_freq': 7, 'min_child_samples': 59}. \n",
            "[I 2024-07-11 18:52:16,740] Trial 95 finished with values: [0.0018656312836941025, 3070.561349865749, 4042.3617503073556] and parameters: {'boosting_type': 'gbdt', 'learning_rate': 0.00010821605944253756, 'lambda_l1': 2.84326187519228e-08, 'lambda_l2': 2.0780303677889028e-06, 'num_leaves': 67, 'feature_fraction': 0.7721275233597114, 'bagging_fraction': 0.42981960870730795, 'bagging_freq': 6, 'min_child_samples': 58}. \n",
            "[I 2024-07-11 18:52:17,008] Trial 96 finished with values: [0.003824402479396971, 3067.300005565007, 4038.3933716556635] and parameters: {'boosting_type': 'dart', 'learning_rate': 0.0002527700886166844, 'lambda_l1': 0.0026554098890424183, 'lambda_l2': 0.049038792851736596, 'num_leaves': 244, 'feature_fraction': 0.4580328020591157, 'bagging_fraction': 0.762818484854545, 'bagging_freq': 5, 'min_child_samples': 96}. \n",
            "[I 2024-07-11 18:52:17,212] Trial 97 finished with values: [0.0011576707161999877, 3071.6451106661257, 4043.7950871031894] and parameters: {'boosting_type': 'gbdt', 'learning_rate': 7.239138940551112e-05, 'lambda_l1': 0.0009879373722881679, 'lambda_l2': 0.08615103091758967, 'num_leaves': 118, 'feature_fraction': 0.4790621155628316, 'bagging_fraction': 0.46608199656423527, 'bagging_freq': 3, 'min_child_samples': 64}. \n",
            "[I 2024-07-11 18:52:17,404] Trial 98 finished with values: [5.2873116943796816e-05, 3073.4557038421335, 4046.030845582878] and parameters: {'boosting_type': 'gbdt', 'learning_rate': 1.1167402805825846e-05, 'lambda_l1': 3.687364505992294e-05, 'lambda_l2': 0.6712638839220185, 'num_leaves': 254, 'feature_fraction': 0.7514207583331989, 'bagging_fraction': 0.5588361654992587, 'bagging_freq': 1, 'min_child_samples': 94}. \n",
            "[I 2024-07-11 18:52:17,629] Trial 99 finished with values: [-9.832672712661861e-05, 3073.6994498436957, 4046.336729810434] and parameters: {'boosting_type': 'gbdt', 'learning_rate': 2.9911097560900433e-06, 'lambda_l1': 0.0009879373722881679, 'lambda_l2': 0.08615103091758967, 'num_leaves': 142, 'feature_fraction': 0.5054948276917737, 'bagging_fraction': 0.64567783035257, 'bagging_freq': 3, 'min_child_samples': 64}. \n"
          ]
        }
      ]
    },
    {
      "cell_type": "markdown",
      "source": [
        "Після оптимізації замість параметру `best_params` буде `best_trials` зі списком найкращих наборів гіперпараметрів"
      ],
      "metadata": {
        "id": "Jl4ot-Y6zXMw"
      }
    },
    {
      "cell_type": "code",
      "source": [
        "len(study.best_trials)"
      ],
      "metadata": {
        "id": "KuIaTARPzF3Y",
        "colab": {
          "base_uri": "https://localhost:8080/"
        },
        "outputId": "44dedaef-44b5-4697-ea13-c1dbc720ef57"
      },
      "execution_count": 155,
      "outputs": [
        {
          "output_type": "execute_result",
          "data": {
            "text/plain": [
              "1"
            ]
          },
          "metadata": {},
          "execution_count": 155
        }
      ]
    },
    {
      "cell_type": "code",
      "source": [
        "data = pd.DataFrame([trial.values for trial in study.best_trials],\n",
        "                    columns=['r2', 'mae', 'rmse'])\n",
        "\n",
        "data"
      ],
      "metadata": {
        "id": "-6nw8bGO0Uw2",
        "colab": {
          "base_uri": "https://localhost:8080/",
          "height": 80
        },
        "outputId": "f5284e4c-1a37-40a2-c25a-7ff91726e592"
      },
      "execution_count": 156,
      "outputs": [
        {
          "output_type": "execute_result",
          "data": {
            "text/plain": [
              "         r2         mae        rmse\n",
              "0  0.984891  281.052088  497.351973"
            ],
            "text/html": [
              "\n",
              "  <div id=\"df-dc3954a5-e3af-4657-a0be-5e6f97b60d17\" class=\"colab-df-container\">\n",
              "    <div>\n",
              "<style scoped>\n",
              "    .dataframe tbody tr th:only-of-type {\n",
              "        vertical-align: middle;\n",
              "    }\n",
              "\n",
              "    .dataframe tbody tr th {\n",
              "        vertical-align: top;\n",
              "    }\n",
              "\n",
              "    .dataframe thead th {\n",
              "        text-align: right;\n",
              "    }\n",
              "</style>\n",
              "<table border=\"1\" class=\"dataframe\">\n",
              "  <thead>\n",
              "    <tr style=\"text-align: right;\">\n",
              "      <th></th>\n",
              "      <th>r2</th>\n",
              "      <th>mae</th>\n",
              "      <th>rmse</th>\n",
              "    </tr>\n",
              "  </thead>\n",
              "  <tbody>\n",
              "    <tr>\n",
              "      <th>0</th>\n",
              "      <td>0.984891</td>\n",
              "      <td>281.052088</td>\n",
              "      <td>497.351973</td>\n",
              "    </tr>\n",
              "  </tbody>\n",
              "</table>\n",
              "</div>\n",
              "    <div class=\"colab-df-buttons\">\n",
              "\n",
              "  <div class=\"colab-df-container\">\n",
              "    <button class=\"colab-df-convert\" onclick=\"convertToInteractive('df-dc3954a5-e3af-4657-a0be-5e6f97b60d17')\"\n",
              "            title=\"Convert this dataframe to an interactive table.\"\n",
              "            style=\"display:none;\">\n",
              "\n",
              "  <svg xmlns=\"http://www.w3.org/2000/svg\" height=\"24px\" viewBox=\"0 -960 960 960\">\n",
              "    <path d=\"M120-120v-720h720v720H120Zm60-500h600v-160H180v160Zm220 220h160v-160H400v160Zm0 220h160v-160H400v160ZM180-400h160v-160H180v160Zm440 0h160v-160H620v160ZM180-180h160v-160H180v160Zm440 0h160v-160H620v160Z\"/>\n",
              "  </svg>\n",
              "    </button>\n",
              "\n",
              "  <style>\n",
              "    .colab-df-container {\n",
              "      display:flex;\n",
              "      gap: 12px;\n",
              "    }\n",
              "\n",
              "    .colab-df-convert {\n",
              "      background-color: #E8F0FE;\n",
              "      border: none;\n",
              "      border-radius: 50%;\n",
              "      cursor: pointer;\n",
              "      display: none;\n",
              "      fill: #1967D2;\n",
              "      height: 32px;\n",
              "      padding: 0 0 0 0;\n",
              "      width: 32px;\n",
              "    }\n",
              "\n",
              "    .colab-df-convert:hover {\n",
              "      background-color: #E2EBFA;\n",
              "      box-shadow: 0px 1px 2px rgba(60, 64, 67, 0.3), 0px 1px 3px 1px rgba(60, 64, 67, 0.15);\n",
              "      fill: #174EA6;\n",
              "    }\n",
              "\n",
              "    .colab-df-buttons div {\n",
              "      margin-bottom: 4px;\n",
              "    }\n",
              "\n",
              "    [theme=dark] .colab-df-convert {\n",
              "      background-color: #3B4455;\n",
              "      fill: #D2E3FC;\n",
              "    }\n",
              "\n",
              "    [theme=dark] .colab-df-convert:hover {\n",
              "      background-color: #434B5C;\n",
              "      box-shadow: 0px 1px 3px 1px rgba(0, 0, 0, 0.15);\n",
              "      filter: drop-shadow(0px 1px 2px rgba(0, 0, 0, 0.3));\n",
              "      fill: #FFFFFF;\n",
              "    }\n",
              "  </style>\n",
              "\n",
              "    <script>\n",
              "      const buttonEl =\n",
              "        document.querySelector('#df-dc3954a5-e3af-4657-a0be-5e6f97b60d17 button.colab-df-convert');\n",
              "      buttonEl.style.display =\n",
              "        google.colab.kernel.accessAllowed ? 'block' : 'none';\n",
              "\n",
              "      async function convertToInteractive(key) {\n",
              "        const element = document.querySelector('#df-dc3954a5-e3af-4657-a0be-5e6f97b60d17');\n",
              "        const dataTable =\n",
              "          await google.colab.kernel.invokeFunction('convertToInteractive',\n",
              "                                                    [key], {});\n",
              "        if (!dataTable) return;\n",
              "\n",
              "        const docLinkHtml = 'Like what you see? Visit the ' +\n",
              "          '<a target=\"_blank\" href=https://colab.research.google.com/notebooks/data_table.ipynb>data table notebook</a>'\n",
              "          + ' to learn more about interactive tables.';\n",
              "        element.innerHTML = '';\n",
              "        dataTable['output_type'] = 'display_data';\n",
              "        await google.colab.output.renderOutput(dataTable, element);\n",
              "        const docLink = document.createElement('div');\n",
              "        docLink.innerHTML = docLinkHtml;\n",
              "        element.appendChild(docLink);\n",
              "      }\n",
              "    </script>\n",
              "  </div>\n",
              "\n",
              "    </div>\n",
              "  </div>\n"
            ],
            "application/vnd.google.colaboratory.intrinsic+json": {
              "type": "dataframe",
              "variable_name": "data",
              "summary": "{\n  \"name\": \"data\",\n  \"rows\": 1,\n  \"fields\": [\n    {\n      \"column\": \"r2\",\n      \"properties\": {\n        \"dtype\": \"number\",\n        \"std\": null,\n        \"min\": 0.9848906302901934,\n        \"max\": 0.9848906302901934,\n        \"num_unique_values\": 1,\n        \"samples\": [\n          0.9848906302901934\n        ],\n        \"semantic_type\": \"\",\n        \"description\": \"\"\n      }\n    },\n    {\n      \"column\": \"mae\",\n      \"properties\": {\n        \"dtype\": \"number\",\n        \"std\": null,\n        \"min\": 281.05208766038197,\n        \"max\": 281.05208766038197,\n        \"num_unique_values\": 1,\n        \"samples\": [\n          281.05208766038197\n        ],\n        \"semantic_type\": \"\",\n        \"description\": \"\"\n      }\n    },\n    {\n      \"column\": \"rmse\",\n      \"properties\": {\n        \"dtype\": \"number\",\n        \"std\": null,\n        \"min\": 497.351972778963,\n        \"max\": 497.351972778963,\n        \"num_unique_values\": 1,\n        \"samples\": [\n          497.351972778963\n        ],\n        \"semantic_type\": \"\",\n        \"description\": \"\"\n      }\n    }\n  ]\n}"
            }
          },
          "metadata": {},
          "execution_count": 156
        }
      ]
    },
    {
      "cell_type": "code",
      "source": [
        "best_params = study.best_trials[0].params"
      ],
      "metadata": {
        "id": "xv3xqV3bzQjo"
      },
      "execution_count": 157,
      "outputs": []
    },
    {
      "cell_type": "code",
      "source": [
        "best_params"
      ],
      "metadata": {
        "id": "n6ZIuAP2z2HL",
        "colab": {
          "base_uri": "https://localhost:8080/"
        },
        "outputId": "29631126-2b8d-4c3a-ab20-ed26ced38c28"
      },
      "execution_count": 158,
      "outputs": [
        {
          "output_type": "execute_result",
          "data": {
            "text/plain": [
              "{'boosting_type': 'gbdt',\n",
              " 'learning_rate': 0.5366665725720335,\n",
              " 'lambda_l1': 0.308952621244322,\n",
              " 'lambda_l2': 0.039189743204846035,\n",
              " 'num_leaves': 153,\n",
              " 'feature_fraction': 0.6191992228733021,\n",
              " 'bagging_fraction': 0.9297473501267735,\n",
              " 'bagging_freq': 1,\n",
              " 'min_child_samples': 29}"
            ]
          },
          "metadata": {},
          "execution_count": 158
        }
      ]
    },
    {
      "cell_type": "markdown",
      "source": [
        "# Додатково(крос-валідація)"
      ],
      "metadata": {
        "id": "Bu5xnB0_5RmZ"
      }
    },
    {
      "cell_type": "markdown",
      "source": [
        "## Що таке крос-валідація\n",
        "\n",
        "Крос-валідація - це **статистичний метод**, який використовується для оцінки\n",
        "**продуктивності моделі машинного навчання**. Вона ґрунтується на\n",
        "**повторному розділенні набору даних** на кілька **підмножин** (**фолдів**)\n",
        "та **оцінці моделі на кожному з них**.\n",
        "\n",
        "Цей метод дозволяє отримати більш **точну та надійну** оцінку\n",
        "**узагальнення** моделі, тобто її здатності\n",
        "**робити правильні прогнози на нових, не бачених раніше даних**.\n",
        "\n",
        "![](https://miro.medium.com/v2/resize:fit:1200/1*AAwIlHM8TpAVe4l2FihNUQ.png)\n",
        "\n",
        "### Як працює крос-валідація?\n",
        "\n",
        "1. **Розділення даних:** Набір даних розділяється на **k**\n",
        "    **рівномірних** підмножин (**фолдів**).\n",
        "\n",
        "2. **Повторне навчання та оцінка:**\n",
        "    * Для **кожного з k фолдів**:\n",
        "        * **Навчання моделі:** Модель навчається на **об'єднанні**\n",
        "          **k-1 фолдів** (**навчальний набір**).\n",
        "        * **Оцінка моделі:** Прогнози моделі\n",
        "          робляться на **залишковому**\n",
        "          **фолді** (**тестовий набір**).\n",
        "        * **Обчислення метрики:**\n",
        "          Обчислюється метрика\n",
        "          продуктивності моделі (наприклад,\n",
        "          mse).\n",
        "\n",
        "3. **Агрегування результатів:**\n",
        "    * Обчислюється **середнє** значення\n",
        "      метрики продуктивності\n",
        "      **по всіх k фолдах**.\n",
        "\n",
        "### Переваги крос-валідації:\n",
        "\n",
        "* **Більш точна оцінка узагальнення:**\n",
        "    Крос-валідація дає більш\n",
        "    точну оцінку продуктивності\n",
        "    моделі на нових даних,\n",
        "    ніж оцінка на одному\n",
        "    тестовому наборі.\n",
        "* **Зменшення перенавчання:**\n",
        "    Допомагає виявити та\n",
        "    уникнути перенавчання\n",
        "    моделі на навчальних\n",
        "    даних.\n",
        "* **Об'єктивне порівняння моделей:**\n",
        "    Дозволяє\n",
        "    об'єктивно порівнювати\n",
        "    різні моделі машинного\n",
        "    навчання.\n",
        "\n",
        "### Варіації крос-валідації:\n",
        "\n",
        "* **Простий k-fold:** Найпростіший\n",
        "    варіант, де набір даних\n",
        "    ділиться на k однакових\n",
        "    фолдів.\n",
        "* **Stratified k-fold:** Фолди\n",
        "    формуються з урахуванням\n",
        "    розподілу цільової\n",
        "    змінної в наборі даних.\n",
        "* **Leave-one-out:** Спеціальний\n",
        "    випадок, де k = n (кількість\n",
        "    об'єктів у наборі даних),\n",
        "    і модель навчається на\n",
        "    n-1 об'єктах, а\n",
        "    оцінюється на\n",
        "    залишковому 1."
      ],
      "metadata": {
        "id": "MmX16KTs5915"
      }
    },
    {
      "cell_type": "code",
      "source": [
        "X_train, X_test, y_train, y_test = train_test_split(X, y,\n",
        "                                                    train_size=0.8,\n",
        "                                                    random_state=42)"
      ],
      "metadata": {
        "id": "UmzHCqVS3gwP"
      },
      "execution_count": 159,
      "outputs": []
    },
    {
      "cell_type": "code",
      "source": [
        "X_train = preprocessor.fit_transform(X_train)\n",
        "X_test = preprocessor.transform(X_test)"
      ],
      "metadata": {
        "id": "uZSnIbSwqsDB"
      },
      "execution_count": 68,
      "outputs": []
    },
    {
      "cell_type": "code",
      "source": [
        "from sklearn.model_selection import KFold\n",
        "\n",
        "\n",
        "def objective(trial):\n",
        "  \"\"\"\n",
        "  Функція objective для Optuna, яка навчає модель LightGBMRegressor\n",
        "  на тренувальному наборі даних та оцінює її на тестовому наборі.\n",
        "\n",
        "  Args:\n",
        "      trial (optuna.Trial): Об'єкт Optuna, що представляє один набір гіперпараметрів.\n",
        "\n",
        "  Returns:\n",
        "      float: Значення метрики оцінки (R2).\n",
        "  \"\"\"\n",
        "\n",
        "  # 1. Визначення гіперпараметрів:\n",
        "\n",
        "  params = {\n",
        "        \"objective\": \"mse\",\n",
        "        \"verbosity\": -1,\n",
        "        \"n_estimators\": 30,\n",
        "        \"boosting_type\": trial.suggest_categorical(\"boosting_type\", [\"gbdt\", \"dart\"]),\n",
        "        'learning_rate': trial.suggest_float('learning_rate', 1e-8, 1.0, log=True),\n",
        "        \"lambda_l1\": trial.suggest_float(\"lambda_l1\", 1e-8, 10.0, log=True),\n",
        "        \"lambda_l2\": trial.suggest_float(\"lambda_l2\", 1e-8, 10.0, log=True),\n",
        "        \"num_leaves\": trial.suggest_int(\"num_leaves\", 2, 256),\n",
        "        \"feature_fraction\": trial.suggest_float(\"feature_fraction\", 0.4, 1.0),\n",
        "        \"bagging_fraction\": trial.suggest_float(\"bagging_fraction\", 0.4, 1.0),\n",
        "        \"bagging_freq\": trial.suggest_int(\"bagging_freq\", 1, 7),\n",
        "        \"min_child_samples\": trial.suggest_int(\"min_child_samples\", 5, 100),\n",
        "  }\n",
        "\n",
        "  # 2. Створення моделі LightGBMRegressor:\n",
        "\n",
        "  model = lgb.LGBMRegressor(**params)\n",
        "\n",
        "  # 3. Навчання моделі за допомогою крос-валідації:\n",
        "\n",
        "  kf = KFold(n_splits=5, shuffle=True, random_state=42)\n",
        "\n",
        "  r2 = []\n",
        "\n",
        "  for train_index, test_index in kf.split(X_train):\n",
        "    X_train_fold, X_test_fold = X_train.iloc[train_index], X_train.iloc[test_index]\n",
        "    y_train_fold, y_test_fold = y_train.iloc[train_index], y_train.iloc[test_index]\n",
        "\n",
        "    model.fit(X_train_fold, y_train_fold)\n",
        "\n",
        "    # 4. Оцінка моделі на тестовому наборі даних:\n",
        "\n",
        "    y_pred = model.predict(X_test_fold)\n",
        "\n",
        "    r2.append(metrics.r2_score(y_test_fold, y_pred))\n",
        "\n",
        "\n",
        "  # 5. Повернення усередненої метрики:\n",
        "  return np.mean(r2)"
      ],
      "metadata": {
        "id": "xrhmOMfW6h9h"
      },
      "execution_count": 69,
      "outputs": []
    },
    {
      "cell_type": "code",
      "source": [
        "study = optuna.create_study(direction='maximize')\n",
        "study.optimize(objective, n_trials=10)"
      ],
      "metadata": {
        "id": "Jmxl1j5X7T_q",
        "colab": {
          "base_uri": "https://localhost:8080/"
        },
        "outputId": "dbc9ed9d-7972-4955-d1ff-23487bc43d48"
      },
      "execution_count": 70,
      "outputs": [
        {
          "output_type": "stream",
          "name": "stderr",
          "text": [
            "[I 2024-07-11 18:39:06,104] A new study created in memory with name: no-name-d120b272-20e5-4824-b214-b36fc9c92ae6\n",
            "[I 2024-07-11 18:39:09,351] Trial 0 finished with value: 0.18761302142677075 and parameters: {'boosting_type': 'dart', 'learning_rate': 0.004418930047602831, 'lambda_l1': 5.329256971923847, 'lambda_l2': 2.6200724016612564e-06, 'num_leaves': 234, 'feature_fraction': 0.9003623148941915, 'bagging_fraction': 0.7660486167341256, 'bagging_freq': 5, 'min_child_samples': 47}. Best is trial 0 with value: 0.18761302142677075.\n",
            "[I 2024-07-11 18:39:11,779] Trial 1 finished with value: 0.005626590785676289 and parameters: {'boosting_type': 'gbdt', 'learning_rate': 0.00010657028985870083, 'lambda_l1': 0.014468706231880887, 'lambda_l2': 0.00024858260767818155, 'num_leaves': 174, 'feature_fraction': 0.5933909942038416, 'bagging_fraction': 0.7533476819911014, 'bagging_freq': 1, 'min_child_samples': 74}. Best is trial 0 with value: 0.18761302142677075.\n",
            "[I 2024-07-11 18:39:13,968] Trial 2 finished with value: 0.0015772813940081233 and parameters: {'boosting_type': 'dart', 'learning_rate': 3.957495829702825e-05, 'lambda_l1': 0.0035188948485029795, 'lambda_l2': 1.1243949337850609e-05, 'num_leaves': 121, 'feature_fraction': 0.6049111211483634, 'bagging_fraction': 0.7686561374611215, 'bagging_freq': 6, 'min_child_samples': 99}. Best is trial 0 with value: 0.18761302142677075.\n",
            "[I 2024-07-11 18:39:15,243] Trial 3 finished with value: 0.5511004103430419 and parameters: {'boosting_type': 'dart', 'learning_rate': 0.018092653439682835, 'lambda_l1': 1.4042531386041288e-05, 'lambda_l2': 0.007509324110482924, 'num_leaves': 25, 'feature_fraction': 0.8059635550726463, 'bagging_fraction': 0.9675674881698302, 'bagging_freq': 5, 'min_child_samples': 95}. Best is trial 3 with value: 0.5511004103430419.\n",
            "[I 2024-07-11 18:39:17,530] Trial 4 finished with value: 0.05591983005259591 and parameters: {'boosting_type': 'dart', 'learning_rate': 0.0012681207702244478, 'lambda_l1': 0.1413763801740959, 'lambda_l2': 0.006586074753300455, 'num_leaves': 128, 'feature_fraction': 0.6553597252758416, 'bagging_fraction': 0.8255040022826412, 'bagging_freq': 2, 'min_child_samples': 100}. Best is trial 3 with value: 0.5511004103430419.\n",
            "[I 2024-07-11 18:39:19,352] Trial 5 finished with value: -0.00022149292651105768 and parameters: {'boosting_type': 'dart', 'learning_rate': 1.21519934715421e-08, 'lambda_l1': 1.2143876500115853, 'lambda_l2': 2.8834700595816958e-05, 'num_leaves': 130, 'feature_fraction': 0.5063109355562235, 'bagging_fraction': 0.5866492333317604, 'bagging_freq': 1, 'min_child_samples': 54}. Best is trial 3 with value: 0.5511004103430419.\n",
            "[I 2024-07-11 18:39:20,624] Trial 6 finished with value: 0.890596240495564 and parameters: {'boosting_type': 'gbdt', 'learning_rate': 0.053244074425331384, 'lambda_l1': 2.596135637194281, 'lambda_l2': 1.979695687634508, 'num_leaves': 53, 'feature_fraction': 0.4203685773117407, 'bagging_fraction': 0.45224429960223445, 'bagging_freq': 5, 'min_child_samples': 75}. Best is trial 6 with value: 0.890596240495564.\n",
            "[I 2024-07-11 18:39:22,050] Trial 7 finished with value: 0.97934553454755 and parameters: {'boosting_type': 'gbdt', 'learning_rate': 0.2720454659569354, 'lambda_l1': 0.000285089841099186, 'lambda_l2': 2.6350858269323897e-05, 'num_leaves': 46, 'feature_fraction': 0.9747379742991888, 'bagging_fraction': 0.6061662626242763, 'bagging_freq': 2, 'min_child_samples': 12}. Best is trial 7 with value: 0.97934553454755.\n",
            "[I 2024-07-11 18:39:24,335] Trial 8 finished with value: 0.20357064074578757 and parameters: {'boosting_type': 'gbdt', 'learning_rate': 0.004078969707237978, 'lambda_l1': 1.059118480893712, 'lambda_l2': 1.2836325867268086e-05, 'num_leaves': 85, 'feature_fraction': 0.5979133656984348, 'bagging_fraction': 0.8444199104149899, 'bagging_freq': 2, 'min_child_samples': 6}. Best is trial 7 with value: 0.97934553454755.\n",
            "[I 2024-07-11 18:39:26,152] Trial 9 finished with value: -0.0001908552608507197 and parameters: {'boosting_type': 'dart', 'learning_rate': 6.954409177904681e-07, 'lambda_l1': 0.036320660836212076, 'lambda_l2': 3.4124148828151823, 'num_leaves': 120, 'feature_fraction': 0.9778635309720858, 'bagging_fraction': 0.5478220756949845, 'bagging_freq': 2, 'min_child_samples': 96}. Best is trial 7 with value: 0.97934553454755.\n"
          ]
        }
      ]
    },
    {
      "cell_type": "code",
      "source": [
        "study.best_value"
      ],
      "metadata": {
        "id": "-mdolxCp7bPA",
        "colab": {
          "base_uri": "https://localhost:8080/"
        },
        "outputId": "0d0d1ee4-15d0-470a-80c1-fd7c0a73fc26"
      },
      "execution_count": 71,
      "outputs": [
        {
          "output_type": "execute_result",
          "data": {
            "text/plain": [
              "0.97934553454755"
            ]
          },
          "metadata": {},
          "execution_count": 71
        }
      ]
    }
  ]
}