{
  "nbformat": 4,
  "nbformat_minor": 0,
  "metadata": {
    "colab": {
      "provenance": [],
      "toc_visible": true,
      "authorship_tag": "ABX9TyOayLRdxpanU0wBf8JGSUGh",
      "include_colab_link": true
    },
    "kernelspec": {
      "name": "python3",
      "display_name": "Python 3"
    },
    "language_info": {
      "name": "python"
    }
  },
  "cells": [
    {
      "cell_type": "markdown",
      "metadata": {
        "id": "view-in-github",
        "colab_type": "text"
      },
      "source": [
        "<a href=\"https://colab.research.google.com/github/HalyshAnton/Python-AI/blob/AI_6_lesson/textclassification2.ipynb\" target=\"_parent\"><img src=\"https://colab.research.google.com/assets/colab-badge.svg\" alt=\"Open In Colab\"/></a>"
      ]
    },
    {
      "cell_type": "markdown",
      "source": [
        "# Класифікація текстів за допомогою scikit-learn\n",
        "\n",
        "Класифікація тексту - це фундаментальне завдання в обробці природної мови (NLP), яке полягає в автоматичному розподілі текстових даних на заздалегідь визначені класи. Scikit-learn надає потужний інструментарій для побудови та оцінки моделей класифікації тексту. Цей посібник ознайомить вас з основами класифікації тексту за допомогою scikit-learn, включаючи TF-IDF, n-грами та ключові параметри."
      ],
      "metadata": {
        "id": "M8sSf6W3WVsA"
      }
    },
    {
      "cell_type": "markdown",
      "source": [
        "# TF-IDF: Зважування слів за важливістю\n",
        "\n",
        "* **Термін Frequency (TF):** TF підраховує, як часто слово з'являється в документі. Однак, слово, що часто зустрічається в короткому документі, може бути не настільки важливим.\n",
        "* **Зворотна частота документа (IDF):** IDF враховує, наскільки часто слово зустрічається в усіх документах у корпусі. Слова, що з'являються в багатьох документах, матимуть нижчий показник IDF, що зменшує їхню вагу.\n",
        "* **TF-IDF:** Поєднує TF і IDF, надаючи більшу вагу словам, які часто зустрічаються в документі, але рідко в усьому корпусі. Ці слова, ймовірно, є більш інформативними для класифікації."
      ],
      "metadata": {
        "id": "ZaqXnZQBWhKH"
      }
    },
    {
      "cell_type": "markdown",
      "source": [
        "## Приклад:\n",
        "\n",
        "Розглянемо два документи:\n",
        "\n",
        "* **Документ 1:** «The quick brown fox jumps over the lazy dog.»\n",
        "* **Документ 2:** «The dog is lazy.»\n",
        "\n",
        "Слова «the» та «is» є частими для кожного речення окремо, але з'являються в багатьох документах (висока частота вживання), що зменшує їхню вагу в TF-IDF. Такі слова, як «quick» і «lazy», можуть мати нижчий TF, але вищий IDF через їхню рідкісність, що призводить до вищого показника TF-IDF.\n",
        "\n",
        "\n",
        "Нижче наведено приклад обчислення TF-IDF для реченнь\n",
        "\n",
        "* **A:** «The car is driven on the road»\n",
        "* **B:** «The truck is driven on the highway»\n",
        "\n",
        "![](https://media.licdn.com/dms/image/D4D12AQF8sI1V68UsIQ/article-cover_image-shrink_600_2000/0/1677509695129?e=2147483647&v=beta&t=pDHLFUdBEFMD3q6K0eNgg_C_zPYYYxikomIN00cfTuo)"
      ],
      "metadata": {
        "id": "38Bf_RZOW_T4"
      }
    },
    {
      "cell_type": "markdown",
      "source": [
        "# N-грами:\n",
        "\n",
        "* **Що таке n-грами?** N-грами - це послідовності з n слів, які з'являються разом у тексті. Уніграми - це окремі слова, біграми - послідовності з 2 слів (наприклад, «швидкий коричневий»), а триграми - послідовності з 3 слів (наприклад, «швидка коричнева лисиця»).\n",
        "\n",
        "* **Чому n-грами?** Окремих слів не завжди достатньо для класифікації. N-грами можуть фіксувати значущі фрази та словосполучення, які підвищують точність класифікації. Наприклад, «швидка коричнева лисиця» може бути більш показовою для певної теми, ніж просто «швидка» або «коричнева».\n",
        "\n",
        "![](https://images.deepai.org/glossary-terms/867de904ba9b46869af29cead3194b6c/8ARA1.png)"
      ],
      "metadata": {
        "id": "1haZCD3kXK2S"
      }
    },
    {
      "cell_type": "markdown",
      "source": [
        "# TfidfVectorizer\n",
        "\n",
        "[Документація](https://scikit-learn.org/stable/modules/generated/sklearn.feature_extraction.text.TfidfVectorizer.html#sklearn.feature_extraction.text.TfidfVectorizer)\n",
        "\n",
        "Scikit-learn `TfidfVectorizer` допомагає перетворити текстові дані у вектори TF-IDF, придатні для моделей машинного навчання. Ось деякі ключові параметри:\n",
        "\n",
        "**Загальні параметри:**\n",
        "\n",
        "* **ngram_range:** (кортеж, за замовчуванням=(1, 1)) Визначає діапазон n-грам для розгляду. Наприклад, `(1, 1)` використовує уніграми (окремі слова), `(1, 2)` використовує уніграми та біграми (послідовності з 2 слів), і так далі.\n",
        "* **max_features:** (int, default=None) Обмежує розмір словника, зберігаючи найчастотніші слова. Менше значення може підвищити ефективність, але може призвести до відкидання потенційно інформативних слів.\n",
        "* **stop_words:** (list або str, за замовчуванням=Ні) Визначає стоп-слова (загальні слова, такі як «the», «a»), які слід вилучити зі словника. Ви можете вказати власний список або скористатися вбудованими англійськими стоп-словами (`'english'`).\n",
        "\n",
        "**Параметри нормалізації:**\n",
        "\n",
        "* **use_idf:** (bool, за замовчуванням=True) Цей параметр визначає, чи використовувати зважування TF-IDF. Встановіть значення `False` для використання лише частоти термінів (TF).\n",
        "* **smooth_idf:** (bool, default=True) Застосовує згладжування до ваг IDF, щоб уникнути нулів для рідкісних слів.\n",
        "* **sublinear_tf:** (bool, default=True) Застосовує сублінійне масштабування частоти термів для зменшення впливу дуже частих слів.\n",
        "\n",
        "**Інші параметри:**\n",
        "\n",
        "* **norm:** (str, за замовчуванням='l2') Визначає схему нормалізації для векторів TF-IDF. Найпоширеніші варіанти включають:\n",
        "    * `'l2'`: Одинична норма (вектори мають сумарну величину 1).\n",
        "    * `'l1'`: Сума абсолютних значень елементів вектора дорівнює 1.\n",
        "* **analyzer:** (str, за замовчуванням='word') Визначає одиницю аналізу. Можливі варіанти:\n",
        "    * ``word``: Токенізація на основі пробілів.\n",
        "    * ``char`` : Токенізація за символами."
      ],
      "metadata": {
        "id": "ricOfcv7WQPx"
      }
    },
    {
      "cell_type": "markdown",
      "source": [
        "# PCA\n",
        "\n",
        "У машинному навчанні, особливо при роботі з великими наборами даних, кількість ознак (змінних) іноді може стати тягарем. Саме тут в нагоді стають методи зменшення розмірності. Вони спрямовані на зменшення кількості ознак при збереженні більшої частини важливої інформації з даних.\n",
        "\n",
        "**Розуміння зменшення розмірності:**\n",
        "\n",
        "Уявіть собі набір даних із сотнями елементів, що описують зображення. Хоча це може здатися всеосяжним, це також може бути обчислювально дорогим і потенційно призвести до надмірної підгонки. Методи скорочення ознак допомагають нам знайти менший набір ознак, які ефективно представляють дані, що призводить до:\n",
        "\n",
        "* **Підвищення ефективності:** Навчальні моделі з меншою кількістю ознак, як правило, працюють швидше і вимагають менше обчислювальних ресурсів.\n",
        "* **Зменшення надмірного припасування:** З меншою кількістю ознак модель з меншою ймовірністю запам'ятовує специфічні закономірності в навчальних даних і може краще узагальнювати невидимі дані."
      ],
      "metadata": {
        "id": "AezKuBTL26_w"
      }
    },
    {
      "cell_type": "markdown",
      "source": [
        "## Що таке PCA (аналіз головних компонент)?\n",
        "\n",
        "PCA, або аналіз головних компонент, є популярною технікою зменшення розмірності. Він аналізує дисперсію в даних і визначає новий набір ознак, які називаються головними компонентами (ГК), що охоплюють більшу частину інформації. Ці ПК є некорельованими і впорядковані за величиною дисперсії, яку вони пояснюють.\n",
        "\n",
        "**Пояснена дисперсія:**\n",
        "\n",
        "Дисперсія показує, наскільки розподілені дані за певною ознакою. Пояснена дисперсія в контексті PCA означає частку загальної дисперсії даних, яку пояснює певна головна компонента. Перша головна компонента пояснює найбільшу дисперсію, за нею йде друга і так далі.\n",
        "\n",
        "![](https://starship-knowledge.com/wp-content/uploads/2020/11/pca_principle-1024x724.jpeg)"
      ],
      "metadata": {
        "id": "Ba5MuyZd3H1p"
      }
    },
    {
      "cell_type": "markdown",
      "source": [
        "## Параметри PCA\n",
        "\n",
        "Scikit-learn забезпечує зручну для користувача реалізацію PCA. Ось розбивка деяких ключових параметрів:\n",
        "\n",
        "* **n_components:** (int, default=None) Тут вказується бажана кількість головних компонент для збереження. Якщо значення None, зберігаються всі компоненти. Ви можете вибрати конкретну кількість або використати пояснені порогові значення відношення дисперсій.\n",
        "* **svd_solver:** (str, за замовчуванням='auto') Тут вказується алгоритм, який використовується для декомпозиції. Можливі варіанти:\n",
        "    * ``full``: Виконує повне розкладання SVD (Singular Value Decomposition), яке може бути повільнішим для великих наборів даних.\n",
        "    * ``arpack``: Використовує розв'язувач ARPACK, підходить для менших наборів даних.\n",
        "    * ``рандомізований``: Використовує рандомізований алгоритм, ефективний для великих наборів даних.\n",
        "* **whiten:** (bool, default=False) Виконує відбілювання після PCA, який масштабує головні компоненти так, щоб вони мали одиничну дисперсію.\n",
        "\n",
        "**Вибір параметрів PCA:**\n",
        "\n",
        "* **Кількість компонент:** Часто ви можете вибрати кількість компонент на основі поясненого відношення дисперсій. Загальним емпіричним правилом є збереження компонент, які пояснюють сукупно 80-90% дисперсії.\n",
        "* **svd_solver:** Виберіть розв'язувач на основі розміру вашого набору даних та обчислювальних ресурсів.\n",
        "* **Відбілювання:** Відбілювання може бути корисним для певних алгоритмів, які припускають одиничну дисперсію для ознак."
      ],
      "metadata": {
        "id": "KuBT6XUX2xcT"
      }
    },
    {
      "cell_type": "markdown",
      "source": [
        "# Дані"
      ],
      "metadata": {
        "id": "zs8qLoF6vS52"
      }
    },
    {
      "cell_type": "code",
      "execution_count": 1,
      "metadata": {
        "colab": {
          "base_uri": "https://localhost:8080/",
          "height": 206
        },
        "id": "vIGBwyh_TY4q",
        "outputId": "f9cd752c-8891-429c-afe9-a0e43fd857a5"
      },
      "outputs": [
        {
          "output_type": "execute_result",
          "data": {
            "text/plain": [
              "                                                data         labels\n",
              "0  Musicians to tackle US red tape  Musicians gro...  entertainment\n",
              "1  U2s desire to be number one  U2, who have won ...  entertainment\n",
              "2  Rocker Doherty in on-stage fight  Rock singer ...  entertainment\n",
              "3  Snicket tops US box office chart  The film ada...  entertainment\n",
              "4  Oceans Twelve raids box office  Oceans Twelve,...  entertainment"
            ],
            "text/html": [
              "\n",
              "  <div id=\"df-d487f4fe-c3c8-49ca-868d-88a6af69020d\" class=\"colab-df-container\">\n",
              "    <div>\n",
              "<style scoped>\n",
              "    .dataframe tbody tr th:only-of-type {\n",
              "        vertical-align: middle;\n",
              "    }\n",
              "\n",
              "    .dataframe tbody tr th {\n",
              "        vertical-align: top;\n",
              "    }\n",
              "\n",
              "    .dataframe thead th {\n",
              "        text-align: right;\n",
              "    }\n",
              "</style>\n",
              "<table border=\"1\" class=\"dataframe\">\n",
              "  <thead>\n",
              "    <tr style=\"text-align: right;\">\n",
              "      <th></th>\n",
              "      <th>data</th>\n",
              "      <th>labels</th>\n",
              "    </tr>\n",
              "  </thead>\n",
              "  <tbody>\n",
              "    <tr>\n",
              "      <th>0</th>\n",
              "      <td>Musicians to tackle US red tape  Musicians gro...</td>\n",
              "      <td>entertainment</td>\n",
              "    </tr>\n",
              "    <tr>\n",
              "      <th>1</th>\n",
              "      <td>U2s desire to be number one  U2, who have won ...</td>\n",
              "      <td>entertainment</td>\n",
              "    </tr>\n",
              "    <tr>\n",
              "      <th>2</th>\n",
              "      <td>Rocker Doherty in on-stage fight  Rock singer ...</td>\n",
              "      <td>entertainment</td>\n",
              "    </tr>\n",
              "    <tr>\n",
              "      <th>3</th>\n",
              "      <td>Snicket tops US box office chart  The film ada...</td>\n",
              "      <td>entertainment</td>\n",
              "    </tr>\n",
              "    <tr>\n",
              "      <th>4</th>\n",
              "      <td>Oceans Twelve raids box office  Oceans Twelve,...</td>\n",
              "      <td>entertainment</td>\n",
              "    </tr>\n",
              "  </tbody>\n",
              "</table>\n",
              "</div>\n",
              "    <div class=\"colab-df-buttons\">\n",
              "\n",
              "  <div class=\"colab-df-container\">\n",
              "    <button class=\"colab-df-convert\" onclick=\"convertToInteractive('df-d487f4fe-c3c8-49ca-868d-88a6af69020d')\"\n",
              "            title=\"Convert this dataframe to an interactive table.\"\n",
              "            style=\"display:none;\">\n",
              "\n",
              "  <svg xmlns=\"http://www.w3.org/2000/svg\" height=\"24px\" viewBox=\"0 -960 960 960\">\n",
              "    <path d=\"M120-120v-720h720v720H120Zm60-500h600v-160H180v160Zm220 220h160v-160H400v160Zm0 220h160v-160H400v160ZM180-400h160v-160H180v160Zm440 0h160v-160H620v160ZM180-180h160v-160H180v160Zm440 0h160v-160H620v160Z\"/>\n",
              "  </svg>\n",
              "    </button>\n",
              "\n",
              "  <style>\n",
              "    .colab-df-container {\n",
              "      display:flex;\n",
              "      gap: 12px;\n",
              "    }\n",
              "\n",
              "    .colab-df-convert {\n",
              "      background-color: #E8F0FE;\n",
              "      border: none;\n",
              "      border-radius: 50%;\n",
              "      cursor: pointer;\n",
              "      display: none;\n",
              "      fill: #1967D2;\n",
              "      height: 32px;\n",
              "      padding: 0 0 0 0;\n",
              "      width: 32px;\n",
              "    }\n",
              "\n",
              "    .colab-df-convert:hover {\n",
              "      background-color: #E2EBFA;\n",
              "      box-shadow: 0px 1px 2px rgba(60, 64, 67, 0.3), 0px 1px 3px 1px rgba(60, 64, 67, 0.15);\n",
              "      fill: #174EA6;\n",
              "    }\n",
              "\n",
              "    .colab-df-buttons div {\n",
              "      margin-bottom: 4px;\n",
              "    }\n",
              "\n",
              "    [theme=dark] .colab-df-convert {\n",
              "      background-color: #3B4455;\n",
              "      fill: #D2E3FC;\n",
              "    }\n",
              "\n",
              "    [theme=dark] .colab-df-convert:hover {\n",
              "      background-color: #434B5C;\n",
              "      box-shadow: 0px 1px 3px 1px rgba(0, 0, 0, 0.15);\n",
              "      filter: drop-shadow(0px 1px 2px rgba(0, 0, 0, 0.3));\n",
              "      fill: #FFFFFF;\n",
              "    }\n",
              "  </style>\n",
              "\n",
              "    <script>\n",
              "      const buttonEl =\n",
              "        document.querySelector('#df-d487f4fe-c3c8-49ca-868d-88a6af69020d button.colab-df-convert');\n",
              "      buttonEl.style.display =\n",
              "        google.colab.kernel.accessAllowed ? 'block' : 'none';\n",
              "\n",
              "      async function convertToInteractive(key) {\n",
              "        const element = document.querySelector('#df-d487f4fe-c3c8-49ca-868d-88a6af69020d');\n",
              "        const dataTable =\n",
              "          await google.colab.kernel.invokeFunction('convertToInteractive',\n",
              "                                                    [key], {});\n",
              "        if (!dataTable) return;\n",
              "\n",
              "        const docLinkHtml = 'Like what you see? Visit the ' +\n",
              "          '<a target=\"_blank\" href=https://colab.research.google.com/notebooks/data_table.ipynb>data table notebook</a>'\n",
              "          + ' to learn more about interactive tables.';\n",
              "        element.innerHTML = '';\n",
              "        dataTable['output_type'] = 'display_data';\n",
              "        await google.colab.output.renderOutput(dataTable, element);\n",
              "        const docLink = document.createElement('div');\n",
              "        docLink.innerHTML = docLinkHtml;\n",
              "        element.appendChild(docLink);\n",
              "      }\n",
              "    </script>\n",
              "  </div>\n",
              "\n",
              "\n",
              "<div id=\"df-8b683791-8970-4c93-91a9-017a82e1fc5f\">\n",
              "  <button class=\"colab-df-quickchart\" onclick=\"quickchart('df-8b683791-8970-4c93-91a9-017a82e1fc5f')\"\n",
              "            title=\"Suggest charts\"\n",
              "            style=\"display:none;\">\n",
              "\n",
              "<svg xmlns=\"http://www.w3.org/2000/svg\" height=\"24px\"viewBox=\"0 0 24 24\"\n",
              "     width=\"24px\">\n",
              "    <g>\n",
              "        <path d=\"M19 3H5c-1.1 0-2 .9-2 2v14c0 1.1.9 2 2 2h14c1.1 0 2-.9 2-2V5c0-1.1-.9-2-2-2zM9 17H7v-7h2v7zm4 0h-2V7h2v10zm4 0h-2v-4h2v4z\"/>\n",
              "    </g>\n",
              "</svg>\n",
              "  </button>\n",
              "\n",
              "<style>\n",
              "  .colab-df-quickchart {\n",
              "      --bg-color: #E8F0FE;\n",
              "      --fill-color: #1967D2;\n",
              "      --hover-bg-color: #E2EBFA;\n",
              "      --hover-fill-color: #174EA6;\n",
              "      --disabled-fill-color: #AAA;\n",
              "      --disabled-bg-color: #DDD;\n",
              "  }\n",
              "\n",
              "  [theme=dark] .colab-df-quickchart {\n",
              "      --bg-color: #3B4455;\n",
              "      --fill-color: #D2E3FC;\n",
              "      --hover-bg-color: #434B5C;\n",
              "      --hover-fill-color: #FFFFFF;\n",
              "      --disabled-bg-color: #3B4455;\n",
              "      --disabled-fill-color: #666;\n",
              "  }\n",
              "\n",
              "  .colab-df-quickchart {\n",
              "    background-color: var(--bg-color);\n",
              "    border: none;\n",
              "    border-radius: 50%;\n",
              "    cursor: pointer;\n",
              "    display: none;\n",
              "    fill: var(--fill-color);\n",
              "    height: 32px;\n",
              "    padding: 0;\n",
              "    width: 32px;\n",
              "  }\n",
              "\n",
              "  .colab-df-quickchart:hover {\n",
              "    background-color: var(--hover-bg-color);\n",
              "    box-shadow: 0 1px 2px rgba(60, 64, 67, 0.3), 0 1px 3px 1px rgba(60, 64, 67, 0.15);\n",
              "    fill: var(--button-hover-fill-color);\n",
              "  }\n",
              "\n",
              "  .colab-df-quickchart-complete:disabled,\n",
              "  .colab-df-quickchart-complete:disabled:hover {\n",
              "    background-color: var(--disabled-bg-color);\n",
              "    fill: var(--disabled-fill-color);\n",
              "    box-shadow: none;\n",
              "  }\n",
              "\n",
              "  .colab-df-spinner {\n",
              "    border: 2px solid var(--fill-color);\n",
              "    border-color: transparent;\n",
              "    border-bottom-color: var(--fill-color);\n",
              "    animation:\n",
              "      spin 1s steps(1) infinite;\n",
              "  }\n",
              "\n",
              "  @keyframes spin {\n",
              "    0% {\n",
              "      border-color: transparent;\n",
              "      border-bottom-color: var(--fill-color);\n",
              "      border-left-color: var(--fill-color);\n",
              "    }\n",
              "    20% {\n",
              "      border-color: transparent;\n",
              "      border-left-color: var(--fill-color);\n",
              "      border-top-color: var(--fill-color);\n",
              "    }\n",
              "    30% {\n",
              "      border-color: transparent;\n",
              "      border-left-color: var(--fill-color);\n",
              "      border-top-color: var(--fill-color);\n",
              "      border-right-color: var(--fill-color);\n",
              "    }\n",
              "    40% {\n",
              "      border-color: transparent;\n",
              "      border-right-color: var(--fill-color);\n",
              "      border-top-color: var(--fill-color);\n",
              "    }\n",
              "    60% {\n",
              "      border-color: transparent;\n",
              "      border-right-color: var(--fill-color);\n",
              "    }\n",
              "    80% {\n",
              "      border-color: transparent;\n",
              "      border-right-color: var(--fill-color);\n",
              "      border-bottom-color: var(--fill-color);\n",
              "    }\n",
              "    90% {\n",
              "      border-color: transparent;\n",
              "      border-bottom-color: var(--fill-color);\n",
              "    }\n",
              "  }\n",
              "</style>\n",
              "\n",
              "  <script>\n",
              "    async function quickchart(key) {\n",
              "      const quickchartButtonEl =\n",
              "        document.querySelector('#' + key + ' button');\n",
              "      quickchartButtonEl.disabled = true;  // To prevent multiple clicks.\n",
              "      quickchartButtonEl.classList.add('colab-df-spinner');\n",
              "      try {\n",
              "        const charts = await google.colab.kernel.invokeFunction(\n",
              "            'suggestCharts', [key], {});\n",
              "      } catch (error) {\n",
              "        console.error('Error during call to suggestCharts:', error);\n",
              "      }\n",
              "      quickchartButtonEl.classList.remove('colab-df-spinner');\n",
              "      quickchartButtonEl.classList.add('colab-df-quickchart-complete');\n",
              "    }\n",
              "    (() => {\n",
              "      let quickchartButtonEl =\n",
              "        document.querySelector('#df-8b683791-8970-4c93-91a9-017a82e1fc5f button');\n",
              "      quickchartButtonEl.style.display =\n",
              "        google.colab.kernel.accessAllowed ? 'block' : 'none';\n",
              "    })();\n",
              "  </script>\n",
              "</div>\n",
              "    </div>\n",
              "  </div>\n"
            ],
            "application/vnd.google.colaboratory.intrinsic+json": {
              "type": "dataframe",
              "variable_name": "df",
              "summary": "{\n  \"name\": \"df\",\n  \"rows\": 2225,\n  \"fields\": [\n    {\n      \"column\": \"data\",\n      \"properties\": {\n        \"dtype\": \"string\",\n        \"num_unique_values\": 2126,\n        \"samples\": [\n          \"Media seek Jackson juror notes  Reporters covering singer Michael Jacksons trial in California have asked to see questionnaires completed by potential jurors.  Lawyers for news organisations said it was \\\"really vital\\\" for the responses of 250 potential jurors to be made public \\\"to serve as a check on the process\\\". Santa Barbara County Superior Court is due to consider the request on Monday. Mr Jackson denies child molestation. It is estimated his trial will cost Santa Barbara county up to $4m (xc2xa32.13m).  Meanwhile Michael Jacksons mother has said she is \\\"100% certain\\\" her son did not commit the child abuse charges he faces. The court is currently selecting 12 jurors and eight stand-by jurors for the trial, a process delayed until at least Thursday after a member of the stars legal team was hit by family illness. Defence lawyers argued against the bid by Associated Press and other news organisations to have potential jurors responses made public.  \\\"The release of the completed jury questionnaires does not serve any purpose other than to add to the sensationalist coverage of this case,\\\" a motion by Mr Jacksons lawyers stated. The estimated total costs of the trial, expected to last five months, range from $2.5m (xc2xa31.33m) to $4m (xc2xa32.13m) of local taxpayers money. Those estimates do not include costs to the city of Santa Maria, the Superior Court or for the investigation and prosecution of the case. The cost of security and other needs around the courthouse has been estimated at $40,000 (xc2xa321,000) per day, said Jason Stilwell, a special projects manager at the county administrators office.  Mr Jackson, 46, denies plying a boy with alcohol and molesting him. His mother Katherine Jackson told US TV network Fox News on Sunday that her pop star son told her he was innocent. \\\"I believe that for one reason - I know his character,\\\" she said. \\\"He loves children. You dont molest anything that you love.\\\" Describing Mr Jackson as \\\"a good person\\\", the mother-of-nine said she feared he would not be given a fair trial. \\\"I cant sleep thinking about what these wicked people might try to do to him,\\\" she said. \",\n          \"Game firm holds cast auditions  Video game firm Bioware is to hold open auditions for people to become cast members for future games.  The company, which makes role playing games such as Knights of the Old Republic and Neverwinter Nights, is seeking people aged 18 to 99. The Canada-based company says it was looking for \\\"a wide variety of people to use as face models for characters\\\". Everyone chosen to appear in a video game will receive a performers fee for the use of their image. The company is inviting people to come along to a shopping mall in West Edmonton, Alberta, on Friday and Saturday, bringing along a piece of photo identification.  \\\"There are hundreds and hundreds of characters in a typical Bioware game,\\\" said Shauna Perry, Biowares audio and external resources producer. \\\"Those people live in any city and village and so we need ordinary people, people with interesting faces.\\\" She added: \\\"Not everyone is a model in the world so we dont want just models in our games.\\\" People chosen to appear in a game will have their head scanned in three dimensions. Hundreds of photos of the persons head are taken so that a model of the head can be generated in 3D. \\\"The 3D model will look exactly like the person - its really quite incredible how detailed they are,\\\" said Ms Perry. She said chosen participants will have no control over how the image is used in a computer game. \\\"We cannot give people any control over how the images are used. \\\"But their face could be used in multiple games - so they could be the hero in one, the villain in another and just a merchant in a third.\\\" \",\n          \"Citizenship event for 18s touted  Citizenship ceremonies could be introduced for people celebrating their 18th birthday, Charles Clarke has said.  The idea will be tried as part of an overhaul of the way government approaches \\\"inclusive citizenship\\\" particularly for ethnic minorities. A pilot scheme based on ceremonies in Australia will start in October. Mr Clarke said it would be a way of recognising young people reaching their voting age when they also gain greater independence from parents. Britains young black and Asian people are to be encouraged to learn about the nations heritage as part of the governments new race strategy which will also target specific issues within different ethnic minority groups. Officials say the home secretary wants young people to feel they belong and to understand their \\\"other cultural identities\\\" alongside being British. The launch follows a row about the role of faith schools in Britain. On Monday school inspection chief David Bell, accused some Islamic schools of failing to teach pupils about their obligations to British society.  The Muslim Council of Britain said Ofsted boss Mr Bells comments were \\\"highly irresponsible\\\". The Home Office started work on its Community Cohesion and Race Equality Strategy last year and the outcome, launched on Wednesday, is called Improving Opportunity, Strengthening Society. It is aimed at tackling racism, exclusion, segregation and the rise in political and religious extremism. \\\"It represents a move away from the one-size-fits-all approach to focus on specifics within cultural groups,\\\" said a Home Office spokesman. \\\"It is not right to say that if you are from a black or ethnic minority group you must be disadvantaged.\\\" The spokesman highlighted specific issues that affect particular communities - for example people of south Asian origin tend to suffer from a high incidence of heart disease.  \\\"It is about drilling down and focusing on these sorts of problems,\\\" the spokesman added. Launching the initiative Mr Clarke said enormous progress had been made on race issues in recent years. He added: \\\"But while many members of black and minority ethnic communities are thriving, some may still find it harder to succeed in employment or gain access to healthcare, education or housing. \\\"This strategy sets out the governments commitment to doing more to identify and respond to the specific needs of minorities in our society.\\\" Some 8% of the UK population described themselves as coming from a non-white ethnic minority in the 2001 Census.  The Downing Street Strategy Unit in 2003 said people from Indian and Chinese backgrounds were doing well on average, often outperforming white people in education and earnings. But those of Pakistani, Bangladeshi and black Caribbean origin were significantly more likely to be unemployed and earn less than whites, it said. The Home Office wants more initiatives which try to promote a sense of belonging by encouraging young people to take part in voluntary work. The programmes are designed to support the citizenship lessons already taking place in schools. \"\n        ],\n        \"semantic_type\": \"\",\n        \"description\": \"\"\n      }\n    },\n    {\n      \"column\": \"labels\",\n      \"properties\": {\n        \"dtype\": \"category\",\n        \"num_unique_values\": 5,\n        \"samples\": [\n          \"business\",\n          \"tech\",\n          \"sport\"\n        ],\n        \"semantic_type\": \"\",\n        \"description\": \"\"\n      }\n    }\n  ]\n}"
            }
          },
          "metadata": {},
          "execution_count": 1
        }
      ],
      "source": [
        "import pandas as pd\n",
        "\n",
        "df = pd.read_csv(\"https://raw.githubusercontent.com/HalyshAnton/IT-Step-Pyton-AI/main/module6/data/bbc_data.csv\")\n",
        "df.head()"
      ]
    },
    {
      "cell_type": "code",
      "source": [
        "from sklearn.model_selection import train_test_split\n",
        "\n",
        "X = df['data']\n",
        "y = df['labels']\n",
        "\n",
        "X_train, X_test, y_train, y_test = train_test_split(X, y, train_size=0.8, stratify=y)"
      ],
      "metadata": {
        "id": "lDorCCaUhtC8"
      },
      "execution_count": 2,
      "outputs": []
    },
    {
      "cell_type": "markdown",
      "source": [
        "## Обробка даних"
      ],
      "metadata": {
        "id": "6VLJ74eeyp4e"
      }
    },
    {
      "cell_type": "code",
      "source": [
        "class MyTokenizer:\n",
        "     def __init__(self):\n",
        "         self.some_args = None\n",
        "     def __call__(self, text):\n",
        "         return text.split()"
      ],
      "metadata": {
        "id": "ezP9CEyEyKzx"
      },
      "execution_count": 3,
      "outputs": []
    },
    {
      "cell_type": "code",
      "source": [
        "from sklearn.feature_extraction.text import TfidfVectorizer\n",
        "\n",
        "vectorizer = TfidfVectorizer(tokenizer=MyTokenizer(), stop_words='english')\n",
        "\n",
        "X_train = vectorizer.fit_transform(X_train)\n",
        "X_test = vectorizer.transform(X_test)"
      ],
      "metadata": {
        "colab": {
          "base_uri": "https://localhost:8080/"
        },
        "id": "yoave9brjbCF",
        "outputId": "461926bf-a985-483b-da6c-ffbdd4802668"
      },
      "execution_count": 4,
      "outputs": [
        {
          "output_type": "stream",
          "name": "stderr",
          "text": [
            "/usr/local/lib/python3.10/dist-packages/sklearn/feature_extraction/text.py:525: UserWarning: The parameter 'token_pattern' will not be used since 'tokenizer' is not None'\n",
            "  warnings.warn(\n"
          ]
        }
      ]
    },
    {
      "cell_type": "code",
      "source": [
        "X_train"
      ],
      "metadata": {
        "id": "BoAXmFnW0YbP",
        "outputId": "613ec8be-15a4-4f82-ce91-20f7142f7634",
        "colab": {
          "base_uri": "https://localhost:8080/"
        }
      },
      "execution_count": 5,
      "outputs": [
        {
          "output_type": "execute_result",
          "data": {
            "text/plain": [
              "<1780x52781 sparse matrix of type '<class 'numpy.float64'>'\n",
              "\twith 296296 stored elements in Compressed Sparse Row format>"
            ]
          },
          "metadata": {},
          "execution_count": 5
        }
      ]
    },
    {
      "cell_type": "code",
      "source": [
        "from sklearn.decomposition import TruncatedSVD\n",
        "\n",
        "pca = TruncatedSVD(1286+1)\n",
        "\n",
        "X_train = pca.fit_transform(X_train)\n",
        "X_test = pca.transform(X_test)"
      ],
      "metadata": {
        "id": "V17I3Yagy4TC"
      },
      "execution_count": 6,
      "outputs": []
    },
    {
      "cell_type": "code",
      "source": [
        "pca.explained_variance_ratio_.sum()"
      ],
      "metadata": {
        "id": "LUwCljkpFSaK",
        "outputId": "63e06698-135c-4c6a-b16f-11d377f7b57e",
        "colab": {
          "base_uri": "https://localhost:8080/"
        }
      },
      "execution_count": 7,
      "outputs": [
        {
          "output_type": "execute_result",
          "data": {
            "text/plain": [
              "0.8971162942726689"
            ]
          },
          "metadata": {},
          "execution_count": 7
        }
      ]
    },
    {
      "cell_type": "code",
      "source": [
        "import numpy as np\n",
        "\n",
        "np.where(pca.explained_variance_ratio_.cumsum() >= 0.9)"
      ],
      "metadata": {
        "id": "ZnufKfvkzdst",
        "outputId": "032235e0-c2fa-4e95-f79d-44cf48250712",
        "colab": {
          "base_uri": "https://localhost:8080/"
        }
      },
      "execution_count": 8,
      "outputs": [
        {
          "output_type": "execute_result",
          "data": {
            "text/plain": [
              "(array([], dtype=int64),)"
            ]
          },
          "metadata": {},
          "execution_count": 8
        }
      ]
    },
    {
      "cell_type": "code",
      "source": [
        "X_train.shape"
      ],
      "metadata": {
        "id": "VIo316MmvcJv",
        "outputId": "4736ce58-c38f-4865-9f61-d402fcb25ef2",
        "colab": {
          "base_uri": "https://localhost:8080/"
        }
      },
      "execution_count": 9,
      "outputs": [
        {
          "output_type": "execute_result",
          "data": {
            "text/plain": [
              "(1780, 1287)"
            ]
          },
          "metadata": {},
          "execution_count": 9
        }
      ]
    },
    {
      "cell_type": "code",
      "source": [
        "(X_train == 0).sum()"
      ],
      "metadata": {
        "id": "rkJtV6OiwfWC",
        "outputId": "39cdf984-8219-47fc-fcb8-6d41f69814e3",
        "colab": {
          "base_uri": "https://localhost:8080/"
        }
      },
      "execution_count": 10,
      "outputs": [
        {
          "output_type": "execute_result",
          "data": {
            "text/plain": [
              "0"
            ]
          },
          "metadata": {},
          "execution_count": 10
        }
      ]
    },
    {
      "cell_type": "markdown",
      "source": [
        "## [Модель](https://scikit-learn.org/stable/modules/generated/sklearn.linear_model.LogisticRegression.html)"
      ],
      "metadata": {
        "id": "M1kYmvbMvLuO"
      }
    },
    {
      "cell_type": "code",
      "source": [
        "from sklearn.linear_model import LogisticRegression\n",
        "\n",
        "model = LogisticRegression(class_weight=\"balanced\")\n",
        "\n",
        "model.fit(X_train, y_train)"
      ],
      "metadata": {
        "id": "eTjHVvAcqjnH",
        "outputId": "b38fcad8-1b50-40f4-8833-78dc7007deb7",
        "colab": {
          "base_uri": "https://localhost:8080/",
          "height": 74
        }
      },
      "execution_count": 15,
      "outputs": [
        {
          "output_type": "execute_result",
          "data": {
            "text/plain": [
              "LogisticRegression(class_weight='balanced')"
            ],
            "text/html": [
              "<style>#sk-container-id-3 {color: black;}#sk-container-id-3 pre{padding: 0;}#sk-container-id-3 div.sk-toggleable {background-color: white;}#sk-container-id-3 label.sk-toggleable__label {cursor: pointer;display: block;width: 100%;margin-bottom: 0;padding: 0.3em;box-sizing: border-box;text-align: center;}#sk-container-id-3 label.sk-toggleable__label-arrow:before {content: \"▸\";float: left;margin-right: 0.25em;color: #696969;}#sk-container-id-3 label.sk-toggleable__label-arrow:hover:before {color: black;}#sk-container-id-3 div.sk-estimator:hover label.sk-toggleable__label-arrow:before {color: black;}#sk-container-id-3 div.sk-toggleable__content {max-height: 0;max-width: 0;overflow: hidden;text-align: left;background-color: #f0f8ff;}#sk-container-id-3 div.sk-toggleable__content pre {margin: 0.2em;color: black;border-radius: 0.25em;background-color: #f0f8ff;}#sk-container-id-3 input.sk-toggleable__control:checked~div.sk-toggleable__content {max-height: 200px;max-width: 100%;overflow: auto;}#sk-container-id-3 input.sk-toggleable__control:checked~label.sk-toggleable__label-arrow:before {content: \"▾\";}#sk-container-id-3 div.sk-estimator input.sk-toggleable__control:checked~label.sk-toggleable__label {background-color: #d4ebff;}#sk-container-id-3 div.sk-label input.sk-toggleable__control:checked~label.sk-toggleable__label {background-color: #d4ebff;}#sk-container-id-3 input.sk-hidden--visually {border: 0;clip: rect(1px 1px 1px 1px);clip: rect(1px, 1px, 1px, 1px);height: 1px;margin: -1px;overflow: hidden;padding: 0;position: absolute;width: 1px;}#sk-container-id-3 div.sk-estimator {font-family: monospace;background-color: #f0f8ff;border: 1px dotted black;border-radius: 0.25em;box-sizing: border-box;margin-bottom: 0.5em;}#sk-container-id-3 div.sk-estimator:hover {background-color: #d4ebff;}#sk-container-id-3 div.sk-parallel-item::after {content: \"\";width: 100%;border-bottom: 1px solid gray;flex-grow: 1;}#sk-container-id-3 div.sk-label:hover label.sk-toggleable__label {background-color: #d4ebff;}#sk-container-id-3 div.sk-serial::before {content: \"\";position: absolute;border-left: 1px solid gray;box-sizing: border-box;top: 0;bottom: 0;left: 50%;z-index: 0;}#sk-container-id-3 div.sk-serial {display: flex;flex-direction: column;align-items: center;background-color: white;padding-right: 0.2em;padding-left: 0.2em;position: relative;}#sk-container-id-3 div.sk-item {position: relative;z-index: 1;}#sk-container-id-3 div.sk-parallel {display: flex;align-items: stretch;justify-content: center;background-color: white;position: relative;}#sk-container-id-3 div.sk-item::before, #sk-container-id-3 div.sk-parallel-item::before {content: \"\";position: absolute;border-left: 1px solid gray;box-sizing: border-box;top: 0;bottom: 0;left: 50%;z-index: -1;}#sk-container-id-3 div.sk-parallel-item {display: flex;flex-direction: column;z-index: 1;position: relative;background-color: white;}#sk-container-id-3 div.sk-parallel-item:first-child::after {align-self: flex-end;width: 50%;}#sk-container-id-3 div.sk-parallel-item:last-child::after {align-self: flex-start;width: 50%;}#sk-container-id-3 div.sk-parallel-item:only-child::after {width: 0;}#sk-container-id-3 div.sk-dashed-wrapped {border: 1px dashed gray;margin: 0 0.4em 0.5em 0.4em;box-sizing: border-box;padding-bottom: 0.4em;background-color: white;}#sk-container-id-3 div.sk-label label {font-family: monospace;font-weight: bold;display: inline-block;line-height: 1.2em;}#sk-container-id-3 div.sk-label-container {text-align: center;}#sk-container-id-3 div.sk-container {/* jupyter's `normalize.less` sets `[hidden] { display: none; }` but bootstrap.min.css set `[hidden] { display: none !important; }` so we also need the `!important` here to be able to override the default hidden behavior on the sphinx rendered scikit-learn.org. See: https://github.com/scikit-learn/scikit-learn/issues/21755 */display: inline-block !important;position: relative;}#sk-container-id-3 div.sk-text-repr-fallback {display: none;}</style><div id=\"sk-container-id-3\" class=\"sk-top-container\"><div class=\"sk-text-repr-fallback\"><pre>LogisticRegression(class_weight=&#x27;balanced&#x27;)</pre><b>In a Jupyter environment, please rerun this cell to show the HTML representation or trust the notebook. <br />On GitHub, the HTML representation is unable to render, please try loading this page with nbviewer.org.</b></div><div class=\"sk-container\" hidden><div class=\"sk-item\"><div class=\"sk-estimator sk-toggleable\"><input class=\"sk-toggleable__control sk-hidden--visually\" id=\"sk-estimator-id-6\" type=\"checkbox\" checked><label for=\"sk-estimator-id-6\" class=\"sk-toggleable__label sk-toggleable__label-arrow\">LogisticRegression</label><div class=\"sk-toggleable__content\"><pre>LogisticRegression(class_weight=&#x27;balanced&#x27;)</pre></div></div></div></div></div>"
            ]
          },
          "metadata": {},
          "execution_count": 15
        }
      ]
    },
    {
      "cell_type": "markdown",
      "source": [
        "## Результат"
      ],
      "metadata": {
        "id": "ajClR26-vXDP"
      }
    },
    {
      "cell_type": "code",
      "source": [
        "y_pred = model.predict(X_test)\n",
        "\n",
        "from sklearn.metrics import classification_report\n",
        "print(classification_report(y_test, y_pred))"
      ],
      "metadata": {
        "id": "HO0eTjjikMn2",
        "outputId": "8c9de1a5-5d35-4723-9073-7834b6d2e583",
        "colab": {
          "base_uri": "https://localhost:8080/"
        }
      },
      "execution_count": 16,
      "outputs": [
        {
          "output_type": "stream",
          "name": "stdout",
          "text": [
            "               precision    recall  f1-score   support\n",
            "\n",
            "     business       0.95      0.95      0.95       102\n",
            "entertainment       0.97      0.95      0.96        77\n",
            "     politics       0.94      0.98      0.96        84\n",
            "        sport       1.00      1.00      1.00       102\n",
            "         tech       0.99      0.97      0.98        80\n",
            "\n",
            "     accuracy                           0.97       445\n",
            "    macro avg       0.97      0.97      0.97       445\n",
            " weighted avg       0.97      0.97      0.97       445\n",
            "\n"
          ]
        }
      ]
    },
    {
      "cell_type": "code",
      "source": [
        "from sklearn.metrics import ConfusionMatrixDisplay\n",
        "import matplotlib.pyplot as plt\n",
        "\n",
        "\n",
        "ConfusionMatrixDisplay.from_predictions(y_test, y_pred)\n",
        "plt.xticks(rotation=90)\n",
        "plt.plot()"
      ],
      "metadata": {
        "id": "REcjjBQvqiva",
        "outputId": "5d3c3ed6-b79a-4c32-b8a2-8198b6ae1492",
        "colab": {
          "base_uri": "https://localhost:8080/",
          "height": 552
        }
      },
      "execution_count": 17,
      "outputs": [
        {
          "output_type": "execute_result",
          "data": {
            "text/plain": [
              "[]"
            ]
          },
          "metadata": {},
          "execution_count": 17
        },
        {
          "output_type": "display_data",
          "data": {
            "text/plain": [
              "<Figure size 640x480 with 2 Axes>"
            ],
            "image/png": "[encoded data removed]"
          },
          "metadata": {}
        }
      ]
    },
    {
      "cell_type": "markdown",
      "source": [
        "## Остаточна модель"
      ],
      "metadata": {
        "id": "tOZ41WXcvkrf"
      }
    },
    {
      "cell_type": "code",
      "source": [
        "from sklearn.pipeline import Pipeline\n",
        "\n",
        "final_model = Pipeline(steps=[\n",
        "    ('vectorizer', vectorizer),\n",
        "    ('pca', pca),\n",
        "    ('model', model)\n",
        "])\n",
        "\n",
        "final_model"
      ],
      "metadata": {
        "id": "ZB8dk6xGqyiD",
        "outputId": "47059ecb-63da-4e1d-c2dd-a60f3a88116f",
        "colab": {
          "base_uri": "https://localhost:8080/",
          "height": 159
        }
      },
      "execution_count": 14,
      "outputs": [
        {
          "output_type": "execute_result",
          "data": {
            "text/plain": [
              "Pipeline(steps=[('vectorizer',\n",
              "                 TfidfVectorizer(stop_words='english',\n",
              "                                 tokenizer=<__main__.MyTokenizer object at 0x7c095f32a650>)),\n",
              "                ('pca', TruncatedSVD(n_components=1287)),\n",
              "                ('model', LogisticRegression(class_weight='balanced'))])"
            ],
            "text/html": [
              "<style>#sk-container-id-2 {color: black;}#sk-container-id-2 pre{padding: 0;}#sk-container-id-2 div.sk-toggleable {background-color: white;}#sk-container-id-2 label.sk-toggleable__label {cursor: pointer;display: block;width: 100%;margin-bottom: 0;padding: 0.3em;box-sizing: border-box;text-align: center;}#sk-container-id-2 label.sk-toggleable__label-arrow:before {content: \"▸\";float: left;margin-right: 0.25em;color: #696969;}#sk-container-id-2 label.sk-toggleable__label-arrow:hover:before {color: black;}#sk-container-id-2 div.sk-estimator:hover label.sk-toggleable__label-arrow:before {color: black;}#sk-container-id-2 div.sk-toggleable__content {max-height: 0;max-width: 0;overflow: hidden;text-align: left;background-color: #f0f8ff;}#sk-container-id-2 div.sk-toggleable__content pre {margin: 0.2em;color: black;border-radius: 0.25em;background-color: #f0f8ff;}#sk-container-id-2 input.sk-toggleable__control:checked~div.sk-toggleable__content {max-height: 200px;max-width: 100%;overflow: auto;}#sk-container-id-2 input.sk-toggleable__control:checked~label.sk-toggleable__label-arrow:before {content: \"▾\";}#sk-container-id-2 div.sk-estimator input.sk-toggleable__control:checked~label.sk-toggleable__label {background-color: #d4ebff;}#sk-container-id-2 div.sk-label input.sk-toggleable__control:checked~label.sk-toggleable__label {background-color: #d4ebff;}#sk-container-id-2 input.sk-hidden--visually {border: 0;clip: rect(1px 1px 1px 1px);clip: rect(1px, 1px, 1px, 1px);height: 1px;margin: -1px;overflow: hidden;padding: 0;position: absolute;width: 1px;}#sk-container-id-2 div.sk-estimator {font-family: monospace;background-color: #f0f8ff;border: 1px dotted black;border-radius: 0.25em;box-sizing: border-box;margin-bottom: 0.5em;}#sk-container-id-2 div.sk-estimator:hover {background-color: #d4ebff;}#sk-container-id-2 div.sk-parallel-item::after {content: \"\";width: 100%;border-bottom: 1px solid gray;flex-grow: 1;}#sk-container-id-2 div.sk-label:hover label.sk-toggleable__label {background-color: #d4ebff;}#sk-container-id-2 div.sk-serial::before {content: \"\";position: absolute;border-left: 1px solid gray;box-sizing: border-box;top: 0;bottom: 0;left: 50%;z-index: 0;}#sk-container-id-2 div.sk-serial {display: flex;flex-direction: column;align-items: center;background-color: white;padding-right: 0.2em;padding-left: 0.2em;position: relative;}#sk-container-id-2 div.sk-item {position: relative;z-index: 1;}#sk-container-id-2 div.sk-parallel {display: flex;align-items: stretch;justify-content: center;background-color: white;position: relative;}#sk-container-id-2 div.sk-item::before, #sk-container-id-2 div.sk-parallel-item::before {content: \"\";position: absolute;border-left: 1px solid gray;box-sizing: border-box;top: 0;bottom: 0;left: 50%;z-index: -1;}#sk-container-id-2 div.sk-parallel-item {display: flex;flex-direction: column;z-index: 1;position: relative;background-color: white;}#sk-container-id-2 div.sk-parallel-item:first-child::after {align-self: flex-end;width: 50%;}#sk-container-id-2 div.sk-parallel-item:last-child::after {align-self: flex-start;width: 50%;}#sk-container-id-2 div.sk-parallel-item:only-child::after {width: 0;}#sk-container-id-2 div.sk-dashed-wrapped {border: 1px dashed gray;margin: 0 0.4em 0.5em 0.4em;box-sizing: border-box;padding-bottom: 0.4em;background-color: white;}#sk-container-id-2 div.sk-label label {font-family: monospace;font-weight: bold;display: inline-block;line-height: 1.2em;}#sk-container-id-2 div.sk-label-container {text-align: center;}#sk-container-id-2 div.sk-container {/* jupyter's `normalize.less` sets `[hidden] { display: none; }` but bootstrap.min.css set `[hidden] { display: none !important; }` so we also need the `!important` here to be able to override the default hidden behavior on the sphinx rendered scikit-learn.org. See: https://github.com/scikit-learn/scikit-learn/issues/21755 */display: inline-block !important;position: relative;}#sk-container-id-2 div.sk-text-repr-fallback {display: none;}</style><div id=\"sk-container-id-2\" class=\"sk-top-container\"><div class=\"sk-text-repr-fallback\"><pre>Pipeline(steps=[(&#x27;vectorizer&#x27;,\n",
              "                 TfidfVectorizer(stop_words=&#x27;english&#x27;,\n",
              "                                 tokenizer=&lt;__main__.MyTokenizer object at 0x7c095f32a650&gt;)),\n",
              "                (&#x27;pca&#x27;, TruncatedSVD(n_components=1287)),\n",
              "                (&#x27;model&#x27;, LogisticRegression(class_weight=&#x27;balanced&#x27;))])</pre><b>In a Jupyter environment, please rerun this cell to show the HTML representation or trust the notebook. <br />On GitHub, the HTML representation is unable to render, please try loading this page with nbviewer.org.</b></div><div class=\"sk-container\" hidden><div class=\"sk-item sk-dashed-wrapped\"><div class=\"sk-label-container\"><div class=\"sk-label sk-toggleable\"><input class=\"sk-toggleable__control sk-hidden--visually\" id=\"sk-estimator-id-2\" type=\"checkbox\" ><label for=\"sk-estimator-id-2\" class=\"sk-toggleable__label sk-toggleable__label-arrow\">Pipeline</label><div class=\"sk-toggleable__content\"><pre>Pipeline(steps=[(&#x27;vectorizer&#x27;,\n",
              "                 TfidfVectorizer(stop_words=&#x27;english&#x27;,\n",
              "                                 tokenizer=&lt;__main__.MyTokenizer object at 0x7c095f32a650&gt;)),\n",
              "                (&#x27;pca&#x27;, TruncatedSVD(n_components=1287)),\n",
              "                (&#x27;model&#x27;, LogisticRegression(class_weight=&#x27;balanced&#x27;))])</pre></div></div></div><div class=\"sk-serial\"><div class=\"sk-item\"><div class=\"sk-estimator sk-toggleable\"><input class=\"sk-toggleable__control sk-hidden--visually\" id=\"sk-estimator-id-3\" type=\"checkbox\" ><label for=\"sk-estimator-id-3\" class=\"sk-toggleable__label sk-toggleable__label-arrow\">TfidfVectorizer</label><div class=\"sk-toggleable__content\"><pre>TfidfVectorizer(stop_words=&#x27;english&#x27;,\n",
              "                tokenizer=&lt;__main__.MyTokenizer object at 0x7c095f32a650&gt;)</pre></div></div></div><div class=\"sk-item\"><div class=\"sk-estimator sk-toggleable\"><input class=\"sk-toggleable__control sk-hidden--visually\" id=\"sk-estimator-id-4\" type=\"checkbox\" ><label for=\"sk-estimator-id-4\" class=\"sk-toggleable__label sk-toggleable__label-arrow\">TruncatedSVD</label><div class=\"sk-toggleable__content\"><pre>TruncatedSVD(n_components=1287)</pre></div></div></div><div class=\"sk-item\"><div class=\"sk-estimator sk-toggleable\"><input class=\"sk-toggleable__control sk-hidden--visually\" id=\"sk-estimator-id-5\" type=\"checkbox\" ><label for=\"sk-estimator-id-5\" class=\"sk-toggleable__label sk-toggleable__label-arrow\">LogisticRegression</label><div class=\"sk-toggleable__content\"><pre>LogisticRegression(class_weight=&#x27;balanced&#x27;)</pre></div></div></div></div></div></div></div>"
            ]
          },
          "metadata": {},
          "execution_count": 14
        }
      ]
    },
    {
      "cell_type": "code",
      "source": [],
      "metadata": {
        "id": "HVboaNN4rjhu"
      },
      "execution_count": 14,
      "outputs": []
    }
  ]
}