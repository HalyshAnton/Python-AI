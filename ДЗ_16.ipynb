{
  "nbformat": 4,
  "nbformat_minor": 0,
  "metadata": {
    "colab": {
      "provenance": [],
      "authorship_tag": "ABX9TyO6NwudNYfvHcC0WcNdhlQG",
      "include_colab_link": true
    },
    "kernelspec": {
      "name": "python3",
      "display_name": "Python 3"
    },
    "language_info": {
      "name": "python"
    }
  },
  "cells": [
    {
      "cell_type": "markdown",
      "metadata": {
        "id": "view-in-github",
        "colab_type": "text"
      },
      "source": [
        "<a href=\"https://colab.research.google.com/github/HalyshAnton/Python-AI/blob/AI_5_dz/%D0%94%D0%97_16.ipynb\" target=\"_parent\"><img src=\"https://colab.research.google.com/assets/colab-badge.svg\" alt=\"Open In Colab\"/></a>"
      ]
    },
    {
      "cell_type": "markdown",
      "source": [
        "[Посилання на датасет](https://www.kaggle.com/datasets/sshikamaru/fruit-recognition)"
      ],
      "metadata": {
        "id": "tcngeTvWJXo9"
      }
    },
    {
      "cell_type": "markdown",
      "source": [
        "# Завдання:\n",
        "\n",
        "* На основі `train_dataset` та `test_dataset` з попереднього завдання створити `train_loader` та `test_loader`\n",
        "* Створити згорткову нейромережу:\n",
        "  * розмір фільтрів - 3\n",
        "  * MaxPooling - kernel_size=2, stride=2\n",
        "  * можете змінити розмір зображення в transformer до 64\n",
        "* Виведіть confussion matrix та основні метрики\n",
        "* Збережіть `kaggle notebook` для подальшої роботи"
      ],
      "metadata": {
        "id": "_XM4E8vNJidY"
      }
    },
    {
      "cell_type": "code",
      "source": [],
      "metadata": {
        "id": "4BlrR7lIOYgI"
      },
      "execution_count": null,
      "outputs": []
    }
  ]
}