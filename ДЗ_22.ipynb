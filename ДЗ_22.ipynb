{
  "nbformat": 4,
  "nbformat_minor": 0,
  "metadata": {
    "colab": {
      "provenance": [],
      "authorship_tag": "ABX9TyPUHglLRADJ04/58KTcUxWw",
      "include_colab_link": true
    },
    "kernelspec": {
      "name": "python3",
      "display_name": "Python 3"
    },
    "language_info": {
      "name": "python"
    }
  },
  "cells": [
    {
      "cell_type": "markdown",
      "metadata": {
        "id": "view-in-github",
        "colab_type": "text"
      },
      "source": [
        "<a href=\"https://colab.research.google.com/github/HalyshAnton/Python-AI/blob/AI_6_dz/%D0%94%D0%97_22.ipynb\" target=\"_parent\"><img src=\"https://colab.research.google.com/assets/colab-badge.svg\" alt=\"Open In Colab\"/></a>"
      ]
    },
    {
      "cell_type": "markdown",
      "source": [
        "Підключіть усі потрібні бібліотеки та використайте API Hugging Face"
      ],
      "metadata": {
        "id": "E1R-5EhQv-PR"
      }
    },
    {
      "cell_type": "code",
      "source": [],
      "metadata": {
        "id": "RKS_9c5zwHae"
      },
      "execution_count": null,
      "outputs": []
    },
    {
      "cell_type": "markdown",
      "source": [
        "# Завдання\n",
        "\n",
        "Користувач вводить породу, колір та тип активності(грайливий, сонний, тощо) домашнього улюбленця.\n",
        "\n",
        "Перша модель повинна згенерувати список можливих імен для улюбленця(довжину списку також вводить користувач)\n",
        "\n",
        "Виберіть перше ім'я в списку та попросіть другу модель написати коротку історію про цього улюбленця\n",
        "\n",
        "Оформіть усе у вигляді функцій\n",
        "\n"
      ],
      "metadata": {
        "id": "izlk7L95v3y9"
      }
    },
    {
      "cell_type": "code",
      "execution_count": null,
      "metadata": {
        "id": "y2E-223cvx7Q"
      },
      "outputs": [],
      "source": []
    }
  ]
}