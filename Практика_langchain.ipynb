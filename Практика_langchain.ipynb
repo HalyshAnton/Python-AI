{
  "nbformat": 4,
  "nbformat_minor": 0,
  "metadata": {
    "colab": {
      "provenance": [],
      "authorship_tag": "ABX9TyMsS6QWqF3p+/oGjcV+fEl3",
      "include_colab_link": true
    },
    "kernelspec": {
      "name": "python3",
      "display_name": "Python 3"
    },
    "language_info": {
      "name": "python"
    }
  },
  "cells": [
    {
      "cell_type": "markdown",
      "metadata": {
        "id": "view-in-github",
        "colab_type": "text"
      },
      "source": [
        "<a href=\"https://colab.research.google.com/github/HalyshAnton/Python-AI/blob/AI_6_practice/%D0%9F%D1%80%D0%B0%D0%BA%D1%82%D0%B8%D0%BA%D0%B0_langchain.ipynb\" target=\"_parent\"><img src=\"https://colab.research.google.com/assets/colab-badge.svg\" alt=\"Open In Colab\"/></a>"
      ]
    },
    {
      "cell_type": "markdown",
      "source": [
        "Підключіть усі потрібні бібліотеки та використайте API Hugging Face"
      ],
      "metadata": {
        "id": "E1R-5EhQv-PR"
      }
    },
    {
      "cell_type": "code",
      "source": [],
      "metadata": {
        "id": "RKS_9c5zwHae"
      },
      "execution_count": null,
      "outputs": []
    },
    {
      "cell_type": "markdown",
      "source": [
        "# Завдання 1\n",
        "\n",
        "Підключіть модель `Mistral-7B-Instruct-v0.2`. Попросіть модель згенерувати короткий текст для рекламного ролику. Текст має бути креативним."
      ],
      "metadata": {
        "id": "izlk7L95v3y9"
      }
    },
    {
      "cell_type": "code",
      "execution_count": null,
      "metadata": {
        "id": "y2E-223cvx7Q"
      },
      "outputs": [],
      "source": []
    },
    {
      "cell_type": "markdown",
      "source": [
        "# Завдання 2\n",
        "\n",
        "Попросіть модель вивести короткий і чіткий висновок наукової статті"
      ],
      "metadata": {
        "id": "0eit86J8yEUb"
      }
    },
    {
      "cell_type": "code",
      "source": [
        "text = \"\"\"\n",
        "Introduction\n",
        "The domestic cat (Felis catus), a member of the family Felidae, has coexisted with humans for thousands of years. As a carnivorous mammal, cats exhibit a unique combination of physiological, behavioral, and ecological traits that have adapted them to a variety of environments. Their domestication, estimated to have occurred around 9,000 years ago in the Near East, has made them one of the most widespread and diverse species associated with human settlements.\n",
        "\n",
        "Taxonomy and Evolution\n",
        "Cats belong to the class Mammalia, order Carnivora, and family Felidae. Their closest wild relatives are thought to be the African wildcat (Felis silvestris lybica), the European wildcat (Felis silvestris silvestris), and the Asiatic wildcat (Felis silvestris ornata). Genetic studies have revealed minimal divergence between domestic cats and these wild populations, suggesting a relatively recent and incomplete domestication process.\n",
        "\n",
        "Domestication likely began as humans transitioned to agricultural societies. Early humans tolerated wildcats because of their ability to control rodent populations near food stores. Over time, a mutualistic relationship developed, with cats benefiting from steady food sources and humans from pest control.\n",
        "\n",
        "Anatomy and Physiology\n",
        "Cats possess several unique anatomical features that distinguish them as specialized hunters:\n",
        "\n",
        "Vision: Cats have highly developed night vision due to a structure called the tapetum lucidum, which reflects light within the retina, enhancing their ability to see in low light. Their eyes are also adapted for detecting motion, a critical trait for predation.\n",
        "\n",
        "Hearing: Cats can detect a broader range of frequencies than humans, particularly high-frequency sounds made by small prey. Their pinnae (outer ears) are highly mobile, allowing them to localize sounds with precision.\n",
        "\n",
        "Musculoskeletal System: Cats have a flexible spine and powerful hindlimbs that enable them to leap great distances. Their retractable claws aid in climbing, gripping prey, and self-defense.\n",
        "\n",
        "Digestive System: As obligate carnivores, cats require a diet rich in animal protein and specific nutrients like taurine and arachidonic acid, which are not synthesized in sufficient quantities in their bodies.\n",
        "\n",
        "Behavior\n",
        "Cats are solitary hunters by nature, though domestic cats exhibit a remarkable degree of social flexibility. Key behavioral traits include:\n",
        "\n",
        "Communication: Cats communicate through vocalizations (meowing, purring, growling), body language (tail and ear positions), and scent marking.\n",
        "\n",
        "Play: Play behavior in kittens is critical for developing hunting skills. Even adult cats retain playfulness, which is often directed at objects mimicking prey.\n",
        "\n",
        "Territoriality: Cats are territorial animals, using scent glands on their face, paws, and tail base to mark boundaries.\n",
        "\n",
        "Sleep Patterns: Cats are crepuscular, meaning they are most active during dawn and dusk. They spend 12–16 hours a day sleeping or resting, conserving energy for hunting.\n",
        "\n",
        "Ecological Impact\n",
        "While valued as companions, domestic cats can have significant ecological consequences, particularly as invasive species. In some regions, feral cats have been implicated in the decline of native bird, reptile, and small mammal populations. Their predation pressure is especially problematic on islands with endemic species.\n",
        "\n",
        "Efforts to mitigate these impacts include spaying and neutering programs, containment policies, and public awareness campaigns encouraging responsible pet ownership.\n",
        "\n",
        "Health and Welfare\n",
        "Cats are susceptible to a range of diseases, including viral infections like feline leukemia virus (FeLV) and feline immunodeficiency virus (FIV). Parasites, both internal (e.g., worms) and external (e.g., fleas, ticks), are also common. Advances in veterinary medicine have improved their lifespan, with indoor cats living an average of 12–15 years.\n",
        "\n",
        "The welfare of cats, particularly stray and feral populations, remains a global concern. Trap-Neuter-Return (TNR) programs have been widely adopted as humane methods to control population growth while maintaining the well-being of feral cats.\n",
        "\"\"\""
      ],
      "metadata": {
        "id": "8FfCC-aizZxB"
      },
      "execution_count": null,
      "outputs": []
    },
    {
      "cell_type": "markdown",
      "source": [
        "# Завдання 3\n",
        "\n",
        "Використовуючи ланцюги створіть наступні моделі\n",
        "* користувачч вводить свій дохід, модель дає поради по сімейному бюджету\n",
        "\n",
        "* користувач вводить тип події(зустіч з друзями, весілля, день народження), модель повертає план проведення\n",
        "\n",
        "* користувач вводить ім'я, стиль та короткий зміст, модель пише листа адресату"
      ],
      "metadata": {
        "id": "Fp9feee1zsdb"
      }
    },
    {
      "cell_type": "code",
      "source": [],
      "metadata": {
        "id": "fKot3B_p1WHX"
      },
      "execution_count": null,
      "outputs": []
    }
  ]
}