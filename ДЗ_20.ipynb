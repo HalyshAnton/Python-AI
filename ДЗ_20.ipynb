{
  "nbformat": 4,
  "nbformat_minor": 0,
  "metadata": {
    "colab": {
      "provenance": [],
      "authorship_tag": "ABX9TyMRlPRrSnCH8b9OVmOKu7wp",
      "include_colab_link": true
    },
    "kernelspec": {
      "name": "python3",
      "display_name": "Python 3"
    },
    "language_info": {
      "name": "python"
    }
  },
  "cells": [
    {
      "cell_type": "markdown",
      "metadata": {
        "id": "view-in-github",
        "colab_type": "text"
      },
      "source": [
        "<a href=\"https://colab.research.google.com/github/HalyshAnton/Python-AI/blob/AI_6_dz/%D0%94%D0%97_20.ipynb\" target=\"_parent\"><img src=\"https://colab.research.google.com/assets/colab-badge.svg\" alt=\"Open In Colab\"/></a>"
      ]
    },
    {
      "cell_type": "markdown",
      "source": [
        "# Завдання\n",
        "\n",
        "[Посилання](https://www.kaggle.com/datasets/mexwell/telegram-spam-or-ham)\n",
        "\n",
        "За допомогою `pytorch` проведіть класифікацію тексту:\n",
        "\n",
        "* Завантажте усі датафрейм\n",
        "* Створіть датасет з використанням `Glove`\n",
        "* Перевірте розмірність даних у датасеті\n",
        "* Розділіть дані на тренувальні та тестові, створіть `data_loader`\n",
        "* Створіть модель та натренуйте її\n",
        "* Виведіть результати класифікації\n",
        "\n",
        "Додатково\n",
        "* Можна вказати параметр `weight` у `CrossEntropyLoss` для кращої класифікації"
      ],
      "metadata": {
        "id": "DAH65jNQPXur"
      }
    },
    {
      "cell_type": "code",
      "execution_count": null,
      "metadata": {
        "id": "rWAz7ILkPKyr"
      },
      "outputs": [],
      "source": []
    }
  ]
}