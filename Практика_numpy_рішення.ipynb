{
  "nbformat": 4,
  "nbformat_minor": 0,
  "metadata": {
    "colab": {
      "provenance": [],
      "authorship_tag": "ABX9TyOBRsh7uSXfxH48vnUWkHcI",
      "include_colab_link": true
    },
    "kernelspec": {
      "name": "python3",
      "display_name": "Python 3"
    },
    "language_info": {
      "name": "python"
    }
  },
  "cells": [
    {
      "cell_type": "markdown",
      "metadata": {
        "id": "view-in-github",
        "colab_type": "text"
      },
      "source": [
        "<a href=\"https://colab.research.google.com/github/HalyshAnton/Python-AI/blob/AI_2_practice/%D0%9F%D1%80%D0%B0%D0%BA%D1%82%D0%B8%D0%BA%D0%B0_numpy_%D1%80%D1%96%D1%88%D0%B5%D0%BD%D0%BD%D1%8F.ipynb\" target=\"_parent\"><img src=\"https://colab.research.google.com/assets/colab-badge.svg\" alt=\"Open In Colab\"/></a>"
      ]
    },
    {
      "cell_type": "markdown",
      "source": [
        "Імпортуйте модуль numpy"
      ],
      "metadata": {
        "id": "rIioSM27QJ8x"
      }
    },
    {
      "cell_type": "code",
      "execution_count": 1,
      "metadata": {
        "id": "rDtfBq8ANBhL"
      },
      "outputs": [],
      "source": [
        "import numpy as np"
      ]
    },
    {
      "cell_type": "markdown",
      "source": [
        "# Завдання 1\n",
        "Створіть масив з елементами від 1 до 12. Виведіть розмір та тип масиву"
      ],
      "metadata": {
        "id": "npT_FnlcNwke"
      }
    },
    {
      "cell_type": "code",
      "source": [
        "x = np.arange(1, 13)\n",
        "print(f'{x = }')\n",
        "print(f'{x.shape = }')\n",
        "print(f'{x.dtype = }')"
      ],
      "metadata": {
        "id": "02EdQMKlOZHr",
        "outputId": "0ea75fd4-99a3-4f6f-d00b-f6d287b636ec",
        "colab": {
          "base_uri": "https://localhost:8080/"
        }
      },
      "execution_count": 3,
      "outputs": [
        {
          "output_type": "stream",
          "name": "stdout",
          "text": [
            "x = array([ 1,  2,  3,  4,  5,  6,  7,  8,  9, 10, 11, 12])\n",
            "x.shape = (12,)\n",
            "x.dtype = dtype('int64')\n"
          ]
        }
      ]
    },
    {
      "cell_type": "markdown",
      "source": [
        "# Завдання 2\n",
        "Зробіть на основі попереднього масиву матрицю з 4 стовчиками. Змініть тип даних матриці на float32. Виведіть транспоновану матрицю."
      ],
      "metadata": {
        "id": "HH8hOwVhNxWE"
      }
    },
    {
      "cell_type": "code",
      "source": [
        "new_x = x.reshape((-1, 4))\n",
        "new_x = new_x.astype(np.float32)\n",
        "\n",
        "print(new_x.T)"
      ],
      "metadata": {
        "id": "4jYqwTycOYbN",
        "outputId": "c03bbb1b-cfcf-47b8-d99b-948806604d2c",
        "colab": {
          "base_uri": "https://localhost:8080/"
        }
      },
      "execution_count": 4,
      "outputs": [
        {
          "output_type": "stream",
          "name": "stdout",
          "text": [
            "[[ 1.  5.  9.]\n",
            " [ 2.  6. 10.]\n",
            " [ 3.  7. 11.]\n",
            " [ 4.  8. 12.]]\n"
          ]
        }
      ]
    },
    {
      "cell_type": "markdown",
      "source": [
        "#Завдання 3\n",
        "Створіть матрицю 8х8 з 0 та 1 розміщеними в шаховому порядку"
      ],
      "metadata": {
        "id": "T35Vjkz1Nxez"
      }
    },
    {
      "cell_type": "code",
      "source": [
        "board = np.zeros((8, 8), dtype=np.int8)\n",
        "\n",
        "board[::2, ::2] = 1\n",
        "board[1::2, 1::2] = 1\n",
        "\n",
        "board"
      ],
      "metadata": {
        "id": "mrbnfiPQPu_n",
        "outputId": "692f5974-2031-4783-c911-d8a96773c050",
        "colab": {
          "base_uri": "https://localhost:8080/"
        }
      },
      "execution_count": 7,
      "outputs": [
        {
          "output_type": "execute_result",
          "data": {
            "text/plain": [
              "array([[1, 0, 1, 0, 1, 0, 1, 0],\n",
              "       [0, 1, 0, 1, 0, 1, 0, 1],\n",
              "       [1, 0, 1, 0, 1, 0, 1, 0],\n",
              "       [0, 1, 0, 1, 0, 1, 0, 1],\n",
              "       [1, 0, 1, 0, 1, 0, 1, 0],\n",
              "       [0, 1, 0, 1, 0, 1, 0, 1],\n",
              "       [1, 0, 1, 0, 1, 0, 1, 0],\n",
              "       [0, 1, 0, 1, 0, 1, 0, 1]], dtype=int8)"
            ]
          },
          "metadata": {},
          "execution_count": 7
        }
      ]
    },
    {
      "cell_type": "markdown",
      "source": [
        "# Завдання 4\n",
        "Створіть випадкову матрицю 4х3. Знайдіть суму елементів в стовпчиках\\рядках\\усій матриці"
      ],
      "metadata": {
        "id": "g87KAY1nNxoy"
      }
    },
    {
      "cell_type": "code",
      "source": [
        "x = np.random.random((4, 3))\n",
        "\n",
        "print(f'row sum {x.sum(axis=1)}')\n",
        "print(f'column sum {x.sum(axis=0)}')\n",
        "print(f'array sum {x.sum()}')"
      ],
      "metadata": {
        "id": "RGA3022VQIZV",
        "outputId": "72f15dd2-0503-4688-9c53-0299a4df8416",
        "colab": {
          "base_uri": "https://localhost:8080/"
        }
      },
      "execution_count": 8,
      "outputs": [
        {
          "output_type": "stream",
          "name": "stdout",
          "text": [
            "row sum [1.51640027 2.69869961 0.8387917  0.86261472]\n",
            "column sum [2.05312382 1.38026056 2.48312192]\n",
            "array sum 5.916506299493248\n"
          ]
        }
      ]
    },
    {
      "cell_type": "markdown",
      "source": [
        "# Завдання 5\n",
        "У попередній матриці від кожного рядка відніміть максимальний елемент цього рядка"
      ],
      "metadata": {
        "id": "AGH0TVVBNxx9"
      }
    },
    {
      "cell_type": "code",
      "source": [
        "max_row = x.max(axis=1, keepdims=True)\n",
        "\n",
        "new_x = x - max_row\n",
        "\n",
        "new_x"
      ],
      "metadata": {
        "id": "TVYjbsBDQHTU",
        "outputId": "a706b4b0-8293-48ce-fdf6-45e447e8068c",
        "colab": {
          "base_uri": "https://localhost:8080/"
        }
      },
      "execution_count": 10,
      "outputs": [
        {
          "output_type": "execute_result",
          "data": {
            "text/plain": [
              "array([[-0.3769458 , -0.7553234 ,  0.        ],\n",
              "       [-0.10544346,  0.        , -0.08164174],\n",
              "       [ 0.        , -0.26945158, -0.04122875],\n",
              "       [-0.07047933, -0.20095687,  0.        ]])"
            ]
          },
          "metadata": {},
          "execution_count": 10
        }
      ]
    },
    {
      "cell_type": "markdown",
      "source": [
        "# Завдання 6\n",
        "Є дані про вагу контейнерів для перевезення на кораблі: дрібний - 5 т,  малий - 10 т, середній - 25 т, великий - 40 т. На кораблі розміщено 20 дрібних, 5 малих, 10 середніх та 4 великих контейнерів. Знайти масу вантажу."
      ],
      "metadata": {
        "id": "cH8WhnsjQsXi"
      }
    },
    {
      "cell_type": "code",
      "source": [
        "weights = np.array([5, 10, 25, 40])\n",
        "counts = np.array([20, 5, 10, 4])\n",
        "\n",
        "total = counts @ weights\n",
        "total"
      ],
      "metadata": {
        "id": "BYrqqe9WR6g7",
        "outputId": "470ecb53-f7cc-43e9-bd22-deda75e4d329",
        "colab": {
          "base_uri": "https://localhost:8080/"
        }
      },
      "execution_count": 14,
      "outputs": [
        {
          "output_type": "execute_result",
          "data": {
            "text/plain": [
              "560"
            ]
          },
          "metadata": {},
          "execution_count": 14
        }
      ]
    },
    {
      "cell_type": "markdown",
      "source": [
        "# Завдання 7\n",
        "Тепер у нас декілька кораблів. Напишіть код для обчислення вантажу на кожному кораблі."
      ],
      "metadata": {
        "id": "IhdiDOh3Qrmb"
      }
    },
    {
      "cell_type": "code",
      "source": [
        "weights = np.array([5, 10, 25, 40])\n",
        "\n",
        "counts = np.array([[20, 5, 10, 4],\n",
        "                   [10, 10, 7, 3],\n",
        "                   [30, 5, 2, 0]\n",
        "                   ])\n",
        "\n",
        "total = counts @ weights\n",
        "\n",
        "total"
      ],
      "metadata": {
        "id": "gVUXPdFhSI95",
        "outputId": "0172ce98-1bbf-44ed-bff7-882365330195",
        "colab": {
          "base_uri": "https://localhost:8080/"
        }
      },
      "execution_count": 15,
      "outputs": [
        {
          "output_type": "execute_result",
          "data": {
            "text/plain": [
              "array([560, 445, 250])"
            ]
          },
          "metadata": {},
          "execution_count": 15
        }
      ]
    }
  ]
}