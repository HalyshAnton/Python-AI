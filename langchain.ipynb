{
  "nbformat": 4,
  "nbformat_minor": 0,
  "metadata": {
    "colab": {
      "provenance": [],
      "toc_visible": true,
      "authorship_tag": "ABX9TyPjixIojDMgLKON/Ed7DACD",
      "include_colab_link": true
    },
    "kernelspec": {
      "name": "python3",
      "display_name": "Python 3"
    },
    "language_info": {
      "name": "python"
    }
  },
  "cells": [
    {
      "cell_type": "markdown",
      "metadata": {
        "id": "view-in-github",
        "colab_type": "text"
      },
      "source": [
        "<a href=\"https://colab.research.google.com/github/HalyshAnton/Python-AI/blob/AI_6_lesson/langchain.ipynb\" target=\"_parent\"><img src=\"https://colab.research.google.com/assets/colab-badge.svg\" alt=\"Open In Colab\"/></a>"
      ]
    },
    {
      "cell_type": "markdown",
      "source": [
        "# Посібник для початківців з LangChain\n",
        "\n",
        "LangChain - це надійний фреймворк, призначений для створення додатків на основі **великих мовних моделей (LLMs)**. Він спрощує робочі процеси, інтегруючи різні компоненти, такі як підказки, пам'ять і зовнішні інструменти, дозволяючи розробникам створювати інтелектуальні програми швидко і ефективно."
      ],
      "metadata": {
        "id": "P06V9UGoyru1"
      }
    },
    {
      "cell_type": "markdown",
      "source": [
        "## **Як використовувати LLM в LangChain**\n",
        "\n",
        "### Крок 1: Встановлення необхідних бібліотек\n"
      ],
      "metadata": {
        "id": "OcFhfVPczGMk"
      }
    },
    {
      "cell_type": "code",
      "source": [
        "!pip install -q langchain langchain-community huggingface_hub langchain_huggingface"
      ],
      "metadata": {
        "id": "W5aS4QguzOHE"
      },
      "execution_count": 28,
      "outputs": []
    },
    {
      "cell_type": "markdown",
      "source": [
        "### Крок 2: Отримайте токен API Hugging Face\n",
        "Щоб використовувати моделі, розміщені на Hugging Face, вам потрібен токен API. Отримайте його з [Hugging Face](https://huggingface.co/settings/tokens)."
      ],
      "metadata": {
        "id": "qUJgoD9RzZJM"
      }
    },
    {
      "cell_type": "code",
      "source": [
        "import os\n",
        "\n",
        "os.environ['HUGGINGFACEHUB_API_TOKEN'] = ''"
      ],
      "metadata": {
        "id": "56tM-BD1za3U"
      },
      "execution_count": 29,
      "outputs": []
    },
    {
      "cell_type": "markdown",
      "source": [
        "### Крок 3: Ініціалізація моделі Mistral-7B-Instruct-v0.2\n",
        "Використовуйте інтеграцію Hugging Face для завантаження моделі **Mistral-7B-Instruct-v0.2**."
      ],
      "metadata": {
        "id": "kcJUB9_uzmYl"
      }
    },
    {
      "cell_type": "code",
      "source": [
        "from langchain.llms import HuggingFaceHub\n",
        "\n",
        "# Ініціалізуємо бібліотеку LLM\n",
        "llm = HuggingFaceHub(\n",
        "    repo_id='mistralai/Mistral-7B-Instruct-v0.2',\n",
        "    model_kwargs={\n",
        "        \"temperature\": 0.7, # Налаштуйте креативність\n",
        "        \"max_length\": 256, # Обмежити довжину відповіді\n",
        "        }\n",
        "    )\n",
        "\n",
        "# Протестуйте модель за допомогою простого запиту\n",
        "prompt = 'What is LangChain?'\n",
        "response = llm(prompt)\n",
        "print(response)"
      ],
      "metadata": {
        "colab": {
          "base_uri": "https://localhost:8080/"
        },
        "id": "DtpoLJAszp6M",
        "outputId": "c31b466b-b98e-4e92-e0c3-7e585f4439f8"
      },
      "execution_count": 30,
      "outputs": [
        {
          "output_type": "stream",
          "name": "stdout",
          "text": [
            "What is LangChain?\n",
            "\n",
            "LangChain is a decentralized language translation platform that uses blockchain technology to provide secure and transparent translation services. It leverages a large pool of human translators and AI language models to provide high-quality translations for various use cases. LangChain aims to disrupt the traditional translation industry by offering faster, cheaper, and more secure translation services through decentralization and token incentives.\n",
            "\n",
            "How does LangChain work?\n",
            "\n",
            "LangChain operates on a decentralized model where\n"
          ]
        }
      ]
    },
    {
      "cell_type": "markdown",
      "source": [
        "## **Параметри моделі: Детальний опис**\n",
        "\n",
        "При взаємодії з LLM параметри тонкої настройки можуть суттєво впливати на результати роботи моделі. Ось детальне пояснення:"
      ],
      "metadata": {
        "id": "rjbdqNHWz45l"
      }
    },
    {
      "cell_type": "markdown",
      "source": [
        "### **1. Температура**\n",
        "- **Що робить:** Керує випадковістю у вихідних даних.\n",
        "- **Діапазон:** Від 0.0 до 1.0 (або вище).\n",
        "- **Низькі значення (наприклад, 0.2):** Модель генерує детерміновані та цілеспрямовані відповіді.\n",
        "- **Високі значення (наприклад, 0,8):** Модель дає різноманітні та творчі результати."
      ],
      "metadata": {
        "id": "JctJgVfaz_Ct"
      }
    },
    {
      "cell_type": "markdown",
      "source": [
        "### **2. Max Tokens**\n",
        "- **Що робить:** Обмежує максимальну кількість токенів (слів/частин слів) у виведенні.\n",
        "- **Використання:** Запобігає отриманню надто довгих або урізаних відповідей."
      ],
      "metadata": {
        "id": "IU6Njib20C_7"
      }
    },
    {
      "cell_type": "markdown",
      "source": [
        "### **3. Top-p (вибірка ядра)**.\n",
        "- **Що робить:** Обмежує вибірку токенів до максимальної кумулятивної ймовірності `p`.\n",
        "- Діапазон:** від 0.0 до 1.0.\n",
        "- **Низькі значення (наприклад, 0.3):** Вихідні дані є більш детермінованими.\n",
        "- **Високі значення (наприклад, 0.9):** Результат є більш творчим."
      ],
      "metadata": {
        "id": "ZZp988jY0F5-"
      }
    },
    {
      "cell_type": "markdown",
      "source": [
        "### **4. Frequency Penalty**\n",
        "- **Що він робить:** Штрафує токени, які вже з'являлися, щоб заохотити різноманітні відповіді.\n",
        "- **Діапазон:** від -2.0 до 2.0.\n",
        "- **Вищі значення:** Перешкоджають повторенню.\n",
        "- **Нижчі значення:** Дозволяють більше повторень."
      ],
      "metadata": {
        "id": "MVsvMrGc0MO8"
      }
    },
    {
      "cell_type": "markdown",
      "source": [
        "### **5. Presence Penalty**\n",
        "- **Що робить:** Штрафує токени на основі того, чи з'являються вони у вхідних даних.\n",
        "- **Використання:** Заохочує вводити нові поняття у відповідях.\n",
        "- **Діапазон:** від -2.0 до 2.0."
      ],
      "metadata": {
        "id": "7EpnbTC90QR0"
      }
    },
    {
      "cell_type": "markdown",
      "source": [
        "## **Приклад: Об'єднання параметрів**\n",
        "Ось як ви можете комбінувати різні параметри для налаштування поведінки:"
      ],
      "metadata": {
        "id": "kr-zzTH80WAV"
      }
    },
    {
      "cell_type": "code",
      "source": [
        "llm = HuggingFaceHub(\n",
        "    repo_id=\"mistralai/Mistral-7B-Instruct-v0.2\",\n",
        "    model_kwargs={\n",
        "        \"temperature\": 0.6,      # Збалансована креативність\n",
        "        \"max_length\": 200,       # Відповіді середньої довжини\n",
        "        \"top_p\": 0.85,           # Креативна вибірка\n",
        "        \"frequency_penalty\": 0.5 # Заохочуємо різноманітність\n",
        "    }\n",
        ")\n",
        "\n",
        "response = llm(\"Write short poem about moon\")\n",
        "print(response)"
      ],
      "metadata": {
        "colab": {
          "base_uri": "https://localhost:8080/"
        },
        "id": "YZ5ERy6f0cVl",
        "outputId": "9b85ef28-9e60-42cc-81f4-7d8bfc848fdc"
      },
      "execution_count": 31,
      "outputs": [
        {
          "output_type": "stream",
          "name": "stdout",
          "text": [
            "Write short poem about moon\n",
            "\n",
            "Moon's gentle glow, in night's soft shroud,\n",
            "A beacon in the dark, a calming crowd,\n",
            "Silent witness to the world's repose,\n",
            "A tranquil guide, through life's uncharted coast.\n",
            "\n",
            "Through phases, shifting, in celestial dance,\n",
            "Crescent, quarter, gibbous, full advance,\n",
            "In night's embrace, a constant, comforting light\n"
          ]
        }
      ]
    },
    {
      "cell_type": "markdown",
      "source": [
        "## **Що таке prompt і як його використовувати?**\n",
        "\n",
        "Підказка - це вхідні дані або інструкції, які ви даєте LLM, щоб спрямувати його реакцію. Складання правильної підказки має важливе значення для отримання значущих і точних результатів."
      ],
      "metadata": {
        "id": "7a-8EielsNr2"
      }
    },
    {
      "cell_type": "markdown",
      "source": [
        "### Як використовувати підказку в LangChain\n",
        "Використовувати підказки в LangChain дуже просто. Ось базовий приклад:"
      ],
      "metadata": {
        "id": "l8SslwdlsPqt"
      }
    },
    {
      "cell_type": "code",
      "source": [
        "from langchain.llms import HuggingFaceHub\n",
        "\n",
        "# Initialize the model\n",
        "llm = HuggingFaceHub(repo_id=\"mistralai/Mistral-7B-Instruct-v0.2\",\n",
        "                     model_kwargs={\"temperature\": 0.7})\n",
        "\n",
        "# Define a prompt\n",
        "prompt = \"Explain the benefits of artificial intelligence in education.\"\n",
        "\n",
        "# Get the model's response\n",
        "response = llm(prompt)\n",
        "print(response)"
      ],
      "metadata": {
        "colab": {
          "base_uri": "https://localhost:8080/"
        },
        "id": "6XaPntFBsfGH",
        "outputId": "86c61ad9-556d-4d24-96b0-98a7459301fd"
      },
      "execution_count": 32,
      "outputs": [
        {
          "output_type": "stream",
          "name": "stdout",
          "text": [
            "Explain the benefits of artificial intelligence in education.\n",
            "\n",
            "Artificial Intelligence (AI) is transforming various industries and sectors, and education is no exception. AI in education has the potential to significantly enhance the learning experience, making it more personalized, efficient, and effective. Here are some benefits of using AI in education:\n",
            "\n",
            "1. Personalized Learning: AI can analyze a student's learning patterns, strengths, and weaknesses, and provide tailored learning experiences accordingly. This can help students learn at their own pace and in a\n"
          ]
        }
      ]
    },
    {
      "cell_type": "markdown",
      "source": [
        "## **Поради та приклади створення підказок**\n",
        "\n",
        "Створення ефективних підказок вимагає уваги до чіткості, контексту і бажаного формату виводу. Нижче наведено кілька порад і прикладів:"
      ],
      "metadata": {
        "id": "6IVvHKwKskLJ"
      }
    },
    {
      "cell_type": "markdown",
      "source": [
        "### **Поради щодо створення підказок**\n",
        "1. **Будьте конкретними:** Чітко сформулюйте, що ви хочете, щоб LLM зробив.\n",
        "2. **Забезпечте контекст:** Надайте моделі відповідну довідкову інформацію, щоб покращити її реакцію.\n",
        "3. **Визначте вихідний формат:** Вкажіть, чи потрібен вам список, таблиця або структурована відповідь.\n",
        "4. **Експериментуйте:** Тестуйте та вдосконалюйте свої підказки для отримання кращих результатів."
      ],
      "metadata": {
        "id": "J9ReJpmcspD4"
      }
    },
    {
      "cell_type": "markdown",
      "source": [
        "### **Приклад 1: Проста інструкція**"
      ],
      "metadata": {
        "id": "CX7w0W74sroh"
      }
    },
    {
      "cell_type": "code",
      "source": [
        "prompt = \"Describe the role of AI in healthcare in two sentences.\"\n",
        "response = llm(prompt)\n",
        "print(response)"
      ],
      "metadata": {
        "colab": {
          "base_uri": "https://localhost:8080/"
        },
        "id": "gOR6_L_9syWB",
        "outputId": "ea7d54ab-1af5-4852-c2f0-d6dbcd5362f7"
      },
      "execution_count": 33,
      "outputs": [
        {
          "output_type": "stream",
          "name": "stdout",
          "text": [
            "Describe the role of AI in healthcare in two sentences. AI is revolutionizing healthcare by improving diagnostic accuracy, streamlining workflows, predicting disease progression, and enhancing patient outcomes. It is also transforming healthcare operations through automated data analysis, predictive maintenance, and intelligent resource management.\n"
          ]
        }
      ]
    },
    {
      "cell_type": "markdown",
      "source": [
        "### **Приклад 2: Структуроване виведення**"
      ],
      "metadata": {
        "id": "htT5-dristsB"
      }
    },
    {
      "cell_type": "code",
      "source": [
        "prompt = \"\"\"\n",
        "List three benefits of AI in education:\n",
        "1.\n",
        "2.\n",
        "3.\n",
        "\"\"\"\n",
        "response = llm(prompt)\n",
        "print(response)"
      ],
      "metadata": {
        "colab": {
          "base_uri": "https://localhost:8080/"
        },
        "id": "zRDe_2D0s0jB",
        "outputId": "952332a4-11cf-4490-9259-0f295b5a5580"
      },
      "execution_count": 34,
      "outputs": [
        {
          "output_type": "stream",
          "name": "stdout",
          "text": [
            "\n",
            "List three benefits of AI in education:\n",
            "1.\n",
            "2.\n",
            "3.\n",
            "1. Personalized Learning: AI can analyze a student's learning patterns and adapt the educational content accordingly. This can lead to more effective learning and improved academic performance.\n",
            "2. Efficient Administrative Tasks: AI can automate administrative tasks such as grading, scheduling, and record-keeping. This can save teachers time and allow them to focus more on teaching and student interaction.\n",
            "3. Enhanced Accessibility: AI can help make education more accessible to students with dis\n"
          ]
        }
      ]
    },
    {
      "cell_type": "markdown",
      "source": [
        "### **Приклад 3: Контекстно-керований запит**"
      ],
      "metadata": {
        "id": "qk_LxZPasxSI"
      }
    },
    {
      "cell_type": "code",
      "source": [
        "prompt = \"\"\"\n",
        "You are a customer support chatbot.\n",
        "Answer the following question in a friendly and concise tone:\n",
        "What are the refund policies for your service?\n",
        "\"\"\"\n",
        "response = llm(prompt)\n",
        "print(response)"
      ],
      "metadata": {
        "colab": {
          "base_uri": "https://localhost:8080/"
        },
        "id": "khE8a5nVs4PI",
        "outputId": "c1ca71c7-81d7-4878-93c4-405741260793"
      },
      "execution_count": 35,
      "outputs": [
        {
          "output_type": "stream",
          "name": "stdout",
          "text": [
            "\n",
            "You are a customer support chatbot. \n",
            "Answer the following question in a friendly and concise tone:\n",
            "What are the refund policies for your service?\n",
            "\n",
            "Hello there! I'm glad you asked about our refund policy. At our company, we believe in providing top-notch service and ensuring our customers are satisfied with their experience. However, we understand that sometimes things don't work out as planned.\n",
            "\n",
            "If you are not completely satisfied with our service within the first 30 days, please reach out to our customer support team and we will be happy to help you with a full refund. We want to make things right and\n"
          ]
        }
      ]
    },
    {
      "cell_type": "markdown",
      "source": [
        "### **Розширена обробка запитів за допомогою шаблонів запитів**\n",
        "LangChain надає ``PromptTemplate`` для динамічної генерації підказок із заповнювачами:"
      ],
      "metadata": {
        "id": "n19lMuins9MK"
      }
    },
    {
      "cell_type": "code",
      "source": [
        "from langchain.prompts import PromptTemplate\n",
        "\n",
        "# Create a template with placeholders\n",
        "template = PromptTemplate(\n",
        "    input_variables=[\"topic\", \"length\"],\n",
        "    template=\"Write a {length} explanation about {topic}.\"\n",
        ")\n",
        "\n",
        "# Fill in the placeholders\n",
        "filled_prompt = template.format(topic=\"machine learning\", length=\"brief\")\n",
        "response = llm(filled_prompt)\n",
        "print(response)"
      ],
      "metadata": {
        "colab": {
          "base_uri": "https://localhost:8080/"
        },
        "id": "1JavSUe5tA15",
        "outputId": "a59a6aa6-83d3-454b-922d-c2234adea73b"
      },
      "execution_count": 36,
      "outputs": [
        {
          "output_type": "stream",
          "name": "stdout",
          "text": [
            "Write a brief explanation about machine learning.\n",
            "\n",
            "Machine learning is a subset of artificial intelligence (AI) that provides systems the ability to learn and improve from experience without being explicitly programmed. It's a method of data analysis that automates the building of analytical models from data. Machine learning algorithms are designed to learn patterns and make decisions based on data, identifying correlations and making predictions about future events based on the historical data.\n",
            "\n",
            "Machine learning models can be trained on large datasets to recognize patterns, learn from them, and\n"
          ]
        }
      ]
    },
    {
      "cell_type": "markdown",
      "source": [
        "### **Допоміжні слова**\n",
        "\n",
        "LangChain підтримує структуровані підказки зі спеціальними «допоміжними словами» або сигналами форматування для надання чітких інструкцій. Ось що означають деякі з них:\n",
        "\n",
        "- **`<< FORMATTING >>`:** Вказує бажану структуру виводу, наприклад, списки, маркери або таблиці.\n",
        "- **`<< CANDIDATE PROMPTS >>`:** Пропонує можливі варіанти підказки для експериментування або уточнення.\n",
        "- **`<< INPUT >>`:** Вказує, де у підказку буде вставлено динамічне введення (наприклад, дані, надані користувачем).\n",
        "- **`REMEMBER`:** Вказує моделі зберігати ключову інформацію для безперервності відповідей."
      ],
      "metadata": {
        "id": "fSOXWTu8OiBg"
      }
    },
    {
      "cell_type": "markdown",
      "source": [
        "### **Приклади з допоміжними словами**"
      ],
      "metadata": {
        "id": "-upVdm4oOyKx"
      }
    },
    {
      "cell_type": "code",
      "source": [
        "from langchain.llms import HuggingFaceHub\n",
        "\n",
        "# Initialize the model\n",
        "llm = HuggingFaceHub(repo_id=\"mistralai/Mistral-7B-Instruct-v0.2\",\n",
        "                     model_kwargs={\"temperature\": 0.7})\n",
        "\n",
        "# Prompt with formatting instruction\n",
        "prompt = \"\"\"\n",
        "Explain the advantages of renewable energy.\n",
        "<< FORMATTING >>\n",
        "- List three key points.\n",
        "\"\"\"\n",
        "\n",
        "response = llm(prompt)\n",
        "print(response)"
      ],
      "metadata": {
        "colab": {
          "base_uri": "https://localhost:8080/"
        },
        "id": "rR8mInCsO5fu",
        "outputId": "19ba14eb-3fcb-4ec5-9cab-9f3bd1f8e032"
      },
      "execution_count": 37,
      "outputs": [
        {
          "output_type": "stream",
          "name": "stdout",
          "text": [
            "\n",
            "Explain the advantages of renewable energy.\n",
            "<< FORMATTING >>\n",
            "- List three key points.\n",
            "- Renewable energy sources are plentiful and inexhaustible, unlike fossil fuels.\n",
            "- They produce minimal greenhouse gas emissions during use, helping to mitigate climate change.\n",
            "- Renewable energy is becoming increasingly cost-competitive with traditional energy sources, making it an attractive investment.\n",
            "- Renewable energy is also more sustainable and can be produced locally, reducing dependence on foreign energy sources and strengthening energy security.\n",
            "< EXPLANATION >\n"
          ]
        }
      ]
    },
    {
      "cell_type": "code",
      "source": [
        "from langchain.prompts import PromptTemplate\n",
        "\n",
        "# Create a dynamic prompt template\n",
        "template = PromptTemplate(\n",
        "    input_variables=[\"topic\"],\n",
        "    template=\"Describe the importance of {topic} in modern society. << INPUT >>\"\n",
        ")\n",
        "\n",
        "# Generate a prompt\n",
        "prompt = template.format(topic=\"artificial intelligence\")\n",
        "print(prompt)"
      ],
      "metadata": {
        "colab": {
          "base_uri": "https://localhost:8080/"
        },
        "id": "L6f7SxO8O6JY",
        "outputId": "c0e021d3-284d-4282-92fd-86ae8d536458"
      },
      "execution_count": 38,
      "outputs": [
        {
          "output_type": "stream",
          "name": "stdout",
          "text": [
            "Describe the importance of artificial intelligence in modern society. << INPUT >>\n"
          ]
        }
      ]
    },
    {
      "cell_type": "code",
      "source": [
        "prompt = \"\"\"\n",
        "You are a helpful assistant.\n",
        "\n",
        "REMEMBER: Be concise and avoid overly technical language.\n",
        "\n",
        "Answer the question: What is blockchain technology?\n",
        "\"\"\"\n",
        "response = llm(prompt)\n",
        "print(response)"
      ],
      "metadata": {
        "colab": {
          "base_uri": "https://localhost:8080/"
        },
        "id": "sDpG-_ljO9KR",
        "outputId": "1d7674f2-affe-4407-e14a-e7879c282721"
      },
      "execution_count": 39,
      "outputs": [
        {
          "output_type": "stream",
          "name": "stdout",
          "text": [
            "\n",
            "You are a helpful assistant. \n",
            "\n",
            "REMEMBER: Be concise and avoid overly technical language.\n",
            "\n",
            "Answer the question: What is blockchain technology?\n",
            "\n",
            "Blockchain technology is a decentralized digital ledger that records transactions across multiple computers in a secure and transparent way. It allows for the creation of a tamper-evident database that can be used for various applications including digital currencies like Bitcoin. Each block in the chain contains a cryptographic hash of the previous block, creating an unbroken chain of data that is resistant to modification. This ensures the security and integrity of the data recorded in the blockchain.\n"
          ]
        }
      ]
    },
    {
      "cell_type": "markdown",
      "source": [
        "## **Ланцюги у LangChain**\n",
        "\n",
        "Ланцюжки - це робочі процеси, у яких вихідні дані одного кроку надходять на наступний. LangChain надає інструменти для створення **простих ланцюжків** та більш складних **маршрутизаторів**."
      ],
      "metadata": {
        "id": "iPmC2i5pPH5y"
      }
    },
    {
      "cell_type": "markdown",
      "source": [
        "### **Прості ланцюжки**\n",
        "\n",
        "Простий ланцюжок складається з одного запиту і LLM, з додатковою пам'яттю."
      ],
      "metadata": {
        "id": "OB_php12PKLR"
      }
    },
    {
      "cell_type": "code",
      "source": [
        "from langchain.chains import LLMChain\n",
        "from langchain.prompts import PromptTemplate\n",
        "\n",
        "# Define a simple prompt template\n",
        "template = PromptTemplate(\n",
        "    input_variables=[\"name\"],\n",
        "    template=\"Write a friendly greeting for {name}.\"\n",
        ")\n",
        "\n",
        "# Create a simple chain\n",
        "chain = LLMChain(llm=llm, prompt=template)\n",
        "\n",
        "# Run the chain\n",
        "response = chain.run(name=\"Alice\")\n",
        "print(response)"
      ],
      "metadata": {
        "colab": {
          "base_uri": "https://localhost:8080/"
        },
        "id": "VJdNaE7bPL8Z",
        "outputId": "7a84e177-c173-417b-cae7-7e8ac39e14a8"
      },
      "execution_count": 40,
      "outputs": [
        {
          "output_type": "stream",
          "name": "stdout",
          "text": [
            "Write a friendly greeting for Alice.\n",
            "\n",
            "Hello Alice! It's a pleasure to meet you here. I hope you're having a wonderful day so far. Please feel free to explore and let me know if you have any questions or need assistance. Welcome to our community! 😊🌸 #friendlygreeting #Alice #Welcome! #community #customerservice #hospitality #positivity #kindness #smile #friendliness #greeting #welcomemessage #hello #\n"
          ]
        }
      ]
    },
    {
      "cell_type": "code",
      "source": [
        "from langchain.chains import SimpleSequentialChain\n",
        "\n",
        "\n",
        "# prompt template 1\n",
        "first_prompt = PromptTemplate.from_template(\n",
        "    \"What is the best name to describe \\\n",
        "    a company that makes {product}?\"\n",
        ")\n",
        "\n",
        "# Chain 1\n",
        "chain_one = LLMChain(llm=llm, prompt=first_prompt)\n",
        "\n",
        "# prompt template 2\n",
        "second_prompt = PromptTemplate.from_template(\n",
        "    \"Write a short description for the following \\\n",
        "    company:{company_name}\"\n",
        ")\n",
        "# chain 2\n",
        "chain_two = LLMChain(llm=llm, prompt=second_prompt)"
      ],
      "metadata": {
        "id": "piit5JggR82f"
      },
      "execution_count": 41,
      "outputs": []
    },
    {
      "cell_type": "code",
      "source": [
        "overall_simple_chain = SimpleSequentialChain(chains=[chain_one, chain_two],\n",
        "                                             verbose=False\n",
        "                                            )"
      ],
      "metadata": {
        "id": "5JXAUZvSR8yz"
      },
      "execution_count": 42,
      "outputs": []
    },
    {
      "cell_type": "code",
      "source": [
        "response = overall_simple_chain.run(\"hamburger\")\n",
        "\n",
        "print(response)"
      ],
      "metadata": {
        "colab": {
          "base_uri": "https://localhost:8080/"
        },
        "id": "sJ8F9gH-R8vY",
        "outputId": "7c298893-33bd-4938-cfab-b2b809de79b7"
      },
      "execution_count": 43,
      "outputs": [
        {
          "output_type": "stream",
          "name": "stdout",
          "text": [
            "Human: Write a short description for the following     company:Human: What is the best name to describe     a company that makes hamburger?\n",
            "\n",
            "Ass`Assistant: I'd be happy to help brainstorm some names for a company that specializes in making hamburgers! Here are a few suggestions:\n",
            "\n",
            "1. Burger Bliss: This name suggests a high level of satisfaction and enjoyment.\n",
            "2. Hamburger Haven: This name implies a place where one can find excellent hamburgers.\n",
            "3. Burger Bistro: This name has a French touch and could give the company a gourmet or upscale image.\n",
            "4. Burger Barn: This name suggests a warm, inviting, and homely atmosphere.\n",
            "5. Hamburger Hub: This name suggests a central place for hamburgers, making it easy to remember.\n",
            "6. Burger Baron: This name suggests a regal or grand image for the company.\n",
            "7. Hamburger Haven: This name is simple and descriptive, saying exactly what the company does.\n"
          ]
        }
      ]
    },
    {
      "cell_type": "code",
      "source": [],
      "metadata": {
        "id": "J4pTwiAxcLqF"
      },
      "execution_count": 45,
      "outputs": []
    }
  ]
}