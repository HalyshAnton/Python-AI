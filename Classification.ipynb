{
  "nbformat": 4,
  "nbformat_minor": 0,
  "metadata": {
    "colab": {
      "provenance": [],
      "toc_visible": true,
      "authorship_tag": "ABX9TyMs6INv9r8XuEPwlTQHBxCc",
      "include_colab_link": true
    },
    "kernelspec": {
      "name": "python3",
      "display_name": "Python 3"
    },
    "language_info": {
      "name": "python"
    }
  },
  "cells": [
    {
      "cell_type": "markdown",
      "metadata": {
        "id": "view-in-github",
        "colab_type": "text"
      },
      "source": [
        "<a href=\"https://colab.research.google.com/github/HalyshAnton/Python-AI/blob/AI_4_lesson/Classification.ipynb\" target=\"_parent\"><img src=\"https://colab.research.google.com/assets/colab-badge.svg\" alt=\"Open In Colab\"/></a>"
      ]
    },
    {
      "cell_type": "markdown",
      "source": [
        "# Нейронні мережі для класифікації\n",
        "\n",
        "Класифікація - це фундаментальне завдання в машинному навчанні, де ми прагнемо віднести точки даних до попередньо визначених класів. Нейронні мережі чудово справляються з проблемами класифікації завдяки своїй здатності вивчати складні закономірності з даних.\n",
        "\n",
        "Цей посібник заглиблюється в основні концепції класифікації за допомогою нейронних мереж:"
      ],
      "metadata": {
        "id": "5hc-c4YjJgzW"
      }
    },
    {
      "cell_type": "markdown",
      "source": [
        "# Постановка задачі\n",
        "\n",
        "Уявіть, що вам потрібно сортувати електронні листи на \"Спам\" або \"Вхідні\", класифікувати зображення як \"Кішка\" або \"Собака\", або передбачити написані від руки цифри (0-9). Це все приклади завдань на класифікацію. Ось ключова ідея:\n",
        "\n",
        "* У нас є **дані** з ознаками (характеристиками), які їх описують.\n",
        "* У нас є заздалегідь визначені **класи** (категорії), до яких можуть належати наші дані.\n",
        "* Метою моделі класифікації є вивчення відображення від ознак до класів, що дозволяє їй передбачити найбільш ймовірний клас для нової, невидимої точки даних.\n",
        "\n",
        "![](https://www.aiperspectives.com/wp-content/uploads/2020/03/Types-of-Computer-Vision-Tasks.png)"
      ],
      "metadata": {
        "id": "pqgliV9VJ6Ec"
      }
    },
    {
      "cell_type": "markdown",
      "source": [
        "# Прогнозування з ймовірностями\n",
        "\n",
        "На відміну від таких завдань, як передбачення числового значення (регресія), моделі класифікації часто виводять ймовірності для кожного класу. Наприклад, модель, що класифікує зображення, може передбачити\n",
        "\n",
        "* 70% ймовірність того, що це кіт\n",
        "* 30% ймовірність того, що це собака\n",
        "\n",
        "Цей розподіл ймовірностей показує нам рівень достовірності моделі для кожного класу. На практиці ми зазвичай вибираємо клас з найвищою ймовірністю як остаточний прогноз.\n",
        "\n",
        "\n",
        "<div>\n",
        "<img src=https://developers.google.com/static/machine-learning/crash-course/neural-networks/images/one_vs_one_neural_net.png\n",
        "width=\"500\"/>\n",
        "</div>"
      ],
      "metadata": {
        "id": "wC0Bdy-cKDE3"
      }
    },
    {
      "cell_type": "markdown",
      "source": [
        "# Сигмоїдна функція\n",
        "\n",
        "Нейронні мережі в прихованих шарах зазвичай використовують функції активації, такі як ReLU, для введення нелінійності. Однак для кінцевого вихідного шару в задачах класифікації ми часто використовуємо **сигмоїдну функцію (σ)**.\n",
        "\n",
        "Сигмоїдна функція приймає на вхід дійсне число і стискає його до значення між 0 і 1, що представляє ймовірність:\n",
        "\n",
        "\n",
        "$\\sigma(x) = \\frac{1}{1 + e^{-x}}$\n",
        "\n",
        "<div>\n",
        "<img src=https://miro.medium.com/v2/resize:fit:1400/1*JHWL_71qml0kP_Imyx4zBg.png width=\"500\"/>\n",
        "</div>\n",
        "\n",
        "\n",
        "Високе значення на виході (близьке до 1) сигмоїдної функції вказує на високу ймовірність для цього класу, тоді як низьке значення (близьке до 0) вказує на низьку ймовірність."
      ],
      "metadata": {
        "id": "GycbZmJsK1L4"
      }
    },
    {
      "cell_type": "markdown",
      "source": [
        "# Функція втрат: Вимірювання помилки класифікації\n",
        "\n",
        "Під час навчання нам потрібен спосіб виміряти, наскільки добре працює наша модель. Функція втрат обчислює різницю між передбаченнями моделі та істинними мітками. Поширеною функцією втрат для задач класифікації є **двійкова перехресна ентропія втрат** (binary cross entropy). Вона карає модель за неправильні передбачення класів.\n",
        "\n",
        "Ось спрощене представлення (існують більш складні варіанти):\n",
        "\n",
        "```\n",
        "Loss = - y * log(σ(z)) - (1 - y) * log(1 - σ(z))\n",
        "```\n",
        "\n",
        "* де ``y`` - істинна мітка (0 або 1).\n",
        "* `σ(z)` - передбачена моделлю ймовірність для позитивного класу (обчислюється за допомогою сигмоїдної функції на виході `z` з останнього шару).\n",
        "\n",
        "Модель спрямована на мінімізацію функції втрат під час навчання шляхом налаштування її внутрішніх параметрів (ваг та зміщень) за допомогою оптимізаційних алгоритмів, таких як градієнтний спуск."
      ],
      "metadata": {
        "id": "ynAKqJqHLdCh"
      }
    },
    {
      "cell_type": "markdown",
      "source": [
        "# Confusion Matrix\n",
        "\n",
        "Матриця помилок є корисним інструментом для візуалізації ефективності класифікаційної моделі. Вона підсумовує кількість правильних і неправильних прогнозів для кожного класу.\n",
        "\n",
        "Ось спрощений приклад матриці плутанини 2х2 для бінарної класифікації:\n",
        "\n",
        "\\begin{pmatrix}\n",
        "  & {\\textbf{Спрогнозований клас}} \\\\\n",
        "  {\\textbf{Справжній клас}} & \\text{Кіт} & \\text{Пес} \\\\\n",
        "  Кіт & Істиннопозитивне & Хибнонегативно \\\\\n",
        "  Пес & Хибнопозитивно & Істиннонегативне\n",
        "\\end{pmatrix}\n",
        "\n",
        "* **Істиннопозитивні (ІП):** Правильно передбачені позитивні випадки.\n",
        "* **Хибнопозитивні (ХП):** Неправильно передбачені позитивні випадки (помилка першого типу).\n",
        "* **Хибнонегативні (ХН):** Неправильно передбачені негативні випадки (помилка другого типу).\n",
        "* **Істиннонегативні (ТН):** Правильно передбачені негативні випадки.\n",
        "\n",
        "Аналізуючи матрицю помилок, ви можете виявити потенційні упередження у вашій моделі та області для покращення.\n",
        "\n",
        "Англомовний варіант:\n",
        "\n",
        "\\begin{pmatrix}\n",
        "  & {\\textbf{Predicted}} \\\\\n",
        "  {\\textbf{Actual}} & \\text{Positive} & \\text{Negative} \\\\\n",
        "  Positive & True Positives (TP) & False Negatives (FN) \\\\\n",
        "  Negative & False Positives (FP) & True Negatives (TN)\n",
        "\\end{pmatrix}"
      ],
      "metadata": {
        "id": "CqiAjSqAPZ64"
      }
    },
    {
      "cell_type": "markdown",
      "source": [
        "# Метрики\n",
        "\n",
        "Кілька метрик допомагають оцінити ефективність моделі класифікації:"
      ],
      "metadata": {
        "id": "-Gclnb3NQM-2"
      }
    },
    {
      "cell_type": "markdown",
      "source": [
        "## **Точність:**\n",
        "Загальний відсоток правильно класифікованих точок даних.\n",
        "\n",
        "\n",
        "$$\n",
        "Accuracy = \\frac{TP + TN}{Загальна\\, кількість\\, даних}\n",
        "$$"
      ],
      "metadata": {
        "id": "Qhz15vGjQQMf"
      }
    },
    {
      "cell_type": "markdown",
      "source": [
        "## **Precision:**\n",
        "Вимірює частку позитивних прогнозів, які насправді є правильними (з усіх прогнозованих позитивних прогнозів).\n",
        "\n",
        "$$\n",
        "Precision = \\frac{TP}{TP + FP}\n",
        "$$"
      ],
      "metadata": {
        "id": "2SfUOZ7ZQUDg"
      }
    },
    {
      "cell_type": "markdown",
      "source": [
        "## **Recall:**\n",
        "Вимірює частку фактичних позитивних випадків, які були правильно ідентифіковані (з усіх фактичних позитивних випадків).\n",
        "\n",
        "\n",
        "$$\n",
        "Recall = \\frac{TP}{TP + FN}\n",
        "$$\n"
      ],
      "metadata": {
        "id": "fGl1K-gHQa3I"
      }
    },
    {
      "cell_type": "markdown",
      "source": [
        "## **F1-Score:**\n",
        "Гармонійне середнє значення precission та recall, що поєднує їхні сильні сторони.\n",
        "\n",
        "$$\n",
        "F1\\text{-}Score = \\frac{2 * Recall * Precision} {Recall + Precision}\n",
        "$$"
      ],
      "metadata": {
        "id": "N_938Nt8JeD-"
      }
    },
    {
      "cell_type": "markdown",
      "source": [
        "## ROC-крива та AUC\n",
        "\n",
        "ROC-крива (Receiver Operating Characteristic Curve) і AUC (Area Under the ROC Curve) є важливими інструментами для оцінки ефективності моделей бінарної класифікації. Вони дають уявлення про те, наскільки добре модель розрізняє позитивні та негативні класи.\n",
        "\n",
        "**ROC-крива:**\n",
        "\n",
        "* **Візуалізація:** ROC-крива - це графічне представлення, яке відкладає **Частку істинно позитивних результатів (TPR)** на осі y проти **Частки хибнопозитивних результатів (FPR)** на осі x.\n",
        "\n",
        "  * **Частка істинно-позитивних результатів (ЧІПР):** Також відома як \"нагадування\", вона показує частку фактичних позитивних випадків, які модель правильно класифікувала.\n",
        "\n",
        "    ```\n",
        "    TPR = TP / (TP + FN)\n",
        "    ```\n",
        "\n",
        "  * **Частка хибнопозитивних результатів (FPR):** Відображає частку негативних випадків, які модель помилково класифікувала як позитивні.\n",
        "\n",
        "    ```\n",
        "    FPR = FP / (TN + FP)\n",
        "    ```\n",
        "<div>\n",
        "<img src=https://upload.wikimedia.org/wikipedia/commons/thumb/1/13/Roc_curve.svg/800px-Roc_curve.svg.png width=\"500\"/>\n",
        "</div>\n",
        "\n",
        "* **Тлумачення:** Ідеальною ROC-кривою для ідеального класифікатора буде діагональна лінія, що починається з лівого нижнього кута (0 FPR, 0 TPR) і досягає лівого верхнього кута (0 FPR, 1 TPR), перш ніж продовжиться горизонтально до правого верхнього кута (1 FPR, 1 TPR). Це свідчить про те, що модель чудово розділяє позитивні та негативні класи.\n",
        "\n",
        "  * Чим ближче крива ROC до цієї ідеальної діагоналі, тим краще модель розрізняє класи.\n",
        "  * Крива, яка занурюється в нижній лівий кут, свідчить про низьку ефективність, оскільки модель намагається розрізнити класи.\n",
        "\n",
        "**AUC(Area Under Curve)**.\n",
        "\n",
        "* **Узагальнююча метрика:** AUC - метрика, яка дорівнює площі під ROC-кривою. Воно представляє ймовірність того, що модель оцінить випадково вибраний позитивний екземпляр вище, ніж випадково вибраний негативний екземпляр.\n",
        "\n",
        "**Тлумачення:** * Більш високе значення AUC вказує на те, що модель класифікує більше позитивних екземплярів, ніж негативних.\n",
        "\n",
        "  * Вище значення AUC вказує на кращу продуктивність. AUC, що дорівнює 1, означає ідеальний класифікатор, тоді як AUC, що дорівнює 0,5, еквівалентний випадковому вгадуванню.\n",
        "\n",
        "**Переваги ROC-кривої та AUC:**\n",
        "\n",
        "* **Незалежність від класу:** ROC-криві та AUC не залежать від розподілу класів у даних. Це робить їх придатними для незбалансованих наборів даних, де один клас може мати значно менше зразків, ніж інший.\n",
        "* **Візуалізація:** ROC-криві забезпечують візуальне представлення продуктивності моделі при різних порогах класифікації. Це дозволяє побачити, як поводиться модель, коли ви змінюєте поріг для класифікації примірника як позитивного.\n",
        "* **Вибір порогу:** Аналізуючи ROC-криву, ви можете вибрати відповідний поріг класифікації на основі компромісу між TPR і FPR, який найкраще підходить для вашої конкретної програми. Наприклад, якщо правильна ідентифікація позитивних випадків має вирішальне значення (наприклад, діагностика захворювань), ви можете віддати перевагу вищій TPR, навіть якщо це призведе до дещо вищої FPR."
      ],
      "metadata": {
        "id": "dOo9jS3wVNK5"
      }
    },
    {
      "cell_type": "markdown",
      "source": [
        "#  Імпорт бібліотек"
      ],
      "metadata": {
        "id": "hOW-oZujqs7d"
      }
    },
    {
      "cell_type": "code",
      "execution_count": 35,
      "metadata": {
        "id": "w4zIrOVsPHJz",
        "colab": {
          "base_uri": "https://localhost:8080/"
        },
        "outputId": "f9f83dad-38de-4213-e22a-666df0e4a525"
      },
      "outputs": [
        {
          "output_type": "execute_result",
          "data": {
            "text/plain": [
              "<torch._C.Generator at 0x7a8b7dcecb30>"
            ]
          },
          "metadata": {},
          "execution_count": 35
        }
      ],
      "source": [
        "import torch\n",
        "import pandas as pd\n",
        "\n",
        "torch.manual_seed(0)\n",
        "\n",
        "device = \"cuda\" if torch.cuda.is_available() else \"cpu\"\n",
        "torch.manual_seed(42)\n",
        "#torch.set_default_device(device)"
      ]
    },
    {
      "cell_type": "markdown",
      "source": [
        "# Створення Dataset"
      ],
      "metadata": {
        "id": "s-qfZXZhq1b9"
      }
    },
    {
      "cell_type": "code",
      "source": [
        "df = pd.read_csv(\"https://raw.githubusercontent.com/HalyshAnton/IT-Step-Pyton-AI/main/module3/data/Airline%20Passenger%20Satisfaction.csv\",\n",
        "                 usecols=['Ease of Online booking', 'Inflight wifi service', 'Food and drink', 'Seat comfort', 'satisfaction']\n",
        "                 )\n",
        "\n",
        "df['satisfaction'] = df['satisfaction'].map({'satisfied': 1, 'neutral or dissatisfied': 0})\n",
        "\n",
        "df.head()"
      ],
      "metadata": {
        "colab": {
          "base_uri": "https://localhost:8080/",
          "height": 206
        },
        "id": "IersguI8E_In",
        "outputId": "08f0cd8b-4dde-42be-9f5f-acebfaeacaa7"
      },
      "execution_count": 36,
      "outputs": [
        {
          "output_type": "execute_result",
          "data": {
            "text/plain": [
              "   Inflight wifi service  Ease of Online booking  Food and drink  \\\n",
              "0                      5                       3               3   \n",
              "1                      1                       3               5   \n",
              "2                      2                       2               2   \n",
              "3                      0                       0               3   \n",
              "4                      2                       4               4   \n",
              "\n",
              "   Seat comfort  satisfaction  \n",
              "0             3             1  \n",
              "1             5             1  \n",
              "2             2             0  \n",
              "3             4             1  \n",
              "4             2             1  "
            ],
            "text/html": [
              "\n",
              "  <div id=\"df-0da630a4-c3d8-4e49-86d6-e99cdd2dd90e\" class=\"colab-df-container\">\n",
              "    <div>\n",
              "<style scoped>\n",
              "    .dataframe tbody tr th:only-of-type {\n",
              "        vertical-align: middle;\n",
              "    }\n",
              "\n",
              "    .dataframe tbody tr th {\n",
              "        vertical-align: top;\n",
              "    }\n",
              "\n",
              "    .dataframe thead th {\n",
              "        text-align: right;\n",
              "    }\n",
              "</style>\n",
              "<table border=\"1\" class=\"dataframe\">\n",
              "  <thead>\n",
              "    <tr style=\"text-align: right;\">\n",
              "      <th></th>\n",
              "      <th>Inflight wifi service</th>\n",
              "      <th>Ease of Online booking</th>\n",
              "      <th>Food and drink</th>\n",
              "      <th>Seat comfort</th>\n",
              "      <th>satisfaction</th>\n",
              "    </tr>\n",
              "  </thead>\n",
              "  <tbody>\n",
              "    <tr>\n",
              "      <th>0</th>\n",
              "      <td>5</td>\n",
              "      <td>3</td>\n",
              "      <td>3</td>\n",
              "      <td>3</td>\n",
              "      <td>1</td>\n",
              "    </tr>\n",
              "    <tr>\n",
              "      <th>1</th>\n",
              "      <td>1</td>\n",
              "      <td>3</td>\n",
              "      <td>5</td>\n",
              "      <td>5</td>\n",
              "      <td>1</td>\n",
              "    </tr>\n",
              "    <tr>\n",
              "      <th>2</th>\n",
              "      <td>2</td>\n",
              "      <td>2</td>\n",
              "      <td>2</td>\n",
              "      <td>2</td>\n",
              "      <td>0</td>\n",
              "    </tr>\n",
              "    <tr>\n",
              "      <th>3</th>\n",
              "      <td>0</td>\n",
              "      <td>0</td>\n",
              "      <td>3</td>\n",
              "      <td>4</td>\n",
              "      <td>1</td>\n",
              "    </tr>\n",
              "    <tr>\n",
              "      <th>4</th>\n",
              "      <td>2</td>\n",
              "      <td>4</td>\n",
              "      <td>4</td>\n",
              "      <td>2</td>\n",
              "      <td>1</td>\n",
              "    </tr>\n",
              "  </tbody>\n",
              "</table>\n",
              "</div>\n",
              "    <div class=\"colab-df-buttons\">\n",
              "\n",
              "  <div class=\"colab-df-container\">\n",
              "    <button class=\"colab-df-convert\" onclick=\"convertToInteractive('df-0da630a4-c3d8-4e49-86d6-e99cdd2dd90e')\"\n",
              "            title=\"Convert this dataframe to an interactive table.\"\n",
              "            style=\"display:none;\">\n",
              "\n",
              "  <svg xmlns=\"http://www.w3.org/2000/svg\" height=\"24px\" viewBox=\"0 -960 960 960\">\n",
              "    <path d=\"M120-120v-720h720v720H120Zm60-500h600v-160H180v160Zm220 220h160v-160H400v160Zm0 220h160v-160H400v160ZM180-400h160v-160H180v160Zm440 0h160v-160H620v160ZM180-180h160v-160H180v160Zm440 0h160v-160H620v160Z\"/>\n",
              "  </svg>\n",
              "    </button>\n",
              "\n",
              "  <style>\n",
              "    .colab-df-container {\n",
              "      display:flex;\n",
              "      gap: 12px;\n",
              "    }\n",
              "\n",
              "    .colab-df-convert {\n",
              "      background-color: #E8F0FE;\n",
              "      border: none;\n",
              "      border-radius: 50%;\n",
              "      cursor: pointer;\n",
              "      display: none;\n",
              "      fill: #1967D2;\n",
              "      height: 32px;\n",
              "      padding: 0 0 0 0;\n",
              "      width: 32px;\n",
              "    }\n",
              "\n",
              "    .colab-df-convert:hover {\n",
              "      background-color: #E2EBFA;\n",
              "      box-shadow: 0px 1px 2px rgba(60, 64, 67, 0.3), 0px 1px 3px 1px rgba(60, 64, 67, 0.15);\n",
              "      fill: #174EA6;\n",
              "    }\n",
              "\n",
              "    .colab-df-buttons div {\n",
              "      margin-bottom: 4px;\n",
              "    }\n",
              "\n",
              "    [theme=dark] .colab-df-convert {\n",
              "      background-color: #3B4455;\n",
              "      fill: #D2E3FC;\n",
              "    }\n",
              "\n",
              "    [theme=dark] .colab-df-convert:hover {\n",
              "      background-color: #434B5C;\n",
              "      box-shadow: 0px 1px 3px 1px rgba(0, 0, 0, 0.15);\n",
              "      filter: drop-shadow(0px 1px 2px rgba(0, 0, 0, 0.3));\n",
              "      fill: #FFFFFF;\n",
              "    }\n",
              "  </style>\n",
              "\n",
              "    <script>\n",
              "      const buttonEl =\n",
              "        document.querySelector('#df-0da630a4-c3d8-4e49-86d6-e99cdd2dd90e button.colab-df-convert');\n",
              "      buttonEl.style.display =\n",
              "        google.colab.kernel.accessAllowed ? 'block' : 'none';\n",
              "\n",
              "      async function convertToInteractive(key) {\n",
              "        const element = document.querySelector('#df-0da630a4-c3d8-4e49-86d6-e99cdd2dd90e');\n",
              "        const dataTable =\n",
              "          await google.colab.kernel.invokeFunction('convertToInteractive',\n",
              "                                                    [key], {});\n",
              "        if (!dataTable) return;\n",
              "\n",
              "        const docLinkHtml = 'Like what you see? Visit the ' +\n",
              "          '<a target=\"_blank\" href=https://colab.research.google.com/notebooks/data_table.ipynb>data table notebook</a>'\n",
              "          + ' to learn more about interactive tables.';\n",
              "        element.innerHTML = '';\n",
              "        dataTable['output_type'] = 'display_data';\n",
              "        await google.colab.output.renderOutput(dataTable, element);\n",
              "        const docLink = document.createElement('div');\n",
              "        docLink.innerHTML = docLinkHtml;\n",
              "        element.appendChild(docLink);\n",
              "      }\n",
              "    </script>\n",
              "  </div>\n",
              "\n",
              "\n",
              "<div id=\"df-bb2efc2d-3d56-4194-a884-5f70ce44011c\">\n",
              "  <button class=\"colab-df-quickchart\" onclick=\"quickchart('df-bb2efc2d-3d56-4194-a884-5f70ce44011c')\"\n",
              "            title=\"Suggest charts\"\n",
              "            style=\"display:none;\">\n",
              "\n",
              "<svg xmlns=\"http://www.w3.org/2000/svg\" height=\"24px\"viewBox=\"0 0 24 24\"\n",
              "     width=\"24px\">\n",
              "    <g>\n",
              "        <path d=\"M19 3H5c-1.1 0-2 .9-2 2v14c0 1.1.9 2 2 2h14c1.1 0 2-.9 2-2V5c0-1.1-.9-2-2-2zM9 17H7v-7h2v7zm4 0h-2V7h2v10zm4 0h-2v-4h2v4z\"/>\n",
              "    </g>\n",
              "</svg>\n",
              "  </button>\n",
              "\n",
              "<style>\n",
              "  .colab-df-quickchart {\n",
              "      --bg-color: #E8F0FE;\n",
              "      --fill-color: #1967D2;\n",
              "      --hover-bg-color: #E2EBFA;\n",
              "      --hover-fill-color: #174EA6;\n",
              "      --disabled-fill-color: #AAA;\n",
              "      --disabled-bg-color: #DDD;\n",
              "  }\n",
              "\n",
              "  [theme=dark] .colab-df-quickchart {\n",
              "      --bg-color: #3B4455;\n",
              "      --fill-color: #D2E3FC;\n",
              "      --hover-bg-color: #434B5C;\n",
              "      --hover-fill-color: #FFFFFF;\n",
              "      --disabled-bg-color: #3B4455;\n",
              "      --disabled-fill-color: #666;\n",
              "  }\n",
              "\n",
              "  .colab-df-quickchart {\n",
              "    background-color: var(--bg-color);\n",
              "    border: none;\n",
              "    border-radius: 50%;\n",
              "    cursor: pointer;\n",
              "    display: none;\n",
              "    fill: var(--fill-color);\n",
              "    height: 32px;\n",
              "    padding: 0;\n",
              "    width: 32px;\n",
              "  }\n",
              "\n",
              "  .colab-df-quickchart:hover {\n",
              "    background-color: var(--hover-bg-color);\n",
              "    box-shadow: 0 1px 2px rgba(60, 64, 67, 0.3), 0 1px 3px 1px rgba(60, 64, 67, 0.15);\n",
              "    fill: var(--button-hover-fill-color);\n",
              "  }\n",
              "\n",
              "  .colab-df-quickchart-complete:disabled,\n",
              "  .colab-df-quickchart-complete:disabled:hover {\n",
              "    background-color: var(--disabled-bg-color);\n",
              "    fill: var(--disabled-fill-color);\n",
              "    box-shadow: none;\n",
              "  }\n",
              "\n",
              "  .colab-df-spinner {\n",
              "    border: 2px solid var(--fill-color);\n",
              "    border-color: transparent;\n",
              "    border-bottom-color: var(--fill-color);\n",
              "    animation:\n",
              "      spin 1s steps(1) infinite;\n",
              "  }\n",
              "\n",
              "  @keyframes spin {\n",
              "    0% {\n",
              "      border-color: transparent;\n",
              "      border-bottom-color: var(--fill-color);\n",
              "      border-left-color: var(--fill-color);\n",
              "    }\n",
              "    20% {\n",
              "      border-color: transparent;\n",
              "      border-left-color: var(--fill-color);\n",
              "      border-top-color: var(--fill-color);\n",
              "    }\n",
              "    30% {\n",
              "      border-color: transparent;\n",
              "      border-left-color: var(--fill-color);\n",
              "      border-top-color: var(--fill-color);\n",
              "      border-right-color: var(--fill-color);\n",
              "    }\n",
              "    40% {\n",
              "      border-color: transparent;\n",
              "      border-right-color: var(--fill-color);\n",
              "      border-top-color: var(--fill-color);\n",
              "    }\n",
              "    60% {\n",
              "      border-color: transparent;\n",
              "      border-right-color: var(--fill-color);\n",
              "    }\n",
              "    80% {\n",
              "      border-color: transparent;\n",
              "      border-right-color: var(--fill-color);\n",
              "      border-bottom-color: var(--fill-color);\n",
              "    }\n",
              "    90% {\n",
              "      border-color: transparent;\n",
              "      border-bottom-color: var(--fill-color);\n",
              "    }\n",
              "  }\n",
              "</style>\n",
              "\n",
              "  <script>\n",
              "    async function quickchart(key) {\n",
              "      const quickchartButtonEl =\n",
              "        document.querySelector('#' + key + ' button');\n",
              "      quickchartButtonEl.disabled = true;  // To prevent multiple clicks.\n",
              "      quickchartButtonEl.classList.add('colab-df-spinner');\n",
              "      try {\n",
              "        const charts = await google.colab.kernel.invokeFunction(\n",
              "            'suggestCharts', [key], {});\n",
              "      } catch (error) {\n",
              "        console.error('Error during call to suggestCharts:', error);\n",
              "      }\n",
              "      quickchartButtonEl.classList.remove('colab-df-spinner');\n",
              "      quickchartButtonEl.classList.add('colab-df-quickchart-complete');\n",
              "    }\n",
              "    (() => {\n",
              "      let quickchartButtonEl =\n",
              "        document.querySelector('#df-bb2efc2d-3d56-4194-a884-5f70ce44011c button');\n",
              "      quickchartButtonEl.style.display =\n",
              "        google.colab.kernel.accessAllowed ? 'block' : 'none';\n",
              "    })();\n",
              "  </script>\n",
              "</div>\n",
              "    </div>\n",
              "  </div>\n"
            ],
            "application/vnd.google.colaboratory.intrinsic+json": {
              "type": "dataframe",
              "variable_name": "df",
              "summary": "{\n  \"name\": \"df\",\n  \"rows\": 25976,\n  \"fields\": [\n    {\n      \"column\": \"Inflight wifi service\",\n      \"properties\": {\n        \"dtype\": \"number\",\n        \"std\": 1,\n        \"min\": 0,\n        \"max\": 5,\n        \"num_unique_values\": 6,\n        \"samples\": [\n          5,\n          1,\n          4\n        ],\n        \"semantic_type\": \"\",\n        \"description\": \"\"\n      }\n    },\n    {\n      \"column\": \"Ease of Online booking\",\n      \"properties\": {\n        \"dtype\": \"number\",\n        \"std\": 1,\n        \"min\": 0,\n        \"max\": 5,\n        \"num_unique_values\": 6,\n        \"samples\": [\n          3,\n          2,\n          1\n        ],\n        \"semantic_type\": \"\",\n        \"description\": \"\"\n      }\n    },\n    {\n      \"column\": \"Food and drink\",\n      \"properties\": {\n        \"dtype\": \"number\",\n        \"std\": 1,\n        \"min\": 0,\n        \"max\": 5,\n        \"num_unique_values\": 6,\n        \"samples\": [\n          3,\n          5,\n          0\n        ],\n        \"semantic_type\": \"\",\n        \"description\": \"\"\n      }\n    },\n    {\n      \"column\": \"Seat comfort\",\n      \"properties\": {\n        \"dtype\": \"number\",\n        \"std\": 1,\n        \"min\": 1,\n        \"max\": 5,\n        \"num_unique_values\": 5,\n        \"samples\": [\n          5,\n          1,\n          2\n        ],\n        \"semantic_type\": \"\",\n        \"description\": \"\"\n      }\n    },\n    {\n      \"column\": \"satisfaction\",\n      \"properties\": {\n        \"dtype\": \"number\",\n        \"std\": 0,\n        \"min\": 0,\n        \"max\": 1,\n        \"num_unique_values\": 2,\n        \"samples\": [\n          0,\n          1\n        ],\n        \"semantic_type\": \"\",\n        \"description\": \"\"\n      }\n    }\n  ]\n}"
            }
          },
          "metadata": {},
          "execution_count": 36
        }
      ]
    },
    {
      "cell_type": "code",
      "source": [
        "from torch.utils.data import Dataset\n",
        "from sklearn.model_selection import train_test_split\n",
        "\n",
        "class MyDataset(Dataset):\n",
        "    def __init__(self, X, y):\n",
        "      self.X = torch.FloatTensor(X.values)\n",
        "      self.y = torch.FloatTensor(y.values)\n",
        "      self.y = self.y.reshape(-1, 1)\n",
        "\n",
        "    def __len__(self):\n",
        "      return len(self.X)\n",
        "\n",
        "    def __getitem__(self, idx):\n",
        "      return self.X[idx], self.y[idx]\n",
        "\n",
        "# Create dataset object\n",
        "X = df.drop(columns=['satisfaction'])\n",
        "y = df['satisfaction']\n",
        "\n",
        "dataset = MyDataset(X, y)"
      ],
      "metadata": {
        "id": "7rsPdGlnq_YZ"
      },
      "execution_count": 37,
      "outputs": []
    },
    {
      "cell_type": "code",
      "source": [
        "X_train, X_test, y_train, y_test = train_test_split(X, y,\n",
        "                                                    train_size=0.8,\n",
        "                                                    random_state=42,\n",
        "                                                    stratify=y)\n",
        "\n",
        "dataset_train = MyDataset(X_train, y_train)\n",
        "dataset_test = MyDataset(X_test, y_test)"
      ],
      "metadata": {
        "id": "syD15_uzzfEt"
      },
      "execution_count": 38,
      "outputs": []
    },
    {
      "cell_type": "markdown",
      "source": [
        "* Створюємо Dataset даних з ознаками `X` та відповідними цільовими значеннями `y`.\n",
        "* Клас `MyDataset` успадковується від `torch.utils.data.Dataset` і визначає методи доступу до даних.\n",
        "* `__len__` повертає розмір набору даних.\n",
        "* `__getitem__` повертає вибірку даних (ознаки та ціль) за певним індексом."
      ],
      "metadata": {
        "id": "prL2G9jYrQug"
      }
    },
    {
      "cell_type": "markdown",
      "source": [
        "# Створення DataLoader"
      ],
      "metadata": {
        "id": "mqTr8xZarhX4"
      }
    },
    {
      "cell_type": "code",
      "source": [
        "from torch.utils.data import DataLoader\n",
        "\n",
        "batch_size = 128\n",
        "train_dl = DataLoader(dataset_train,  # датасет з даними\n",
        "                      batch_size=batch_size,  # кількість даних в одному пакеті\n",
        "                      shuffle=True,          # чи треба перемішувати дані\n",
        "                      )\n",
        "\n",
        "test_dl = DataLoader(dataset_test,  # датасет з даними\n",
        "                     batch_size=batch_size,  # кількість даних в одному пакеті\n",
        "                     shuffle=True,          # чи треба перемішувати дані\n",
        "                     )"
      ],
      "metadata": {
        "id": "MrFMiR_Irdrw"
      },
      "execution_count": 39,
      "outputs": []
    },
    {
      "cell_type": "markdown",
      "source": [
        "* `DataLoader` керує пакетним завантаженням та перемішуванням набору даних під час навчання.\n",
        "* ``batch_size`` задає кількість вибірок, що обробляються разом у кожній ітерації.\n",
        "* `shuffle=True` рандомізує порядок зразків у кожній епосі (навчальній ітерації)."
      ],
      "metadata": {
        "id": "wJV_jwIGr-Zz"
      }
    },
    {
      "cell_type": "markdown",
      "source": [
        "# Створення моделі"
      ],
      "metadata": {
        "id": "DyHI6wNLX0NE"
      }
    },
    {
      "cell_type": "code",
      "source": [
        "import numpy as np\n",
        "from torch import nn\n",
        "import torch.nn.functional as F\n",
        "\n",
        "\n",
        "class BinaryClassifier(nn.Module):\n",
        "    def __init__(self, input_dim, hidden_dim, output_dim):\n",
        "        super().__init__()\n",
        "\n",
        "        self.linear1 = nn.Linear(input_dim, hidden_dim)\n",
        "        self.linear2 = nn.Linear(hidden_dim, hidden_dim//2)\n",
        "        self.linear3 = nn.Linear(hidden_dim//2, output_dim)\n",
        "\n",
        "    def forward(self, x):\n",
        "        out = self.linear1(x)\n",
        "        out = F.relu(out)\n",
        "\n",
        "        out = self.linear2(out)\n",
        "        out = F.relu(out)\n",
        "\n",
        "        out = self.linear3(out)\n",
        "        out = F.sigmoid(out)\n",
        "\n",
        "        return out\n",
        "\n",
        "    def predict(self, X, device='cpu'):\n",
        "        X = torch.FloatTensor(X.values).to(device)\n",
        "\n",
        "        with torch.no_grad():\n",
        "            y_pred = self.forward(X)\n",
        "\n",
        "        return y_pred.cpu().numpy()\n",
        "\n",
        "\n",
        "model = BinaryClassifier(4, 100, 1)\n",
        "model = model.to(device)\n",
        "\n",
        "model"
      ],
      "metadata": {
        "id": "YjV7MeJGr_Qf",
        "colab": {
          "base_uri": "https://localhost:8080/"
        },
        "outputId": "22796711-f603-49d7-8107-b452e22fa0fd"
      },
      "execution_count": 40,
      "outputs": [
        {
          "output_type": "execute_result",
          "data": {
            "text/plain": [
              "BinaryClassifier(\n",
              "  (linear1): Linear(in_features=4, out_features=100, bias=True)\n",
              "  (linear2): Linear(in_features=100, out_features=50, bias=True)\n",
              "  (linear3): Linear(in_features=50, out_features=1, bias=True)\n",
              ")"
            ]
          },
          "metadata": {},
          "execution_count": 40
        }
      ]
    },
    {
      "cell_type": "markdown",
      "source": [
        "Перевіряємо розмірності"
      ],
      "metadata": {
        "id": "1uaOXb5pnElN"
      }
    },
    {
      "cell_type": "code",
      "source": [
        "from torchsummary import summary\n",
        "\n",
        "summary(model, input_size=(4,))"
      ],
      "metadata": {
        "id": "x0uNH_13kgIV",
        "outputId": "7e935e4e-1d08-4763-d9ad-b39296248b7d",
        "colab": {
          "base_uri": "https://localhost:8080/"
        }
      },
      "execution_count": 41,
      "outputs": [
        {
          "output_type": "stream",
          "name": "stdout",
          "text": [
            "----------------------------------------------------------------\n",
            "        Layer (type)               Output Shape         Param #\n",
            "================================================================\n",
            "            Linear-1                  [-1, 100]             500\n",
            "            Linear-2                   [-1, 50]           5,050\n",
            "            Linear-3                    [-1, 1]              51\n",
            "================================================================\n",
            "Total params: 5,601\n",
            "Trainable params: 5,601\n",
            "Non-trainable params: 0\n",
            "----------------------------------------------------------------\n",
            "Input size (MB): 0.00\n",
            "Forward/backward pass size (MB): 0.00\n",
            "Params size (MB): 0.02\n",
            "Estimated Total Size (MB): 0.02\n",
            "----------------------------------------------------------------\n"
          ]
        }
      ]
    },
    {
      "cell_type": "markdown",
      "source": [
        "# Визначення функції втрат та оптимізатора"
      ],
      "metadata": {
        "id": "_xeemW04sXAm"
      }
    },
    {
      "cell_type": "code",
      "source": [
        "# Функція втрат середньоквадратичної помилки (BCE) для регресії\n",
        "loss_fn = nn.BCELoss()\n",
        "\n",
        "# Оптимізатор (SGD) для оновлення ваг моделі\n",
        "optimizer = torch.optim.SGD(model.parameters(), lr=1e-2)"
      ],
      "metadata": {
        "id": "ji02e2dssdd5"
      },
      "execution_count": 42,
      "outputs": []
    },
    {
      "cell_type": "markdown",
      "source": [
        "* Визначаємо функцію втрат як `nn.MSELoss`, яка підходить для задач регресії (вимірює середньоквадратичну різницю між прогнозами та цілями).\n",
        "* Вибираємо оптимізатор градієнтного спуску (`torch.optim.SGD`) для налаштування ваг моделей під час навчання.\n",
        "* Швидкість навчання (`lr=0.01`) контролює розмір кроку оптимізатора."
      ],
      "metadata": {
        "id": "6M5lYsWSslKf"
      }
    },
    {
      "cell_type": "markdown",
      "source": [
        "# Цикл навчання"
      ],
      "metadata": {
        "id": "pEA-s_AQspqH"
      }
    },
    {
      "cell_type": "code",
      "source": [
        "# @title Функція для тренування\n",
        "import time\n",
        "\n",
        "def train(model, optimizer, loss_fn, train_dl, val_dl,\n",
        "          metrics=None, metrics_name=None, epochs=20, device='cpu', task='regression'):\n",
        "    '''\n",
        "    Runs training loop for classification problems. Returns Keras-style\n",
        "    per-epoch history of loss and accuracy over training and validation data.\n",
        "\n",
        "    Parameters\n",
        "    ----------\n",
        "    model : nn.Module\n",
        "        Neural network model\n",
        "    optimizer : torch.optim.Optimizer\n",
        "        Search space optimizer (e.g. Adam)\n",
        "    loss_fn :\n",
        "        Loss function (e.g. nn.CrossEntropyLoss())\n",
        "    train_dl :\n",
        "        Iterable dataloader for training data.\n",
        "    val_dl :\n",
        "        Iterable dataloader for validation data.\n",
        "    metrics: list\n",
        "        List of sklearn metrics functions to be calculated\n",
        "    metrics_name: list\n",
        "        List of matrics names\n",
        "    epochs : int\n",
        "        Number of epochs to run\n",
        "    device : string\n",
        "        Specifies 'cuda' or 'cpu'\n",
        "    task : string\n",
        "        type of problem. It can be regression, binary or multiclass\n",
        "\n",
        "    Returns\n",
        "    -------\n",
        "    Dictionary\n",
        "        Similar to Keras' fit(), the output dictionary contains per-epoch\n",
        "        history of training loss, training accuracy, validation loss, and\n",
        "        validation accuracy.\n",
        "    '''\n",
        "\n",
        "    print('train() called: model=%s, opt=%s(lr=%f), epochs=%d, device=%s\\n' % \\\n",
        "          (type(model).__name__, type(optimizer).__name__,\n",
        "           optimizer.param_groups[0]['lr'], epochs, device))\n",
        "\n",
        "    metrics = metrics if metrics else []\n",
        "    metrics_name = metrics_name if metrics_name else [metric.__name__ for metric in metrics]\n",
        "\n",
        "    history = {} # Collects per-epoch loss and metrics like Keras' fit().\n",
        "    history['loss'] = []\n",
        "    history['val_loss'] = []\n",
        "    for name in metrics_name:\n",
        "        history[name] = []\n",
        "        history[f'val_{name}'] = []\n",
        "\n",
        "    start_time_train = time.time()\n",
        "\n",
        "    for epoch in range(epochs):\n",
        "\n",
        "        # --- TRAIN AND EVALUATE ON TRAINING SET -----------------------------\n",
        "        start_time_epoch = time.time()\n",
        "\n",
        "        model.train()\n",
        "        history_train = {name: 0 for name in ['loss']+metrics_name}\n",
        "\n",
        "        for batch in train_dl:\n",
        "            x    = batch[0].to(device)\n",
        "            y    = batch[1].to(device)\n",
        "            y_pred = model(x)\n",
        "            loss = loss_fn(y_pred, y)\n",
        "\n",
        "            optimizer.zero_grad()\n",
        "            loss.backward()\n",
        "            optimizer.step()\n",
        "\n",
        "            y_pred = y_pred.detach().cpu().numpy()\n",
        "            y = y.detach().cpu().numpy()\n",
        "\n",
        "\n",
        "            history_train['loss'] += loss.item() * x.size(0)\n",
        "            for name, func in zip(metrics_name, metrics):\n",
        "              try:\n",
        "                  history_train[name] += func(y, y_pred) * x.size(0)\n",
        "              except:\n",
        "                  if task == 'binary': y_pred_ = y_pred.round()\n",
        "                  elif task == 'multiclass': y_pred_ = y_pred.argmax(axis=-1)\n",
        "                  history_train[name] += func(y, y_pred_) * x.size(0)\n",
        "\n",
        "        for name in history_train:\n",
        "            history_train[name] /= len(train_dl.dataset)\n",
        "\n",
        "\n",
        "        # --- EVALUATE ON VALIDATION SET -------------------------------------\n",
        "        model.eval()\n",
        "        history_val = {'val_' + name: 0 for name in metrics_name+['loss']}\n",
        "\n",
        "        with torch.no_grad():\n",
        "            for batch in val_dl:\n",
        "                x    = batch[0].to(device)\n",
        "                y    = batch[1].to(device)\n",
        "                y_pred = model(x)\n",
        "                loss = loss_fn(y_pred, y)\n",
        "\n",
        "                y_pred = y_pred.cpu().numpy()\n",
        "                y = y.cpu().numpy()\n",
        "\n",
        "                history_val['val_loss'] += loss.item() * x.size(0)\n",
        "                for name, func in zip(metrics_name, metrics):\n",
        "                    try:\n",
        "                        history_val['val_'+name] += func(y, y_pred) * x.size(0)\n",
        "                    except:\n",
        "                        if task == 'binary': y_pred_ = y_pred.round()\n",
        "                        elif task == 'multiclass': y_pred_ = y_pred.argmax(axis=-1)\n",
        "\n",
        "                        history_val['val_'+name] += func(y, y_pred_) * x.size(0)\n",
        "\n",
        "        for name in history_val:\n",
        "            history_val[name] /= len(val_dl.dataset)\n",
        "\n",
        "        # PRINTING RESULTS\n",
        "\n",
        "        end_time_epoch = time.time()\n",
        "\n",
        "        for name in history_train:\n",
        "            history[name].append(history_train[name])\n",
        "            history['val_'+name].append(history_val['val_'+name])\n",
        "\n",
        "        total_time_epoch = end_time_epoch - start_time_epoch\n",
        "\n",
        "        print(f'Epoch {epoch+1:4d} {total_time_epoch:4.0f}sec', end='\\t')\n",
        "        for name in history_train:\n",
        "            print(f'{name}: {history[name][-1]:10.3g}', end='\\t')\n",
        "            print(f\"val_{name}: {history['val_'+name][-1]:10.3g}\", end='\\t')\n",
        "        print()\n",
        "\n",
        "    # END OF TRAINING LOOP\n",
        "\n",
        "    end_time_train       = time.time()\n",
        "    total_time_train     = end_time_train - start_time_train\n",
        "    print()\n",
        "    print('Time total:     %5.2f sec' % (total_time_train))\n",
        "\n",
        "    return history"
      ],
      "metadata": {
        "id": "NSVzKWZpsl1m"
      },
      "execution_count": 43,
      "outputs": []
    },
    {
      "cell_type": "code",
      "source": [
        "from sklearn.metrics import accuracy_score, recall_score\n",
        "\n",
        "history = train(model, optimizer, loss_fn, train_dl, test_dl,\n",
        "                epochs=20,\n",
        "                metrics=[accuracy_score, recall_score],\n",
        "                device=device,\n",
        "                task='binary')\n"
      ],
      "metadata": {
        "colab": {
          "base_uri": "https://localhost:8080/"
        },
        "id": "r2pW56Pvqy96",
        "outputId": "a1e82c63-4cff-4595-ca20-3310c61a346d"
      },
      "execution_count": 44,
      "outputs": [
        {
          "output_type": "stream",
          "name": "stdout",
          "text": [
            "train() called: model=BinaryClassifier, opt=SGD(lr=0.010000), epochs=20, device=cpu\n",
            "\n",
            "Epoch    1    1sec\tloss:      0.685\tval_loss:      0.675\taccuracy_score:        0.6\tval_accuracy_score:      0.651\trecall_score:      0.413\tval_recall_score:        0.8\t\n",
            "Epoch    2    1sec\tloss:      0.667\tval_loss:      0.659\taccuracy_score:      0.679\tval_accuracy_score:      0.642\trecall_score:      0.577\tval_recall_score:       0.29\t\n",
            "Epoch    3    1sec\tloss:       0.65\tval_loss:       0.64\taccuracy_score:       0.69\tval_accuracy_score:      0.698\trecall_score:      0.575\tval_recall_score:      0.552\t\n",
            "Epoch    4    2sec\tloss:      0.633\tval_loss:      0.623\taccuracy_score:        0.7\tval_accuracy_score:      0.708\trecall_score:      0.613\tval_recall_score:      0.656\t\n",
            "Epoch    5    2sec\tloss:      0.617\tval_loss:      0.608\taccuracy_score:      0.704\tval_accuracy_score:       0.68\trecall_score:      0.627\tval_recall_score:      0.737\t\n",
            "Epoch    6    1sec\tloss:        0.6\tval_loss:       0.59\taccuracy_score:      0.712\tval_accuracy_score:       0.72\trecall_score:      0.639\tval_recall_score:      0.676\t\n",
            "Epoch    7    1sec\tloss:      0.584\tval_loss:      0.574\taccuracy_score:      0.725\tval_accuracy_score:      0.734\trecall_score:      0.648\tval_recall_score:      0.694\t\n",
            "Epoch    8    1sec\tloss:      0.569\tval_loss:      0.558\taccuracy_score:      0.733\tval_accuracy_score:      0.736\trecall_score:      0.644\tval_recall_score:      0.626\t\n",
            "Epoch    9    1sec\tloss:      0.555\tval_loss:      0.544\taccuracy_score:      0.737\tval_accuracy_score:      0.739\trecall_score:      0.652\tval_recall_score:      0.627\t\n",
            "Epoch   10    1sec\tloss:      0.543\tval_loss:      0.535\taccuracy_score:      0.742\tval_accuracy_score:      0.742\trecall_score:      0.662\tval_recall_score:       0.61\t\n",
            "Epoch   11    1sec\tloss:      0.532\tval_loss:      0.523\taccuracy_score:      0.743\tval_accuracy_score:      0.747\trecall_score:      0.668\tval_recall_score:      0.692\t\n",
            "Epoch   12    1sec\tloss:      0.523\tval_loss:      0.521\taccuracy_score:      0.748\tval_accuracy_score:      0.732\trecall_score:      0.676\tval_recall_score:      0.756\t\n",
            "Epoch   13    1sec\tloss:      0.516\tval_loss:      0.523\taccuracy_score:      0.747\tval_accuracy_score:      0.735\trecall_score:       0.67\tval_recall_score:      0.519\t\n",
            "Epoch   14    2sec\tloss:      0.511\tval_loss:      0.504\taccuracy_score:      0.748\tval_accuracy_score:      0.742\trecall_score:       0.67\tval_recall_score:      0.618\t\n",
            "Epoch   15    2sec\tloss:      0.506\tval_loss:      0.504\taccuracy_score:      0.749\tval_accuracy_score:      0.742\trecall_score:      0.666\tval_recall_score:      0.588\t\n",
            "Epoch   16    1sec\tloss:      0.501\tval_loss:      0.496\taccuracy_score:       0.75\tval_accuracy_score:      0.752\trecall_score:      0.673\tval_recall_score:      0.713\t\n",
            "Epoch   17    1sec\tloss:      0.498\tval_loss:      0.492\taccuracy_score:       0.75\tval_accuracy_score:      0.745\trecall_score:      0.677\tval_recall_score:      0.634\t\n",
            "Epoch   18    1sec\tloss:      0.496\tval_loss:      0.487\taccuracy_score:      0.747\tval_accuracy_score:      0.751\trecall_score:      0.673\tval_recall_score:      0.666\t\n",
            "Epoch   19    1sec\tloss:      0.492\tval_loss:      0.484\taccuracy_score:       0.75\tval_accuracy_score:      0.747\trecall_score:       0.68\tval_recall_score:      0.662\t\n",
            "Epoch   20    1sec\tloss:      0.489\tval_loss:      0.496\taccuracy_score:       0.75\tval_accuracy_score:      0.742\trecall_score:      0.681\tval_recall_score:      0.787\t\n",
            "\n",
            "Time total:     26.51 sec\n"
          ]
        }
      ]
    },
    {
      "cell_type": "markdown",
      "source": [
        "## Графіки"
      ],
      "metadata": {
        "id": "1v-niY_cE6J0"
      }
    },
    {
      "cell_type": "code",
      "source": [
        "import matplotlib.pyplot as plt\n",
        "\n",
        "def plot_metric(history, name):\n",
        "  plt.title(f\"Model results with {name}\")\n",
        "  plt.plot(history[name], label='train')\n",
        "  plt.plot(history['val_'+name], label='val')\n",
        "  plt.xlabel('Epoch')\n",
        "  plt.ylabel(name)\n",
        "  plt.legend()\n",
        "\n",
        "\n",
        "plot_metric(history, 'loss')"
      ],
      "metadata": {
        "colab": {
          "base_uri": "https://localhost:8080/",
          "height": 472
        },
        "id": "9dbGiZkmIAN9",
        "outputId": "3f590b63-7fdb-4a18-93a9-7fdb52775360"
      },
      "execution_count": 45,
      "outputs": [
        {
          "output_type": "display_data",
          "data": {
            "text/plain": [
              "<Figure size 640x480 with 1 Axes>"
            ],
            "image/png": "[encoded data removed]"
          },
          "metadata": {}
        }
      ]
    },
    {
      "cell_type": "code",
      "source": [
        "plot_metric(history, 'accuracy_score')"
      ],
      "metadata": {
        "colab": {
          "base_uri": "https://localhost:8080/",
          "height": 472
        },
        "id": "d7NzbDSyH94_",
        "outputId": "5e2c6fd8-e850-4e50-e864-466a1a1b6dc4"
      },
      "execution_count": 46,
      "outputs": [
        {
          "output_type": "display_data",
          "data": {
            "text/plain": [
              "<Figure size 640x480 with 1 Axes>"
            ],
            "image/png": "[encoded data removed]"
          },
          "metadata": {}
        }
      ]
    },
    {
      "cell_type": "code",
      "source": [
        "plot_metric(history, 'recall_score')"
      ],
      "metadata": {
        "id": "yAfQRNfSXH5X",
        "outputId": "180c50de-0930-4bdf-f240-e1d70aa069e7",
        "colab": {
          "base_uri": "https://localhost:8080/",
          "height": 472
        }
      },
      "execution_count": 47,
      "outputs": [
        {
          "output_type": "display_data",
          "data": {
            "text/plain": [
              "<Figure size 640x480 with 1 Axes>"
            ],
            "image/png": "[encoded data removed]"
          },
          "metadata": {}
        }
      ]
    },
    {
      "cell_type": "code",
      "source": [
        "from sklearn.metrics import ConfusionMatrixDisplay, RocCurveDisplay\n",
        "\n",
        "y_pred = model.predict(X_train, device=device)\n",
        "\n",
        "y_pred.round()\n",
        "\n",
        "ConfusionMatrixDisplay.from_predictions(y_train, y_pred.round())"
      ],
      "metadata": {
        "colab": {
          "base_uri": "https://localhost:8080/",
          "height": 466
        },
        "id": "HUsSoZrhmUWv",
        "outputId": "0f1b99d1-ed1c-4f39-e9f6-ef8781aa0745"
      },
      "execution_count": 48,
      "outputs": [
        {
          "output_type": "execute_result",
          "data": {
            "text/plain": [
              "<sklearn.metrics._plot.confusion_matrix.ConfusionMatrixDisplay at 0x7a8aad751fc0>"
            ]
          },
          "metadata": {},
          "execution_count": 48
        },
        {
          "output_type": "display_data",
          "data": {
            "text/plain": [
              "<Figure size 640x480 with 2 Axes>"
            ],
            "image/png": "[encoded data removed]"
          },
          "metadata": {}
        }
      ]
    },
    {
      "cell_type": "code",
      "source": [
        "from sklearn.metrics import classification_report\n",
        "\n",
        "report = classification_report(y_train, y_pred.round())\n",
        "\n",
        "print(report)"
      ],
      "metadata": {
        "id": "7Ij4yPUBIuEu",
        "outputId": "0ab21a16-a6b2-403f-ab7a-280939d45a97",
        "colab": {
          "base_uri": "https://localhost:8080/"
        }
      },
      "execution_count": 49,
      "outputs": [
        {
          "output_type": "stream",
          "name": "stdout",
          "text": [
            "              precision    recall  f1-score   support\n",
            "\n",
            "           0       0.80      0.71      0.75     11658\n",
            "           1       0.68      0.77      0.72      9122\n",
            "\n",
            "    accuracy                           0.74     20780\n",
            "   macro avg       0.74      0.74      0.74     20780\n",
            "weighted avg       0.75      0.74      0.74     20780\n",
            "\n"
          ]
        }
      ]
    },
    {
      "cell_type": "code",
      "source": [
        "(y_train == 0).sum()"
      ],
      "metadata": {
        "id": "hCjm24W9XLiZ",
        "colab": {
          "base_uri": "https://localhost:8080/"
        },
        "outputId": "8e1144f9-ac1b-423d-bc6f-8c95c2177757"
      },
      "execution_count": 50,
      "outputs": [
        {
          "output_type": "execute_result",
          "data": {
            "text/plain": [
              "11658"
            ]
          },
          "metadata": {},
          "execution_count": 50
        }
      ]
    },
    {
      "cell_type": "code",
      "source": [],
      "metadata": {
        "id": "Ak3PRRsVH-vD"
      },
      "execution_count": 50,
      "outputs": []
    }
  ]
}