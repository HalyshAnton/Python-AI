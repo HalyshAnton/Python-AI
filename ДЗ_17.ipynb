{
  "nbformat": 4,
  "nbformat_minor": 0,
  "metadata": {
    "colab": {
      "provenance": [],
      "authorship_tag": "ABX9TyM6rPTWh1beEoR2veLHPTQ4",
      "include_colab_link": true
    },
    "kernelspec": {
      "name": "python3",
      "display_name": "Python 3"
    },
    "language_info": {
      "name": "python"
    }
  },
  "cells": [
    {
      "cell_type": "markdown",
      "metadata": {
        "id": "view-in-github",
        "colab_type": "text"
      },
      "source": [
        "<a href=\"https://colab.research.google.com/github/HalyshAnton/Python-AI/blob/AI_5_dz/%D0%94%D0%97_17.ipynb\" target=\"_parent\"><img src=\"https://colab.research.google.com/assets/colab-badge.svg\" alt=\"Open In Colab\"/></a>"
      ]
    },
    {
      "cell_type": "markdown",
      "source": [
        "[Посилання на датасет](https://www.kaggle.com/datasets/sshikamaru/fruit-recognition)"
      ],
      "metadata": {
        "id": "xiKj0-p2Jg7v"
      }
    },
    {
      "cell_type": "markdown",
      "source": [
        "# Завдання:\n",
        "\n",
        "* Покращіть результат за допомогою `transfer learning`. Використайте модель `inception_v3`\n",
        "  * змініть трансофрмери для роботи з даною моделлю\n",
        "  * завантажте модель та подивіться на її шари, також подивіться що повертає модель\n",
        "  * у самому класі вашої моделі в `__init__`:\n",
        "    * завантажте натреновану модель\n",
        "    * від'єднайте градієнти\n",
        "    * отримайте кількість нейронів на виході\n",
        "    * деактивуйте останній шар\n",
        "    * створіть власні шари\n",
        "    * напишіть функцію `forward`\n",
        "* натренуйте модель та виведіть результат на тестовуих даних"
      ],
      "metadata": {
        "id": "8IWkuAJCJg7w"
      }
    },
    {
      "cell_type": "code",
      "source": [],
      "metadata": {
        "id": "pMJw5kjCJwGa"
      },
      "execution_count": null,
      "outputs": []
    }
  ]
}