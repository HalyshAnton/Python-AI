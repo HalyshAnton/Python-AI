{
  "nbformat": 4,
  "nbformat_minor": 0,
  "metadata": {
    "colab": {
      "provenance": [],
      "authorship_tag": "ABX9TyNBpDAwR1P6WfNNk00p7uhD",
      "include_colab_link": true
    },
    "kernelspec": {
      "name": "python3",
      "display_name": "Python 3"
    },
    "language_info": {
      "name": "python"
    }
  },
  "cells": [
    {
      "cell_type": "markdown",
      "metadata": {
        "id": "view-in-github",
        "colab_type": "text"
      },
      "source": [
        "<a href=\"https://colab.research.google.com/github/HalyshAnton/Python-AI/blob/AI_3_dz/%D0%94%D0%97_9.ipynb\" target=\"_parent\"><img src=\"https://colab.research.google.com/assets/colab-badge.svg\" alt=\"Open In Colab\"/></a>"
      ]
    },
    {
      "cell_type": "markdown",
      "source": [
        "Ваша задача спрогнозувати тривалість матчу по грі в Dota2.\n",
        "Оскільки датасет дуже великий, то програмувати ви будете на сайті kaggle\n",
        "\n",
        "[посилання](https://www.kaggle.com/datasets/olegdudnik/small-nice-data-dota2)\n",
        "\n",
        "Перейшовши за посиланням, натисність кнопку `New Notebook`"
      ],
      "metadata": {
        "id": "PyPWP69bSWRG"
      }
    },
    {
      "cell_type": "markdown",
      "source": [
        "Для завантаження даних використайте наступний код, ваша цільова ознака це стовпчик `time`"
      ],
      "metadata": {
        "id": "5qTJ_saKStOa"
      }
    },
    {
      "cell_type": "code",
      "execution_count": null,
      "metadata": {
        "id": "aJMGZTJAKJXt"
      },
      "outputs": [],
      "source": [
        "df = pd.read_csv(\"/kaggle/input/small-nice-data-dota2/small_nice_data.csv\",\n",
        "                 index_col=0)\n",
        "\n",
        "df.head()"
      ]
    },
    {
      "cell_type": "markdown",
      "source": [
        "Для здачі завдання\n",
        "* зробіть ноутбук публічним: Share -> Public\n",
        "* збережіть версію ноутбука: Save version -> Save"
      ],
      "metadata": {
        "id": "Li_uvkXrWOvz"
      }
    },
    {
      "cell_type": "code",
      "source": [],
      "metadata": {
        "id": "u52LGcaLXEes"
      },
      "execution_count": null,
      "outputs": []
    }
  ]
}