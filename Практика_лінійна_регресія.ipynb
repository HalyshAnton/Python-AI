{
  "nbformat": 4,
  "nbformat_minor": 0,
  "metadata": {
    "colab": {
      "provenance": [],
      "toc_visible": true,
      "authorship_tag": "ABX9TyP49Kn3h3TMqHaZoZBz2nUP",
      "include_colab_link": true
    },
    "kernelspec": {
      "name": "python3",
      "display_name": "Python 3"
    },
    "language_info": {
      "name": "python"
    }
  },
  "cells": [
    {
      "cell_type": "markdown",
      "metadata": {
        "id": "view-in-github",
        "colab_type": "text"
      },
      "source": [
        "<a href=\"https://colab.research.google.com/github/HalyshAnton/Python-AI/blob/AI_3_practice/%D0%9F%D1%80%D0%B0%D0%BA%D1%82%D0%B8%D0%BA%D0%B0_%D0%BB%D1%96%D0%BD%D1%96%D0%B9%D0%BD%D0%B0_%D1%80%D0%B5%D0%B3%D1%80%D0%B5%D1%81%D1%96%D1%8F.ipynb\" target=\"_parent\"><img src=\"https://colab.research.google.com/assets/colab-badge.svg\" alt=\"Open In Colab\"/></a>"
      ]
    },
    {
      "cell_type": "code",
      "execution_count": null,
      "metadata": {
        "id": "yghc3C00HDZA"
      },
      "outputs": [],
      "source": [
        "import pandas as pd\n",
        "import numpy as np\n",
        "import matplotlib.pyplot as plt"
      ]
    },
    {
      "cell_type": "code",
      "source": [
        "df = pd.read_csv(\"https://raw.githubusercontent.com/HalyshAnton/IT-Step-Pyton-AI/main/module3/data/Student_Performance.csv\", index_col=\"Unnamed: 0\")"
      ],
      "metadata": {
        "id": "HiedzRsNQtUj"
      },
      "execution_count": null,
      "outputs": []
    },
    {
      "cell_type": "markdown",
      "source": [
        "[Інформація про дані](https://www.kaggle.com/datasets/nikhil7280/student-performance-multiple-linear-regression)"
      ],
      "metadata": {
        "id": "bfWouLVmXpAw"
      }
    },
    {
      "cell_type": "code",
      "source": [
        "df.head()"
      ],
      "metadata": {
        "id": "1j8jdzkJQ9Io"
      },
      "execution_count": null,
      "outputs": []
    },
    {
      "cell_type": "markdown",
      "source": [
        "# Завдання 1\n",
        "Продивіться дані, видаліть пропущені значення з стовпчика `Perfomance Index`"
      ],
      "metadata": {
        "id": "TzQGCazNV3rk"
      }
    },
    {
      "cell_type": "code",
      "source": [],
      "metadata": {
        "id": "JT2FPNRtVUcg"
      },
      "execution_count": null,
      "outputs": []
    },
    {
      "cell_type": "markdown",
      "source": [
        "# Завдання 2\n",
        "Розбийте дані на тренувальні та тестові"
      ],
      "metadata": {
        "id": "wBz-mh7NW_OH"
      }
    },
    {
      "cell_type": "code",
      "source": [],
      "metadata": {
        "id": "WGzmF_figmfY"
      },
      "execution_count": null,
      "outputs": []
    },
    {
      "cell_type": "markdown",
      "source": [
        "# Завдання 3\n",
        "Побудуйте `Pipeline` для заповнення пропущених значень в усіх стовпчиках.\n",
        "Або заповніть пропуски медіаною кожного стовпчика."
      ],
      "metadata": {
        "id": "P3LbKffLXGLQ"
      }
    },
    {
      "cell_type": "code",
      "source": [],
      "metadata": {
        "id": "7j3VK5RoXWcx"
      },
      "execution_count": null,
      "outputs": []
    },
    {
      "cell_type": "markdown",
      "source": [
        "# Завдання 4\n",
        "Побудуйте модель та натренуйте її, виведіть метрики"
      ],
      "metadata": {
        "id": "Gm69557-XXEq"
      }
    },
    {
      "cell_type": "code",
      "source": [],
      "metadata": {
        "id": "SII7zkQGgqQQ"
      },
      "execution_count": null,
      "outputs": []
    },
    {
      "cell_type": "markdown",
      "source": [
        "# Завдання 5 оптимально\n",
        "Спробуйте покращити модель"
      ],
      "metadata": {
        "id": "FREZ87lhXdni"
      }
    },
    {
      "cell_type": "code",
      "source": [],
      "metadata": {
        "id": "T7WYkarJXnT5"
      },
      "execution_count": null,
      "outputs": []
    }
  ]
}